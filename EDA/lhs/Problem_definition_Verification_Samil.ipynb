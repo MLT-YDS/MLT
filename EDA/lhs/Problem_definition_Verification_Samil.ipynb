{
 "cells": [
  {
   "cell_type": "code",
   "execution_count": 1,
   "id": "fb608db6",
   "metadata": {
    "ExecuteTime": {
     "end_time": "2022-10-20T12:26:23.769819Z",
     "start_time": "2022-10-20T12:26:22.943117Z"
    }
   },
   "outputs": [
    {
     "name": "stdout",
     "output_type": "stream",
     "text": [
      "Requirement already satisfied: finance-datareader in /Users/lhs/miniforge3/envs/lhs/lib/python3.8/site-packages (0.9.42)\n",
      "Requirement already satisfied: tqdm in /Users/lhs/miniforge3/envs/lhs/lib/python3.8/site-packages (from finance-datareader) (4.64.0)\n",
      "Requirement already satisfied: requests>=2.3.0 in /Users/lhs/miniforge3/envs/lhs/lib/python3.8/site-packages (from finance-datareader) (2.28.1)\n",
      "Requirement already satisfied: requests-file in /Users/lhs/miniforge3/envs/lhs/lib/python3.8/site-packages (from finance-datareader) (1.5.1)\n",
      "Requirement already satisfied: lxml in /Users/lhs/miniforge3/envs/lhs/lib/python3.8/site-packages (from finance-datareader) (4.9.1)\n",
      "Requirement already satisfied: pandas>=0.19.2 in /Users/lhs/miniforge3/envs/lhs/lib/python3.8/site-packages (from finance-datareader) (1.4.3)\n",
      "Requirement already satisfied: python-dateutil>=2.8.1 in /Users/lhs/miniforge3/envs/lhs/lib/python3.8/site-packages (from pandas>=0.19.2->finance-datareader) (2.8.2)\n",
      "Requirement already satisfied: pytz>=2020.1 in /Users/lhs/miniforge3/envs/lhs/lib/python3.8/site-packages (from pandas>=0.19.2->finance-datareader) (2022.1)\n",
      "Requirement already satisfied: numpy>=1.20.0 in /Users/lhs/miniforge3/envs/lhs/lib/python3.8/site-packages (from pandas>=0.19.2->finance-datareader) (1.23.1)\n",
      "Requirement already satisfied: charset-normalizer<3,>=2 in /Users/lhs/miniforge3/envs/lhs/lib/python3.8/site-packages (from requests>=2.3.0->finance-datareader) (2.1.0)\n",
      "Requirement already satisfied: urllib3<1.27,>=1.21.1 in /Users/lhs/miniforge3/envs/lhs/lib/python3.8/site-packages (from requests>=2.3.0->finance-datareader) (1.26.11)\n",
      "Requirement already satisfied: certifi>=2017.4.17 in /Users/lhs/miniforge3/envs/lhs/lib/python3.8/site-packages (from requests>=2.3.0->finance-datareader) (2022.9.24)\n",
      "Requirement already satisfied: idna<4,>=2.5 in /Users/lhs/miniforge3/envs/lhs/lib/python3.8/site-packages (from requests>=2.3.0->finance-datareader) (3.3)\n",
      "Requirement already satisfied: six in /Users/lhs/miniforge3/envs/lhs/lib/python3.8/site-packages (from requests-file->finance-datareader) (1.16.0)\n"
     ]
    }
   ],
   "source": [
    "!pip install -U finance-datareader"
   ]
  },
  {
   "cell_type": "code",
   "execution_count": 165,
   "id": "a3b0479c",
   "metadata": {
    "ExecuteTime": {
     "end_time": "2022-10-20T13:32:09.769408Z",
     "start_time": "2022-10-20T13:32:09.764582Z"
    }
   },
   "outputs": [],
   "source": [
    "import FinanceDataReader as fdr\n",
    "\n",
    "import matplotlib.pyplot as plt\n",
    "import seaborn as sns\n",
    "import pandas as pd\n",
    "import numpy as np\n",
    "\n",
    "import warnings\n",
    "warnings.filterwarnings('ignore')\n",
    "\n",
    "from datetime import datetime\n",
    "\n",
    "from sklearn.preprocessing import MinMaxScaler"
   ]
  },
  {
   "cell_type": "code",
   "execution_count": 18,
   "id": "5b469b43",
   "metadata": {
    "ExecuteTime": {
     "end_time": "2022-10-20T12:50:29.531176Z",
     "start_time": "2022-10-20T12:50:24.306925Z"
    }
   },
   "outputs": [],
   "source": [
    "df_krx = fdr.StockListing('KRX')"
   ]
  },
  {
   "cell_type": "code",
   "execution_count": 19,
   "id": "db0abd45",
   "metadata": {
    "ExecuteTime": {
     "end_time": "2022-10-20T12:50:29.539780Z",
     "start_time": "2022-10-20T12:50:29.532354Z"
    }
   },
   "outputs": [
    {
     "data": {
      "text/html": [
       "<div>\n",
       "<style scoped>\n",
       "    .dataframe tbody tr th:only-of-type {\n",
       "        vertical-align: middle;\n",
       "    }\n",
       "\n",
       "    .dataframe tbody tr th {\n",
       "        vertical-align: top;\n",
       "    }\n",
       "\n",
       "    .dataframe thead th {\n",
       "        text-align: right;\n",
       "    }\n",
       "</style>\n",
       "<table border=\"1\" class=\"dataframe\">\n",
       "  <thead>\n",
       "    <tr style=\"text-align: right;\">\n",
       "      <th></th>\n",
       "      <th>Symbol</th>\n",
       "      <th>Market</th>\n",
       "      <th>Name</th>\n",
       "      <th>Sector</th>\n",
       "      <th>Industry</th>\n",
       "      <th>ListingDate</th>\n",
       "      <th>SettleMonth</th>\n",
       "      <th>Representative</th>\n",
       "      <th>HomePage</th>\n",
       "      <th>Region</th>\n",
       "    </tr>\n",
       "  </thead>\n",
       "  <tbody>\n",
       "    <tr>\n",
       "      <th>3873</th>\n",
       "      <td>032280</td>\n",
       "      <td>KOSDAQ</td>\n",
       "      <td>삼일</td>\n",
       "      <td>도로 화물 운송업</td>\n",
       "      <td>운송 및 하역수입</td>\n",
       "      <td>1997-03-15</td>\n",
       "      <td>12월</td>\n",
       "      <td>강승엽,안인수(각자대표)</td>\n",
       "      <td>http://www.samil31.co.kr</td>\n",
       "      <td>경상북도</td>\n",
       "    </tr>\n",
       "    <tr>\n",
       "      <th>3874</th>\n",
       "      <td>002290</td>\n",
       "      <td>KOSDAQ</td>\n",
       "      <td>삼일기업공사</td>\n",
       "      <td>건물 건설업</td>\n",
       "      <td>도급공사</td>\n",
       "      <td>1992-11-30</td>\n",
       "      <td>12월</td>\n",
       "      <td>박종웅</td>\n",
       "      <td>http://www.samilenter.com</td>\n",
       "      <td>서울특별시</td>\n",
       "    </tr>\n",
       "    <tr>\n",
       "      <th>3875</th>\n",
       "      <td>004440</td>\n",
       "      <td>KOSPI</td>\n",
       "      <td>삼일씨엔에스</td>\n",
       "      <td>시멘트, 석회, 플라스터 및 그 제품 제조업</td>\n",
       "      <td>PHC파일, 골재, 강교제작</td>\n",
       "      <td>2016-03-30</td>\n",
       "      <td>12월</td>\n",
       "      <td>강흥구</td>\n",
       "      <td>http://www.esamilcns.com</td>\n",
       "      <td>서울특별시</td>\n",
       "    </tr>\n",
       "    <tr>\n",
       "      <th>3876</th>\n",
       "      <td>000520</td>\n",
       "      <td>KOSPI</td>\n",
       "      <td>삼일제약</td>\n",
       "      <td>의약품 제조업</td>\n",
       "      <td>양약(부루펜,액티피드,포리부틴) 제조,도매</td>\n",
       "      <td>1985-05-29</td>\n",
       "      <td>12월</td>\n",
       "      <td>허승범, 김상진 (각자 대표이사)</td>\n",
       "      <td>http://www.samil-pharm.com</td>\n",
       "      <td>서울특별시</td>\n",
       "    </tr>\n",
       "  </tbody>\n",
       "</table>\n",
       "</div>"
      ],
      "text/plain": [
       "      Symbol  Market    Name                    Sector  \\\n",
       "3873  032280  KOSDAQ      삼일                 도로 화물 운송업   \n",
       "3874  002290  KOSDAQ  삼일기업공사                    건물 건설업   \n",
       "3875  004440   KOSPI  삼일씨엔에스  시멘트, 석회, 플라스터 및 그 제품 제조업   \n",
       "3876  000520   KOSPI    삼일제약                   의약품 제조업   \n",
       "\n",
       "                     Industry ListingDate SettleMonth      Representative  \\\n",
       "3873                운송 및 하역수입  1997-03-15         12월       강승엽,안인수(각자대표)   \n",
       "3874                     도급공사  1992-11-30         12월                 박종웅   \n",
       "3875          PHC파일, 골재, 강교제작  2016-03-30         12월                 강흥구   \n",
       "3876  양약(부루펜,액티피드,포리부틴) 제조,도매  1985-05-29         12월  허승범, 김상진 (각자 대표이사)   \n",
       "\n",
       "                        HomePage Region  \n",
       "3873    http://www.samil31.co.kr   경상북도  \n",
       "3874   http://www.samilenter.com  서울특별시  \n",
       "3875    http://www.esamilcns.com  서울특별시  \n",
       "3876  http://www.samil-pharm.com  서울특별시  "
      ]
     },
     "execution_count": 19,
     "metadata": {},
     "output_type": "execute_result"
    }
   ],
   "source": [
    "df_krx[df_krx['Name'].str.contains('삼일')]"
   ]
  },
  {
   "cell_type": "code",
   "execution_count": 154,
   "id": "b568f69c",
   "metadata": {
    "ExecuteTime": {
     "end_time": "2022-10-20T13:27:55.112867Z",
     "start_time": "2022-10-20T13:27:54.979252Z"
    },
    "scrolled": false
   },
   "outputs": [
    {
     "data": {
      "text/html": [
       "<div>\n",
       "<style scoped>\n",
       "    .dataframe tbody tr th:only-of-type {\n",
       "        vertical-align: middle;\n",
       "    }\n",
       "\n",
       "    .dataframe tbody tr th {\n",
       "        vertical-align: top;\n",
       "    }\n",
       "\n",
       "    .dataframe thead th {\n",
       "        text-align: right;\n",
       "    }\n",
       "</style>\n",
       "<table border=\"1\" class=\"dataframe\">\n",
       "  <thead>\n",
       "    <tr style=\"text-align: right;\">\n",
       "      <th></th>\n",
       "      <th>Date</th>\n",
       "      <th>Open</th>\n",
       "      <th>High</th>\n",
       "      <th>Low</th>\n",
       "      <th>Close</th>\n",
       "      <th>Volume</th>\n",
       "      <th>Change</th>\n",
       "    </tr>\n",
       "  </thead>\n",
       "  <tbody>\n",
       "    <tr>\n",
       "      <th>0</th>\n",
       "      <td>2000-01-04</td>\n",
       "      <td>2500</td>\n",
       "      <td>2800</td>\n",
       "      <td>2500</td>\n",
       "      <td>2800</td>\n",
       "      <td>20</td>\n",
       "      <td>0.120000</td>\n",
       "    </tr>\n",
       "    <tr>\n",
       "      <th>1</th>\n",
       "      <td>2000-01-05</td>\n",
       "      <td>2500</td>\n",
       "      <td>3130</td>\n",
       "      <td>2500</td>\n",
       "      <td>2500</td>\n",
       "      <td>2660</td>\n",
       "      <td>-0.107143</td>\n",
       "    </tr>\n",
       "    <tr>\n",
       "      <th>2</th>\n",
       "      <td>2000-01-06</td>\n",
       "      <td>2220</td>\n",
       "      <td>2780</td>\n",
       "      <td>2220</td>\n",
       "      <td>2560</td>\n",
       "      <td>205</td>\n",
       "      <td>0.024000</td>\n",
       "    </tr>\n",
       "    <tr>\n",
       "      <th>3</th>\n",
       "      <td>2000-01-07</td>\n",
       "      <td>2600</td>\n",
       "      <td>2600</td>\n",
       "      <td>2600</td>\n",
       "      <td>2600</td>\n",
       "      <td>1000</td>\n",
       "      <td>0.015625</td>\n",
       "    </tr>\n",
       "    <tr>\n",
       "      <th>4</th>\n",
       "      <td>2000-01-10</td>\n",
       "      <td>2600</td>\n",
       "      <td>2600</td>\n",
       "      <td>2600</td>\n",
       "      <td>2600</td>\n",
       "      <td>500</td>\n",
       "      <td>0.000000</td>\n",
       "    </tr>\n",
       "    <tr>\n",
       "      <th>...</th>\n",
       "      <td>...</td>\n",
       "      <td>...</td>\n",
       "      <td>...</td>\n",
       "      <td>...</td>\n",
       "      <td>...</td>\n",
       "      <td>...</td>\n",
       "      <td>...</td>\n",
       "    </tr>\n",
       "    <tr>\n",
       "      <th>5623</th>\n",
       "      <td>2022-10-14</td>\n",
       "      <td>1720</td>\n",
       "      <td>1860</td>\n",
       "      <td>1720</td>\n",
       "      <td>1855</td>\n",
       "      <td>146414</td>\n",
       "      <td>0.078488</td>\n",
       "    </tr>\n",
       "    <tr>\n",
       "      <th>5624</th>\n",
       "      <td>2022-10-17</td>\n",
       "      <td>1855</td>\n",
       "      <td>1925</td>\n",
       "      <td>1855</td>\n",
       "      <td>1895</td>\n",
       "      <td>54879</td>\n",
       "      <td>0.021563</td>\n",
       "    </tr>\n",
       "    <tr>\n",
       "      <th>5625</th>\n",
       "      <td>2022-10-18</td>\n",
       "      <td>1915</td>\n",
       "      <td>1960</td>\n",
       "      <td>1915</td>\n",
       "      <td>1955</td>\n",
       "      <td>57877</td>\n",
       "      <td>0.031662</td>\n",
       "    </tr>\n",
       "    <tr>\n",
       "      <th>5626</th>\n",
       "      <td>2022-10-19</td>\n",
       "      <td>1960</td>\n",
       "      <td>2000</td>\n",
       "      <td>1945</td>\n",
       "      <td>1965</td>\n",
       "      <td>46040</td>\n",
       "      <td>0.005115</td>\n",
       "    </tr>\n",
       "    <tr>\n",
       "      <th>5627</th>\n",
       "      <td>2022-10-20</td>\n",
       "      <td>1960</td>\n",
       "      <td>2010</td>\n",
       "      <td>1935</td>\n",
       "      <td>1935</td>\n",
       "      <td>51226</td>\n",
       "      <td>-0.015267</td>\n",
       "    </tr>\n",
       "  </tbody>\n",
       "</table>\n",
       "<p>5628 rows × 7 columns</p>\n",
       "</div>"
      ],
      "text/plain": [
       "           Date  Open  High   Low  Close  Volume    Change\n",
       "0    2000-01-04  2500  2800  2500   2800      20  0.120000\n",
       "1    2000-01-05  2500  3130  2500   2500    2660 -0.107143\n",
       "2    2000-01-06  2220  2780  2220   2560     205  0.024000\n",
       "3    2000-01-07  2600  2600  2600   2600    1000  0.015625\n",
       "4    2000-01-10  2600  2600  2600   2600     500  0.000000\n",
       "...         ...   ...   ...   ...    ...     ...       ...\n",
       "5623 2022-10-14  1720  1860  1720   1855  146414  0.078488\n",
       "5624 2022-10-17  1855  1925  1855   1895   54879  0.021563\n",
       "5625 2022-10-18  1915  1960  1915   1955   57877  0.031662\n",
       "5626 2022-10-19  1960  2000  1945   1965   46040  0.005115\n",
       "5627 2022-10-20  1960  2010  1935   1935   51226 -0.015267\n",
       "\n",
       "[5628 rows x 7 columns]"
      ]
     },
     "execution_count": 154,
     "metadata": {},
     "output_type": "execute_result"
    }
   ],
   "source": [
    "samil = fdr.DataReader(symbol='032280', start='2000-01-01')\n",
    "samil = samil.reset_index()\n",
    "samil"
   ]
  },
  {
   "cell_type": "code",
   "execution_count": 155,
   "id": "bbf0e225",
   "metadata": {
    "ExecuteTime": {
     "end_time": "2022-10-20T13:27:55.327697Z",
     "start_time": "2022-10-20T13:27:55.319652Z"
    }
   },
   "outputs": [],
   "source": [
    "# 월별 날짜로 만들기\n",
    "\n",
    "def to_month(data, data_scaled):\n",
    "    data['month'] = data['Date']\n",
    "    \n",
    "    for i in range(len(data)):\n",
    "        year = str(data.Date[i].year)\n",
    "        month = str(data.Date[i].month)\n",
    "        date = year + '-' + month\n",
    "        data['month'][i] = datetime.strptime(str(date), '%Y-%m').date()\n",
    "        \n",
    "    data = data.drop(columns=['Date','Open','High','Low','Volume'])\n",
    "    \n",
    "    # df column 위치 조절\n",
    "    data = data[['month','Close','Change']]\n",
    "    data = data.groupby('month').mean()\n",
    "    \n",
    "    data = data.reset_index()\n",
    "    \n",
    "    # month column으로 만들기\n",
    "    for j in range(len(data)):\n",
    "        data.month = data.month.astype(str)\n",
    "        data.month[j] = data.month[j][:7]\n",
    "\n",
    "    return data"
   ]
  },
  {
   "cell_type": "code",
   "execution_count": 156,
   "id": "709e00e5",
   "metadata": {
    "ExecuteTime": {
     "end_time": "2022-10-20T13:27:56.360979Z",
     "start_time": "2022-10-20T13:27:55.779008Z"
    }
   },
   "outputs": [
    {
     "data": {
      "text/html": [
       "<div>\n",
       "<style scoped>\n",
       "    .dataframe tbody tr th:only-of-type {\n",
       "        vertical-align: middle;\n",
       "    }\n",
       "\n",
       "    .dataframe tbody tr th {\n",
       "        vertical-align: top;\n",
       "    }\n",
       "\n",
       "    .dataframe thead th {\n",
       "        text-align: right;\n",
       "    }\n",
       "</style>\n",
       "<table border=\"1\" class=\"dataframe\">\n",
       "  <thead>\n",
       "    <tr style=\"text-align: right;\">\n",
       "      <th></th>\n",
       "      <th>month</th>\n",
       "      <th>Close</th>\n",
       "      <th>Change</th>\n",
       "    </tr>\n",
       "  </thead>\n",
       "  <tbody>\n",
       "    <tr>\n",
       "      <th>0</th>\n",
       "      <td>2000-01</td>\n",
       "      <td>2616.500000</td>\n",
       "      <td>0.002182</td>\n",
       "    </tr>\n",
       "    <tr>\n",
       "      <th>1</th>\n",
       "      <td>2000-02</td>\n",
       "      <td>2468.000000</td>\n",
       "      <td>0.005569</td>\n",
       "    </tr>\n",
       "    <tr>\n",
       "      <th>2</th>\n",
       "      <td>2000-03</td>\n",
       "      <td>3760.000000</td>\n",
       "      <td>0.034222</td>\n",
       "    </tr>\n",
       "    <tr>\n",
       "      <th>3</th>\n",
       "      <td>2000-04</td>\n",
       "      <td>3969.444444</td>\n",
       "      <td>-0.008564</td>\n",
       "    </tr>\n",
       "    <tr>\n",
       "      <th>4</th>\n",
       "      <td>2000-05</td>\n",
       "      <td>3352.500000</td>\n",
       "      <td>-0.008000</td>\n",
       "    </tr>\n",
       "    <tr>\n",
       "      <th>...</th>\n",
       "      <td>...</td>\n",
       "      <td>...</td>\n",
       "      <td>...</td>\n",
       "    </tr>\n",
       "    <tr>\n",
       "      <th>269</th>\n",
       "      <td>2022-06</td>\n",
       "      <td>2370.250000</td>\n",
       "      <td>-0.012257</td>\n",
       "    </tr>\n",
       "    <tr>\n",
       "      <th>270</th>\n",
       "      <td>2022-07</td>\n",
       "      <td>2181.666667</td>\n",
       "      <td>0.006411</td>\n",
       "    </tr>\n",
       "    <tr>\n",
       "      <th>271</th>\n",
       "      <td>2022-08</td>\n",
       "      <td>2353.409091</td>\n",
       "      <td>-0.001043</td>\n",
       "    </tr>\n",
       "    <tr>\n",
       "      <th>272</th>\n",
       "      <td>2022-09</td>\n",
       "      <td>2096.500000</td>\n",
       "      <td>-0.009542</td>\n",
       "    </tr>\n",
       "    <tr>\n",
       "      <th>273</th>\n",
       "      <td>2022-10</td>\n",
       "      <td>1915.416667</td>\n",
       "      <td>0.003654</td>\n",
       "    </tr>\n",
       "  </tbody>\n",
       "</table>\n",
       "<p>274 rows × 3 columns</p>\n",
       "</div>"
      ],
      "text/plain": [
       "       month        Close    Change\n",
       "0    2000-01  2616.500000  0.002182\n",
       "1    2000-02  2468.000000  0.005569\n",
       "2    2000-03  3760.000000  0.034222\n",
       "3    2000-04  3969.444444 -0.008564\n",
       "4    2000-05  3352.500000 -0.008000\n",
       "..       ...          ...       ...\n",
       "269  2022-06  2370.250000 -0.012257\n",
       "270  2022-07  2181.666667  0.006411\n",
       "271  2022-08  2353.409091 -0.001043\n",
       "272  2022-09  2096.500000 -0.009542\n",
       "273  2022-10  1915.416667  0.003654\n",
       "\n",
       "[274 rows x 3 columns]"
      ]
     },
     "execution_count": 156,
     "metadata": {},
     "output_type": "execute_result"
    }
   ],
   "source": [
    "samil = to_month(samil, samil_scaled)\n",
    "samil"
   ]
  },
  {
   "cell_type": "code",
   "execution_count": 157,
   "id": "216a7165",
   "metadata": {
    "ExecuteTime": {
     "end_time": "2022-10-20T13:27:58.664346Z",
     "start_time": "2022-10-20T13:27:58.653422Z"
    }
   },
   "outputs": [],
   "source": [
    "samil_scaled = samil.set_index('month')\n",
    "\n",
    "scaler = MinMaxScaler()\n",
    "fitted = scaler.fit(samil_scaled)\n",
    "samil_scaled = scaler.transform(samil_scaled)\n",
    "\n",
    "samil_scaled = pd.DataFrame(samil_scaled, columns=['Close', 'Change'])\n",
    "samil_scaled.insert(0, 'month', samil['month'])"
   ]
  },
  {
   "cell_type": "code",
   "execution_count": 158,
   "id": "46a46dfd",
   "metadata": {
    "ExecuteTime": {
     "end_time": "2022-10-20T13:27:59.210050Z",
     "start_time": "2022-10-20T13:27:59.193899Z"
    }
   },
   "outputs": [
    {
     "data": {
      "text/html": [
       "<div>\n",
       "<style scoped>\n",
       "    .dataframe tbody tr th:only-of-type {\n",
       "        vertical-align: middle;\n",
       "    }\n",
       "\n",
       "    .dataframe tbody tr th {\n",
       "        vertical-align: top;\n",
       "    }\n",
       "\n",
       "    .dataframe thead th {\n",
       "        text-align: right;\n",
       "    }\n",
       "</style>\n",
       "<table border=\"1\" class=\"dataframe\">\n",
       "  <thead>\n",
       "    <tr style=\"text-align: right;\">\n",
       "      <th></th>\n",
       "      <th>month</th>\n",
       "      <th>Close</th>\n",
       "      <th>Change</th>\n",
       "    </tr>\n",
       "  </thead>\n",
       "  <tbody>\n",
       "    <tr>\n",
       "      <th>0</th>\n",
       "      <td>2000-01</td>\n",
       "      <td>0.166849</td>\n",
       "      <td>0.466341</td>\n",
       "    </tr>\n",
       "    <tr>\n",
       "      <th>1</th>\n",
       "      <td>2000-02</td>\n",
       "      <td>0.151669</td>\n",
       "      <td>0.509320</td>\n",
       "    </tr>\n",
       "    <tr>\n",
       "      <th>2</th>\n",
       "      <td>2000-03</td>\n",
       "      <td>0.283741</td>\n",
       "      <td>0.872881</td>\n",
       "    </tr>\n",
       "    <tr>\n",
       "      <th>3</th>\n",
       "      <td>2000-04</td>\n",
       "      <td>0.305151</td>\n",
       "      <td>0.329995</td>\n",
       "    </tr>\n",
       "    <tr>\n",
       "      <th>4</th>\n",
       "      <td>2000-05</td>\n",
       "      <td>0.242085</td>\n",
       "      <td>0.337147</td>\n",
       "    </tr>\n",
       "    <tr>\n",
       "      <th>...</th>\n",
       "      <td>...</td>\n",
       "      <td>...</td>\n",
       "      <td>...</td>\n",
       "    </tr>\n",
       "    <tr>\n",
       "      <th>269</th>\n",
       "      <td>2022-06</td>\n",
       "      <td>0.141677</td>\n",
       "      <td>0.283132</td>\n",
       "    </tr>\n",
       "    <tr>\n",
       "      <th>270</th>\n",
       "      <td>2022-07</td>\n",
       "      <td>0.122400</td>\n",
       "      <td>0.520008</td>\n",
       "    </tr>\n",
       "    <tr>\n",
       "      <th>271</th>\n",
       "      <td>2022-08</td>\n",
       "      <td>0.139956</td>\n",
       "      <td>0.425427</td>\n",
       "    </tr>\n",
       "    <tr>\n",
       "      <th>272</th>\n",
       "      <td>2022-09</td>\n",
       "      <td>0.113694</td>\n",
       "      <td>0.317581</td>\n",
       "    </tr>\n",
       "    <tr>\n",
       "      <th>273</th>\n",
       "      <td>2022-10</td>\n",
       "      <td>0.095183</td>\n",
       "      <td>0.485028</td>\n",
       "    </tr>\n",
       "  </tbody>\n",
       "</table>\n",
       "<p>274 rows × 3 columns</p>\n",
       "</div>"
      ],
      "text/plain": [
       "       month     Close    Change\n",
       "0    2000-01  0.166849  0.466341\n",
       "1    2000-02  0.151669  0.509320\n",
       "2    2000-03  0.283741  0.872881\n",
       "3    2000-04  0.305151  0.329995\n",
       "4    2000-05  0.242085  0.337147\n",
       "..       ...       ...       ...\n",
       "269  2022-06  0.141677  0.283132\n",
       "270  2022-07  0.122400  0.520008\n",
       "271  2022-08  0.139956  0.425427\n",
       "272  2022-09  0.113694  0.317581\n",
       "273  2022-10  0.095183  0.485028\n",
       "\n",
       "[274 rows x 3 columns]"
      ]
     },
     "execution_count": 158,
     "metadata": {},
     "output_type": "execute_result"
    }
   ],
   "source": [
    "samil_scaled"
   ]
  },
  {
   "cell_type": "code",
   "execution_count": 71,
   "id": "141fefd8",
   "metadata": {
    "ExecuteTime": {
     "end_time": "2022-10-20T13:02:57.441044Z",
     "start_time": "2022-10-20T13:02:57.414073Z"
    }
   },
   "outputs": [
    {
     "data": {
      "text/html": [
       "<div>\n",
       "<style scoped>\n",
       "    .dataframe tbody tr th:only-of-type {\n",
       "        vertical-align: middle;\n",
       "    }\n",
       "\n",
       "    .dataframe tbody tr th {\n",
       "        vertical-align: top;\n",
       "    }\n",
       "\n",
       "    .dataframe thead th {\n",
       "        text-align: right;\n",
       "    }\n",
       "</style>\n",
       "<table border=\"1\" class=\"dataframe\">\n",
       "  <thead>\n",
       "    <tr style=\"text-align: right;\">\n",
       "      <th></th>\n",
       "      <th>Date</th>\n",
       "      <th>Kospi_Close</th>\n",
       "      <th>Kospi_Change</th>\n",
       "    </tr>\n",
       "  </thead>\n",
       "  <tbody>\n",
       "    <tr>\n",
       "      <th>0</th>\n",
       "      <td>2000-01-04</td>\n",
       "      <td>0.195293</td>\n",
       "      <td>0.0301</td>\n",
       "    </tr>\n",
       "    <tr>\n",
       "      <th>1</th>\n",
       "      <td>2000-01-05</td>\n",
       "      <td>0.183802</td>\n",
       "      <td>-0.0687</td>\n",
       "    </tr>\n",
       "    <tr>\n",
       "      <th>2</th>\n",
       "      <td>2000-01-06</td>\n",
       "      <td>0.173015</td>\n",
       "      <td>-0.0259</td>\n",
       "    </tr>\n",
       "    <tr>\n",
       "      <th>3</th>\n",
       "      <td>2000-01-07</td>\n",
       "      <td>0.165013</td>\n",
       "      <td>-0.0126</td>\n",
       "    </tr>\n",
       "    <tr>\n",
       "      <th>4</th>\n",
       "      <td>2000-01-10</td>\n",
       "      <td>0.177083</td>\n",
       "      <td>0.0407</td>\n",
       "    </tr>\n",
       "    <tr>\n",
       "      <th>...</th>\n",
       "      <td>...</td>\n",
       "      <td>...</td>\n",
       "      <td>...</td>\n",
       "    </tr>\n",
       "    <tr>\n",
       "      <th>5619</th>\n",
       "      <td>2022-10-13</td>\n",
       "      <td>0.600067</td>\n",
       "      <td>-0.0180</td>\n",
       "    </tr>\n",
       "    <tr>\n",
       "      <th>5620</th>\n",
       "      <td>2022-10-14</td>\n",
       "      <td>0.610929</td>\n",
       "      <td>0.0230</td>\n",
       "    </tr>\n",
       "    <tr>\n",
       "      <th>5621</th>\n",
       "      <td>2022-10-17</td>\n",
       "      <td>0.605290</td>\n",
       "      <td>0.0032</td>\n",
       "    </tr>\n",
       "    <tr>\n",
       "      <th>5622</th>\n",
       "      <td>2022-10-18</td>\n",
       "      <td>0.620492</td>\n",
       "      <td>0.0136</td>\n",
       "    </tr>\n",
       "    <tr>\n",
       "      <th>5623</th>\n",
       "      <td>2022-10-19</td>\n",
       "      <td>0.628860</td>\n",
       "      <td>0.0018</td>\n",
       "    </tr>\n",
       "  </tbody>\n",
       "</table>\n",
       "<p>5624 rows × 3 columns</p>\n",
       "</div>"
      ],
      "text/plain": [
       "            Date  Kospi_Close  Kospi_Change\n",
       "0     2000-01-04     0.195293        0.0301\n",
       "1     2000-01-05     0.183802       -0.0687\n",
       "2     2000-01-06     0.173015       -0.0259\n",
       "3     2000-01-07     0.165013       -0.0126\n",
       "4     2000-01-10     0.177083        0.0407\n",
       "...          ...          ...           ...\n",
       "5619  2022-10-13     0.600067       -0.0180\n",
       "5620  2022-10-14     0.610929        0.0230\n",
       "5621  2022-10-17     0.605290        0.0032\n",
       "5622  2022-10-18     0.620492        0.0136\n",
       "5623  2022-10-19     0.628860        0.0018\n",
       "\n",
       "[5624 rows x 3 columns]"
      ]
     },
     "execution_count": 71,
     "metadata": {},
     "output_type": "execute_result"
    }
   ],
   "source": [
    "# kospi = fdr.DataReader('KS11', '2000')\n",
    "# kospi = kospi.reset_index()\n",
    "# kospi\n",
    "\n",
    "kospi = pd.read_csv('data/CJ.csv')\n",
    "kospi = kospi.iloc[:, 1:4]\n",
    "kospi"
   ]
  },
  {
   "cell_type": "code",
   "execution_count": 72,
   "id": "ba92332b",
   "metadata": {
    "ExecuteTime": {
     "end_time": "2022-10-20T13:02:57.623576Z",
     "start_time": "2022-10-20T13:02:57.611071Z"
    }
   },
   "outputs": [],
   "source": [
    "# 월별 날짜로 만들기\n",
    "\n",
    "def to_month_kospi(data):\n",
    "    data['month'] = data['Date']\n",
    "    \n",
    "    for i in range(len(data)):\n",
    "        data['Date'][i] = datetime.strptime(kospi.Date[i], '%Y-%m-%d')\n",
    "        year = str(data.Date[i].year)\n",
    "        month = str(data.Date[i].month)\n",
    "        date = year + '-' + month\n",
    "        data['month'][i] = datetime.strptime(str(date), '%Y-%m').date()\n",
    "        \n",
    "#     data = data.drop(columns=['Date','Open','High','Low','Volume'])\n",
    "    \n",
    "    # df column 위치 조절\n",
    "    data = data[['month','Kospi_Close','Kospi_Change']]\n",
    "    data = data.groupby('month').mean()\n",
    "    \n",
    "    data = data.reset_index()\n",
    "    \n",
    "    # month column으로 만들기\n",
    "    for j in range(len(data)):\n",
    "        data.month = data.month.astype(str)\n",
    "        data.month[j] = data.month[j][:7]\n",
    "\n",
    "    return data"
   ]
  },
  {
   "cell_type": "code",
   "execution_count": 73,
   "id": "b522b705",
   "metadata": {
    "ExecuteTime": {
     "end_time": "2022-10-20T13:02:58.812000Z",
     "start_time": "2022-10-20T13:02:57.843010Z"
    }
   },
   "outputs": [
    {
     "data": {
      "text/html": [
       "<div>\n",
       "<style scoped>\n",
       "    .dataframe tbody tr th:only-of-type {\n",
       "        vertical-align: middle;\n",
       "    }\n",
       "\n",
       "    .dataframe tbody tr th {\n",
       "        vertical-align: top;\n",
       "    }\n",
       "\n",
       "    .dataframe thead th {\n",
       "        text-align: right;\n",
       "    }\n",
       "</style>\n",
       "<table border=\"1\" class=\"dataframe\">\n",
       "  <thead>\n",
       "    <tr style=\"text-align: right;\">\n",
       "      <th></th>\n",
       "      <th>month</th>\n",
       "      <th>Kospi_Close</th>\n",
       "      <th>Kospi_Change</th>\n",
       "    </tr>\n",
       "  </thead>\n",
       "  <tbody>\n",
       "    <tr>\n",
       "      <th>0</th>\n",
       "      <td>2000-01</td>\n",
       "      <td>0.166989</td>\n",
       "      <td>-0.003865</td>\n",
       "    </tr>\n",
       "    <tr>\n",
       "      <th>1</th>\n",
       "      <td>2000-02</td>\n",
       "      <td>0.150465</td>\n",
       "      <td>-0.006220</td>\n",
       "    </tr>\n",
       "    <tr>\n",
       "      <th>2</th>\n",
       "      <td>2000-03</td>\n",
       "      <td>0.141921</td>\n",
       "      <td>0.002064</td>\n",
       "    </tr>\n",
       "    <tr>\n",
       "      <th>3</th>\n",
       "      <td>2000-04</td>\n",
       "      <td>0.107834</td>\n",
       "      <td>-0.008667</td>\n",
       "    </tr>\n",
       "    <tr>\n",
       "      <th>4</th>\n",
       "      <td>2000-05</td>\n",
       "      <td>0.086009</td>\n",
       "      <td>0.000940</td>\n",
       "    </tr>\n",
       "    <tr>\n",
       "      <th>...</th>\n",
       "      <td>...</td>\n",
       "      <td>...</td>\n",
       "      <td>...</td>\n",
       "    </tr>\n",
       "    <tr>\n",
       "      <th>269</th>\n",
       "      <td>2022-06</td>\n",
       "      <td>0.704787</td>\n",
       "      <td>-0.006930</td>\n",
       "    </tr>\n",
       "    <tr>\n",
       "      <th>270</th>\n",
       "      <td>2022-07</td>\n",
       "      <td>0.665200</td>\n",
       "      <td>0.002419</td>\n",
       "    </tr>\n",
       "    <tr>\n",
       "      <th>271</th>\n",
       "      <td>2022-08</td>\n",
       "      <td>0.707168</td>\n",
       "      <td>0.000423</td>\n",
       "    </tr>\n",
       "    <tr>\n",
       "      <th>272</th>\n",
       "      <td>2022-09</td>\n",
       "      <td>0.656375</td>\n",
       "      <td>-0.006745</td>\n",
       "    </tr>\n",
       "    <tr>\n",
       "      <th>273</th>\n",
       "      <td>2022-10</td>\n",
       "      <td>0.612482</td>\n",
       "      <td>0.004145</td>\n",
       "    </tr>\n",
       "  </tbody>\n",
       "</table>\n",
       "<p>274 rows × 3 columns</p>\n",
       "</div>"
      ],
      "text/plain": [
       "       month  Kospi_Close  Kospi_Change\n",
       "0    2000-01     0.166989     -0.003865\n",
       "1    2000-02     0.150465     -0.006220\n",
       "2    2000-03     0.141921      0.002064\n",
       "3    2000-04     0.107834     -0.008667\n",
       "4    2000-05     0.086009      0.000940\n",
       "..       ...          ...           ...\n",
       "269  2022-06     0.704787     -0.006930\n",
       "270  2022-07     0.665200      0.002419\n",
       "271  2022-08     0.707168      0.000423\n",
       "272  2022-09     0.656375     -0.006745\n",
       "273  2022-10     0.612482      0.004145\n",
       "\n",
       "[274 rows x 3 columns]"
      ]
     },
     "execution_count": 73,
     "metadata": {},
     "output_type": "execute_result"
    }
   ],
   "source": [
    "kospi = to_month_kospi(kospi)\n",
    "kospi"
   ]
  },
  {
   "cell_type": "code",
   "execution_count": 74,
   "id": "964ae444",
   "metadata": {
    "ExecuteTime": {
     "end_time": "2022-10-20T13:03:04.042881Z",
     "start_time": "2022-10-20T13:03:03.937963Z"
    }
   },
   "outputs": [
    {
     "data": {
      "text/plain": [
       "<AxesSubplot:>"
      ]
     },
     "execution_count": 74,
     "metadata": {},
     "output_type": "execute_result"
    },
    {
     "data": {
      "image/png": "[encoded data removed]",
      "text/plain": [
       "<Figure size 432x288 with 1 Axes>"
      ]
     },
     "metadata": {
      "needs_background": "light"
     },
     "output_type": "display_data"
    }
   ],
   "source": [
    "kospi['Kospi_Close'].plot()"
   ]
  },
  {
   "cell_type": "code",
   "execution_count": 162,
   "id": "5a365ffc",
   "metadata": {
    "ExecuteTime": {
     "end_time": "2022-10-20T13:30:02.951389Z",
     "start_time": "2022-10-20T13:30:02.944869Z"
    }
   },
   "outputs": [],
   "source": [
    "a = 100\n",
    "samil_scaled_ = samil_scaled[:a]\n",
    "kospi_ = kospi[:a]"
   ]
  },
  {
   "cell_type": "code",
   "execution_count": 166,
   "id": "c8c7615e",
   "metadata": {
    "ExecuteTime": {
     "end_time": "2022-10-20T13:32:14.247436Z",
     "start_time": "2022-10-20T13:32:14.063433Z"
    }
   },
   "outputs": [
    {
     "data": {
      "image/png": "[encoded data removed]",
      "text/plain": [
       "<Figure size 1440x720 with 1 Axes>"
      ]
     },
     "metadata": {
      "needs_background": "light"
     },
     "output_type": "display_data"
    }
   ],
   "source": [
    "# 주가 데이터 그래프\n",
    "\n",
    "data1 = samil_scaled_\n",
    "data2 = kospi_\n",
    "# data3 = LowerThanKospi_3m_label_\n",
    "\n",
    "plt.figure(figsize=(20, 10))\n",
    "plt.rcParams['font.family'] = 'NanumGothic'\n",
    "\n",
    "# plt.subplot(2, 1, 1)\n",
    "plt.axhline(y=0, color='black', linewidth=1)\n",
    "ax = sns.lineplot(data=data1, x=\"month\", y='Close', label='samil_price', color='brown')\n",
    "ax = sns.lineplot(data=data2, x=\"month\", y='Kospi_Close', label='kospi_price', color='blue')\n",
    "# ax = sns.scatterplot(data=data3, x=\"Date\", y=\"label\", label='↓', color='black')\n",
    "\n",
    "total_len = len(data1.index)\n",
    "ax.set_xticks(np.arange(0, total_len + 1, 10))\n",
    "\n",
    "'''\n",
    "plt.subplot(2, 1, 1)\n",
    "plt.figure(figsize=(20, 10))\n",
    "plt.axhline(y=0, color='r', linewidth=1)\n",
    "sns.lineplot(data=data3, x=\"Date\", y='Kospi_Change', label='kospi_change', color='orange')\n",
    "sns.lineplot(data=data3, x='Date', y='CJ_Change', label='cj_change', color='skyBlue')\n",
    "'''\n",
    "\n",
    "plt.show()"
   ]
  },
  {
   "cell_type": "code",
   "execution_count": 186,
   "id": "d69929d9",
   "metadata": {
    "ExecuteTime": {
     "end_time": "2022-10-20T13:40:45.935018Z",
     "start_time": "2022-10-20T13:40:45.913348Z"
    },
    "scrolled": false
   },
   "outputs": [
    {
     "data": {
      "text/html": [
       "<div>\n",
       "<style scoped>\n",
       "    .dataframe tbody tr th:only-of-type {\n",
       "        vertical-align: middle;\n",
       "    }\n",
       "\n",
       "    .dataframe tbody tr th {\n",
       "        vertical-align: top;\n",
       "    }\n",
       "\n",
       "    .dataframe thead th {\n",
       "        text-align: right;\n",
       "    }\n",
       "</style>\n",
       "<table border=\"1\" class=\"dataframe\">\n",
       "  <thead>\n",
       "    <tr style=\"text-align: right;\">\n",
       "      <th></th>\n",
       "      <th>month</th>\n",
       "      <th>Samil_Close</th>\n",
       "      <th>Samil_Change</th>\n",
       "      <th>Kospi_Close</th>\n",
       "      <th>Kospi_Change</th>\n",
       "    </tr>\n",
       "  </thead>\n",
       "  <tbody>\n",
       "    <tr>\n",
       "      <th>0</th>\n",
       "      <td>2000-01</td>\n",
       "      <td>0.166849</td>\n",
       "      <td>0.466341</td>\n",
       "      <td>0.166989</td>\n",
       "      <td>-0.003865</td>\n",
       "    </tr>\n",
       "    <tr>\n",
       "      <th>1</th>\n",
       "      <td>2000-02</td>\n",
       "      <td>0.151669</td>\n",
       "      <td>0.509320</td>\n",
       "      <td>0.150465</td>\n",
       "      <td>-0.006220</td>\n",
       "    </tr>\n",
       "    <tr>\n",
       "      <th>2</th>\n",
       "      <td>2000-03</td>\n",
       "      <td>0.283741</td>\n",
       "      <td>0.872881</td>\n",
       "      <td>0.141921</td>\n",
       "      <td>0.002064</td>\n",
       "    </tr>\n",
       "    <tr>\n",
       "      <th>3</th>\n",
       "      <td>2000-04</td>\n",
       "      <td>0.305151</td>\n",
       "      <td>0.329995</td>\n",
       "      <td>0.107834</td>\n",
       "      <td>-0.008667</td>\n",
       "    </tr>\n",
       "    <tr>\n",
       "      <th>4</th>\n",
       "      <td>2000-05</td>\n",
       "      <td>0.242085</td>\n",
       "      <td>0.337147</td>\n",
       "      <td>0.086009</td>\n",
       "      <td>0.000940</td>\n",
       "    </tr>\n",
       "    <tr>\n",
       "      <th>...</th>\n",
       "      <td>...</td>\n",
       "      <td>...</td>\n",
       "      <td>...</td>\n",
       "      <td>...</td>\n",
       "      <td>...</td>\n",
       "    </tr>\n",
       "    <tr>\n",
       "      <th>269</th>\n",
       "      <td>2022-06</td>\n",
       "      <td>0.141677</td>\n",
       "      <td>0.283132</td>\n",
       "      <td>0.704787</td>\n",
       "      <td>-0.006930</td>\n",
       "    </tr>\n",
       "    <tr>\n",
       "      <th>270</th>\n",
       "      <td>2022-07</td>\n",
       "      <td>0.122400</td>\n",
       "      <td>0.520008</td>\n",
       "      <td>0.665200</td>\n",
       "      <td>0.002419</td>\n",
       "    </tr>\n",
       "    <tr>\n",
       "      <th>271</th>\n",
       "      <td>2022-08</td>\n",
       "      <td>0.139956</td>\n",
       "      <td>0.425427</td>\n",
       "      <td>0.707168</td>\n",
       "      <td>0.000423</td>\n",
       "    </tr>\n",
       "    <tr>\n",
       "      <th>272</th>\n",
       "      <td>2022-09</td>\n",
       "      <td>0.113694</td>\n",
       "      <td>0.317581</td>\n",
       "      <td>0.656375</td>\n",
       "      <td>-0.006745</td>\n",
       "    </tr>\n",
       "    <tr>\n",
       "      <th>273</th>\n",
       "      <td>2022-10</td>\n",
       "      <td>0.095183</td>\n",
       "      <td>0.485028</td>\n",
       "      <td>0.612482</td>\n",
       "      <td>0.004145</td>\n",
       "    </tr>\n",
       "  </tbody>\n",
       "</table>\n",
       "<p>274 rows × 5 columns</p>\n",
       "</div>"
      ],
      "text/plain": [
       "       month  Samil_Close  Samil_Change  Kospi_Close  Kospi_Change\n",
       "0    2000-01     0.166849      0.466341     0.166989     -0.003865\n",
       "1    2000-02     0.151669      0.509320     0.150465     -0.006220\n",
       "2    2000-03     0.283741      0.872881     0.141921      0.002064\n",
       "3    2000-04     0.305151      0.329995     0.107834     -0.008667\n",
       "4    2000-05     0.242085      0.337147     0.086009      0.000940\n",
       "..       ...          ...           ...          ...           ...\n",
       "269  2022-06     0.141677      0.283132     0.704787     -0.006930\n",
       "270  2022-07     0.122400      0.520008     0.665200      0.002419\n",
       "271  2022-08     0.139956      0.425427     0.707168      0.000423\n",
       "272  2022-09     0.113694      0.317581     0.656375     -0.006745\n",
       "273  2022-10     0.095183      0.485028     0.612482      0.004145\n",
       "\n",
       "[274 rows x 5 columns]"
      ]
     },
     "execution_count": 186,
     "metadata": {},
     "output_type": "execute_result"
    }
   ],
   "source": [
    "df = pd.merge(samil_scaled, kospi, on='month', how='left')\n",
    "# df = df.drop(['Open_x','High_x','Low_x','Close_x','Close_y','Volume_x','Open_y','High_y','Low_y','Volume_y'], axis=1)\n",
    "df.rename(columns={'Close':'Samil_Close', 'Change':'Samil_Change'},inplace=True)\n",
    "df"
   ]
  },
  {
   "cell_type": "code",
   "execution_count": 200,
   "id": "4f9f3ffa",
   "metadata": {
    "ExecuteTime": {
     "end_time": "2022-10-20T13:45:48.557570Z",
     "start_time": "2022-10-20T13:45:48.550518Z"
    }
   },
   "outputs": [
    {
     "data": {
      "text/plain": [
       "0.4663411766648195"
      ]
     },
     "execution_count": 200,
     "metadata": {},
     "output_type": "execute_result"
    }
   ],
   "source": [
    "df.Samil_Change[0]"
   ]
  },
  {
   "cell_type": "markdown",
   "id": "5360824a",
   "metadata": {},
   "source": [
    "## 월 기준으로 하락세 뽑아보기"
   ]
  },
  {
   "cell_type": "code",
   "execution_count": 216,
   "id": "5cc89e72",
   "metadata": {
    "ExecuteTime": {
     "end_time": "2022-10-20T13:51:16.837625Z",
     "start_time": "2022-10-20T13:51:16.826621Z"
    }
   },
   "outputs": [],
   "source": [
    "# a의 변동률\n",
    "\n",
    "def RatioMean(a):\n",
    "    result = []\n",
    "\n",
    "    for i in range(len(a)-1):\n",
    "        K = a.Kospi_Close[i+1] - a.Kospi_Close[i] \n",
    "        D = a.Samil_Close[i+1] - a.Samil_Close[i] \n",
    "        \n",
    "    # 하락 트리거만 잡기 위해 -1 외에 모두 1로 정의\n",
    "#         if i+1 == len(a):\n",
    "#             result.append(np.nan)\n",
    "        if (K < 0) & (D < 0):   # a일수간의 변동평균이 둘 다 - 일 때\n",
    "            if K > D:\n",
    "                result.append(1)\n",
    "            elif K < D:           # kospi 변동률보다 덜 변동\n",
    "                result.append(0)\n",
    "        elif (K > 0) & (D > 0):   # a일수간의 변동평균이 둘 다 + 일 때\n",
    "            if K > D:\n",
    "                result.append(1)\n",
    "            if K < D:             # 둘 다 + 이지만, kospi 변동률보다 적게 상승\n",
    "                result.append(0)\n",
    "        elif (K >= 0) & (D <= 0): # K 변동 평균은 양수지만 D 변동 평균이 음수일 때\n",
    "            result.append(1)\n",
    "        elif (K <= 0) & (D >= 0): # K 변동 평균은 음수지만 D 변동 평균이 양수일 때\n",
    "            result.append(0)\n",
    "\n",
    "    return result"
   ]
  },
  {
   "cell_type": "code",
   "execution_count": 217,
   "id": "be2ede1c",
   "metadata": {
    "ExecuteTime": {
     "end_time": "2022-10-20T13:51:17.415813Z",
     "start_time": "2022-10-20T13:51:17.387338Z"
    },
    "scrolled": true
   },
   "outputs": [
    {
     "data": {
      "text/plain": [
       "[0,\n",
       " 0,\n",
       " 0,\n",
       " 1,\n",
       " 1,\n",
       " 1,\n",
       " 0,\n",
       " 1,\n",
       " 0,\n",
       " 0,\n",
       " 0,\n",
       " 0,\n",
       " 1,\n",
       " 1,\n",
       " 1,\n",
       " 0,\n",
       " 1,\n",
       " 1,\n",
       " 0,\n",
       " 1,\n",
       " 1,\n",
       " 0,\n",
       " 1,\n",
       " 1,\n",
       " 1,\n",
       " 1,\n",
       " 1,\n",
       " 1,\n",
       " 1,\n",
       " 0,\n",
       " 0,\n",
       " 0,\n",
       " 0,\n",
       " 1,\n",
       " 1,\n",
       " 1,\n",
       " 1,\n",
       " 0,\n",
       " 1,\n",
       " 1,\n",
       " 1,\n",
       " 1,\n",
       " 1,\n",
       " 1,\n",
       " 1,\n",
       " 1,\n",
       " 1,\n",
       " 1,\n",
       " 1,\n",
       " 0,\n",
       " 1,\n",
       " 0,\n",
       " 0,\n",
       " 0,\n",
       " 1,\n",
       " 1,\n",
       " 1,\n",
       " 1,\n",
       " 1,\n",
       " 1,\n",
       " 1,\n",
       " 1,\n",
       " 0,\n",
       " 0,\n",
       " 1,\n",
       " 1,\n",
       " 0,\n",
       " 1,\n",
       " 0,\n",
       " 1,\n",
       " 1,\n",
       " 1,\n",
       " 1,\n",
       " 0,\n",
       " 1,\n",
       " 1,\n",
       " 0,\n",
       " 1,\n",
       " 1,\n",
       " 1,\n",
       " 0,\n",
       " 1,\n",
       " 1,\n",
       " 0,\n",
       " 1,\n",
       " 0,\n",
       " 0,\n",
       " 1,\n",
       " 1,\n",
       " 1,\n",
       " 0,\n",
       " 1,\n",
       " 1,\n",
       " 0,\n",
       " 0,\n",
       " 1,\n",
       " 0,\n",
       " 0,\n",
       " 1,\n",
       " 1,\n",
       " 0,\n",
       " 0,\n",
       " 0,\n",
       " 0,\n",
       " 0,\n",
       " 1,\n",
       " 1,\n",
       " 1,\n",
       " 0,\n",
       " 1,\n",
       " 1,\n",
       " 1,\n",
       " 0,\n",
       " 1,\n",
       " 1,\n",
       " 1,\n",
       " 1,\n",
       " 0,\n",
       " 1,\n",
       " 1,\n",
       " 0,\n",
       " 1,\n",
       " 0,\n",
       " 0,\n",
       " 1,\n",
       " 1,\n",
       " 1,\n",
       " 1,\n",
       " 1,\n",
       " 1,\n",
       " 1,\n",
       " 1,\n",
       " 0,\n",
       " 0,\n",
       " 1,\n",
       " 0,\n",
       " 0,\n",
       " 1,\n",
       " 0,\n",
       " 0,\n",
       " 1,\n",
       " 1,\n",
       " 1,\n",
       " 0,\n",
       " 0,\n",
       " 0,\n",
       " 1,\n",
       " 0,\n",
       " 0,\n",
       " 0,\n",
       " 1,\n",
       " 1,\n",
       " 1,\n",
       " 1,\n",
       " 1,\n",
       " 0,\n",
       " 0,\n",
       " 1,\n",
       " 0,\n",
       " 1,\n",
       " 0,\n",
       " 0,\n",
       " 1,\n",
       " 1,\n",
       " 1,\n",
       " 1,\n",
       " 0,\n",
       " 0,\n",
       " 0,\n",
       " 0,\n",
       " 0,\n",
       " 0,\n",
       " 1,\n",
       " 0,\n",
       " 1,\n",
       " 0,\n",
       " 0,\n",
       " 1,\n",
       " 0,\n",
       " 0,\n",
       " 1,\n",
       " 1,\n",
       " 1,\n",
       " 0,\n",
       " 0,\n",
       " 0,\n",
       " 0,\n",
       " 1,\n",
       " 1,\n",
       " 0,\n",
       " 0,\n",
       " 0,\n",
       " 1,\n",
       " 1,\n",
       " 1,\n",
       " 1,\n",
       " 1,\n",
       " 1,\n",
       " 1,\n",
       " 0,\n",
       " 0,\n",
       " 1,\n",
       " 1,\n",
       " 0,\n",
       " 1,\n",
       " 1,\n",
       " 1,\n",
       " 1,\n",
       " 1,\n",
       " 1,\n",
       " 1,\n",
       " 1,\n",
       " 1,\n",
       " 1,\n",
       " 0,\n",
       " 1,\n",
       " 0,\n",
       " 1,\n",
       " 0,\n",
       " 0,\n",
       " 0,\n",
       " 0,\n",
       " 1,\n",
       " 1,\n",
       " 0,\n",
       " 0,\n",
       " 0,\n",
       " 1,\n",
       " 1,\n",
       " 0,\n",
       " 1,\n",
       " 0,\n",
       " 0,\n",
       " 1,\n",
       " 0,\n",
       " 1,\n",
       " 1,\n",
       " 1,\n",
       " 1,\n",
       " 1,\n",
       " 0,\n",
       " 0,\n",
       " 1,\n",
       " 1,\n",
       " 1,\n",
       " 1,\n",
       " 1,\n",
       " 1,\n",
       " 1,\n",
       " 1,\n",
       " 1,\n",
       " 1,\n",
       " 0,\n",
       " 0,\n",
       " 0,\n",
       " 0,\n",
       " 1,\n",
       " 1,\n",
       " 0,\n",
       " 0,\n",
       " 1,\n",
       " 1,\n",
       " 1,\n",
       " 0,\n",
       " 0,\n",
       " 0,\n",
       " 1,\n",
       " 0,\n",
       " 0,\n",
       " 0,\n",
       " 1,\n",
       " 0,\n",
       " 0]"
      ]
     },
     "execution_count": 217,
     "metadata": {},
     "output_type": "execute_result"
    }
   ],
   "source": [
    "Ratio_list = RatioMean(df)\n",
    "Ratio_list"
   ]
  },
  {
   "cell_type": "code",
   "execution_count": 218,
   "id": "308f6147",
   "metadata": {
    "ExecuteTime": {
     "end_time": "2022-10-20T13:51:20.060755Z",
     "start_time": "2022-10-20T13:51:20.054270Z"
    }
   },
   "outputs": [
    {
     "data": {
      "text/plain": [
       "273"
      ]
     },
     "execution_count": 218,
     "metadata": {},
     "output_type": "execute_result"
    }
   ],
   "source": [
    "len(Ratio_list)"
   ]
  },
  {
   "cell_type": "code",
   "execution_count": 219,
   "id": "b27a8fb7",
   "metadata": {
    "ExecuteTime": {
     "end_time": "2022-10-20T13:51:21.456762Z",
     "start_time": "2022-10-20T13:51:21.450438Z"
    }
   },
   "outputs": [],
   "source": [
    "LowerThanKospi_1m = pd.DataFrame(Ratio_list,columns=['label'])\n",
    "# LowerThanKospi_3m.Ratio_list = LowerThanKospi_3m['Ratio_list'] < 0\n",
    "# LowerThanKospi_3m = LowerThanKospi_3m.fillna(0)"
   ]
  },
  {
   "cell_type": "code",
   "execution_count": 220,
   "id": "5f2f520c",
   "metadata": {
    "ExecuteTime": {
     "end_time": "2022-10-20T13:51:21.735640Z",
     "start_time": "2022-10-20T13:51:21.725358Z"
    }
   },
   "outputs": [
    {
     "data": {
      "text/plain": [
       "label\n",
       "1        160\n",
       "0        113\n",
       "dtype: int64"
      ]
     },
     "execution_count": 220,
     "metadata": {},
     "output_type": "execute_result"
    }
   ],
   "source": [
    "LowerThanKospi_1m.value_counts()"
   ]
  },
  {
   "cell_type": "code",
   "execution_count": 221,
   "id": "9f566fb0",
   "metadata": {
    "ExecuteTime": {
     "end_time": "2022-10-20T13:52:24.813143Z",
     "start_time": "2022-10-20T13:52:24.797803Z"
    }
   },
   "outputs": [
    {
     "data": {
      "text/html": [
       "<div>\n",
       "<style scoped>\n",
       "    .dataframe tbody tr th:only-of-type {\n",
       "        vertical-align: middle;\n",
       "    }\n",
       "\n",
       "    .dataframe tbody tr th {\n",
       "        vertical-align: top;\n",
       "    }\n",
       "\n",
       "    .dataframe thead th {\n",
       "        text-align: right;\n",
       "    }\n",
       "</style>\n",
       "<table border=\"1\" class=\"dataframe\">\n",
       "  <thead>\n",
       "    <tr style=\"text-align: right;\">\n",
       "      <th></th>\n",
       "      <th>month</th>\n",
       "      <th>Samil_Close</th>\n",
       "      <th>Samil_Change</th>\n",
       "      <th>Kospi_Close</th>\n",
       "      <th>Kospi_Change</th>\n",
       "    </tr>\n",
       "  </thead>\n",
       "  <tbody>\n",
       "    <tr>\n",
       "      <th>0</th>\n",
       "      <td>2000-01</td>\n",
       "      <td>0.166849</td>\n",
       "      <td>0.466341</td>\n",
       "      <td>0.166989</td>\n",
       "      <td>-0.003865</td>\n",
       "    </tr>\n",
       "    <tr>\n",
       "      <th>1</th>\n",
       "      <td>2000-02</td>\n",
       "      <td>0.151669</td>\n",
       "      <td>0.509320</td>\n",
       "      <td>0.150465</td>\n",
       "      <td>-0.006220</td>\n",
       "    </tr>\n",
       "    <tr>\n",
       "      <th>2</th>\n",
       "      <td>2000-03</td>\n",
       "      <td>0.283741</td>\n",
       "      <td>0.872881</td>\n",
       "      <td>0.141921</td>\n",
       "      <td>0.002064</td>\n",
       "    </tr>\n",
       "    <tr>\n",
       "      <th>3</th>\n",
       "      <td>2000-04</td>\n",
       "      <td>0.305151</td>\n",
       "      <td>0.329995</td>\n",
       "      <td>0.107834</td>\n",
       "      <td>-0.008667</td>\n",
       "    </tr>\n",
       "    <tr>\n",
       "      <th>4</th>\n",
       "      <td>2000-05</td>\n",
       "      <td>0.242085</td>\n",
       "      <td>0.337147</td>\n",
       "      <td>0.086009</td>\n",
       "      <td>0.000940</td>\n",
       "    </tr>\n",
       "    <tr>\n",
       "      <th>...</th>\n",
       "      <td>...</td>\n",
       "      <td>...</td>\n",
       "      <td>...</td>\n",
       "      <td>...</td>\n",
       "      <td>...</td>\n",
       "    </tr>\n",
       "    <tr>\n",
       "      <th>269</th>\n",
       "      <td>2022-06</td>\n",
       "      <td>0.141677</td>\n",
       "      <td>0.283132</td>\n",
       "      <td>0.704787</td>\n",
       "      <td>-0.006930</td>\n",
       "    </tr>\n",
       "    <tr>\n",
       "      <th>270</th>\n",
       "      <td>2022-07</td>\n",
       "      <td>0.122400</td>\n",
       "      <td>0.520008</td>\n",
       "      <td>0.665200</td>\n",
       "      <td>0.002419</td>\n",
       "    </tr>\n",
       "    <tr>\n",
       "      <th>271</th>\n",
       "      <td>2022-08</td>\n",
       "      <td>0.139956</td>\n",
       "      <td>0.425427</td>\n",
       "      <td>0.707168</td>\n",
       "      <td>0.000423</td>\n",
       "    </tr>\n",
       "    <tr>\n",
       "      <th>272</th>\n",
       "      <td>2022-09</td>\n",
       "      <td>0.113694</td>\n",
       "      <td>0.317581</td>\n",
       "      <td>0.656375</td>\n",
       "      <td>-0.006745</td>\n",
       "    </tr>\n",
       "    <tr>\n",
       "      <th>273</th>\n",
       "      <td>2022-10</td>\n",
       "      <td>0.095183</td>\n",
       "      <td>0.485028</td>\n",
       "      <td>0.612482</td>\n",
       "      <td>0.004145</td>\n",
       "    </tr>\n",
       "  </tbody>\n",
       "</table>\n",
       "<p>274 rows × 5 columns</p>\n",
       "</div>"
      ],
      "text/plain": [
       "       month  Samil_Close  Samil_Change  Kospi_Close  Kospi_Change\n",
       "0    2000-01     0.166849      0.466341     0.166989     -0.003865\n",
       "1    2000-02     0.151669      0.509320     0.150465     -0.006220\n",
       "2    2000-03     0.283741      0.872881     0.141921      0.002064\n",
       "3    2000-04     0.305151      0.329995     0.107834     -0.008667\n",
       "4    2000-05     0.242085      0.337147     0.086009      0.000940\n",
       "..       ...          ...           ...          ...           ...\n",
       "269  2022-06     0.141677      0.283132     0.704787     -0.006930\n",
       "270  2022-07     0.122400      0.520008     0.665200      0.002419\n",
       "271  2022-08     0.139956      0.425427     0.707168      0.000423\n",
       "272  2022-09     0.113694      0.317581     0.656375     -0.006745\n",
       "273  2022-10     0.095183      0.485028     0.612482      0.004145\n",
       "\n",
       "[274 rows x 5 columns]"
      ]
     },
     "execution_count": 221,
     "metadata": {},
     "output_type": "execute_result"
    }
   ],
   "source": [
    "df"
   ]
  },
  {
   "cell_type": "code",
   "execution_count": 222,
   "id": "a02ca512",
   "metadata": {
    "ExecuteTime": {
     "end_time": "2022-10-20T13:52:26.953897Z",
     "start_time": "2022-10-20T13:52:26.945697Z"
    }
   },
   "outputs": [],
   "source": [
    "LowerThanKospi_1m_label = pd.concat([df, LowerThanKospi_1m], axis=1)\n",
    "LowerThanKospi_1m_label = LowerThanKospi_1m_label.fillna(0)"
   ]
  },
  {
   "cell_type": "code",
   "execution_count": 223,
   "id": "59c94475",
   "metadata": {
    "ExecuteTime": {
     "end_time": "2022-10-20T13:52:29.833912Z",
     "start_time": "2022-10-20T13:52:29.816528Z"
    }
   },
   "outputs": [
    {
     "data": {
      "text/html": [
       "<div>\n",
       "<style scoped>\n",
       "    .dataframe tbody tr th:only-of-type {\n",
       "        vertical-align: middle;\n",
       "    }\n",
       "\n",
       "    .dataframe tbody tr th {\n",
       "        vertical-align: top;\n",
       "    }\n",
       "\n",
       "    .dataframe thead th {\n",
       "        text-align: right;\n",
       "    }\n",
       "</style>\n",
       "<table border=\"1\" class=\"dataframe\">\n",
       "  <thead>\n",
       "    <tr style=\"text-align: right;\">\n",
       "      <th></th>\n",
       "      <th>month</th>\n",
       "      <th>Samil_Close</th>\n",
       "      <th>Samil_Change</th>\n",
       "      <th>Kospi_Close</th>\n",
       "      <th>Kospi_Change</th>\n",
       "      <th>label</th>\n",
       "    </tr>\n",
       "  </thead>\n",
       "  <tbody>\n",
       "    <tr>\n",
       "      <th>0</th>\n",
       "      <td>2000-01</td>\n",
       "      <td>0.166849</td>\n",
       "      <td>0.466341</td>\n",
       "      <td>0.166989</td>\n",
       "      <td>-0.003865</td>\n",
       "      <td>0.0</td>\n",
       "    </tr>\n",
       "    <tr>\n",
       "      <th>1</th>\n",
       "      <td>2000-02</td>\n",
       "      <td>0.151669</td>\n",
       "      <td>0.509320</td>\n",
       "      <td>0.150465</td>\n",
       "      <td>-0.006220</td>\n",
       "      <td>0.0</td>\n",
       "    </tr>\n",
       "    <tr>\n",
       "      <th>2</th>\n",
       "      <td>2000-03</td>\n",
       "      <td>0.283741</td>\n",
       "      <td>0.872881</td>\n",
       "      <td>0.141921</td>\n",
       "      <td>0.002064</td>\n",
       "      <td>0.0</td>\n",
       "    </tr>\n",
       "    <tr>\n",
       "      <th>3</th>\n",
       "      <td>2000-04</td>\n",
       "      <td>0.305151</td>\n",
       "      <td>0.329995</td>\n",
       "      <td>0.107834</td>\n",
       "      <td>-0.008667</td>\n",
       "      <td>1.0</td>\n",
       "    </tr>\n",
       "    <tr>\n",
       "      <th>4</th>\n",
       "      <td>2000-05</td>\n",
       "      <td>0.242085</td>\n",
       "      <td>0.337147</td>\n",
       "      <td>0.086009</td>\n",
       "      <td>0.000940</td>\n",
       "      <td>1.0</td>\n",
       "    </tr>\n",
       "    <tr>\n",
       "      <th>...</th>\n",
       "      <td>...</td>\n",
       "      <td>...</td>\n",
       "      <td>...</td>\n",
       "      <td>...</td>\n",
       "      <td>...</td>\n",
       "      <td>...</td>\n",
       "    </tr>\n",
       "    <tr>\n",
       "      <th>269</th>\n",
       "      <td>2022-06</td>\n",
       "      <td>0.141677</td>\n",
       "      <td>0.283132</td>\n",
       "      <td>0.704787</td>\n",
       "      <td>-0.006930</td>\n",
       "      <td>0.0</td>\n",
       "    </tr>\n",
       "    <tr>\n",
       "      <th>270</th>\n",
       "      <td>2022-07</td>\n",
       "      <td>0.122400</td>\n",
       "      <td>0.520008</td>\n",
       "      <td>0.665200</td>\n",
       "      <td>0.002419</td>\n",
       "      <td>1.0</td>\n",
       "    </tr>\n",
       "    <tr>\n",
       "      <th>271</th>\n",
       "      <td>2022-08</td>\n",
       "      <td>0.139956</td>\n",
       "      <td>0.425427</td>\n",
       "      <td>0.707168</td>\n",
       "      <td>0.000423</td>\n",
       "      <td>0.0</td>\n",
       "    </tr>\n",
       "    <tr>\n",
       "      <th>272</th>\n",
       "      <td>2022-09</td>\n",
       "      <td>0.113694</td>\n",
       "      <td>0.317581</td>\n",
       "      <td>0.656375</td>\n",
       "      <td>-0.006745</td>\n",
       "      <td>0.0</td>\n",
       "    </tr>\n",
       "    <tr>\n",
       "      <th>273</th>\n",
       "      <td>2022-10</td>\n",
       "      <td>0.095183</td>\n",
       "      <td>0.485028</td>\n",
       "      <td>0.612482</td>\n",
       "      <td>0.004145</td>\n",
       "      <td>0.0</td>\n",
       "    </tr>\n",
       "  </tbody>\n",
       "</table>\n",
       "<p>274 rows × 6 columns</p>\n",
       "</div>"
      ],
      "text/plain": [
       "       month  Samil_Close  Samil_Change  Kospi_Close  Kospi_Change  label\n",
       "0    2000-01     0.166849      0.466341     0.166989     -0.003865    0.0\n",
       "1    2000-02     0.151669      0.509320     0.150465     -0.006220    0.0\n",
       "2    2000-03     0.283741      0.872881     0.141921      0.002064    0.0\n",
       "3    2000-04     0.305151      0.329995     0.107834     -0.008667    1.0\n",
       "4    2000-05     0.242085      0.337147     0.086009      0.000940    1.0\n",
       "..       ...          ...           ...          ...           ...    ...\n",
       "269  2022-06     0.141677      0.283132     0.704787     -0.006930    0.0\n",
       "270  2022-07     0.122400      0.520008     0.665200      0.002419    1.0\n",
       "271  2022-08     0.139956      0.425427     0.707168      0.000423    0.0\n",
       "272  2022-09     0.113694      0.317581     0.656375     -0.006745    0.0\n",
       "273  2022-10     0.095183      0.485028     0.612482      0.004145    0.0\n",
       "\n",
       "[274 rows x 6 columns]"
      ]
     },
     "execution_count": 223,
     "metadata": {},
     "output_type": "execute_result"
    }
   ],
   "source": [
    "LowerThanKospi_1m_label"
   ]
  },
  {
   "cell_type": "code",
   "execution_count": null,
   "id": "234ddca4",
   "metadata": {
    "ExecuteTime": {
     "end_time": "2022-10-19T03:47:13.483534Z",
     "start_time": "2022-10-19T03:47:13.481174Z"
    }
   },
   "outputs": [],
   "source": [
    "'''\n",
    "# 하락 여부 label\n",
    "\n",
    "label = []\n",
    "for row in LowerThanKospi_3m.LowerThanKospi_3m:\n",
    "    if row < 0:\n",
    "        label.append(-1)\n",
    "    elif row > 0:\n",
    "        label.append(1)\n",
    "    else:\n",
    "        label.append(0)\n",
    "    \n",
    "LowerThanKospi_3m['label'] = label\n",
    "LowerThanKospi_3m\n",
    "'''"
   ]
  },
  {
   "cell_type": "code",
   "execution_count": 224,
   "id": "bd2f1e89",
   "metadata": {
    "ExecuteTime": {
     "end_time": "2022-10-20T13:52:37.868683Z",
     "start_time": "2022-10-20T13:52:37.859766Z"
    }
   },
   "outputs": [
    {
     "data": {
      "text/plain": [
       "0"
      ]
     },
     "execution_count": 224,
     "metadata": {},
     "output_type": "execute_result"
    }
   ],
   "source": [
    "LowerThanKospi_1m_label.label.isnull().sum()"
   ]
  },
  {
   "cell_type": "code",
   "execution_count": 225,
   "id": "5d51ef59",
   "metadata": {
    "ExecuteTime": {
     "end_time": "2022-10-20T13:52:40.399097Z",
     "start_time": "2022-10-20T13:52:40.388948Z"
    }
   },
   "outputs": [
    {
     "data": {
      "text/plain": [
       "1.0    160\n",
       "0.0    114\n",
       "Name: label, dtype: int64"
      ]
     },
     "execution_count": 225,
     "metadata": {},
     "output_type": "execute_result"
    }
   ],
   "source": [
    "LowerThanKospi_1m_label.label.value_counts()"
   ]
  },
  {
   "cell_type": "code",
   "execution_count": 240,
   "id": "f9f9d246",
   "metadata": {
    "ExecuteTime": {
     "end_time": "2022-10-20T13:56:53.040966Z",
     "start_time": "2022-10-20T13:56:53.021978Z"
    }
   },
   "outputs": [
    {
     "data": {
      "text/html": [
       "<div>\n",
       "<style scoped>\n",
       "    .dataframe tbody tr th:only-of-type {\n",
       "        vertical-align: middle;\n",
       "    }\n",
       "\n",
       "    .dataframe tbody tr th {\n",
       "        vertical-align: top;\n",
       "    }\n",
       "\n",
       "    .dataframe thead th {\n",
       "        text-align: right;\n",
       "    }\n",
       "</style>\n",
       "<table border=\"1\" class=\"dataframe\">\n",
       "  <thead>\n",
       "    <tr style=\"text-align: right;\">\n",
       "      <th></th>\n",
       "      <th>month</th>\n",
       "      <th>Samil_Close</th>\n",
       "      <th>Samil_Change</th>\n",
       "      <th>Kospi_Close</th>\n",
       "      <th>Kospi_Change</th>\n",
       "      <th>label</th>\n",
       "    </tr>\n",
       "  </thead>\n",
       "  <tbody>\n",
       "    <tr>\n",
       "      <th>0</th>\n",
       "      <td>2000-01</td>\n",
       "      <td>0.166849</td>\n",
       "      <td>0.466341</td>\n",
       "      <td>0.166989</td>\n",
       "      <td>-0.003865</td>\n",
       "      <td>0.0</td>\n",
       "    </tr>\n",
       "    <tr>\n",
       "      <th>1</th>\n",
       "      <td>2000-02</td>\n",
       "      <td>0.151669</td>\n",
       "      <td>0.509320</td>\n",
       "      <td>0.150465</td>\n",
       "      <td>-0.006220</td>\n",
       "      <td>0.0</td>\n",
       "    </tr>\n",
       "    <tr>\n",
       "      <th>2</th>\n",
       "      <td>2000-03</td>\n",
       "      <td>0.283741</td>\n",
       "      <td>0.872881</td>\n",
       "      <td>0.141921</td>\n",
       "      <td>0.002064</td>\n",
       "      <td>0.0</td>\n",
       "    </tr>\n",
       "    <tr>\n",
       "      <th>3</th>\n",
       "      <td>2000-04</td>\n",
       "      <td>0.305151</td>\n",
       "      <td>0.329995</td>\n",
       "      <td>0.107834</td>\n",
       "      <td>-0.008667</td>\n",
       "      <td>1.0</td>\n",
       "    </tr>\n",
       "    <tr>\n",
       "      <th>4</th>\n",
       "      <td>2000-05</td>\n",
       "      <td>0.242085</td>\n",
       "      <td>0.337147</td>\n",
       "      <td>0.086009</td>\n",
       "      <td>0.000940</td>\n",
       "      <td>1.0</td>\n",
       "    </tr>\n",
       "    <tr>\n",
       "      <th>...</th>\n",
       "      <td>...</td>\n",
       "      <td>...</td>\n",
       "      <td>...</td>\n",
       "      <td>...</td>\n",
       "      <td>...</td>\n",
       "      <td>...</td>\n",
       "    </tr>\n",
       "    <tr>\n",
       "      <th>269</th>\n",
       "      <td>2022-06</td>\n",
       "      <td>0.141677</td>\n",
       "      <td>0.283132</td>\n",
       "      <td>0.704787</td>\n",
       "      <td>-0.006930</td>\n",
       "      <td>0.0</td>\n",
       "    </tr>\n",
       "    <tr>\n",
       "      <th>270</th>\n",
       "      <td>2022-07</td>\n",
       "      <td>0.122400</td>\n",
       "      <td>0.520008</td>\n",
       "      <td>0.665200</td>\n",
       "      <td>0.002419</td>\n",
       "      <td>1.0</td>\n",
       "    </tr>\n",
       "    <tr>\n",
       "      <th>271</th>\n",
       "      <td>2022-08</td>\n",
       "      <td>0.139956</td>\n",
       "      <td>0.425427</td>\n",
       "      <td>0.707168</td>\n",
       "      <td>0.000423</td>\n",
       "      <td>0.0</td>\n",
       "    </tr>\n",
       "    <tr>\n",
       "      <th>272</th>\n",
       "      <td>2022-09</td>\n",
       "      <td>0.113694</td>\n",
       "      <td>0.317581</td>\n",
       "      <td>0.656375</td>\n",
       "      <td>-0.006745</td>\n",
       "      <td>0.0</td>\n",
       "    </tr>\n",
       "    <tr>\n",
       "      <th>273</th>\n",
       "      <td>2022-10</td>\n",
       "      <td>0.095183</td>\n",
       "      <td>0.485028</td>\n",
       "      <td>0.612482</td>\n",
       "      <td>0.004145</td>\n",
       "      <td>0.0</td>\n",
       "    </tr>\n",
       "  </tbody>\n",
       "</table>\n",
       "<p>274 rows × 6 columns</p>\n",
       "</div>"
      ],
      "text/plain": [
       "       month  Samil_Close  Samil_Change  Kospi_Close  Kospi_Change  label\n",
       "0    2000-01     0.166849      0.466341     0.166989     -0.003865    0.0\n",
       "1    2000-02     0.151669      0.509320     0.150465     -0.006220    0.0\n",
       "2    2000-03     0.283741      0.872881     0.141921      0.002064    0.0\n",
       "3    2000-04     0.305151      0.329995     0.107834     -0.008667    1.0\n",
       "4    2000-05     0.242085      0.337147     0.086009      0.000940    1.0\n",
       "..       ...          ...           ...          ...           ...    ...\n",
       "269  2022-06     0.141677      0.283132     0.704787     -0.006930    0.0\n",
       "270  2022-07     0.122400      0.520008     0.665200      0.002419    1.0\n",
       "271  2022-08     0.139956      0.425427     0.707168      0.000423    0.0\n",
       "272  2022-09     0.113694      0.317581     0.656375     -0.006745    0.0\n",
       "273  2022-10     0.095183      0.485028     0.612482      0.004145    0.0\n",
       "\n",
       "[274 rows x 6 columns]"
      ]
     },
     "execution_count": 240,
     "metadata": {},
     "output_type": "execute_result"
    }
   ],
   "source": [
    "# LowerThanKospi_1m_label.label = LowerThanKospi_3m_label.label.replace(0, 1)\n",
    "LowerThanKospi_1m_label.label = LowerThanKospi_1m_label.label.replace(-0.2, 1)\n",
    "LowerThanKospi_1m_label"
   ]
  },
  {
   "cell_type": "markdown",
   "id": "75878fc0",
   "metadata": {},
   "source": [
    "## 시각적으로 확인하기 위해 종가를 scaling 후 비교"
   ]
  },
  {
   "cell_type": "code",
   "execution_count": 245,
   "id": "5b4e6d1c",
   "metadata": {
    "ExecuteTime": {
     "end_time": "2022-10-20T13:58:22.414751Z",
     "start_time": "2022-10-20T13:58:22.409761Z"
    }
   },
   "outputs": [],
   "source": [
    "a = 90\n",
    "LowerThanKospi_1m_label_ = LowerThanKospi_1m_label[a:]\n",
    "# samil_scaled_ = samil_scaled[:a]\n",
    "# kospi_scaled_ = kospi_scaled[:a]"
   ]
  },
  {
   "cell_type": "code",
   "execution_count": 246,
   "id": "dd52a6b7",
   "metadata": {
    "ExecuteTime": {
     "end_time": "2022-10-20T13:58:26.304655Z",
     "start_time": "2022-10-20T13:58:26.285059Z"
    },
    "scrolled": true
   },
   "outputs": [
    {
     "data": {
      "text/html": [
       "<div>\n",
       "<style scoped>\n",
       "    .dataframe tbody tr th:only-of-type {\n",
       "        vertical-align: middle;\n",
       "    }\n",
       "\n",
       "    .dataframe tbody tr th {\n",
       "        vertical-align: top;\n",
       "    }\n",
       "\n",
       "    .dataframe thead th {\n",
       "        text-align: right;\n",
       "    }\n",
       "</style>\n",
       "<table border=\"1\" class=\"dataframe\">\n",
       "  <thead>\n",
       "    <tr style=\"text-align: right;\">\n",
       "      <th></th>\n",
       "      <th>month</th>\n",
       "      <th>Samil_Close</th>\n",
       "      <th>Samil_Change</th>\n",
       "      <th>Kospi_Close</th>\n",
       "      <th>Kospi_Change</th>\n",
       "      <th>label</th>\n",
       "    </tr>\n",
       "  </thead>\n",
       "  <tbody>\n",
       "    <tr>\n",
       "      <th>90</th>\n",
       "      <td>2007-07</td>\n",
       "      <td>0.178160</td>\n",
       "      <td>0.398466</td>\n",
       "      <td>0.503764</td>\n",
       "      <td>0.005048</td>\n",
       "      <td>0.0</td>\n",
       "    </tr>\n",
       "    <tr>\n",
       "      <th>91</th>\n",
       "      <td>2007-08</td>\n",
       "      <td>0.199617</td>\n",
       "      <td>0.609145</td>\n",
       "      <td>0.469996</td>\n",
       "      <td>-0.001091</td>\n",
       "      <td>1.0</td>\n",
       "    </tr>\n",
       "    <tr>\n",
       "      <th>92</th>\n",
       "      <td>2007-09</td>\n",
       "      <td>0.213177</td>\n",
       "      <td>0.355386</td>\n",
       "      <td>0.494011</td>\n",
       "      <td>0.002353</td>\n",
       "      <td>1.0</td>\n",
       "    </tr>\n",
       "    <tr>\n",
       "      <th>93</th>\n",
       "      <td>2007-10</td>\n",
       "      <td>0.190788</td>\n",
       "      <td>0.379101</td>\n",
       "      <td>0.536576</td>\n",
       "      <td>0.002809</td>\n",
       "      <td>0.0</td>\n",
       "    </tr>\n",
       "    <tr>\n",
       "      <th>94</th>\n",
       "      <td>2007-11</td>\n",
       "      <td>0.174014</td>\n",
       "      <td>0.433651</td>\n",
       "      <td>0.507794</td>\n",
       "      <td>-0.003445</td>\n",
       "      <td>0.0</td>\n",
       "    </tr>\n",
       "    <tr>\n",
       "      <th>...</th>\n",
       "      <td>...</td>\n",
       "      <td>...</td>\n",
       "      <td>...</td>\n",
       "      <td>...</td>\n",
       "      <td>...</td>\n",
       "      <td>...</td>\n",
       "    </tr>\n",
       "    <tr>\n",
       "      <th>269</th>\n",
       "      <td>2022-06</td>\n",
       "      <td>0.141677</td>\n",
       "      <td>0.283132</td>\n",
       "      <td>0.704787</td>\n",
       "      <td>-0.006930</td>\n",
       "      <td>0.0</td>\n",
       "    </tr>\n",
       "    <tr>\n",
       "      <th>270</th>\n",
       "      <td>2022-07</td>\n",
       "      <td>0.122400</td>\n",
       "      <td>0.520008</td>\n",
       "      <td>0.665200</td>\n",
       "      <td>0.002419</td>\n",
       "      <td>1.0</td>\n",
       "    </tr>\n",
       "    <tr>\n",
       "      <th>271</th>\n",
       "      <td>2022-08</td>\n",
       "      <td>0.139956</td>\n",
       "      <td>0.425427</td>\n",
       "      <td>0.707168</td>\n",
       "      <td>0.000423</td>\n",
       "      <td>0.0</td>\n",
       "    </tr>\n",
       "    <tr>\n",
       "      <th>272</th>\n",
       "      <td>2022-09</td>\n",
       "      <td>0.113694</td>\n",
       "      <td>0.317581</td>\n",
       "      <td>0.656375</td>\n",
       "      <td>-0.006745</td>\n",
       "      <td>0.0</td>\n",
       "    </tr>\n",
       "    <tr>\n",
       "      <th>273</th>\n",
       "      <td>2022-10</td>\n",
       "      <td>0.095183</td>\n",
       "      <td>0.485028</td>\n",
       "      <td>0.612482</td>\n",
       "      <td>0.004145</td>\n",
       "      <td>0.0</td>\n",
       "    </tr>\n",
       "  </tbody>\n",
       "</table>\n",
       "<p>184 rows × 6 columns</p>\n",
       "</div>"
      ],
      "text/plain": [
       "       month  Samil_Close  Samil_Change  Kospi_Close  Kospi_Change  label\n",
       "90   2007-07     0.178160      0.398466     0.503764      0.005048    0.0\n",
       "91   2007-08     0.199617      0.609145     0.469996     -0.001091    1.0\n",
       "92   2007-09     0.213177      0.355386     0.494011      0.002353    1.0\n",
       "93   2007-10     0.190788      0.379101     0.536576      0.002809    0.0\n",
       "94   2007-11     0.174014      0.433651     0.507794     -0.003445    0.0\n",
       "..       ...          ...           ...          ...           ...    ...\n",
       "269  2022-06     0.141677      0.283132     0.704787     -0.006930    0.0\n",
       "270  2022-07     0.122400      0.520008     0.665200      0.002419    1.0\n",
       "271  2022-08     0.139956      0.425427     0.707168      0.000423    0.0\n",
       "272  2022-09     0.113694      0.317581     0.656375     -0.006745    0.0\n",
       "273  2022-10     0.095183      0.485028     0.612482      0.004145    0.0\n",
       "\n",
       "[184 rows x 6 columns]"
      ]
     },
     "execution_count": 246,
     "metadata": {},
     "output_type": "execute_result"
    }
   ],
   "source": [
    "LowerThanKospi_1m_label_"
   ]
  },
  {
   "cell_type": "code",
   "execution_count": 247,
   "id": "c072b112",
   "metadata": {
    "ExecuteTime": {
     "end_time": "2022-10-20T13:58:30.136459Z",
     "start_time": "2022-10-20T13:58:29.903553Z"
    },
    "scrolled": false
   },
   "outputs": [
    {
     "data": {
      "image/png": "[encoded data removed]",
      "text/plain": [
       "<Figure size 1440x720 with 1 Axes>"
      ]
     },
     "metadata": {
      "needs_background": "light"
     },
     "output_type": "display_data"
    }
   ],
   "source": [
    "# 주가 데이터 그래프\n",
    "\n",
    "data1 = LowerThanKospi_1m_label_\n",
    "\n",
    "plt.figure(figsize=(20, 10))\n",
    "plt.rcParams['font.family'] = 'NanumGothic'\n",
    "\n",
    "# plt.subplot(2, 1, 1)\n",
    "# plt.axhline(y=0, color='black', linewidth=1)\n",
    "ax = sns.lineplot(data=data1, x=\"month\", y='Samil_Close', label='samil_price', color='brown')\n",
    "ax = sns.lineplot(data=data1, x=\"month\", y='Kospi_Close', label='kospi_price', color='blue')\n",
    "ax = sns.scatterplot(data=data1, x=\"month\", y=\"label\", label='↓', color='black')\n",
    "\n",
    "'''\n",
    "plt.subplot(2, 1, 1)\n",
    "plt.figure(figsize=(20, 10))\n",
    "plt.axhline(y=0, color='r', linewidth=1)\n",
    "sns.lineplot(data=data3, x=\"Date\", y='Kospi_Change', label='kospi_change', color='orange')\n",
    "sns.lineplot(data=data3, x='Date', y='CJ_Change', label='cj_change', color='skyBlue')\n",
    "'''\n",
    "\n",
    "total_len = len(data1.index)\n",
    "ax.set_xticks(np.arange(0, total_len + 1, 15))\n",
    "\n",
    "plt.show()"
   ]
  },
  {
   "cell_type": "code",
   "execution_count": null,
   "id": "2e5c2138",
   "metadata": {},
   "outputs": [],
   "source": [
    "# 그래프 완곡하게\n",
    "# 추세선 느낌"
   ]
  },
  {
   "cell_type": "markdown",
   "id": "98746d67",
   "metadata": {},
   "source": [
    "## 추출하기 위한 label 수정"
   ]
  },
  {
   "cell_type": "code",
   "execution_count": null,
   "id": "d4b615a4",
   "metadata": {
    "ExecuteTime": {
     "end_time": "2022-10-19T03:47:13.727354Z",
     "start_time": "2022-10-19T03:47:13.724091Z"
    }
   },
   "outputs": [],
   "source": [
    "cj_scaled.Close"
   ]
  },
  {
   "cell_type": "code",
   "execution_count": null,
   "id": "a2796977",
   "metadata": {
    "ExecuteTime": {
     "end_time": "2022-10-19T03:48:25.263139Z",
     "start_time": "2022-10-19T03:48:25.242011Z"
    }
   },
   "outputs": [],
   "source": [
    "close_merge = pd.merge(kospi_scaled, cj_scaled, on='Date')\n",
    "# close_merge.columns = ['Kospi_Close', 'CJ_Close']\n",
    "close_merge = close_merge.drop(['Open_x','High_x','Low_x','Volume_x','Open_y','High_y','Low_y','Volume_y','Change_x','Change_y'], axis=1)\n",
    "close_merge.columns = ['Date','Kospi_Close', 'CJ_Close']\n",
    "close_merge\n"
   ]
  },
  {
   "cell_type": "code",
   "execution_count": null,
   "id": "dd4ac428",
   "metadata": {
    "ExecuteTime": {
     "end_time": "2022-10-19T03:48:27.949333Z",
     "start_time": "2022-10-19T03:48:27.930015Z"
    }
   },
   "outputs": [],
   "source": [
    "LowerThanKospi_3m_label.label = LowerThanKospi_3m_label.label.replace(0, 0)\n",
    "LowerThanKospi_3m_label.label = LowerThanKospi_3m_label.label.replace(0.2, 1)\n",
    "LowerThanKospi_3m_label.label = LowerThanKospi_3m_label.label.astype(int)\n",
    "LowerThanKospi_3m_label"
   ]
  },
  {
   "cell_type": "code",
   "execution_count": null,
   "id": "fbf9cee7",
   "metadata": {
    "ExecuteTime": {
     "end_time": "2022-10-19T03:48:30.128622Z",
     "start_time": "2022-10-19T03:48:30.103712Z"
    }
   },
   "outputs": [],
   "source": [
    "final_cj = pd.merge(LowerThanKospi_3m_label, close_merge)\n",
    "final_cj"
   ]
  },
  {
   "cell_type": "code",
   "execution_count": null,
   "id": "b51af9b8",
   "metadata": {
    "ExecuteTime": {
     "end_time": "2022-10-19T03:48:35.679466Z",
     "start_time": "2022-10-19T03:48:35.658600Z"
    }
   },
   "outputs": [],
   "source": [
    "# 컬럼 위치 정리\n",
    "\n",
    "final_cj = final_cj[['Date','Kospi_Close','Kospi_Change', 'CJ_Close', 'CJ_Change', 'label']]\n",
    "final_cj"
   ]
  },
  {
   "cell_type": "code",
   "execution_count": null,
   "id": "8be11d4e",
   "metadata": {
    "ExecuteTime": {
     "end_time": "2022-10-19T03:49:15.740603Z",
     "start_time": "2022-10-19T03:49:15.685677Z"
    }
   },
   "outputs": [],
   "source": [
    "pd.to_csv('final_cj.csv')"
   ]
  },
  {
   "cell_type": "code",
   "execution_count": null,
   "id": "b7f0ed5f",
   "metadata": {
    "ExecuteTime": {
     "end_time": "2022-10-18T05:34:36.712868Z",
     "start_time": "2022-10-18T05:34:36.432946Z"
    }
   },
   "outputs": [],
   "source": [
    "kospi_scaled = pd.DataFrame(kospi_scaled, columns=kospi.columns, index=list(kospi.index.values)).reset_index()\n",
    "kospi_scaled"
   ]
  },
  {
   "cell_type": "code",
   "execution_count": null,
   "id": "65847d6c",
   "metadata": {
    "ExecuteTime": {
     "end_time": "2022-10-18T05:33:41.203978Z",
     "start_time": "2022-10-18T05:33:41.198911Z"
    }
   },
   "outputs": [],
   "source": [
    "kospi_scaled.rename(columns={'index':'date'}, inplace=True)"
   ]
  },
  {
   "cell_type": "code",
   "execution_count": null,
   "id": "a68114cf",
   "metadata": {
    "ExecuteTime": {
     "end_time": "2022-10-18T05:33:38.403400Z",
     "start_time": "2022-10-18T05:33:38.382453Z"
    }
   },
   "outputs": [],
   "source": [
    "kospi_scaled"
   ]
  },
  {
   "cell_type": "code",
   "execution_count": null,
   "id": "5367e628",
   "metadata": {
    "ExecuteTime": {
     "end_time": "2022-10-18T05:33:34.336168Z",
     "start_time": "2022-10-18T05:33:34.250415Z"
    }
   },
   "outputs": [],
   "source": [
    "kospi_scaled.Close.plot()"
   ]
  },
  {
   "cell_type": "code",
   "execution_count": null,
   "id": "436c54d8",
   "metadata": {
    "ExecuteTime": {
     "end_time": "2022-10-18T04:13:52.067555Z",
     "start_time": "2022-10-18T04:13:52.058530Z"
    }
   },
   "outputs": [],
   "source": [
    "cj_scaled = pd.DataFrame(cj_scaled, columns=cj.columns, index=list(cj.index.values)).reset_index()\n",
    "cj_scaled"
   ]
  },
  {
   "cell_type": "code",
   "execution_count": null,
   "id": "f4189e70",
   "metadata": {
    "ExecuteTime": {
     "end_time": "2022-10-18T04:13:52.070923Z",
     "start_time": "2022-10-18T04:13:52.068639Z"
    }
   },
   "outputs": [],
   "source": [
    "cj_scaled.rename(columns={'index':'date'}, inplace=True)"
   ]
  },
  {
   "cell_type": "code",
   "execution_count": null,
   "id": "caa365c1",
   "metadata": {
    "ExecuteTime": {
     "end_time": "2022-10-18T04:13:52.117012Z",
     "start_time": "2022-10-18T04:13:52.071827Z"
    }
   },
   "outputs": [],
   "source": [
    "cj_scaled.Close.plot()"
   ]
  },
  {
   "cell_type": "code",
   "execution_count": null,
   "id": "041f335e",
   "metadata": {
    "ExecuteTime": {
     "end_time": "2022-10-18T05:32:42.562552Z",
     "start_time": "2022-10-18T05:32:42.547620Z"
    }
   },
   "outputs": [],
   "source": [
    "cj_scaled[:10]"
   ]
  },
  {
   "cell_type": "code",
   "execution_count": null,
   "id": "b90e97f8",
   "metadata": {
    "ExecuteTime": {
     "end_time": "2022-10-18T05:32:36.545284Z",
     "start_time": "2022-10-18T05:32:36.464776Z"
    }
   },
   "outputs": [],
   "source": [
    "cj_scaled[:10].Change.plot()"
   ]
  },
  {
   "cell_type": "code",
   "execution_count": null,
   "id": "538436fe",
   "metadata": {
    "ExecuteTime": {
     "end_time": "2022-10-18T04:22:39.665916Z",
     "start_time": "2022-10-18T04:22:39.660448Z"
    }
   },
   "outputs": [],
   "source": [
    "# CJ에 없는 값 index 확인\n",
    "'''\n",
    "not_contain = pd.concat([kospi_scaled['date'], cj_scaled['date'], cj_scaled['date']]).drop_duplicates(keep=False)\n",
    "not_contain\n",
    "\n",
    "kospi_scaled['date'].str.contains('2003-09-23')\n",
    "\n",
    "kospi_scaled = kospi_scaled.drop(index=[909, 1170, 1200, 3464], axis=0).reset_index()\n",
    "kospi_scaled = kospi_scaled.drop(columns=['index'])\n",
    "# kospi_scaled = kospi_scaled.drop(columns=['level_0'])\n",
    "kospi_scaled\n",
    "'''"
   ]
  },
  {
   "cell_type": "code",
   "execution_count": null,
   "id": "9f1c8400",
   "metadata": {
    "ExecuteTime": {
     "end_time": "2022-10-18T05:25:33.549432Z",
     "start_time": "2022-10-18T05:25:33.361723Z"
    }
   },
   "outputs": [],
   "source": [
    "# 주가 데이터 그래프\n",
    "\n",
    "plt.figure(figsize=(20, 10))\n",
    "plt.rcParams['font.family'] = 'AppleGothic'\n",
    "# plt.rcParams['font.size'] = 23\n",
    "# plt.rcParams['figure.figsize'] = (13, 8) # figsize 고정\n",
    "sns.lineplot(data=kospi_scaled, x=\"date\", y=\"Close\", label='kospi_scale', color='skyblue')\n",
    "sns.lineplot(data=cj_scaled, x='date', y='Close', label='cj_scale', color='Blue')\n",
    "\n",
    "plt.show()"
   ]
  },
  {
   "cell_type": "code",
   "execution_count": null,
   "id": "40283929",
   "metadata": {
    "ExecuteTime": {
     "end_time": "2022-10-18T05:27:30.648136Z",
     "start_time": "2022-10-18T05:27:30.533084Z"
    }
   },
   "outputs": [],
   "source": [
    "plt.figure(figsize=(20, 10))\n",
    "plt.rcParams['font.family'] = 'AppleGothic'\n",
    "cj_scaled.iloc[:10].Change.plot()\n",
    "kospi_scaled.iloc[:10].Change.plot()"
   ]
  },
  {
   "cell_type": "markdown",
   "id": "94ebd3b3",
   "metadata": {},
   "source": [
    "그러니까 scaling 후 두 값을 단순히 비교하는 것이 아닌 스케일링 값에서 3개월치의 변화량을 각자 구한후 변화량을 비교해야 맞을 듯\n",
    "</br> 근데 생각해보니까 지수와 가격을 비교하는 것 이니까 각자 스케일링해서 비교해봐도 합당해 보이네.."
   ]
  },
  {
   "cell_type": "markdown",
   "id": "922e996b",
   "metadata": {},
   "source": [
    "### 일자별 변화율 구하기"
   ]
  },
  {
   "cell_type": "code",
   "execution_count": null,
   "id": "f67e70fd",
   "metadata": {
    "ExecuteTime": {
     "end_time": "2022-10-18T05:31:45.457376Z",
     "start_time": "2022-10-18T05:31:45.433648Z"
    }
   },
   "outputs": [],
   "source": [
    "df = pd.merge(cj_scaled, kospi_scaled, on='date', how='left')\n",
    "df = df.drop(['Open_x','High_x','Low_x','Close_x','Volume_x','Close_y','Open_y','High_y','Low_y','Volume_y'], axis=1)\n",
    "df.rename(columns={'Change_x':'CJ_Change','Change_y':'Kospi_Change'},inplace=True)\n",
    "df"
   ]
  },
  {
   "cell_type": "code",
   "execution_count": null,
   "id": "3bcfc079",
   "metadata": {
    "ExecuteTime": {
     "end_time": "2022-10-18T05:31:43.051279Z",
     "start_time": "2022-10-18T05:31:43.038568Z"
    }
   },
   "outputs": [],
   "source": [
    "LowerThanKospi_1day = df[(df['Kospi_Change'] < 0) & (df['Kospi_Change'] > df['CJ_Change'])]\n",
    "# LowerThanKospi_1day['LowerThanKospi_1day'] = -1\n",
    "# LowerThanKospi_1day.drop(columns=['CJ_Close','Kospi_Close','CJ_Rate','Kospi_Rate'], axis=0, inplace=True)\n",
    "LowerThanKospi_1day"
   ]
  },
  {
   "cell_type": "code",
   "execution_count": null,
   "id": "c3b34c67",
   "metadata": {
    "ExecuteTime": {
     "end_time": "2022-10-18T04:32:43.798567Z",
     "start_time": "2022-10-18T04:32:43.621606Z"
    },
    "scrolled": true
   },
   "outputs": [],
   "source": [
    "cj_rate = []\n",
    "kospi_rate = []\n",
    "\n",
    "for i in range(5622):\n",
    "    cj_rate.append((df.CJ_Close[i+1]-df.CJ_Close[i])/df.CJ_Close[i] * 100)\n",
    "    kospi_rate.append((df.Kospi_Close[i+1]-df.Kospi_Close[i])/df.Kospi_Close[i] * 100)\n",
    "    "
   ]
  },
  {
   "cell_type": "code",
   "execution_count": null,
   "id": "d71607f9",
   "metadata": {
    "ExecuteTime": {
     "end_time": "2022-10-18T04:32:45.889085Z",
     "start_time": "2022-10-18T04:32:45.870548Z"
    }
   },
   "outputs": [],
   "source": [
    "cj_rate.insert(0, 0)\n",
    "cj_rate"
   ]
  },
  {
   "cell_type": "code",
   "execution_count": null,
   "id": "b21b3999",
   "metadata": {
    "ExecuteTime": {
     "end_time": "2022-10-18T04:32:47.914100Z",
     "start_time": "2022-10-18T04:32:47.892616Z"
    }
   },
   "outputs": [],
   "source": [
    "kospi_rate.insert(0, 0)\n",
    "kospi_rate"
   ]
  },
  {
   "cell_type": "code",
   "execution_count": null,
   "id": "9aa6552f",
   "metadata": {
    "ExecuteTime": {
     "end_time": "2022-10-18T04:33:03.641058Z",
     "start_time": "2022-10-18T04:33:03.636694Z"
    }
   },
   "outputs": [],
   "source": [
    "len(cj_rate)"
   ]
  },
  {
   "cell_type": "code",
   "execution_count": null,
   "id": "52527e53",
   "metadata": {
    "ExecuteTime": {
     "end_time": "2022-10-18T05:10:09.395751Z",
     "start_time": "2022-10-18T05:10:09.377936Z"
    }
   },
   "outputs": [],
   "source": [
    "df_ratio = pd.DataFrame({'date':df['date'],\n",
    "                         'CJ_Rate':cj_rate,\n",
    "                         'Kospi_Rate':kospi_rate,\n",
    "                        })\n",
    "df_ratio"
   ]
  },
  {
   "cell_type": "code",
   "execution_count": null,
   "id": "51a3a92d",
   "metadata": {
    "ExecuteTime": {
     "end_time": "2022-10-18T05:10:10.566878Z",
     "start_time": "2022-10-18T05:10:10.548199Z"
    }
   },
   "outputs": [],
   "source": [
    "df = pd.merge(df, df_ratio, on='date', how='left')\n",
    "# kospi_loww = kospi_loww.fillna(0)\n",
    "# kospi_loww.day_low = kospi_loww.day_low.replace(-1, -10)\n",
    "df"
   ]
  },
  {
   "cell_type": "code",
   "execution_count": null,
   "id": "a309c5ab",
   "metadata": {
    "ExecuteTime": {
     "end_time": "2022-10-18T05:10:11.969813Z",
     "start_time": "2022-10-18T05:10:11.948670Z"
    },
    "scrolled": false
   },
   "outputs": [],
   "source": [
    "LowerThanKospi_1day = df[(df['Kospi_Rate'] < 0) & (df['Kospi_Rate'] > df['CJ_Rate'])]\n",
    "LowerThanKospi_1day['LowerThanKospi_1day'] = -1\n",
    "LowerThanKospi_1day.drop(columns=['CJ_Close','Kospi_Close','CJ_Rate','Kospi_Rate'], axis=0, inplace=True)\n",
    "LowerThanKospi_1day"
   ]
  },
  {
   "cell_type": "code",
   "execution_count": null,
   "id": "66c4b1f8",
   "metadata": {
    "ExecuteTime": {
     "end_time": "2022-10-18T05:10:13.204665Z",
     "start_time": "2022-10-18T05:10:13.179085Z"
    }
   },
   "outputs": [],
   "source": [
    "LowerThanKospi_1day = pd.merge(df, LowerThanKospi_1day, on='date', how='outer')\n",
    "LowerThanKospi_1day = LowerThanKospi_1day.fillna(0)"
   ]
  },
  {
   "cell_type": "code",
   "execution_count": null,
   "id": "953abf1d",
   "metadata": {
    "ExecuteTime": {
     "end_time": "2022-10-18T05:19:01.010326Z",
     "start_time": "2022-10-18T05:19:00.984993Z"
    },
    "scrolled": true
   },
   "outputs": [],
   "source": [
    "LowerThanKospi_1day['LowerThanKospi_1day'] =  LowerThanKospi_1day['LowerThanKospi_1day'].replace(-0.5, -0.1)\n",
    "LowerThanKospi_1day"
   ]
  },
  {
   "cell_type": "code",
   "execution_count": null,
   "id": "7b950331",
   "metadata": {
    "ExecuteTime": {
     "end_time": "2022-10-18T05:18:42.229977Z",
     "start_time": "2022-10-18T05:18:42.217408Z"
    }
   },
   "outputs": [],
   "source": [
    "LowerThanKospi_1day.info()"
   ]
  },
  {
   "cell_type": "code",
   "execution_count": null,
   "id": "39b8c880",
   "metadata": {
    "ExecuteTime": {
     "end_time": "2022-10-18T05:18:42.481093Z",
     "start_time": "2022-10-18T05:18:42.474488Z"
    }
   },
   "outputs": [],
   "source": [
    "1007/5623 *100"
   ]
  },
  {
   "cell_type": "code",
   "execution_count": null,
   "id": "3128288a",
   "metadata": {
    "ExecuteTime": {
     "end_time": "2022-10-18T05:19:23.657062Z",
     "start_time": "2022-10-18T05:19:23.653667Z"
    }
   },
   "outputs": [],
   "source": [
    "LowerThanKospi_1day = LowerThanKospi_1day[:100]"
   ]
  },
  {
   "cell_type": "code",
   "execution_count": null,
   "id": "4918132a",
   "metadata": {
    "ExecuteTime": {
     "end_time": "2022-10-18T05:19:23.876974Z",
     "start_time": "2022-10-18T05:19:23.843879Z"
    },
    "scrolled": true
   },
   "outputs": [],
   "source": [
    "LowerThanKospi_1day"
   ]
  },
  {
   "cell_type": "code",
   "execution_count": null,
   "id": "ec251d8e",
   "metadata": {
    "ExecuteTime": {
     "end_time": "2022-10-18T05:20:55.318034Z",
     "start_time": "2022-10-18T05:20:55.171549Z"
    },
    "scrolled": false
   },
   "outputs": [],
   "source": [
    "# cj 대한통운 가격과 kospi 지수 변동율 그래프\n",
    "\n",
    "plt.figure(figsize=(20, 10))\n",
    "# plt.ylim([-0.5, 0.5]) \n",
    "plt.rcParams['font.family'] = 'AppleGothic'\n",
    "ax = sns.lineplot(data=LowerThanKospi_1day, x=\"date\", y=\"Kospi_Close\", label='Kospi_Close', color='blue')\n",
    "ax = sns.lineplot(data=LowerThanKospi_1day, x=\"date\", y=\"CJ_Close\", label='CJ_Close', color='orange')\n",
    "ax = sns.lineplot(data=LowerThanKospi_1day, x=\"date\", y=\"LowerThanKospi_1day\", label='↓', color='black')\n",
    "# ax = sns.scatterplot(data=LowerThanKospi_1day, x=\"date\", y=\"LowerThanKospi_1day\", label='↓', color='black')\n",
    "\n",
    "ax.set_xlabel('Date')\n",
    "ax.set_ylabel('Rate')\n",
    "\n",
    "plt.show()"
   ]
  },
  {
   "cell_type": "code",
   "execution_count": null,
   "id": "1a04e72c",
   "metadata": {},
   "outputs": [],
   "source": []
  },
  {
   "cell_type": "code",
   "execution_count": null,
   "id": "425669c8",
   "metadata": {},
   "outputs": [],
   "source": []
  }
 ],
 "metadata": {
  "kernelspec": {
   "display_name": "Python 3 (ipykernel)",
   "language": "python",
   "name": "python3"
  },
  "language_info": {
   "codemirror_mode": {
    "name": "ipython",
    "version": 3
   },
   "file_extension": ".py",
   "mimetype": "text/x-python",
   "name": "python",
   "nbconvert_exporter": "python",
   "pygments_lexer": "ipython3",
   "version": "3.8.13"
  },
  "toc": {
   "base_numbering": 1,
   "nav_menu": {},
   "number_sections": false,
   "sideBar": true,
   "skip_h1_title": false,
   "title_cell": "Table of Contents",
   "title_sidebar": "Contents",
   "toc_cell": false,
   "toc_position": {},
   "toc_section_display": true,
   "toc_window_display": false
  }
 },
 "nbformat": 4,
 "nbformat_minor": 5
}
