{
 "cells": [
  {
   "cell_type": "code",
   "execution_count": 1,
   "id": "fb608db6",
   "metadata": {
    "ExecuteTime": {
     "end_time": "2022-10-19T06:57:22.732303Z",
     "start_time": "2022-10-19T06:57:21.911708Z"
    }
   },
   "outputs": [
    {
     "name": "stdout",
     "output_type": "stream",
     "text": [
      "Requirement already satisfied: finance-datareader in /Users/lhs/miniforge3/envs/lhs/lib/python3.8/site-packages (0.9.42)\n",
      "Requirement already satisfied: tqdm in /Users/lhs/miniforge3/envs/lhs/lib/python3.8/site-packages (from finance-datareader) (4.64.0)\n",
      "Requirement already satisfied: pandas>=0.19.2 in /Users/lhs/miniforge3/envs/lhs/lib/python3.8/site-packages (from finance-datareader) (1.4.3)\n",
      "Requirement already satisfied: requests>=2.3.0 in /Users/lhs/miniforge3/envs/lhs/lib/python3.8/site-packages (from finance-datareader) (2.28.1)\n",
      "Requirement already satisfied: requests-file in /Users/lhs/miniforge3/envs/lhs/lib/python3.8/site-packages (from finance-datareader) (1.5.1)\n",
      "Requirement already satisfied: lxml in /Users/lhs/miniforge3/envs/lhs/lib/python3.8/site-packages (from finance-datareader) (4.9.1)\n",
      "Requirement already satisfied: python-dateutil>=2.8.1 in /Users/lhs/miniforge3/envs/lhs/lib/python3.8/site-packages (from pandas>=0.19.2->finance-datareader) (2.8.2)\n",
      "Requirement already satisfied: pytz>=2020.1 in /Users/lhs/miniforge3/envs/lhs/lib/python3.8/site-packages (from pandas>=0.19.2->finance-datareader) (2022.1)\n",
      "Requirement already satisfied: numpy>=1.20.0 in /Users/lhs/miniforge3/envs/lhs/lib/python3.8/site-packages (from pandas>=0.19.2->finance-datareader) (1.23.1)\n",
      "Requirement already satisfied: urllib3<1.27,>=1.21.1 in /Users/lhs/miniforge3/envs/lhs/lib/python3.8/site-packages (from requests>=2.3.0->finance-datareader) (1.26.11)\n",
      "Requirement already satisfied: certifi>=2017.4.17 in /Users/lhs/miniforge3/envs/lhs/lib/python3.8/site-packages (from requests>=2.3.0->finance-datareader) (2022.9.24)\n",
      "Requirement already satisfied: charset-normalizer<3,>=2 in /Users/lhs/miniforge3/envs/lhs/lib/python3.8/site-packages (from requests>=2.3.0->finance-datareader) (2.1.0)\n",
      "Requirement already satisfied: idna<4,>=2.5 in /Users/lhs/miniforge3/envs/lhs/lib/python3.8/site-packages (from requests>=2.3.0->finance-datareader) (3.3)\n",
      "Requirement already satisfied: six in /Users/lhs/miniforge3/envs/lhs/lib/python3.8/site-packages (from requests-file->finance-datareader) (1.16.0)\n"
     ]
    }
   ],
   "source": [
    "!pip install -U finance-datareader"
   ]
  },
  {
   "cell_type": "code",
   "execution_count": 2,
   "id": "a3b0479c",
   "metadata": {
    "ExecuteTime": {
     "end_time": "2022-10-19T06:57:23.419255Z",
     "start_time": "2022-10-19T06:57:22.734872Z"
    }
   },
   "outputs": [],
   "source": [
    "import FinanceDataReader as fdr\n",
    "\n",
    "import matplotlib.pyplot as plt\n",
    "import seaborn as sns\n",
    "import pandas as pd\n",
    "\n",
    "import warnings\n",
    "warnings.filterwarnings('ignore')\n",
    "\n",
    "from datetime import datetime"
   ]
  },
  {
   "cell_type": "code",
   "execution_count": 3,
   "id": "5b469b43",
   "metadata": {
    "ExecuteTime": {
     "end_time": "2022-10-19T06:57:29.240445Z",
     "start_time": "2022-10-19T06:57:23.420070Z"
    }
   },
   "outputs": [],
   "source": [
    "df_krx = fdr.StockListing('KRX')"
   ]
  },
  {
   "cell_type": "code",
   "execution_count": 4,
   "id": "db0abd45",
   "metadata": {
    "ExecuteTime": {
     "end_time": "2022-10-19T06:57:29.252755Z",
     "start_time": "2022-10-19T06:57:29.241997Z"
    }
   },
   "outputs": [
    {
     "data": {
      "text/html": [
       "<div>\n",
       "<style scoped>\n",
       "    .dataframe tbody tr th:only-of-type {\n",
       "        vertical-align: middle;\n",
       "    }\n",
       "\n",
       "    .dataframe tbody tr th {\n",
       "        vertical-align: top;\n",
       "    }\n",
       "\n",
       "    .dataframe thead th {\n",
       "        text-align: right;\n",
       "    }\n",
       "</style>\n",
       "<table border=\"1\" class=\"dataframe\">\n",
       "  <thead>\n",
       "    <tr style=\"text-align: right;\">\n",
       "      <th></th>\n",
       "      <th>Symbol</th>\n",
       "      <th>Market</th>\n",
       "      <th>Name</th>\n",
       "      <th>Sector</th>\n",
       "      <th>Industry</th>\n",
       "      <th>ListingDate</th>\n",
       "      <th>SettleMonth</th>\n",
       "      <th>Representative</th>\n",
       "      <th>HomePage</th>\n",
       "      <th>Region</th>\n",
       "    </tr>\n",
       "  </thead>\n",
       "  <tbody>\n",
       "    <tr>\n",
       "      <th>3868</th>\n",
       "      <td>032280</td>\n",
       "      <td>KOSDAQ</td>\n",
       "      <td>삼일</td>\n",
       "      <td>도로 화물 운송업</td>\n",
       "      <td>운송 및 하역수입</td>\n",
       "      <td>1997-03-15</td>\n",
       "      <td>12월</td>\n",
       "      <td>강승엽,안인수(각자대표)</td>\n",
       "      <td>http://www.samil31.co.kr</td>\n",
       "      <td>경상북도</td>\n",
       "    </tr>\n",
       "    <tr>\n",
       "      <th>3869</th>\n",
       "      <td>002290</td>\n",
       "      <td>KOSDAQ</td>\n",
       "      <td>삼일기업공사</td>\n",
       "      <td>건물 건설업</td>\n",
       "      <td>도급공사</td>\n",
       "      <td>1992-11-30</td>\n",
       "      <td>12월</td>\n",
       "      <td>박종웅</td>\n",
       "      <td>http://www.samilenter.com</td>\n",
       "      <td>서울특별시</td>\n",
       "    </tr>\n",
       "    <tr>\n",
       "      <th>3870</th>\n",
       "      <td>004440</td>\n",
       "      <td>KOSPI</td>\n",
       "      <td>삼일씨엔에스</td>\n",
       "      <td>시멘트, 석회, 플라스터 및 그 제품 제조업</td>\n",
       "      <td>PHC파일, 골재, 강교제작</td>\n",
       "      <td>2016-03-30</td>\n",
       "      <td>12월</td>\n",
       "      <td>강흥구</td>\n",
       "      <td>http://www.esamilcns.com</td>\n",
       "      <td>서울특별시</td>\n",
       "    </tr>\n",
       "    <tr>\n",
       "      <th>3871</th>\n",
       "      <td>000520</td>\n",
       "      <td>KOSPI</td>\n",
       "      <td>삼일제약</td>\n",
       "      <td>의약품 제조업</td>\n",
       "      <td>양약(부루펜,액티피드,포리부틴) 제조,도매</td>\n",
       "      <td>1985-05-29</td>\n",
       "      <td>12월</td>\n",
       "      <td>허승범, 김상진 (각자 대표이사)</td>\n",
       "      <td>http://www.samil-pharm.com</td>\n",
       "      <td>서울특별시</td>\n",
       "    </tr>\n",
       "  </tbody>\n",
       "</table>\n",
       "</div>"
      ],
      "text/plain": [
       "      Symbol  Market    Name                    Sector  \\\n",
       "3868  032280  KOSDAQ      삼일                 도로 화물 운송업   \n",
       "3869  002290  KOSDAQ  삼일기업공사                    건물 건설업   \n",
       "3870  004440   KOSPI  삼일씨엔에스  시멘트, 석회, 플라스터 및 그 제품 제조업   \n",
       "3871  000520   KOSPI    삼일제약                   의약품 제조업   \n",
       "\n",
       "                     Industry ListingDate SettleMonth      Representative  \\\n",
       "3868                운송 및 하역수입  1997-03-15         12월       강승엽,안인수(각자대표)   \n",
       "3869                     도급공사  1992-11-30         12월                 박종웅   \n",
       "3870          PHC파일, 골재, 강교제작  2016-03-30         12월                 강흥구   \n",
       "3871  양약(부루펜,액티피드,포리부틴) 제조,도매  1985-05-29         12월  허승범, 김상진 (각자 대표이사)   \n",
       "\n",
       "                        HomePage Region  \n",
       "3868    http://www.samil31.co.kr   경상북도  \n",
       "3869   http://www.samilenter.com  서울특별시  \n",
       "3870    http://www.esamilcns.com  서울특별시  \n",
       "3871  http://www.samil-pharm.com  서울특별시  "
      ]
     },
     "execution_count": 4,
     "metadata": {},
     "output_type": "execute_result"
    }
   ],
   "source": [
    "df_krx[df_krx['Name'].str.contains('삼일')]"
   ]
  },
  {
   "cell_type": "code",
   "execution_count": 5,
   "id": "b568f69c",
   "metadata": {
    "ExecuteTime": {
     "end_time": "2022-10-19T06:57:29.343948Z",
     "start_time": "2022-10-19T06:57:29.253609Z"
    },
    "scrolled": false
   },
   "outputs": [
    {
     "data": {
      "text/html": [
       "<div>\n",
       "<style scoped>\n",
       "    .dataframe tbody tr th:only-of-type {\n",
       "        vertical-align: middle;\n",
       "    }\n",
       "\n",
       "    .dataframe tbody tr th {\n",
       "        vertical-align: top;\n",
       "    }\n",
       "\n",
       "    .dataframe thead th {\n",
       "        text-align: right;\n",
       "    }\n",
       "</style>\n",
       "<table border=\"1\" class=\"dataframe\">\n",
       "  <thead>\n",
       "    <tr style=\"text-align: right;\">\n",
       "      <th></th>\n",
       "      <th>Date</th>\n",
       "      <th>Open</th>\n",
       "      <th>High</th>\n",
       "      <th>Low</th>\n",
       "      <th>Close</th>\n",
       "      <th>Volume</th>\n",
       "      <th>Change</th>\n",
       "    </tr>\n",
       "  </thead>\n",
       "  <tbody>\n",
       "    <tr>\n",
       "      <th>0</th>\n",
       "      <td>2000-01-04</td>\n",
       "      <td>2500</td>\n",
       "      <td>2800</td>\n",
       "      <td>2500</td>\n",
       "      <td>2800</td>\n",
       "      <td>20</td>\n",
       "      <td>0.120000</td>\n",
       "    </tr>\n",
       "    <tr>\n",
       "      <th>1</th>\n",
       "      <td>2000-01-05</td>\n",
       "      <td>2500</td>\n",
       "      <td>3130</td>\n",
       "      <td>2500</td>\n",
       "      <td>2500</td>\n",
       "      <td>2660</td>\n",
       "      <td>-0.107143</td>\n",
       "    </tr>\n",
       "    <tr>\n",
       "      <th>2</th>\n",
       "      <td>2000-01-06</td>\n",
       "      <td>2220</td>\n",
       "      <td>2780</td>\n",
       "      <td>2220</td>\n",
       "      <td>2560</td>\n",
       "      <td>205</td>\n",
       "      <td>0.024000</td>\n",
       "    </tr>\n",
       "    <tr>\n",
       "      <th>3</th>\n",
       "      <td>2000-01-07</td>\n",
       "      <td>2600</td>\n",
       "      <td>2600</td>\n",
       "      <td>2600</td>\n",
       "      <td>2600</td>\n",
       "      <td>1000</td>\n",
       "      <td>0.015625</td>\n",
       "    </tr>\n",
       "    <tr>\n",
       "      <th>4</th>\n",
       "      <td>2000-01-10</td>\n",
       "      <td>2600</td>\n",
       "      <td>2600</td>\n",
       "      <td>2600</td>\n",
       "      <td>2600</td>\n",
       "      <td>500</td>\n",
       "      <td>0.000000</td>\n",
       "    </tr>\n",
       "    <tr>\n",
       "      <th>...</th>\n",
       "      <td>...</td>\n",
       "      <td>...</td>\n",
       "      <td>...</td>\n",
       "      <td>...</td>\n",
       "      <td>...</td>\n",
       "      <td>...</td>\n",
       "      <td>...</td>\n",
       "    </tr>\n",
       "    <tr>\n",
       "      <th>5622</th>\n",
       "      <td>2022-10-13</td>\n",
       "      <td>1805</td>\n",
       "      <td>1810</td>\n",
       "      <td>1710</td>\n",
       "      <td>1720</td>\n",
       "      <td>98341</td>\n",
       "      <td>-0.054945</td>\n",
       "    </tr>\n",
       "    <tr>\n",
       "      <th>5623</th>\n",
       "      <td>2022-10-14</td>\n",
       "      <td>1720</td>\n",
       "      <td>1860</td>\n",
       "      <td>1720</td>\n",
       "      <td>1855</td>\n",
       "      <td>146414</td>\n",
       "      <td>0.078488</td>\n",
       "    </tr>\n",
       "    <tr>\n",
       "      <th>5624</th>\n",
       "      <td>2022-10-17</td>\n",
       "      <td>1855</td>\n",
       "      <td>1925</td>\n",
       "      <td>1855</td>\n",
       "      <td>1895</td>\n",
       "      <td>54879</td>\n",
       "      <td>0.021563</td>\n",
       "    </tr>\n",
       "    <tr>\n",
       "      <th>5625</th>\n",
       "      <td>2022-10-18</td>\n",
       "      <td>1915</td>\n",
       "      <td>1960</td>\n",
       "      <td>1915</td>\n",
       "      <td>1955</td>\n",
       "      <td>57877</td>\n",
       "      <td>0.031662</td>\n",
       "    </tr>\n",
       "    <tr>\n",
       "      <th>5626</th>\n",
       "      <td>2022-10-19</td>\n",
       "      <td>1960</td>\n",
       "      <td>2000</td>\n",
       "      <td>1945</td>\n",
       "      <td>1965</td>\n",
       "      <td>46040</td>\n",
       "      <td>0.005115</td>\n",
       "    </tr>\n",
       "  </tbody>\n",
       "</table>\n",
       "<p>5627 rows × 7 columns</p>\n",
       "</div>"
      ],
      "text/plain": [
       "           Date  Open  High   Low  Close  Volume    Change\n",
       "0    2000-01-04  2500  2800  2500   2800      20  0.120000\n",
       "1    2000-01-05  2500  3130  2500   2500    2660 -0.107143\n",
       "2    2000-01-06  2220  2780  2220   2560     205  0.024000\n",
       "3    2000-01-07  2600  2600  2600   2600    1000  0.015625\n",
       "4    2000-01-10  2600  2600  2600   2600     500  0.000000\n",
       "...         ...   ...   ...   ...    ...     ...       ...\n",
       "5622 2022-10-13  1805  1810  1710   1720   98341 -0.054945\n",
       "5623 2022-10-14  1720  1860  1720   1855  146414  0.078488\n",
       "5624 2022-10-17  1855  1925  1855   1895   54879  0.021563\n",
       "5625 2022-10-18  1915  1960  1915   1955   57877  0.031662\n",
       "5626 2022-10-19  1960  2000  1945   1965   46040  0.005115\n",
       "\n",
       "[5627 rows x 7 columns]"
      ]
     },
     "execution_count": 5,
     "metadata": {},
     "output_type": "execute_result"
    }
   ],
   "source": [
    "samil = fdr.DataReader(symbol='032280', start='2000-01-01')\n",
    "samil = samil.reset_index()\n",
    "samil"
   ]
  },
  {
   "cell_type": "code",
   "execution_count": 6,
   "id": "bbf0e225",
   "metadata": {
    "ExecuteTime": {
     "end_time": "2022-10-19T06:57:29.348300Z",
     "start_time": "2022-10-19T06:57:29.344888Z"
    }
   },
   "outputs": [],
   "source": [
    "# 월별 날짜로 만들기\n",
    "\n",
    "def to_month(data):\n",
    "    data['month'] = data['Date']\n",
    "    \n",
    "    for i in range(len(data)):\n",
    "        year = str(data.Date[i].year)\n",
    "        month = str(data.Date[i].month)\n",
    "        date = year + '-' + month\n",
    "        data['month'][i] = datetime.strptime(str(date), '%Y-%m').date()\n",
    "        \n",
    "    data = data.drop(columns=['Date','Open','High','Low','Volume'])\n",
    "    \n",
    "    # df column 위치 조절\n",
    "    data = data[['month','Close','Change']]\n",
    "    data = data.groupby('month').mean()\n",
    "    \n",
    "    data = data.reset_index()\n",
    "    \n",
    "    # month column으로 만들기\n",
    "    for j in range(len(data)):\n",
    "        data.month = data.month.astype(str)\n",
    "        data.month[j] = data.month[j][:7]\n",
    "\n",
    "    return data"
   ]
  },
  {
   "cell_type": "code",
   "execution_count": 7,
   "id": "709e00e5",
   "metadata": {
    "ExecuteTime": {
     "end_time": "2022-10-19T06:57:29.921982Z",
     "start_time": "2022-10-19T06:57:29.349154Z"
    }
   },
   "outputs": [],
   "source": [
    "samil = to_month(samil)"
   ]
  },
  {
   "cell_type": "code",
   "execution_count": 11,
   "id": "eadfb0a2",
   "metadata": {
    "ExecuteTime": {
     "end_time": "2022-10-19T07:32:13.016561Z",
     "start_time": "2022-10-19T07:32:12.886365Z"
    }
   },
   "outputs": [
    {
     "data": {
      "text/plain": [
       "<AxesSubplot:>"
      ]
     },
     "execution_count": 11,
     "metadata": {},
     "output_type": "execute_result"
    },
    {
     "name": "stderr",
     "output_type": "stream",
     "text": [
      "findfont: Font family ['NanumGothic'] not found. Falling back to DejaVu Sans.\n"
     ]
    },
    {
     "data": {
      "image/png": "[encoded data removed]",
      "text/plain": [
       "<Figure size 1440x720 with 1 Axes>"
      ]
     },
     "metadata": {
      "needs_background": "light"
     },
     "output_type": "display_data"
    }
   ],
   "source": [
    "plt.figure(figsize=(20, 10))\n",
    "plt.rcParams['font.family'] = 'NanumGothic'\n",
    "\n",
    "samil.Close.plot()"
   ]
  },
  {
   "cell_type": "code",
   "execution_count": 13,
   "id": "141fefd8",
   "metadata": {
    "ExecuteTime": {
     "end_time": "2022-10-19T08:15:17.394125Z",
     "start_time": "2022-10-19T08:15:17.266062Z"
    }
   },
   "outputs": [
    {
     "ename": "JSONDecodeError",
     "evalue": "Expecting value: line 1 column 1 (char 0)",
     "output_type": "error",
     "traceback": [
      "\u001b[0;31m---------------------------------------------------------------------------\u001b[0m",
      "\u001b[0;31mJSONDecodeError\u001b[0m                           Traceback (most recent call last)",
      "File \u001b[0;32m~/miniforge3/envs/lhs/lib/python3.8/site-packages/requests/models.py:971\u001b[0m, in \u001b[0;36mResponse.json\u001b[0;34m(self, **kwargs)\u001b[0m\n\u001b[1;32m    970\u001b[0m \u001b[38;5;28;01mtry\u001b[39;00m:\n\u001b[0;32m--> 971\u001b[0m     \u001b[38;5;28;01mreturn\u001b[39;00m \u001b[43mcomplexjson\u001b[49m\u001b[38;5;241;43m.\u001b[39;49m\u001b[43mloads\u001b[49m\u001b[43m(\u001b[49m\u001b[38;5;28;43mself\u001b[39;49m\u001b[38;5;241;43m.\u001b[39;49m\u001b[43mtext\u001b[49m\u001b[43m,\u001b[49m\u001b[43m \u001b[49m\u001b[38;5;241;43m*\u001b[39;49m\u001b[38;5;241;43m*\u001b[39;49m\u001b[43mkwargs\u001b[49m\u001b[43m)\u001b[49m\n\u001b[1;32m    972\u001b[0m \u001b[38;5;28;01mexcept\u001b[39;00m JSONDecodeError \u001b[38;5;28;01mas\u001b[39;00m e:\n\u001b[1;32m    973\u001b[0m     \u001b[38;5;66;03m# Catch JSON-related errors and raise as requests.JSONDecodeError\u001b[39;00m\n\u001b[1;32m    974\u001b[0m     \u001b[38;5;66;03m# This aliases json.JSONDecodeError and simplejson.JSONDecodeError\u001b[39;00m\n",
      "File \u001b[0;32m~/miniforge3/envs/lhs/lib/python3.8/json/__init__.py:357\u001b[0m, in \u001b[0;36mloads\u001b[0;34m(s, cls, object_hook, parse_float, parse_int, parse_constant, object_pairs_hook, **kw)\u001b[0m\n\u001b[1;32m    354\u001b[0m \u001b[38;5;28;01mif\u001b[39;00m (\u001b[38;5;28mcls\u001b[39m \u001b[38;5;129;01mis\u001b[39;00m \u001b[38;5;28;01mNone\u001b[39;00m \u001b[38;5;129;01mand\u001b[39;00m object_hook \u001b[38;5;129;01mis\u001b[39;00m \u001b[38;5;28;01mNone\u001b[39;00m \u001b[38;5;129;01mand\u001b[39;00m\n\u001b[1;32m    355\u001b[0m         parse_int \u001b[38;5;129;01mis\u001b[39;00m \u001b[38;5;28;01mNone\u001b[39;00m \u001b[38;5;129;01mand\u001b[39;00m parse_float \u001b[38;5;129;01mis\u001b[39;00m \u001b[38;5;28;01mNone\u001b[39;00m \u001b[38;5;129;01mand\u001b[39;00m\n\u001b[1;32m    356\u001b[0m         parse_constant \u001b[38;5;129;01mis\u001b[39;00m \u001b[38;5;28;01mNone\u001b[39;00m \u001b[38;5;129;01mand\u001b[39;00m object_pairs_hook \u001b[38;5;129;01mis\u001b[39;00m \u001b[38;5;28;01mNone\u001b[39;00m \u001b[38;5;129;01mand\u001b[39;00m \u001b[38;5;129;01mnot\u001b[39;00m kw):\n\u001b[0;32m--> 357\u001b[0m     \u001b[38;5;28;01mreturn\u001b[39;00m \u001b[43m_default_decoder\u001b[49m\u001b[38;5;241;43m.\u001b[39;49m\u001b[43mdecode\u001b[49m\u001b[43m(\u001b[49m\u001b[43ms\u001b[49m\u001b[43m)\u001b[49m\n\u001b[1;32m    358\u001b[0m \u001b[38;5;28;01mif\u001b[39;00m \u001b[38;5;28mcls\u001b[39m \u001b[38;5;129;01mis\u001b[39;00m \u001b[38;5;28;01mNone\u001b[39;00m:\n",
      "File \u001b[0;32m~/miniforge3/envs/lhs/lib/python3.8/json/decoder.py:337\u001b[0m, in \u001b[0;36mJSONDecoder.decode\u001b[0;34m(self, s, _w)\u001b[0m\n\u001b[1;32m    333\u001b[0m \u001b[38;5;124;03m\"\"\"Return the Python representation of ``s`` (a ``str`` instance\u001b[39;00m\n\u001b[1;32m    334\u001b[0m \u001b[38;5;124;03mcontaining a JSON document).\u001b[39;00m\n\u001b[1;32m    335\u001b[0m \n\u001b[1;32m    336\u001b[0m \u001b[38;5;124;03m\"\"\"\u001b[39;00m\n\u001b[0;32m--> 337\u001b[0m obj, end \u001b[38;5;241m=\u001b[39m \u001b[38;5;28;43mself\u001b[39;49m\u001b[38;5;241;43m.\u001b[39;49m\u001b[43mraw_decode\u001b[49m\u001b[43m(\u001b[49m\u001b[43ms\u001b[49m\u001b[43m,\u001b[49m\u001b[43m \u001b[49m\u001b[43midx\u001b[49m\u001b[38;5;241;43m=\u001b[39;49m\u001b[43m_w\u001b[49m\u001b[43m(\u001b[49m\u001b[43ms\u001b[49m\u001b[43m,\u001b[49m\u001b[43m \u001b[49m\u001b[38;5;241;43m0\u001b[39;49m\u001b[43m)\u001b[49m\u001b[38;5;241;43m.\u001b[39;49m\u001b[43mend\u001b[49m\u001b[43m(\u001b[49m\u001b[43m)\u001b[49m\u001b[43m)\u001b[49m\n\u001b[1;32m    338\u001b[0m end \u001b[38;5;241m=\u001b[39m _w(s, end)\u001b[38;5;241m.\u001b[39mend()\n",
      "File \u001b[0;32m~/miniforge3/envs/lhs/lib/python3.8/json/decoder.py:355\u001b[0m, in \u001b[0;36mJSONDecoder.raw_decode\u001b[0;34m(self, s, idx)\u001b[0m\n\u001b[1;32m    354\u001b[0m \u001b[38;5;28;01mexcept\u001b[39;00m \u001b[38;5;167;01mStopIteration\u001b[39;00m \u001b[38;5;28;01mas\u001b[39;00m err:\n\u001b[0;32m--> 355\u001b[0m     \u001b[38;5;28;01mraise\u001b[39;00m JSONDecodeError(\u001b[38;5;124m\"\u001b[39m\u001b[38;5;124mExpecting value\u001b[39m\u001b[38;5;124m\"\u001b[39m, s, err\u001b[38;5;241m.\u001b[39mvalue) \u001b[38;5;28;01mfrom\u001b[39;00m \u001b[38;5;28mNone\u001b[39m\n\u001b[1;32m    356\u001b[0m \u001b[38;5;28;01mreturn\u001b[39;00m obj, end\n",
      "\u001b[0;31mJSONDecodeError\u001b[0m: Expecting value: line 1 column 1 (char 0)",
      "\nDuring handling of the above exception, another exception occurred:\n",
      "\u001b[0;31mJSONDecodeError\u001b[0m                           Traceback (most recent call last)",
      "Input \u001b[0;32mIn [13]\u001b[0m, in \u001b[0;36m<cell line: 1>\u001b[0;34m()\u001b[0m\n\u001b[0;32m----> 1\u001b[0m kospi \u001b[38;5;241m=\u001b[39m \u001b[43mfdr\u001b[49m\u001b[38;5;241;43m.\u001b[39;49m\u001b[43mDataReader\u001b[49m\u001b[43m(\u001b[49m\u001b[38;5;124;43m'\u001b[39;49m\u001b[38;5;124;43mKS11\u001b[39;49m\u001b[38;5;124;43m'\u001b[39;49m\u001b[43m,\u001b[49m\u001b[43m \u001b[49m\u001b[38;5;124;43m'\u001b[39;49m\u001b[38;5;124;43m2000\u001b[39;49m\u001b[38;5;124;43m'\u001b[39;49m\u001b[43m)\u001b[49m\n\u001b[1;32m      2\u001b[0m kospi \u001b[38;5;241m=\u001b[39m kospi\u001b[38;5;241m.\u001b[39mreset_index()\n\u001b[1;32m      3\u001b[0m kospi\n",
      "File \u001b[0;32m~/miniforge3/envs/lhs/lib/python3.8/site-packages/FinanceDataReader/data.py:41\u001b[0m, in \u001b[0;36mDataReader\u001b[0;34m(symbol, start, end, exchange, data_source)\u001b[0m\n\u001b[1;32m     39\u001b[0m \u001b[38;5;66;03m# Investing\u001b[39;00m\n\u001b[1;32m     40\u001b[0m reader \u001b[38;5;241m=\u001b[39m InvestingDailyReader\n\u001b[0;32m---> 41\u001b[0m df \u001b[38;5;241m=\u001b[39m \u001b[43mreader\u001b[49m\u001b[43m(\u001b[49m\u001b[43msymbol\u001b[49m\u001b[43m,\u001b[49m\u001b[43m \u001b[49m\u001b[43mstart\u001b[49m\u001b[43m,\u001b[49m\u001b[43m \u001b[49m\u001b[43mend\u001b[49m\u001b[43m,\u001b[49m\u001b[43m \u001b[49m\u001b[43mexchange\u001b[49m\u001b[43m,\u001b[49m\u001b[43m \u001b[49m\u001b[43mdata_source\u001b[49m\u001b[43m)\u001b[49m\u001b[38;5;241;43m.\u001b[39;49m\u001b[43mread\u001b[49m\u001b[43m(\u001b[49m\u001b[43m)\u001b[49m\n\u001b[1;32m     42\u001b[0m end \u001b[38;5;241m=\u001b[39m \u001b[38;5;28mmin\u001b[39m([pd\u001b[38;5;241m.\u001b[39mto_datetime(end), datetime\u001b[38;5;241m.\u001b[39mtoday()])\n\u001b[1;32m     43\u001b[0m \u001b[38;5;28;01mwhile\u001b[39;00m \u001b[38;5;28mlen\u001b[39m(df) \u001b[38;5;129;01mand\u001b[39;00m df\u001b[38;5;241m.\u001b[39mindex[\u001b[38;5;241m-\u001b[39m\u001b[38;5;241m1\u001b[39m] \u001b[38;5;241m<\u001b[39m end: \u001b[38;5;66;03m# issues/30\u001b[39;00m\n",
      "File \u001b[0;32m~/miniforge3/envs/lhs/lib/python3.8/site-packages/FinanceDataReader/investing/data.py:52\u001b[0m, in \u001b[0;36mInvestingDailyReader.read\u001b[0;34m(self)\u001b[0m\n\u001b[1;32m     50\u001b[0m \u001b[38;5;28;01mdef\u001b[39;00m \u001b[38;5;21mread\u001b[39m(\u001b[38;5;28mself\u001b[39m):\n\u001b[1;32m     51\u001b[0m     start, end \u001b[38;5;241m=\u001b[39m \u001b[38;5;28mself\u001b[39m\u001b[38;5;241m.\u001b[39mstart, \u001b[38;5;28mself\u001b[39m\u001b[38;5;241m.\u001b[39mend\n\u001b[0;32m---> 52\u001b[0m     curr_id \u001b[38;5;241m=\u001b[39m \u001b[38;5;28;43mself\u001b[39;49m\u001b[38;5;241;43m.\u001b[39;49m\u001b[43m_get_currid_investing\u001b[49m\u001b[43m(\u001b[49m\u001b[38;5;28;43mself\u001b[39;49m\u001b[38;5;241;43m.\u001b[39;49m\u001b[43msymbol\u001b[49m\u001b[43m,\u001b[49m\u001b[43m \u001b[49m\u001b[38;5;28;43mself\u001b[39;49m\u001b[38;5;241;43m.\u001b[39;49m\u001b[43mexchange\u001b[49m\u001b[43m)\u001b[49m\n\u001b[1;32m     53\u001b[0m     \u001b[38;5;28;01mif\u001b[39;00m \u001b[38;5;129;01mnot\u001b[39;00m curr_id:\n\u001b[1;32m     54\u001b[0m         \u001b[38;5;28;01mraise\u001b[39;00m \u001b[38;5;167;01mValueError\u001b[39;00m(\u001b[38;5;124m\"\u001b[39m\u001b[38;5;124mSymbol unsupported or not found\u001b[39m\u001b[38;5;124m\"\u001b[39m)\n",
      "File \u001b[0;32m~/miniforge3/envs/lhs/lib/python3.8/site-packages/FinanceDataReader/investing/data.py:21\u001b[0m, in \u001b[0;36mInvestingDailyReader._get_currid_investing\u001b[0;34m(self, symbol, exchange)\u001b[0m\n\u001b[1;32m     19\u001b[0m url \u001b[38;5;241m=\u001b[39m \u001b[38;5;124mf\u001b[39m\u001b[38;5;124m'\u001b[39m\u001b[38;5;124mhttps://api.investing.com/api/search/v2/search?q=\u001b[39m\u001b[38;5;132;01m{\u001b[39;00msymbol\u001b[38;5;132;01m}\u001b[39;00m\u001b[38;5;124m'\u001b[39m\n\u001b[1;32m     20\u001b[0m r \u001b[38;5;241m=\u001b[39m requests\u001b[38;5;241m.\u001b[39mget(url, headers\u001b[38;5;241m=\u001b[39m{\u001b[38;5;124m'\u001b[39m\u001b[38;5;124muser-agent\u001b[39m\u001b[38;5;124m'\u001b[39m:\u001b[38;5;124m'\u001b[39m\u001b[38;5;124mMozilla/5.0\u001b[39m\u001b[38;5;124m'\u001b[39m, \u001b[38;5;124m'\u001b[39m\u001b[38;5;124mdomain-id\u001b[39m\u001b[38;5;124m'\u001b[39m: \u001b[38;5;124m'\u001b[39m\u001b[38;5;124men\u001b[39m\u001b[38;5;124m'\u001b[39m, \u001b[38;5;124m'\u001b[39m\u001b[38;5;124mdnt\u001b[39m\u001b[38;5;124m'\u001b[39m: \u001b[38;5;124m'\u001b[39m\u001b[38;5;124m1\u001b[39m\u001b[38;5;124m'\u001b[39m})\n\u001b[0;32m---> 21\u001b[0m jo \u001b[38;5;241m=\u001b[39m \u001b[43mr\u001b[49m\u001b[38;5;241;43m.\u001b[39;49m\u001b[43mjson\u001b[49m\u001b[43m(\u001b[49m\u001b[43m)\u001b[49m\n\u001b[1;32m     22\u001b[0m \u001b[38;5;66;03m# print(json.dumps(jo['quotes'], indent=4))\u001b[39;00m\n\u001b[1;32m     24\u001b[0m \u001b[38;5;28;01mif\u001b[39;00m \u001b[38;5;28mlen\u001b[39m(jo[\u001b[38;5;124m'\u001b[39m\u001b[38;5;124mquotes\u001b[39m\u001b[38;5;124m'\u001b[39m]) \u001b[38;5;241m==\u001b[39m \u001b[38;5;241m0\u001b[39m:\n",
      "File \u001b[0;32m~/miniforge3/envs/lhs/lib/python3.8/site-packages/requests/models.py:975\u001b[0m, in \u001b[0;36mResponse.json\u001b[0;34m(self, **kwargs)\u001b[0m\n\u001b[1;32m    971\u001b[0m     \u001b[38;5;28;01mreturn\u001b[39;00m complexjson\u001b[38;5;241m.\u001b[39mloads(\u001b[38;5;28mself\u001b[39m\u001b[38;5;241m.\u001b[39mtext, \u001b[38;5;241m*\u001b[39m\u001b[38;5;241m*\u001b[39mkwargs)\n\u001b[1;32m    972\u001b[0m \u001b[38;5;28;01mexcept\u001b[39;00m JSONDecodeError \u001b[38;5;28;01mas\u001b[39;00m e:\n\u001b[1;32m    973\u001b[0m     \u001b[38;5;66;03m# Catch JSON-related errors and raise as requests.JSONDecodeError\u001b[39;00m\n\u001b[1;32m    974\u001b[0m     \u001b[38;5;66;03m# This aliases json.JSONDecodeError and simplejson.JSONDecodeError\u001b[39;00m\n\u001b[0;32m--> 975\u001b[0m     \u001b[38;5;28;01mraise\u001b[39;00m RequestsJSONDecodeError(e\u001b[38;5;241m.\u001b[39mmsg, e\u001b[38;5;241m.\u001b[39mdoc, e\u001b[38;5;241m.\u001b[39mpos)\n",
      "\u001b[0;31mJSONDecodeError\u001b[0m: Expecting value: line 1 column 1 (char 0)"
     ]
    }
   ],
   "source": [
    "kospi = fdr.DataReader('KS11', '2000')\n",
    "kospi = kospi.reset_index()\n",
    "kospi"
   ]
  },
  {
   "cell_type": "code",
   "execution_count": null,
   "id": "964ae444",
   "metadata": {
    "ExecuteTime": {
     "end_time": "2022-10-19T06:55:33.634950Z",
     "start_time": "2022-10-19T06:55:33.608207Z"
    }
   },
   "outputs": [],
   "source": [
    "kospi['Close'].plot()"
   ]
  },
  {
   "cell_type": "code",
   "execution_count": null,
   "id": "d69929d9",
   "metadata": {
    "ExecuteTime": {
     "end_time": "2022-10-19T03:58:56.668276Z",
     "start_time": "2022-10-19T03:58:56.645714Z"
    },
    "scrolled": false
   },
   "outputs": [],
   "source": [
    "df = pd.merge(samil, kospi, on='Date', how='left')\n",
    "df = df.drop(['Open_x','High_x','Low_x','Close_x','Close_y','Volume_x','Open_y','High_y','Low_y','Volume_y'], axis=1)\n",
    "df.rename(columns={'Change_x':'Samil_Change', 'Change_y':'Kospi_Change'},inplace=True)\n",
    "df"
   ]
  },
  {
   "cell_type": "code",
   "execution_count": null,
   "id": "4f9f3ffa",
   "metadata": {
    "ExecuteTime": {
     "end_time": "2022-10-19T03:59:01.212772Z",
     "start_time": "2022-10-19T03:59:01.200585Z"
    }
   },
   "outputs": [],
   "source": [
    "df.info()"
   ]
  },
  {
   "cell_type": "markdown",
   "id": "5360824a",
   "metadata": {},
   "source": [
    "## 90일 기준으로 하락세 뽑아보기"
   ]
  },
  {
   "cell_type": "code",
   "execution_count": null,
   "id": "2b73e233",
   "metadata": {
    "ExecuteTime": {
     "end_time": "2022-10-19T03:59:21.262338Z",
     "start_time": "2022-10-19T03:59:21.259076Z"
    }
   },
   "outputs": [],
   "source": [
    "import numpy as np"
   ]
  },
  {
   "cell_type": "code",
   "execution_count": null,
   "id": "5cc89e72",
   "metadata": {
    "ExecuteTime": {
     "end_time": "2022-10-19T05:09:14.073982Z",
     "start_time": "2022-10-19T05:09:14.060510Z"
    }
   },
   "outputs": [],
   "source": [
    "# a일수의 변동률 평균값\n",
    "\n",
    "def RatioMean(a):\n",
    "    result = []\n",
    "\n",
    "    for i in range(len(df)):\n",
    "        K = df.Kospi_Change[i:i+a].mean()\n",
    "        D = df.Samil_Change[i:i+a].mean()\n",
    "        \n",
    "    # 하락 트리거만 잡기 위해 -1 외에 모두 1로 정의\n",
    "        if len(df)-i < a:\n",
    "            result.append(np.nan)\n",
    "        elif (K < 0) & (D < 0):   # a일수간의 변동평균이 둘 다 - 일 때\n",
    "            if K > D:\n",
    "                result.append(-1)\n",
    "            elif K < D:           # kospi 변동률보다 덜 변동\n",
    "                result.append(1)\n",
    "        elif (K > 0) & (D > 0):   # a일수간의 변동평균이 둘 다 + 일 때\n",
    "            if K > D:\n",
    "                result.append(-1)\n",
    "            if K < D:             # 둘 다 + 이지만, kospi 변동률보다 적게 상승\n",
    "                result.append(1)\n",
    "        elif (K >= 0) & (D <= 0): # K 변동 평균은 양수지만 D 변동 평균이 음수일 때\n",
    "            result.append(-1)\n",
    "        elif (K <= 0) & (D >= 0): # K 변동 평균은 음수지만 D 변동 평균이 양수일 때\n",
    "            result.append(1)\n",
    "\n",
    "    return result"
   ]
  },
  {
   "cell_type": "code",
   "execution_count": null,
   "id": "be2ede1c",
   "metadata": {
    "ExecuteTime": {
     "end_time": "2022-10-19T05:09:17.533863Z",
     "start_time": "2022-10-19T05:09:17.112118Z"
    },
    "scrolled": true
   },
   "outputs": [],
   "source": [
    "Ratio_list = RatioMean(90)\n",
    "print(Ratio_list[:10])\n",
    "print('')\n",
    "print(Ratio_list[-100:])"
   ]
  },
  {
   "cell_type": "code",
   "execution_count": null,
   "id": "308f6147",
   "metadata": {
    "ExecuteTime": {
     "end_time": "2022-10-19T04:14:01.893772Z",
     "start_time": "2022-10-19T04:14:01.886894Z"
    }
   },
   "outputs": [],
   "source": [
    "len(Ratio_list)"
   ]
  },
  {
   "cell_type": "code",
   "execution_count": null,
   "id": "b27a8fb7",
   "metadata": {
    "ExecuteTime": {
     "end_time": "2022-10-19T04:14:02.817846Z",
     "start_time": "2022-10-19T04:14:02.809107Z"
    }
   },
   "outputs": [],
   "source": [
    "LowerThanKospi_3m = pd.DataFrame(Ratio_list,columns=['label'])\n",
    "# LowerThanKospi_3m.Ratio_list = LowerThanKospi_3m['Ratio_list'] < 0\n",
    "# LowerThanKospi_3m = LowerThanKospi_3m.fillna(0)"
   ]
  },
  {
   "cell_type": "code",
   "execution_count": null,
   "id": "5f2f520c",
   "metadata": {
    "ExecuteTime": {
     "end_time": "2022-10-19T05:09:25.720148Z",
     "start_time": "2022-10-19T05:09:25.706050Z"
    }
   },
   "outputs": [],
   "source": [
    "LowerThanKospi_3m"
   ]
  },
  {
   "cell_type": "code",
   "execution_count": null,
   "id": "9f566fb0",
   "metadata": {
    "ExecuteTime": {
     "end_time": "2022-10-19T04:12:18.268196Z",
     "start_time": "2022-10-19T04:12:18.252121Z"
    }
   },
   "outputs": [],
   "source": [
    "df"
   ]
  },
  {
   "cell_type": "code",
   "execution_count": null,
   "id": "a02ca512",
   "metadata": {
    "ExecuteTime": {
     "end_time": "2022-10-19T05:09:57.166523Z",
     "start_time": "2022-10-19T05:09:57.072014Z"
    }
   },
   "outputs": [],
   "source": [
    "LowerThanKospi_3m_label = pd.concat([df, LowerThanKospi_3m], axis=1)\n",
    "LowerThanKospi_3m_label = LowerThanKospi_3m_label.fillna(1)"
   ]
  },
  {
   "cell_type": "code",
   "execution_count": null,
   "id": "59c94475",
   "metadata": {
    "ExecuteTime": {
     "end_time": "2022-10-19T05:09:57.322793Z",
     "start_time": "2022-10-19T05:09:57.310169Z"
    }
   },
   "outputs": [],
   "source": [
    "LowerThanKospi_3m_label"
   ]
  },
  {
   "cell_type": "code",
   "execution_count": null,
   "id": "234ddca4",
   "metadata": {
    "ExecuteTime": {
     "end_time": "2022-10-19T03:47:13.483534Z",
     "start_time": "2022-10-19T03:47:13.481174Z"
    }
   },
   "outputs": [],
   "source": [
    "'''\n",
    "# 하락 여부 label\n",
    "\n",
    "label = []\n",
    "for row in LowerThanKospi_3m.LowerThanKospi_3m:\n",
    "    if row < 0:\n",
    "        label.append(-1)\n",
    "    elif row > 0:\n",
    "        label.append(1)\n",
    "    else:\n",
    "        label.append(0)\n",
    "    \n",
    "LowerThanKospi_3m['label'] = label\n",
    "LowerThanKospi_3m\n",
    "'''"
   ]
  },
  {
   "cell_type": "code",
   "execution_count": null,
   "id": "bd2f1e89",
   "metadata": {
    "ExecuteTime": {
     "end_time": "2022-10-19T04:12:56.080942Z",
     "start_time": "2022-10-19T04:12:56.074176Z"
    }
   },
   "outputs": [],
   "source": [
    "LowerThanKospi_3m_label.label.isnull().sum()"
   ]
  },
  {
   "cell_type": "code",
   "execution_count": null,
   "id": "5d51ef59",
   "metadata": {
    "ExecuteTime": {
     "end_time": "2022-10-19T05:10:03.007897Z",
     "start_time": "2022-10-19T05:10:03.001414Z"
    }
   },
   "outputs": [],
   "source": [
    "LowerThanKospi_3m_label.label.value_counts()"
   ]
  },
  {
   "cell_type": "code",
   "execution_count": null,
   "id": "f9f9d246",
   "metadata": {
    "ExecuteTime": {
     "end_time": "2022-10-19T05:10:09.801950Z",
     "start_time": "2022-10-19T05:10:09.784587Z"
    }
   },
   "outputs": [],
   "source": [
    "LowerThanKospi_3m_label.label = LowerThanKospi_3m_label.label.replace(-1, 0)\n",
    "LowerThanKospi_3m_label.label = LowerThanKospi_3m_label.label.replace(1, 0.2)\n",
    "LowerThanKospi_3m_label"
   ]
  },
  {
   "cell_type": "markdown",
   "id": "75878fc0",
   "metadata": {},
   "source": [
    "## 시각적으로 확인하기 위해 종가를 scaling 후 비교"
   ]
  },
  {
   "cell_type": "code",
   "execution_count": null,
   "id": "1eb01b75",
   "metadata": {
    "ExecuteTime": {
     "end_time": "2022-10-19T04:00:16.219814Z",
     "start_time": "2022-10-19T04:00:16.203606Z"
    }
   },
   "outputs": [],
   "source": [
    "samil"
   ]
  },
  {
   "cell_type": "code",
   "execution_count": null,
   "id": "9bdb9aca",
   "metadata": {
    "ExecuteTime": {
     "end_time": "2022-10-19T04:14:11.473254Z",
     "start_time": "2022-10-19T04:14:11.468191Z"
    }
   },
   "outputs": [],
   "source": [
    "samil_scaled = samil.set_index('Date')\n",
    "kospi_scaled = kospi.set_index('Date')"
   ]
  },
  {
   "cell_type": "code",
   "execution_count": null,
   "id": "5a179a11",
   "metadata": {
    "ExecuteTime": {
     "end_time": "2022-10-19T04:14:22.241065Z",
     "start_time": "2022-10-19T04:14:22.225179Z"
    }
   },
   "outputs": [],
   "source": [
    "from sklearn.preprocessing import MinMaxScaler\n",
    "\n",
    "scaler = MinMaxScaler()\n",
    "\n",
    "fitted = scaler.fit(kospi_scaled)\n",
    "kospi_scaled = scaler.transform(kospi_scaled)\n",
    "\n",
    "fitted = scaler.fit(samil_scaled)\n",
    "samil_scaled = scaler.transform(samil_scaled)"
   ]
  },
  {
   "cell_type": "code",
   "execution_count": null,
   "id": "9b424684",
   "metadata": {
    "ExecuteTime": {
     "end_time": "2022-10-19T04:14:22.431688Z",
     "start_time": "2022-10-19T04:14:22.426214Z"
    }
   },
   "outputs": [],
   "source": [
    "samil_scaled = pd.DataFrame(samil_scaled, columns=['Open', 'High', 'Low', 'Close', 'Volume', 'Change'])\n",
    "kospi_scaled = pd.DataFrame(kospi_scaled, columns=['Open', 'High', 'Low', 'Close', 'Volume', 'Change'])"
   ]
  },
  {
   "cell_type": "code",
   "execution_count": null,
   "id": "2ee779de",
   "metadata": {
    "ExecuteTime": {
     "end_time": "2022-10-19T04:14:22.825930Z",
     "start_time": "2022-10-19T04:14:22.808327Z"
    }
   },
   "outputs": [],
   "source": [
    "samil_scaled"
   ]
  },
  {
   "cell_type": "code",
   "execution_count": null,
   "id": "f1f39b14",
   "metadata": {
    "ExecuteTime": {
     "end_time": "2022-10-19T04:14:25.564819Z",
     "start_time": "2022-10-19T04:14:25.557540Z"
    }
   },
   "outputs": [],
   "source": [
    "# 그래프에 날짜를 기준으로 표기하기 위해 index로 썼던 Date 추가\n",
    "\n",
    "samil_scaled.insert(0, 'Date', samil['Date'])\n",
    "kospi_scaled.insert(0, 'Date', kospi['Date'])"
   ]
  },
  {
   "cell_type": "code",
   "execution_count": null,
   "id": "5b4e6d1c",
   "metadata": {
    "ExecuteTime": {
     "end_time": "2022-10-19T04:14:25.928720Z",
     "start_time": "2022-10-19T04:14:25.924736Z"
    }
   },
   "outputs": [],
   "source": [
    "a = 500\n",
    "LowerThanKospi_3m_label_ = LowerThanKospi_3m_label[:a]\n",
    "samil_scaled_ = samil_scaled[:a]\n",
    "kospi_scaled_ = kospi_scaled[:a]"
   ]
  },
  {
   "cell_type": "code",
   "execution_count": null,
   "id": "f5bd7011",
   "metadata": {
    "ExecuteTime": {
     "end_time": "2022-10-19T04:14:26.430821Z",
     "start_time": "2022-10-19T04:14:26.410349Z"
    }
   },
   "outputs": [],
   "source": [
    "samil_scaled_"
   ]
  },
  {
   "cell_type": "code",
   "execution_count": null,
   "id": "dd52a6b7",
   "metadata": {
    "ExecuteTime": {
     "end_time": "2022-10-19T05:06:24.500706Z",
     "start_time": "2022-10-19T05:06:24.484227Z"
    }
   },
   "outputs": [],
   "source": [
    "LowerThanKospi_3m_label"
   ]
  },
  {
   "cell_type": "code",
   "execution_count": null,
   "id": "c072b112",
   "metadata": {
    "ExecuteTime": {
     "end_time": "2022-10-19T05:10:17.182553Z",
     "start_time": "2022-10-19T05:10:16.996122Z"
    },
    "scrolled": false
   },
   "outputs": [],
   "source": [
    "# 주가 데이터 그래프\n",
    "\n",
    "data1 = samil_scaled_\n",
    "data2 = kospi_scaled_\n",
    "data3 = LowerThanKospi_3m_label_\n",
    "\n",
    "plt.figure(figsize=(20, 10))\n",
    "plt.rcParams['font.family'] = 'NanumGothic'\n",
    "\n",
    "# plt.subplot(2, 1, 1)\n",
    "plt.axhline(y=0, color='black', linewidth=1)\n",
    "sns.lineplot(data=data1, x=\"Date\", y='Close', label='samil_price', color='brown')\n",
    "sns.lineplot(data=data2, x=\"Date\", y='Close', label='kospi_price', color='blue')\n",
    "ax = sns.scatterplot(data=data3, x=\"Date\", y=\"label\", label='↓', color='black')\n",
    "\n",
    "'''\n",
    "plt.subplot(2, 1, 1)\n",
    "plt.figure(figsize=(20, 10))\n",
    "plt.axhline(y=0, color='r', linewidth=1)\n",
    "sns.lineplot(data=data3, x=\"Date\", y='Kospi_Change', label='kospi_change', color='orange')\n",
    "sns.lineplot(data=data3, x='Date', y='CJ_Change', label='cj_change', color='skyBlue')\n",
    "'''\n",
    "\n",
    "plt.show()"
   ]
  },
  {
   "cell_type": "code",
   "execution_count": null,
   "id": "2e5c2138",
   "metadata": {},
   "outputs": [],
   "source": [
    "# 그래프 완곡하게\n",
    "# 추세선 느낌"
   ]
  },
  {
   "cell_type": "markdown",
   "id": "98746d67",
   "metadata": {},
   "source": [
    "## 추출하기 위한 label 수정"
   ]
  },
  {
   "cell_type": "code",
   "execution_count": null,
   "id": "d4b615a4",
   "metadata": {
    "ExecuteTime": {
     "end_time": "2022-10-19T03:47:13.727354Z",
     "start_time": "2022-10-19T03:47:13.724091Z"
    }
   },
   "outputs": [],
   "source": [
    "cj_scaled.Close"
   ]
  },
  {
   "cell_type": "code",
   "execution_count": null,
   "id": "a2796977",
   "metadata": {
    "ExecuteTime": {
     "end_time": "2022-10-19T03:48:25.263139Z",
     "start_time": "2022-10-19T03:48:25.242011Z"
    }
   },
   "outputs": [],
   "source": [
    "close_merge = pd.merge(kospi_scaled, cj_scaled, on='Date')\n",
    "# close_merge.columns = ['Kospi_Close', 'CJ_Close']\n",
    "close_merge = close_merge.drop(['Open_x','High_x','Low_x','Volume_x','Open_y','High_y','Low_y','Volume_y','Change_x','Change_y'], axis=1)\n",
    "close_merge.columns = ['Date','Kospi_Close', 'CJ_Close']\n",
    "close_merge\n"
   ]
  },
  {
   "cell_type": "code",
   "execution_count": null,
   "id": "dd4ac428",
   "metadata": {
    "ExecuteTime": {
     "end_time": "2022-10-19T03:48:27.949333Z",
     "start_time": "2022-10-19T03:48:27.930015Z"
    }
   },
   "outputs": [],
   "source": [
    "LowerThanKospi_3m_label.label = LowerThanKospi_3m_label.label.replace(0, 0)\n",
    "LowerThanKospi_3m_label.label = LowerThanKospi_3m_label.label.replace(0.2, 1)\n",
    "LowerThanKospi_3m_label.label = LowerThanKospi_3m_label.label.astype(int)\n",
    "LowerThanKospi_3m_label"
   ]
  },
  {
   "cell_type": "code",
   "execution_count": null,
   "id": "fbf9cee7",
   "metadata": {
    "ExecuteTime": {
     "end_time": "2022-10-19T03:48:30.128622Z",
     "start_time": "2022-10-19T03:48:30.103712Z"
    }
   },
   "outputs": [],
   "source": [
    "final_cj = pd.merge(LowerThanKospi_3m_label, close_merge)\n",
    "final_cj"
   ]
  },
  {
   "cell_type": "code",
   "execution_count": null,
   "id": "b51af9b8",
   "metadata": {
    "ExecuteTime": {
     "end_time": "2022-10-19T03:48:35.679466Z",
     "start_time": "2022-10-19T03:48:35.658600Z"
    }
   },
   "outputs": [],
   "source": [
    "# 컬럼 위치 정리\n",
    "\n",
    "final_cj = final_cj[['Date','Kospi_Close','Kospi_Change', 'CJ_Close', 'CJ_Change', 'label']]\n",
    "final_cj"
   ]
  },
  {
   "cell_type": "code",
   "execution_count": null,
   "id": "8be11d4e",
   "metadata": {
    "ExecuteTime": {
     "end_time": "2022-10-19T03:49:15.740603Z",
     "start_time": "2022-10-19T03:49:15.685677Z"
    }
   },
   "outputs": [],
   "source": [
    "pd.to_csv('final_cj.csv')"
   ]
  },
  {
   "cell_type": "code",
   "execution_count": null,
   "id": "b7f0ed5f",
   "metadata": {
    "ExecuteTime": {
     "end_time": "2022-10-18T05:34:36.712868Z",
     "start_time": "2022-10-18T05:34:36.432946Z"
    }
   },
   "outputs": [],
   "source": [
    "kospi_scaled = pd.DataFrame(kospi_scaled, columns=kospi.columns, index=list(kospi.index.values)).reset_index()\n",
    "kospi_scaled"
   ]
  },
  {
   "cell_type": "code",
   "execution_count": null,
   "id": "65847d6c",
   "metadata": {
    "ExecuteTime": {
     "end_time": "2022-10-18T05:33:41.203978Z",
     "start_time": "2022-10-18T05:33:41.198911Z"
    }
   },
   "outputs": [],
   "source": [
    "kospi_scaled.rename(columns={'index':'date'}, inplace=True)"
   ]
  },
  {
   "cell_type": "code",
   "execution_count": null,
   "id": "a68114cf",
   "metadata": {
    "ExecuteTime": {
     "end_time": "2022-10-18T05:33:38.403400Z",
     "start_time": "2022-10-18T05:33:38.382453Z"
    }
   },
   "outputs": [],
   "source": [
    "kospi_scaled"
   ]
  },
  {
   "cell_type": "code",
   "execution_count": null,
   "id": "5367e628",
   "metadata": {
    "ExecuteTime": {
     "end_time": "2022-10-18T05:33:34.336168Z",
     "start_time": "2022-10-18T05:33:34.250415Z"
    }
   },
   "outputs": [],
   "source": [
    "kospi_scaled.Close.plot()"
   ]
  },
  {
   "cell_type": "code",
   "execution_count": null,
   "id": "436c54d8",
   "metadata": {
    "ExecuteTime": {
     "end_time": "2022-10-18T04:13:52.067555Z",
     "start_time": "2022-10-18T04:13:52.058530Z"
    }
   },
   "outputs": [],
   "source": [
    "cj_scaled = pd.DataFrame(cj_scaled, columns=cj.columns, index=list(cj.index.values)).reset_index()\n",
    "cj_scaled"
   ]
  },
  {
   "cell_type": "code",
   "execution_count": null,
   "id": "f4189e70",
   "metadata": {
    "ExecuteTime": {
     "end_time": "2022-10-18T04:13:52.070923Z",
     "start_time": "2022-10-18T04:13:52.068639Z"
    }
   },
   "outputs": [],
   "source": [
    "cj_scaled.rename(columns={'index':'date'}, inplace=True)"
   ]
  },
  {
   "cell_type": "code",
   "execution_count": null,
   "id": "caa365c1",
   "metadata": {
    "ExecuteTime": {
     "end_time": "2022-10-18T04:13:52.117012Z",
     "start_time": "2022-10-18T04:13:52.071827Z"
    }
   },
   "outputs": [],
   "source": [
    "cj_scaled.Close.plot()"
   ]
  },
  {
   "cell_type": "code",
   "execution_count": null,
   "id": "041f335e",
   "metadata": {
    "ExecuteTime": {
     "end_time": "2022-10-18T05:32:42.562552Z",
     "start_time": "2022-10-18T05:32:42.547620Z"
    }
   },
   "outputs": [],
   "source": [
    "cj_scaled[:10]"
   ]
  },
  {
   "cell_type": "code",
   "execution_count": null,
   "id": "b90e97f8",
   "metadata": {
    "ExecuteTime": {
     "end_time": "2022-10-18T05:32:36.545284Z",
     "start_time": "2022-10-18T05:32:36.464776Z"
    }
   },
   "outputs": [],
   "source": [
    "cj_scaled[:10].Change.plot()"
   ]
  },
  {
   "cell_type": "code",
   "execution_count": null,
   "id": "538436fe",
   "metadata": {
    "ExecuteTime": {
     "end_time": "2022-10-18T04:22:39.665916Z",
     "start_time": "2022-10-18T04:22:39.660448Z"
    }
   },
   "outputs": [],
   "source": [
    "# CJ에 없는 값 index 확인\n",
    "'''\n",
    "not_contain = pd.concat([kospi_scaled['date'], cj_scaled['date'], cj_scaled['date']]).drop_duplicates(keep=False)\n",
    "not_contain\n",
    "\n",
    "kospi_scaled['date'].str.contains('2003-09-23')\n",
    "\n",
    "kospi_scaled = kospi_scaled.drop(index=[909, 1170, 1200, 3464], axis=0).reset_index()\n",
    "kospi_scaled = kospi_scaled.drop(columns=['index'])\n",
    "# kospi_scaled = kospi_scaled.drop(columns=['level_0'])\n",
    "kospi_scaled\n",
    "'''"
   ]
  },
  {
   "cell_type": "code",
   "execution_count": null,
   "id": "9f1c8400",
   "metadata": {
    "ExecuteTime": {
     "end_time": "2022-10-18T05:25:33.549432Z",
     "start_time": "2022-10-18T05:25:33.361723Z"
    }
   },
   "outputs": [],
   "source": [
    "# 주가 데이터 그래프\n",
    "\n",
    "plt.figure(figsize=(20, 10))\n",
    "plt.rcParams['font.family'] = 'AppleGothic'\n",
    "# plt.rcParams['font.size'] = 23\n",
    "# plt.rcParams['figure.figsize'] = (13, 8) # figsize 고정\n",
    "sns.lineplot(data=kospi_scaled, x=\"date\", y=\"Close\", label='kospi_scale', color='skyblue')\n",
    "sns.lineplot(data=cj_scaled, x='date', y='Close', label='cj_scale', color='Blue')\n",
    "\n",
    "plt.show()"
   ]
  },
  {
   "cell_type": "code",
   "execution_count": null,
   "id": "40283929",
   "metadata": {
    "ExecuteTime": {
     "end_time": "2022-10-18T05:27:30.648136Z",
     "start_time": "2022-10-18T05:27:30.533084Z"
    }
   },
   "outputs": [],
   "source": [
    "plt.figure(figsize=(20, 10))\n",
    "plt.rcParams['font.family'] = 'AppleGothic'\n",
    "cj_scaled.iloc[:10].Change.plot()\n",
    "kospi_scaled.iloc[:10].Change.plot()"
   ]
  },
  {
   "cell_type": "markdown",
   "id": "94ebd3b3",
   "metadata": {},
   "source": [
    "그러니까 scaling 후 두 값을 단순히 비교하는 것이 아닌 스케일링 값에서 3개월치의 변화량을 각자 구한후 변화량을 비교해야 맞을 듯\n",
    "</br> 근데 생각해보니까 지수와 가격을 비교하는 것 이니까 각자 스케일링해서 비교해봐도 합당해 보이네.."
   ]
  },
  {
   "cell_type": "markdown",
   "id": "922e996b",
   "metadata": {},
   "source": [
    "### 일자별 변화율 구하기"
   ]
  },
  {
   "cell_type": "code",
   "execution_count": null,
   "id": "f67e70fd",
   "metadata": {
    "ExecuteTime": {
     "end_time": "2022-10-18T05:31:45.457376Z",
     "start_time": "2022-10-18T05:31:45.433648Z"
    }
   },
   "outputs": [],
   "source": [
    "df = pd.merge(cj_scaled, kospi_scaled, on='date', how='left')\n",
    "df = df.drop(['Open_x','High_x','Low_x','Close_x','Volume_x','Close_y','Open_y','High_y','Low_y','Volume_y'], axis=1)\n",
    "df.rename(columns={'Change_x':'CJ_Change','Change_y':'Kospi_Change'},inplace=True)\n",
    "df"
   ]
  },
  {
   "cell_type": "code",
   "execution_count": null,
   "id": "3bcfc079",
   "metadata": {
    "ExecuteTime": {
     "end_time": "2022-10-18T05:31:43.051279Z",
     "start_time": "2022-10-18T05:31:43.038568Z"
    }
   },
   "outputs": [],
   "source": [
    "LowerThanKospi_1day = df[(df['Kospi_Change'] < 0) & (df['Kospi_Change'] > df['CJ_Change'])]\n",
    "# LowerThanKospi_1day['LowerThanKospi_1day'] = -1\n",
    "# LowerThanKospi_1day.drop(columns=['CJ_Close','Kospi_Close','CJ_Rate','Kospi_Rate'], axis=0, inplace=True)\n",
    "LowerThanKospi_1day"
   ]
  },
  {
   "cell_type": "code",
   "execution_count": null,
   "id": "c3b34c67",
   "metadata": {
    "ExecuteTime": {
     "end_time": "2022-10-18T04:32:43.798567Z",
     "start_time": "2022-10-18T04:32:43.621606Z"
    },
    "scrolled": true
   },
   "outputs": [],
   "source": [
    "cj_rate = []\n",
    "kospi_rate = []\n",
    "\n",
    "for i in range(5622):\n",
    "    cj_rate.append((df.CJ_Close[i+1]-df.CJ_Close[i])/df.CJ_Close[i] * 100)\n",
    "    kospi_rate.append((df.Kospi_Close[i+1]-df.Kospi_Close[i])/df.Kospi_Close[i] * 100)\n",
    "    "
   ]
  },
  {
   "cell_type": "code",
   "execution_count": null,
   "id": "d71607f9",
   "metadata": {
    "ExecuteTime": {
     "end_time": "2022-10-18T04:32:45.889085Z",
     "start_time": "2022-10-18T04:32:45.870548Z"
    }
   },
   "outputs": [],
   "source": [
    "cj_rate.insert(0, 0)\n",
    "cj_rate"
   ]
  },
  {
   "cell_type": "code",
   "execution_count": null,
   "id": "b21b3999",
   "metadata": {
    "ExecuteTime": {
     "end_time": "2022-10-18T04:32:47.914100Z",
     "start_time": "2022-10-18T04:32:47.892616Z"
    }
   },
   "outputs": [],
   "source": [
    "kospi_rate.insert(0, 0)\n",
    "kospi_rate"
   ]
  },
  {
   "cell_type": "code",
   "execution_count": null,
   "id": "9aa6552f",
   "metadata": {
    "ExecuteTime": {
     "end_time": "2022-10-18T04:33:03.641058Z",
     "start_time": "2022-10-18T04:33:03.636694Z"
    }
   },
   "outputs": [],
   "source": [
    "len(cj_rate)"
   ]
  },
  {
   "cell_type": "code",
   "execution_count": null,
   "id": "52527e53",
   "metadata": {
    "ExecuteTime": {
     "end_time": "2022-10-18T05:10:09.395751Z",
     "start_time": "2022-10-18T05:10:09.377936Z"
    }
   },
   "outputs": [],
   "source": [
    "df_ratio = pd.DataFrame({'date':df['date'],\n",
    "                         'CJ_Rate':cj_rate,\n",
    "                         'Kospi_Rate':kospi_rate,\n",
    "                        })\n",
    "df_ratio"
   ]
  },
  {
   "cell_type": "code",
   "execution_count": null,
   "id": "51a3a92d",
   "metadata": {
    "ExecuteTime": {
     "end_time": "2022-10-18T05:10:10.566878Z",
     "start_time": "2022-10-18T05:10:10.548199Z"
    }
   },
   "outputs": [],
   "source": [
    "df = pd.merge(df, df_ratio, on='date', how='left')\n",
    "# kospi_loww = kospi_loww.fillna(0)\n",
    "# kospi_loww.day_low = kospi_loww.day_low.replace(-1, -10)\n",
    "df"
   ]
  },
  {
   "cell_type": "code",
   "execution_count": null,
   "id": "a309c5ab",
   "metadata": {
    "ExecuteTime": {
     "end_time": "2022-10-18T05:10:11.969813Z",
     "start_time": "2022-10-18T05:10:11.948670Z"
    },
    "scrolled": false
   },
   "outputs": [],
   "source": [
    "LowerThanKospi_1day = df[(df['Kospi_Rate'] < 0) & (df['Kospi_Rate'] > df['CJ_Rate'])]\n",
    "LowerThanKospi_1day['LowerThanKospi_1day'] = -1\n",
    "LowerThanKospi_1day.drop(columns=['CJ_Close','Kospi_Close','CJ_Rate','Kospi_Rate'], axis=0, inplace=True)\n",
    "LowerThanKospi_1day"
   ]
  },
  {
   "cell_type": "code",
   "execution_count": null,
   "id": "66c4b1f8",
   "metadata": {
    "ExecuteTime": {
     "end_time": "2022-10-18T05:10:13.204665Z",
     "start_time": "2022-10-18T05:10:13.179085Z"
    }
   },
   "outputs": [],
   "source": [
    "LowerThanKospi_1day = pd.merge(df, LowerThanKospi_1day, on='date', how='outer')\n",
    "LowerThanKospi_1day = LowerThanKospi_1day.fillna(0)"
   ]
  },
  {
   "cell_type": "code",
   "execution_count": null,
   "id": "953abf1d",
   "metadata": {
    "ExecuteTime": {
     "end_time": "2022-10-18T05:19:01.010326Z",
     "start_time": "2022-10-18T05:19:00.984993Z"
    },
    "scrolled": true
   },
   "outputs": [],
   "source": [
    "LowerThanKospi_1day['LowerThanKospi_1day'] =  LowerThanKospi_1day['LowerThanKospi_1day'].replace(-0.5, -0.1)\n",
    "LowerThanKospi_1day"
   ]
  },
  {
   "cell_type": "code",
   "execution_count": null,
   "id": "7b950331",
   "metadata": {
    "ExecuteTime": {
     "end_time": "2022-10-18T05:18:42.229977Z",
     "start_time": "2022-10-18T05:18:42.217408Z"
    }
   },
   "outputs": [],
   "source": [
    "LowerThanKospi_1day.info()"
   ]
  },
  {
   "cell_type": "code",
   "execution_count": null,
   "id": "39b8c880",
   "metadata": {
    "ExecuteTime": {
     "end_time": "2022-10-18T05:18:42.481093Z",
     "start_time": "2022-10-18T05:18:42.474488Z"
    }
   },
   "outputs": [],
   "source": [
    "1007/5623 *100"
   ]
  },
  {
   "cell_type": "code",
   "execution_count": null,
   "id": "3128288a",
   "metadata": {
    "ExecuteTime": {
     "end_time": "2022-10-18T05:19:23.657062Z",
     "start_time": "2022-10-18T05:19:23.653667Z"
    }
   },
   "outputs": [],
   "source": [
    "LowerThanKospi_1day = LowerThanKospi_1day[:100]"
   ]
  },
  {
   "cell_type": "code",
   "execution_count": null,
   "id": "4918132a",
   "metadata": {
    "ExecuteTime": {
     "end_time": "2022-10-18T05:19:23.876974Z",
     "start_time": "2022-10-18T05:19:23.843879Z"
    },
    "scrolled": true
   },
   "outputs": [],
   "source": [
    "LowerThanKospi_1day"
   ]
  },
  {
   "cell_type": "code",
   "execution_count": null,
   "id": "ec251d8e",
   "metadata": {
    "ExecuteTime": {
     "end_time": "2022-10-18T05:20:55.318034Z",
     "start_time": "2022-10-18T05:20:55.171549Z"
    },
    "scrolled": false
   },
   "outputs": [],
   "source": [
    "# cj 대한통운 가격과 kospi 지수 변동율 그래프\n",
    "\n",
    "plt.figure(figsize=(20, 10))\n",
    "# plt.ylim([-0.5, 0.5]) \n",
    "plt.rcParams['font.family'] = 'AppleGothic'\n",
    "ax = sns.lineplot(data=LowerThanKospi_1day, x=\"date\", y=\"Kospi_Close\", label='Kospi_Close', color='blue')\n",
    "ax = sns.lineplot(data=LowerThanKospi_1day, x=\"date\", y=\"CJ_Close\", label='CJ_Close', color='orange')\n",
    "ax = sns.lineplot(data=LowerThanKospi_1day, x=\"date\", y=\"LowerThanKospi_1day\", label='↓', color='black')\n",
    "# ax = sns.scatterplot(data=LowerThanKospi_1day, x=\"date\", y=\"LowerThanKospi_1day\", label='↓', color='black')\n",
    "\n",
    "ax.set_xlabel('Date')\n",
    "ax.set_ylabel('Rate')\n",
    "\n",
    "plt.show()"
   ]
  },
  {
   "cell_type": "code",
   "execution_count": null,
   "id": "1a04e72c",
   "metadata": {},
   "outputs": [],
   "source": []
  },
  {
   "cell_type": "code",
   "execution_count": null,
   "id": "425669c8",
   "metadata": {},
   "outputs": [],
   "source": []
  }
 ],
 "metadata": {
  "kernelspec": {
   "display_name": "Python 3 (ipykernel)",
   "language": "python",
   "name": "python3"
  },
  "language_info": {
   "codemirror_mode": {
    "name": "ipython",
    "version": 3
   },
   "file_extension": ".py",
   "mimetype": "text/x-python",
   "name": "python",
   "nbconvert_exporter": "python",
   "pygments_lexer": "ipython3",
   "version": "3.8.13"
  },
  "toc": {
   "base_numbering": 1,
   "nav_menu": {},
   "number_sections": false,
   "sideBar": true,
   "skip_h1_title": false,
   "title_cell": "Table of Contents",
   "title_sidebar": "Contents",
   "toc_cell": false,
   "toc_position": {},
   "toc_section_display": true,
   "toc_window_display": false
  }
 },
 "nbformat": 4,
 "nbformat_minor": 5
}
