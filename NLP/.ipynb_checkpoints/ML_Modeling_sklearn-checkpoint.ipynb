{
 "cells": [
  {
   "cell_type": "code",
   "execution_count": 3,
   "id": "44c0283b",
   "metadata": {
    "ExecuteTime": {
     "end_time": "2022-10-06T12:09:52.667704Z",
     "start_time": "2022-10-06T12:09:52.644932Z"
    },
    "scrolled": true
   },
   "outputs": [
    {
     "name": "stderr",
     "output_type": "stream",
     "text": [
      "[nltk_data] Downloading collection 'all'\n",
      "[nltk_data]    | \n",
      "[nltk_data]    | Downloading package abc to /Users/lhs/nltk_data...\n",
      "[nltk_data]    |   Package abc is already up-to-date!\n",
      "[nltk_data]    | Downloading package alpino to /Users/lhs/nltk_data...\n",
      "[nltk_data]    |   Package alpino is already up-to-date!\n",
      "[nltk_data]    | Downloading package averaged_perceptron_tagger to\n",
      "[nltk_data]    |     /Users/lhs/nltk_data...\n",
      "[nltk_data]    |   Package averaged_perceptron_tagger is already up-\n",
      "[nltk_data]    |       to-date!\n",
      "[nltk_data]    | Downloading package averaged_perceptron_tagger_ru to\n",
      "[nltk_data]    |     /Users/lhs/nltk_data...\n",
      "[nltk_data]    |   Package averaged_perceptron_tagger_ru is already\n",
      "[nltk_data]    |       up-to-date!\n",
      "[nltk_data]    | Downloading package basque_grammars to\n",
      "[nltk_data]    |     /Users/lhs/nltk_data...\n",
      "[nltk_data]    |   Package basque_grammars is already up-to-date!\n",
      "[nltk_data]    | Downloading package biocreative_ppi to\n",
      "[nltk_data]    |     /Users/lhs/nltk_data...\n",
      "[nltk_data]    |   Package biocreative_ppi is already up-to-date!\n",
      "[nltk_data]    | Downloading package bllip_wsj_no_aux to\n",
      "[nltk_data]    |     /Users/lhs/nltk_data...\n",
      "[nltk_data]    |   Package bllip_wsj_no_aux is already up-to-date!\n",
      "[nltk_data]    | Downloading package book_grammars to\n",
      "[nltk_data]    |     /Users/lhs/nltk_data...\n",
      "[nltk_data]    |   Package book_grammars is already up-to-date!\n",
      "[nltk_data]    | Downloading package brown to /Users/lhs/nltk_data...\n",
      "[nltk_data]    |   Package brown is already up-to-date!\n",
      "[nltk_data]    | Downloading package brown_tei to\n",
      "[nltk_data]    |     /Users/lhs/nltk_data...\n",
      "[nltk_data]    |   Package brown_tei is already up-to-date!\n",
      "[nltk_data]    | Downloading package cess_cat to\n",
      "[nltk_data]    |     /Users/lhs/nltk_data...\n",
      "[nltk_data]    |   Package cess_cat is already up-to-date!\n",
      "[nltk_data]    | Downloading package cess_esp to\n",
      "[nltk_data]    |     /Users/lhs/nltk_data...\n",
      "[nltk_data]    |   Package cess_esp is already up-to-date!\n",
      "[nltk_data]    | Downloading package chat80 to /Users/lhs/nltk_data...\n",
      "[nltk_data]    |   Package chat80 is already up-to-date!\n",
      "[nltk_data]    | Downloading package city_database to\n",
      "[nltk_data]    |     /Users/lhs/nltk_data...\n",
      "[nltk_data]    |   Package city_database is already up-to-date!\n",
      "[nltk_data]    | Downloading package cmudict to\n",
      "[nltk_data]    |     /Users/lhs/nltk_data...\n",
      "[nltk_data]    |   Package cmudict is already up-to-date!\n",
      "[nltk_data]    | Downloading package comparative_sentences to\n",
      "[nltk_data]    |     /Users/lhs/nltk_data...\n",
      "[nltk_data]    |   Package comparative_sentences is already up-to-\n",
      "[nltk_data]    |       date!\n",
      "[nltk_data]    | Downloading package comtrans to\n",
      "[nltk_data]    |     /Users/lhs/nltk_data...\n",
      "[nltk_data]    |   Package comtrans is already up-to-date!\n",
      "[nltk_data]    | Downloading package conll2000 to\n",
      "[nltk_data]    |     /Users/lhs/nltk_data...\n",
      "[nltk_data]    |   Package conll2000 is already up-to-date!\n",
      "[nltk_data]    | Downloading package conll2002 to\n",
      "[nltk_data]    |     /Users/lhs/nltk_data...\n",
      "[nltk_data]    |   Package conll2002 is already up-to-date!\n",
      "[nltk_data]    | Downloading package conll2007 to\n",
      "[nltk_data]    |     /Users/lhs/nltk_data...\n",
      "[nltk_data]    |   Package conll2007 is already up-to-date!\n",
      "[nltk_data]    | Downloading package crubadan to\n",
      "[nltk_data]    |     /Users/lhs/nltk_data...\n",
      "[nltk_data]    |   Package crubadan is already up-to-date!\n",
      "[nltk_data]    | Downloading package dependency_treebank to\n",
      "[nltk_data]    |     /Users/lhs/nltk_data...\n",
      "[nltk_data]    |   Package dependency_treebank is already up-to-date!\n",
      "[nltk_data]    | Downloading package dolch to /Users/lhs/nltk_data...\n",
      "[nltk_data]    |   Package dolch is already up-to-date!\n",
      "[nltk_data]    | Downloading package europarl_raw to\n",
      "[nltk_data]    |     /Users/lhs/nltk_data...\n",
      "[nltk_data]    |   Package europarl_raw is already up-to-date!\n",
      "[nltk_data]    | Downloading package extended_omw to\n",
      "[nltk_data]    |     /Users/lhs/nltk_data...\n",
      "[nltk_data]    |   Package extended_omw is already up-to-date!\n",
      "[nltk_data]    | Downloading package floresta to\n",
      "[nltk_data]    |     /Users/lhs/nltk_data...\n",
      "[nltk_data]    |   Package floresta is already up-to-date!\n",
      "[nltk_data]    | Downloading package framenet_v15 to\n",
      "[nltk_data]    |     /Users/lhs/nltk_data...\n",
      "[nltk_data]    |   Package framenet_v15 is already up-to-date!\n",
      "[nltk_data]    | Downloading package framenet_v17 to\n",
      "[nltk_data]    |     /Users/lhs/nltk_data...\n",
      "[nltk_data]    |   Package framenet_v17 is already up-to-date!\n",
      "[nltk_data]    | Downloading package gazetteers to\n",
      "[nltk_data]    |     /Users/lhs/nltk_data...\n",
      "[nltk_data]    |   Package gazetteers is already up-to-date!\n",
      "[nltk_data]    | Downloading package genesis to\n",
      "[nltk_data]    |     /Users/lhs/nltk_data...\n",
      "[nltk_data]    |   Package genesis is already up-to-date!\n",
      "[nltk_data]    | Downloading package gutenberg to\n",
      "[nltk_data]    |     /Users/lhs/nltk_data...\n",
      "[nltk_data]    |   Package gutenberg is already up-to-date!\n",
      "[nltk_data]    | Downloading package ieer to /Users/lhs/nltk_data...\n",
      "[nltk_data]    |   Package ieer is already up-to-date!\n",
      "[nltk_data]    | Downloading package inaugural to\n",
      "[nltk_data]    |     /Users/lhs/nltk_data...\n",
      "[nltk_data]    |   Package inaugural is already up-to-date!\n",
      "[nltk_data]    | Downloading package indian to /Users/lhs/nltk_data...\n",
      "[nltk_data]    |   Package indian is already up-to-date!\n",
      "[nltk_data]    | Downloading package jeita to /Users/lhs/nltk_data...\n",
      "[nltk_data]    |   Package jeita is already up-to-date!\n",
      "[nltk_data]    | Downloading package kimmo to /Users/lhs/nltk_data...\n",
      "[nltk_data]    |   Package kimmo is already up-to-date!\n",
      "[nltk_data]    | Downloading package knbc to /Users/lhs/nltk_data...\n",
      "[nltk_data]    |   Package knbc is already up-to-date!\n",
      "[nltk_data]    | Downloading package large_grammars to\n",
      "[nltk_data]    |     /Users/lhs/nltk_data...\n",
      "[nltk_data]    |   Package large_grammars is already up-to-date!\n",
      "[nltk_data]    | Downloading package lin_thesaurus to\n",
      "[nltk_data]    |     /Users/lhs/nltk_data...\n",
      "[nltk_data]    |   Package lin_thesaurus is already up-to-date!\n",
      "[nltk_data]    | Downloading package mac_morpho to\n",
      "[nltk_data]    |     /Users/lhs/nltk_data...\n",
      "[nltk_data]    |   Package mac_morpho is already up-to-date!\n",
      "[nltk_data]    | Downloading package machado to\n",
      "[nltk_data]    |     /Users/lhs/nltk_data...\n",
      "[nltk_data]    |   Package machado is already up-to-date!\n",
      "[nltk_data]    | Downloading package masc_tagged to\n",
      "[nltk_data]    |     /Users/lhs/nltk_data...\n",
      "[nltk_data]    |   Package masc_tagged is already up-to-date!\n",
      "[nltk_data]    | Downloading package maxent_ne_chunker to\n",
      "[nltk_data]    |     /Users/lhs/nltk_data...\n",
      "[nltk_data]    |   Package maxent_ne_chunker is already up-to-date!\n",
      "[nltk_data]    | Downloading package maxent_treebank_pos_tagger to\n",
      "[nltk_data]    |     /Users/lhs/nltk_data...\n",
      "[nltk_data]    |   Package maxent_treebank_pos_tagger is already up-\n",
      "[nltk_data]    |       to-date!\n",
      "[nltk_data]    | Downloading package moses_sample to\n",
      "[nltk_data]    |     /Users/lhs/nltk_data...\n",
      "[nltk_data]    |   Package moses_sample is already up-to-date!\n",
      "[nltk_data]    | Downloading package movie_reviews to\n",
      "[nltk_data]    |     /Users/lhs/nltk_data...\n",
      "[nltk_data]    |   Package movie_reviews is already up-to-date!\n",
      "[nltk_data]    | Downloading package mte_teip5 to\n",
      "[nltk_data]    |     /Users/lhs/nltk_data...\n",
      "[nltk_data]    |   Package mte_teip5 is already up-to-date!\n",
      "[nltk_data]    | Downloading package mwa_ppdb to\n",
      "[nltk_data]    |     /Users/lhs/nltk_data...\n",
      "[nltk_data]    |   Package mwa_ppdb is already up-to-date!\n",
      "[nltk_data]    | Downloading package names to /Users/lhs/nltk_data...\n",
      "[nltk_data]    |   Package names is already up-to-date!\n",
      "[nltk_data]    | Downloading package nombank.1.0 to\n",
      "[nltk_data]    |     /Users/lhs/nltk_data...\n",
      "[nltk_data]    |   Package nombank.1.0 is already up-to-date!\n",
      "[nltk_data]    | Downloading package nonbreaking_prefixes to\n",
      "[nltk_data]    |     /Users/lhs/nltk_data...\n",
      "[nltk_data]    |   Package nonbreaking_prefixes is already up-to-date!\n",
      "[nltk_data]    | Downloading package nps_chat to\n",
      "[nltk_data]    |     /Users/lhs/nltk_data...\n",
      "[nltk_data]    |   Package nps_chat is already up-to-date!\n",
      "[nltk_data]    | Downloading package omw to /Users/lhs/nltk_data...\n",
      "[nltk_data]    |   Package omw is already up-to-date!\n",
      "[nltk_data]    | Downloading package omw-1.4 to\n",
      "[nltk_data]    |     /Users/lhs/nltk_data...\n",
      "[nltk_data]    |   Package omw-1.4 is already up-to-date!\n",
      "[nltk_data]    | Downloading package opinion_lexicon to\n",
      "[nltk_data]    |     /Users/lhs/nltk_data...\n",
      "[nltk_data]    |   Package opinion_lexicon is already up-to-date!\n",
      "[nltk_data]    | Downloading package panlex_swadesh to\n",
      "[nltk_data]    |     /Users/lhs/nltk_data...\n",
      "[nltk_data]    |   Package panlex_swadesh is already up-to-date!\n",
      "[nltk_data]    | Downloading package paradigms to\n",
      "[nltk_data]    |     /Users/lhs/nltk_data...\n",
      "[nltk_data]    |   Package paradigms is already up-to-date!\n",
      "[nltk_data]    | Downloading package pe08 to /Users/lhs/nltk_data...\n",
      "[nltk_data]    |   Package pe08 is already up-to-date!\n",
      "[nltk_data]    | Downloading package perluniprops to\n",
      "[nltk_data]    |     /Users/lhs/nltk_data...\n",
      "[nltk_data]    |   Package perluniprops is already up-to-date!\n",
      "[nltk_data]    | Downloading package pil to /Users/lhs/nltk_data...\n",
      "[nltk_data]    |   Package pil is already up-to-date!\n",
      "[nltk_data]    | Downloading package pl196x to /Users/lhs/nltk_data...\n",
      "[nltk_data]    |   Package pl196x is already up-to-date!\n",
      "[nltk_data]    | Downloading package porter_test to\n",
      "[nltk_data]    |     /Users/lhs/nltk_data...\n",
      "[nltk_data]    |   Package porter_test is already up-to-date!\n",
      "[nltk_data]    | Downloading package ppattach to\n",
      "[nltk_data]    |     /Users/lhs/nltk_data...\n",
      "[nltk_data]    |   Package ppattach is already up-to-date!\n",
      "[nltk_data]    | Downloading package problem_reports to\n",
      "[nltk_data]    |     /Users/lhs/nltk_data...\n",
      "[nltk_data]    |   Package problem_reports is already up-to-date!\n",
      "[nltk_data]    | Downloading package product_reviews_1 to\n",
      "[nltk_data]    |     /Users/lhs/nltk_data...\n",
      "[nltk_data]    |   Package product_reviews_1 is already up-to-date!\n",
      "[nltk_data]    | Downloading package product_reviews_2 to\n",
      "[nltk_data]    |     /Users/lhs/nltk_data...\n",
      "[nltk_data]    |   Package product_reviews_2 is already up-to-date!\n",
      "[nltk_data]    | Downloading package propbank to\n",
      "[nltk_data]    |     /Users/lhs/nltk_data...\n",
      "[nltk_data]    |   Package propbank is already up-to-date!\n",
      "[nltk_data]    | Downloading package pros_cons to\n",
      "[nltk_data]    |     /Users/lhs/nltk_data...\n",
      "[nltk_data]    |   Package pros_cons is already up-to-date!\n",
      "[nltk_data]    | Downloading package ptb to /Users/lhs/nltk_data...\n",
      "[nltk_data]    |   Package ptb is already up-to-date!\n",
      "[nltk_data]    | Downloading package punkt to /Users/lhs/nltk_data...\n",
      "[nltk_data]    |   Package punkt is already up-to-date!\n",
      "[nltk_data]    | Downloading package qc to /Users/lhs/nltk_data...\n",
      "[nltk_data]    |   Package qc is already up-to-date!\n",
      "[nltk_data]    | Downloading package reuters to\n",
      "[nltk_data]    |     /Users/lhs/nltk_data...\n",
      "[nltk_data]    |   Package reuters is already up-to-date!\n",
      "[nltk_data]    | Downloading package rslp to /Users/lhs/nltk_data...\n",
      "[nltk_data]    |   Package rslp is already up-to-date!\n",
      "[nltk_data]    | Downloading package rte to /Users/lhs/nltk_data...\n",
      "[nltk_data]    |   Package rte is already up-to-date!\n",
      "[nltk_data]    | Downloading package sample_grammars to\n",
      "[nltk_data]    |     /Users/lhs/nltk_data...\n",
      "[nltk_data]    |   Package sample_grammars is already up-to-date!\n",
      "[nltk_data]    | Downloading package semcor to /Users/lhs/nltk_data...\n",
      "[nltk_data]    |   Package semcor is already up-to-date!\n",
      "[nltk_data]    | Downloading package senseval to\n",
      "[nltk_data]    |     /Users/lhs/nltk_data...\n",
      "[nltk_data]    |   Package senseval is already up-to-date!\n",
      "[nltk_data]    | Downloading package sentence_polarity to\n",
      "[nltk_data]    |     /Users/lhs/nltk_data...\n",
      "[nltk_data]    |   Package sentence_polarity is already up-to-date!\n",
      "[nltk_data]    | Downloading package sentiwordnet to\n",
      "[nltk_data]    |     /Users/lhs/nltk_data...\n",
      "[nltk_data]    |   Package sentiwordnet is already up-to-date!\n",
      "[nltk_data]    | Downloading package shakespeare to\n",
      "[nltk_data]    |     /Users/lhs/nltk_data...\n",
      "[nltk_data]    |   Package shakespeare is already up-to-date!\n",
      "[nltk_data]    | Downloading package sinica_treebank to\n",
      "[nltk_data]    |     /Users/lhs/nltk_data...\n",
      "[nltk_data]    |   Package sinica_treebank is already up-to-date!\n",
      "[nltk_data]    | Downloading package smultron to\n",
      "[nltk_data]    |     /Users/lhs/nltk_data...\n",
      "[nltk_data]    |   Package smultron is already up-to-date!\n",
      "[nltk_data]    | Downloading package snowball_data to\n",
      "[nltk_data]    |     /Users/lhs/nltk_data...\n",
      "[nltk_data]    |   Package snowball_data is already up-to-date!\n",
      "[nltk_data]    | Downloading package spanish_grammars to\n",
      "[nltk_data]    |     /Users/lhs/nltk_data...\n",
      "[nltk_data]    |   Package spanish_grammars is already up-to-date!\n",
      "[nltk_data]    | Downloading package state_union to\n",
      "[nltk_data]    |     /Users/lhs/nltk_data...\n",
      "[nltk_data]    |   Package state_union is already up-to-date!\n",
      "[nltk_data]    | Downloading package stopwords to\n",
      "[nltk_data]    |     /Users/lhs/nltk_data...\n",
      "[nltk_data]    |   Package stopwords is already up-to-date!\n",
      "[nltk_data]    | Downloading package subjectivity to\n",
      "[nltk_data]    |     /Users/lhs/nltk_data...\n",
      "[nltk_data]    |   Package subjectivity is already up-to-date!\n",
      "[nltk_data]    | Downloading package swadesh to\n",
      "[nltk_data]    |     /Users/lhs/nltk_data...\n",
      "[nltk_data]    |   Package swadesh is already up-to-date!\n",
      "[nltk_data]    | Downloading package switchboard to\n",
      "[nltk_data]    |     /Users/lhs/nltk_data...\n",
      "[nltk_data]    |   Package switchboard is already up-to-date!\n",
      "[nltk_data]    | Downloading package tagsets to\n",
      "[nltk_data]    |     /Users/lhs/nltk_data...\n",
      "[nltk_data]    |   Package tagsets is already up-to-date!\n",
      "[nltk_data]    | Downloading package timit to /Users/lhs/nltk_data...\n",
      "[nltk_data]    |   Package timit is already up-to-date!\n",
      "[nltk_data]    | Downloading package toolbox to\n",
      "[nltk_data]    |     /Users/lhs/nltk_data...\n",
      "[nltk_data]    |   Package toolbox is already up-to-date!\n",
      "[nltk_data]    | Downloading package treebank to\n",
      "[nltk_data]    |     /Users/lhs/nltk_data...\n",
      "[nltk_data]    |   Package treebank is already up-to-date!\n",
      "[nltk_data]    | Downloading package twitter_samples to\n",
      "[nltk_data]    |     /Users/lhs/nltk_data...\n",
      "[nltk_data]    |   Package twitter_samples is already up-to-date!\n",
      "[nltk_data]    | Downloading package udhr to /Users/lhs/nltk_data...\n",
      "[nltk_data]    |   Package udhr is already up-to-date!\n",
      "[nltk_data]    | Downloading package udhr2 to /Users/lhs/nltk_data...\n",
      "[nltk_data]    |   Package udhr2 is already up-to-date!\n",
      "[nltk_data]    | Downloading package unicode_samples to\n",
      "[nltk_data]    |     /Users/lhs/nltk_data...\n",
      "[nltk_data]    |   Package unicode_samples is already up-to-date!\n",
      "[nltk_data]    | Downloading package universal_tagset to\n",
      "[nltk_data]    |     /Users/lhs/nltk_data...\n",
      "[nltk_data]    |   Package universal_tagset is already up-to-date!\n",
      "[nltk_data]    | Downloading package universal_treebanks_v20 to\n",
      "[nltk_data]    |     /Users/lhs/nltk_data...\n",
      "[nltk_data]    |   Package universal_treebanks_v20 is already up-to-\n",
      "[nltk_data]    |       date!\n",
      "[nltk_data]    | Downloading package vader_lexicon to\n",
      "[nltk_data]    |     /Users/lhs/nltk_data...\n",
      "[nltk_data]    |   Package vader_lexicon is already up-to-date!\n",
      "[nltk_data]    | Downloading package verbnet to\n",
      "[nltk_data]    |     /Users/lhs/nltk_data...\n",
      "[nltk_data]    |   Package verbnet is already up-to-date!\n",
      "[nltk_data]    | Downloading package verbnet3 to\n",
      "[nltk_data]    |     /Users/lhs/nltk_data...\n",
      "[nltk_data]    |   Package verbnet3 is already up-to-date!\n",
      "[nltk_data]    | Downloading package webtext to\n",
      "[nltk_data]    |     /Users/lhs/nltk_data...\n",
      "[nltk_data]    |   Package webtext is already up-to-date!\n",
      "[nltk_data]    | Downloading package wmt15_eval to\n",
      "[nltk_data]    |     /Users/lhs/nltk_data...\n",
      "[nltk_data]    |   Package wmt15_eval is already up-to-date!\n",
      "[nltk_data]    | Downloading package word2vec_sample to\n",
      "[nltk_data]    |     /Users/lhs/nltk_data...\n",
      "[nltk_data]    |   Package word2vec_sample is already up-to-date!\n",
      "[nltk_data]    | Downloading package wordnet to\n",
      "[nltk_data]    |     /Users/lhs/nltk_data...\n",
      "[nltk_data]    |   Package wordnet is already up-to-date!\n",
      "[nltk_data]    | Downloading package wordnet2021 to\n",
      "[nltk_data]    |     /Users/lhs/nltk_data...\n",
      "[nltk_data]    |   Package wordnet2021 is already up-to-date!\n",
      "[nltk_data]    | Downloading package wordnet31 to\n",
      "[nltk_data]    |     /Users/lhs/nltk_data...\n",
      "[nltk_data]    |   Package wordnet31 is already up-to-date!\n",
      "[nltk_data]    | Downloading package wordnet_ic to\n",
      "[nltk_data]    |     /Users/lhs/nltk_data...\n",
      "[nltk_data]    |   Package wordnet_ic is already up-to-date!\n",
      "[nltk_data]    | Downloading package words to /Users/lhs/nltk_data...\n",
      "[nltk_data]    |   Package words is already up-to-date!\n",
      "[nltk_data]    | Downloading package ycoe to /Users/lhs/nltk_data...\n",
      "[nltk_data]    |   Package ycoe is already up-to-date!\n",
      "[nltk_data]    | \n",
      "[nltk_data]  Done downloading collection all\n"
     ]
    },
    {
     "data": {
      "text/plain": [
       "True"
      ]
     },
     "execution_count": 3,
     "metadata": {},
     "output_type": "execute_result"
    }
   ],
   "source": [
    "import numpy as np\n",
    "import pandas as pd\n",
    "\n",
    "import re\n",
    "import warnings\n",
    "warnings.filterwarnings(action='ignore')\n",
    "import nltk\n",
    "nltk.download('all') # 처음 실행 시 주석을 제거하고 실행해주세요!"
   ]
  },
  {
   "cell_type": "code",
   "execution_count": 4,
   "id": "aa6794ec",
   "metadata": {
    "ExecuteTime": {
     "end_time": "2022-10-06T12:09:54.033424Z",
     "start_time": "2022-10-06T12:09:54.026887Z"
    }
   },
   "outputs": [],
   "source": [
    "from sklearn.feature_extraction.text import TfidfVectorizer\n",
    "from sklearn.pipeline import Pipeline\n",
    "from sklearn.model_selection import StratifiedKFold\n",
    "from sklearn.metrics import accuracy_score\n",
    "from sklearn.naive_bayes import BernoulliNB\n",
    "from sklearn.linear_model import SGDClassifier\n",
    "from sklearn.ensemble import RandomForestClassifier, AdaBoostClassifier\n",
    "from sklearn.svm import SVC\n",
    "from sklearn.neighbors import KNeighborsClassifier\n",
    "from sklearn.ensemble import StackingClassifier\n",
    "\n",
    "from tqdm.auto import tqdm\n",
    "\n",
    "from lightgbm import LGBMClassifier\n",
    "from xgboost import XGBClassifier"
   ]
  },
  {
   "cell_type": "code",
   "execution_count": 20,
   "id": "a6b6e795",
   "metadata": {
    "ExecuteTime": {
     "end_time": "2022-10-06T12:15:41.074153Z",
     "start_time": "2022-10-06T12:15:41.042484Z"
    }
   },
   "outputs": [],
   "source": [
    "import rich  # 출력을 예쁘게 꾸며주는 라이브러리\n",
    "from rich.table import Table"
   ]
  },
  {
   "cell_type": "code",
   "execution_count": 5,
   "id": "4567b9be",
   "metadata": {
    "ExecuteTime": {
     "end_time": "2022-10-06T12:09:57.257301Z",
     "start_time": "2022-10-06T12:09:57.088143Z"
    }
   },
   "outputs": [],
   "source": [
    "df = pd.read_excel('news_label.xlsx', engine='openpyxl')"
   ]
  },
  {
   "cell_type": "code",
   "execution_count": 6,
   "id": "fd66d057",
   "metadata": {
    "ExecuteTime": {
     "end_time": "2022-10-06T12:09:57.429208Z",
     "start_time": "2022-10-06T12:09:57.422393Z"
    }
   },
   "outputs": [],
   "source": [
    "df = df.rename(columns={'dates':'date', 'titles':'title','contents':'content'})\n",
    "df['content'] = df['title'] + df['content']"
   ]
  },
  {
   "cell_type": "code",
   "execution_count": 7,
   "id": "423625df",
   "metadata": {
    "ExecuteTime": {
     "end_time": "2022-10-06T12:09:58.150199Z",
     "start_time": "2022-10-06T12:09:58.144945Z"
    }
   },
   "outputs": [],
   "source": [
    "df = df.drop(columns=['근거', 'title'])"
   ]
  },
  {
   "cell_type": "code",
   "execution_count": 8,
   "id": "e6249a17",
   "metadata": {
    "ExecuteTime": {
     "end_time": "2022-10-06T12:10:09.348111Z",
     "start_time": "2022-10-06T12:10:09.332587Z"
    }
   },
   "outputs": [
    {
     "data": {
      "text/html": [
       "<div>\n",
       "<style scoped>\n",
       "    .dataframe tbody tr th:only-of-type {\n",
       "        vertical-align: middle;\n",
       "    }\n",
       "\n",
       "    .dataframe tbody tr th {\n",
       "        vertical-align: top;\n",
       "    }\n",
       "\n",
       "    .dataframe thead th {\n",
       "        text-align: right;\n",
       "    }\n",
       "</style>\n",
       "<table border=\"1\" class=\"dataframe\">\n",
       "  <thead>\n",
       "    <tr style=\"text-align: right;\">\n",
       "      <th></th>\n",
       "      <th>date</th>\n",
       "      <th>content</th>\n",
       "      <th>label</th>\n",
       "    </tr>\n",
       "  </thead>\n",
       "  <tbody>\n",
       "    <tr>\n",
       "      <th>0</th>\n",
       "      <td>2021.10.05</td>\n",
       "      <td>[[톡톡 이상품] 한빛코리아 / 다지워 네이처 클렌징 솝]//[\\n마스카라까지 지우...</td>\n",
       "      <td>0</td>\n",
       "    </tr>\n",
       "    <tr>\n",
       "      <th>1</th>\n",
       "      <td>2021.10.07</td>\n",
       "      <td>[[격동의 유통가④]편의점 성장 정체…미래는 근거리 쇼핑]//[\"파괴적 커머스 시대...</td>\n",
       "      <td>1</td>\n",
       "    </tr>\n",
       "    <tr>\n",
       "      <th>2</th>\n",
       "      <td>2021.10.08</td>\n",
       "      <td>[株머니 매니저의 HOT종목]//[\\n\\n\\n\\n\\n 씨에스윈드는 풍력발전기를 구성...</td>\n",
       "      <td>1</td>\n",
       "    </tr>\n",
       "    <tr>\n",
       "      <th>3</th>\n",
       "      <td>2021.10.11</td>\n",
       "      <td>[김민수 더맘마 대표 \"동네마트와 '상생'이 경쟁력…30분 총알배송 목표\"]//[\\...</td>\n",
       "      <td>0</td>\n",
       "    </tr>\n",
       "    <tr>\n",
       "      <th>4</th>\n",
       "      <td>2021.10.13</td>\n",
       "      <td>[\"카카오 보고있나\"…진격의 네이버페이, 中 최대 직구몰 손잡았다]//[[주간투자동...</td>\n",
       "      <td>1</td>\n",
       "    </tr>\n",
       "    <tr>\n",
       "      <th>...</th>\n",
       "      <td>...</td>\n",
       "      <td>...</td>\n",
       "      <td>...</td>\n",
       "    </tr>\n",
       "    <tr>\n",
       "      <th>162</th>\n",
       "      <td>2022.04.22</td>\n",
       "      <td>[NH투자증권, SK에코플랜트 주관사 선정… IPO 실적 호조]//[우리생협, 오아...</td>\n",
       "      <td>-1</td>\n",
       "    </tr>\n",
       "    <tr>\n",
       "      <th>163</th>\n",
       "      <td>2022.04.25</td>\n",
       "      <td>[“500억 투자했는데”... 홍정국의 아픈 손가락 ‘헬로네이처’ 매각 적신호]//...</td>\n",
       "      <td>1</td>\n",
       "    </tr>\n",
       "    <tr>\n",
       "      <th>164</th>\n",
       "      <td>2022.04.26</td>\n",
       "      <td>[오아시스마켓 \"오프라인 매장 간판서 '생협' 제외\"]//[[고고IPO] ‘업계 4...</td>\n",
       "      <td>1</td>\n",
       "    </tr>\n",
       "    <tr>\n",
       "      <th>165</th>\n",
       "      <td>2022.04.27</td>\n",
       "      <td>[[마켓인]프롭테크하면 무조건 뜬다?…투자유치 '부익부 빈익빈']//[IPO 앞둔 ...</td>\n",
       "      <td>-1</td>\n",
       "    </tr>\n",
       "    <tr>\n",
       "      <th>166</th>\n",
       "      <td>2022.04.28</td>\n",
       "      <td>[새벽배송 '헬로네이처', CU와 시너지 못낸 이유는?]//[디지털라이프 5~50%...</td>\n",
       "      <td>-1</td>\n",
       "    </tr>\n",
       "  </tbody>\n",
       "</table>\n",
       "<p>167 rows × 3 columns</p>\n",
       "</div>"
      ],
      "text/plain": [
       "           date                                            content label\n",
       "0    2021.10.05  [[톡톡 이상품] 한빛코리아 / 다지워 네이처 클렌징 솝]//[\\n마스카라까지 지우...     0\n",
       "1    2021.10.07  [[격동의 유통가④]편의점 성장 정체…미래는 근거리 쇼핑]//[\"파괴적 커머스 시대...     1\n",
       "2    2021.10.08  [株머니 매니저의 HOT종목]//[\\n\\n\\n\\n\\n 씨에스윈드는 풍력발전기를 구성...     1\n",
       "3    2021.10.11  [김민수 더맘마 대표 \"동네마트와 '상생'이 경쟁력…30분 총알배송 목표\"]//[\\...     0\n",
       "4    2021.10.13  [\"카카오 보고있나\"…진격의 네이버페이, 中 최대 직구몰 손잡았다]//[[주간투자동...     1\n",
       "..          ...                                                ...   ...\n",
       "162  2022.04.22  [NH투자증권, SK에코플랜트 주관사 선정… IPO 실적 호조]//[우리생협, 오아...    -1\n",
       "163  2022.04.25  [“500억 투자했는데”... 홍정국의 아픈 손가락 ‘헬로네이처’ 매각 적신호]//...     1\n",
       "164  2022.04.26  [오아시스마켓 \"오프라인 매장 간판서 '생협' 제외\"]//[[고고IPO] ‘업계 4...     1\n",
       "165  2022.04.27  [[마켓인]프롭테크하면 무조건 뜬다?…투자유치 '부익부 빈익빈']//[IPO 앞둔 ...    -1\n",
       "166  2022.04.28  [새벽배송 '헬로네이처', CU와 시너지 못낸 이유는?]//[디지털라이프 5~50%...    -1\n",
       "\n",
       "[167 rows x 3 columns]"
      ]
     },
     "execution_count": 8,
     "metadata": {},
     "output_type": "execute_result"
    }
   ],
   "source": [
    "train = df[:167]\n",
    "train"
   ]
  },
  {
   "cell_type": "code",
   "execution_count": 9,
   "id": "8932bb1b",
   "metadata": {
    "ExecuteTime": {
     "end_time": "2022-10-06T12:10:10.760897Z",
     "start_time": "2022-10-06T12:10:10.746279Z"
    }
   },
   "outputs": [
    {
     "data": {
      "text/html": [
       "<div>\n",
       "<style scoped>\n",
       "    .dataframe tbody tr th:only-of-type {\n",
       "        vertical-align: middle;\n",
       "    }\n",
       "\n",
       "    .dataframe tbody tr th {\n",
       "        vertical-align: top;\n",
       "    }\n",
       "\n",
       "    .dataframe thead th {\n",
       "        text-align: right;\n",
       "    }\n",
       "</style>\n",
       "<table border=\"1\" class=\"dataframe\">\n",
       "  <thead>\n",
       "    <tr style=\"text-align: right;\">\n",
       "      <th></th>\n",
       "      <th>date</th>\n",
       "      <th>content</th>\n",
       "      <th>label</th>\n",
       "    </tr>\n",
       "  </thead>\n",
       "  <tbody>\n",
       "    <tr>\n",
       "      <th>167</th>\n",
       "      <td>2022.04.29</td>\n",
       "      <td>[공정위, 새벽배송업체 오아시스 ‘생협 간판’ 사용에 제동]//[\"무조건 창업 한번...</td>\n",
       "      <td>-</td>\n",
       "    </tr>\n",
       "    <tr>\n",
       "      <th>168</th>\n",
       "      <td>2022.04.30</td>\n",
       "      <td>[코로나 엔데믹 전환에 배송전쟁 판도 변화…점유율 경쟁 보다 ‘수익성’]//[\\n롯...</td>\n",
       "      <td>-</td>\n",
       "    </tr>\n",
       "    <tr>\n",
       "      <th>169</th>\n",
       "      <td>2022.05.02</td>\n",
       "      <td>[창업자 188명 '지상 IR' 날개…K-스타트업 등용문 '우뚝']//[오아시스마켓...</td>\n",
       "      <td>-</td>\n",
       "    </tr>\n",
       "    <tr>\n",
       "      <th>170</th>\n",
       "      <td>2022.05.03</td>\n",
       "      <td>[[엔데믹, 오다]이커머스 '옥석 가리기' 본격 시동]//[우여곡절 끝에 IPO 첫...</td>\n",
       "      <td>-</td>\n",
       "    </tr>\n",
       "    <tr>\n",
       "      <th>171</th>\n",
       "      <td>2022.05.04</td>\n",
       "      <td>[9조 원 규모 새벽배송 누가 살아남을까? 돈의 전쟁이 시작됐다!]//[\\n\\t\\t...</td>\n",
       "      <td>-</td>\n",
       "    </tr>\n",
       "    <tr>\n",
       "      <th>...</th>\n",
       "      <td>...</td>\n",
       "      <td>...</td>\n",
       "      <td>...</td>\n",
       "    </tr>\n",
       "    <tr>\n",
       "      <th>274</th>\n",
       "      <td>2022.09.23</td>\n",
       "      <td>[WCP 흥행 실패에 컬리, 케이뱅크 상장 시기 '안갯속']//[\\n심사 승인 났는...</td>\n",
       "      <td>-</td>\n",
       "    </tr>\n",
       "    <tr>\n",
       "      <th>275</th>\n",
       "      <td>2022.09.26</td>\n",
       "      <td>[[먹거리+IT] 네이처랩 오경주 대표, “맛있고 건강한 주스 추천 서비스를 개발합...</td>\n",
       "      <td>-</td>\n",
       "    </tr>\n",
       "    <tr>\n",
       "      <th>276</th>\n",
       "      <td>2022.09.27</td>\n",
       "      <td>[\"투자 늘렸는데 이제와서…\" 퀵커머스마저 규제하나 '초긴장']//[\\n■국감 오르...</td>\n",
       "      <td>-</td>\n",
       "    </tr>\n",
       "    <tr>\n",
       "      <th>277</th>\n",
       "      <td>2022.09.29</td>\n",
       "      <td>[국내 이커머스 상장 1호 주인공 누가될까 [격변의 이커머스①]]//[\\n이커머스 ...</td>\n",
       "      <td>-</td>\n",
       "    </tr>\n",
       "    <tr>\n",
       "      <th>278</th>\n",
       "      <td>2022.09.30</td>\n",
       "      <td>[오아시스마켓, 맞춤형 영상 콘텐츠 지원에 소상공인 매출 ‘쑥쑥’]//[\\n\"V 커...</td>\n",
       "      <td>-</td>\n",
       "    </tr>\n",
       "  </tbody>\n",
       "</table>\n",
       "<p>112 rows × 3 columns</p>\n",
       "</div>"
      ],
      "text/plain": [
       "           date                                            content label\n",
       "167  2022.04.29  [공정위, 새벽배송업체 오아시스 ‘생협 간판’ 사용에 제동]//[\"무조건 창업 한번...     -\n",
       "168  2022.04.30  [코로나 엔데믹 전환에 배송전쟁 판도 변화…점유율 경쟁 보다 ‘수익성’]//[\\n롯...     -\n",
       "169  2022.05.02  [창업자 188명 '지상 IR' 날개…K-스타트업 등용문 '우뚝']//[오아시스마켓...     -\n",
       "170  2022.05.03  [[엔데믹, 오다]이커머스 '옥석 가리기' 본격 시동]//[우여곡절 끝에 IPO 첫...     -\n",
       "171  2022.05.04  [9조 원 규모 새벽배송 누가 살아남을까? 돈의 전쟁이 시작됐다!]//[\\n\\t\\t...     -\n",
       "..          ...                                                ...   ...\n",
       "274  2022.09.23  [WCP 흥행 실패에 컬리, 케이뱅크 상장 시기 '안갯속']//[\\n심사 승인 났는...     -\n",
       "275  2022.09.26  [[먹거리+IT] 네이처랩 오경주 대표, “맛있고 건강한 주스 추천 서비스를 개발합...     -\n",
       "276  2022.09.27  [\"투자 늘렸는데 이제와서…\" 퀵커머스마저 규제하나 '초긴장']//[\\n■국감 오르...     -\n",
       "277  2022.09.29  [국내 이커머스 상장 1호 주인공 누가될까 [격변의 이커머스①]]//[\\n이커머스 ...     -\n",
       "278  2022.09.30  [오아시스마켓, 맞춤형 영상 콘텐츠 지원에 소상공인 매출 ‘쑥쑥’]//[\\n\"V 커...     -\n",
       "\n",
       "[112 rows x 3 columns]"
      ]
     },
     "execution_count": 9,
     "metadata": {},
     "output_type": "execute_result"
    }
   ],
   "source": [
    "# test set\n",
    "test = df[167:]\n",
    "test"
   ]
  },
  {
   "cell_type": "markdown",
   "id": "5c5f517d",
   "metadata": {},
   "source": [
    "### 학습/검증셋 분리"
   ]
  },
  {
   "cell_type": "markdown",
   "id": "8f933868",
   "metadata": {
    "ExecuteTime": {
     "end_time": "2022-10-06T11:13:17.079414Z",
     "start_time": "2022-10-06T11:13:17.075757Z"
    }
   },
   "source": [
    "from sklearn.model_selection import train_test_split\n",
    "\n",
    "train, val = train_test_split(df_train)\n",
    "train.reset_index(inplace=True) # 전처리 과정에서 데이터가 뒤섞이지 않도록 인덱스를 초기화해주었습니다.\n",
    "val.reset_index(inplace=True)"
   ]
  },
  {
   "cell_type": "markdown",
   "id": "d49af441",
   "metadata": {
    "ExecuteTime": {
     "end_time": "2022-10-06T11:13:17.085343Z",
     "start_time": "2022-10-06T11:13:17.080295Z"
    }
   },
   "source": [
    "### train.set_index('date')\n",
    "\n",
    "train = train.drop(columns = ['index'])\n",
    "train"
   ]
  },
  {
   "cell_type": "markdown",
   "id": "bc25d522",
   "metadata": {},
   "source": [
    "### 데이터 정제하기"
   ]
  },
  {
   "cell_type": "code",
   "execution_count": 10,
   "id": "eb2b810d",
   "metadata": {
    "ExecuteTime": {
     "end_time": "2022-10-06T12:10:29.654940Z",
     "start_time": "2022-10-06T12:10:29.538063Z"
    }
   },
   "outputs": [
    {
     "data": {
      "text/html": [
       "<div>\n",
       "<style scoped>\n",
       "    .dataframe tbody tr th:only-of-type {\n",
       "        vertical-align: middle;\n",
       "    }\n",
       "\n",
       "    .dataframe tbody tr th {\n",
       "        vertical-align: top;\n",
       "    }\n",
       "\n",
       "    .dataframe thead th {\n",
       "        text-align: right;\n",
       "    }\n",
       "</style>\n",
       "<table border=\"1\" class=\"dataframe\">\n",
       "  <thead>\n",
       "    <tr style=\"text-align: right;\">\n",
       "      <th></th>\n",
       "      <th>date</th>\n",
       "      <th>content</th>\n",
       "      <th>label</th>\n",
       "    </tr>\n",
       "  </thead>\n",
       "  <tbody>\n",
       "    <tr>\n",
       "      <th>0</th>\n",
       "      <td>2021.10.05</td>\n",
       "      <td>톡톡 이상품 한빛코리아 다지워 네이처 클렌징 솝 마스카라까지 지우는 세정비누 피부...</td>\n",
       "      <td>0</td>\n",
       "    </tr>\n",
       "    <tr>\n",
       "      <th>1</th>\n",
       "      <td>2021.10.07</td>\n",
       "      <td>격동의 유통가 편의점 성장 정체 미래는 근거리 쇼핑 파괴적 커머스 시대 데이터 경...</td>\n",
       "      <td>1</td>\n",
       "    </tr>\n",
       "    <tr>\n",
       "      <th>2</th>\n",
       "      <td>2021.10.08</td>\n",
       "      <td>머니 매니저의 HOT종목 씨에스윈드는 풍력발전기를 구성하는 타워 제작 및 설치를 ...</td>\n",
       "      <td>1</td>\n",
       "    </tr>\n",
       "    <tr>\n",
       "      <th>3</th>\n",
       "      <td>2021.10.11</td>\n",
       "      <td>김민수 더맘마 대표 동네마트와 상생 이 경쟁력 30분 총알배송 목표 별도 물류센터...</td>\n",
       "      <td>0</td>\n",
       "    </tr>\n",
       "    <tr>\n",
       "      <th>4</th>\n",
       "      <td>2021.10.13</td>\n",
       "      <td>카카오 보고있나 진격의 네이버페이 최대 직구몰 손잡았다 주간투자동향 파운트 400...</td>\n",
       "      <td>1</td>\n",
       "    </tr>\n",
       "    <tr>\n",
       "      <th>...</th>\n",
       "      <td>...</td>\n",
       "      <td>...</td>\n",
       "      <td>...</td>\n",
       "    </tr>\n",
       "    <tr>\n",
       "      <th>162</th>\n",
       "      <td>2022.04.22</td>\n",
       "      <td>NH투자증권 SK에코플랜트 주관사 선정 IPO 실적 호조 우리생협 오아시스 생협 ...</td>\n",
       "      <td>-1</td>\n",
       "    </tr>\n",
       "    <tr>\n",
       "      <th>163</th>\n",
       "      <td>2022.04.25</td>\n",
       "      <td>500억 투자했는데 홍정국의 아픈 손가락 헬로네이처 매각 적신호 FBG 캐피탈 한...</td>\n",
       "      <td>1</td>\n",
       "    </tr>\n",
       "    <tr>\n",
       "      <th>164</th>\n",
       "      <td>2022.04.26</td>\n",
       "      <td>오아시스마켓 오프라인 매장 간판서 생협 제외 고고IPO 업계 4위 11번가 상장 ...</td>\n",
       "      <td>1</td>\n",
       "    </tr>\n",
       "    <tr>\n",
       "      <th>165</th>\n",
       "      <td>2022.04.27</td>\n",
       "      <td>마켓인 프롭테크하면 무조건 뜬다 투자유치 부익부 빈익빈 IPO 앞둔 오아시스마켓 ...</td>\n",
       "      <td>-1</td>\n",
       "    </tr>\n",
       "    <tr>\n",
       "      <th>166</th>\n",
       "      <td>2022.04.28</td>\n",
       "      <td>새벽배송 헬로네이처 CU와 시너지 못낸 이유는 디지털라이프 5 50 캐시백 혜택 ...</td>\n",
       "      <td>-1</td>\n",
       "    </tr>\n",
       "  </tbody>\n",
       "</table>\n",
       "<p>167 rows × 3 columns</p>\n",
       "</div>"
      ],
      "text/plain": [
       "           date                                            content label\n",
       "0    2021.10.05   톡톡 이상품 한빛코리아 다지워 네이처 클렌징 솝 마스카라까지 지우는 세정비누 피부...     0\n",
       "1    2021.10.07   격동의 유통가 편의점 성장 정체 미래는 근거리 쇼핑 파괴적 커머스 시대 데이터 경...     1\n",
       "2    2021.10.08   머니 매니저의 HOT종목 씨에스윈드는 풍력발전기를 구성하는 타워 제작 및 설치를 ...     1\n",
       "3    2021.10.11   김민수 더맘마 대표 동네마트와 상생 이 경쟁력 30분 총알배송 목표 별도 물류센터...     0\n",
       "4    2021.10.13   카카오 보고있나 진격의 네이버페이 최대 직구몰 손잡았다 주간투자동향 파운트 400...     1\n",
       "..          ...                                                ...   ...\n",
       "162  2022.04.22   NH투자증권 SK에코플랜트 주관사 선정 IPO 실적 호조 우리생협 오아시스 생협 ...    -1\n",
       "163  2022.04.25   500억 투자했는데 홍정국의 아픈 손가락 헬로네이처 매각 적신호 FBG 캐피탈 한...     1\n",
       "164  2022.04.26   오아시스마켓 오프라인 매장 간판서 생협 제외 고고IPO 업계 4위 11번가 상장 ...     1\n",
       "165  2022.04.27   마켓인 프롭테크하면 무조건 뜬다 투자유치 부익부 빈익빈 IPO 앞둔 오아시스마켓 ...    -1\n",
       "166  2022.04.28   새벽배송 헬로네이처 CU와 시너지 못낸 이유는 디지털라이프 5 50 캐시백 혜택 ...    -1\n",
       "\n",
       "[167 rows x 3 columns]"
      ]
     },
     "execution_count": 10,
     "metadata": {},
     "output_type": "execute_result"
    }
   ],
   "source": [
    "# 문자 외의 것들 제거\n",
    "train['content'] = train['content'].str.replace('[^가-힣a-zA-Z0-9_]',' ')\n",
    "# 혹시 모를 다중 공백 제거\n",
    "train['content'] = train['content'].str.replace(' +',' ') \n",
    "train"
   ]
  },
  {
   "cell_type": "markdown",
   "id": "d00e68df",
   "metadata": {},
   "source": [
    "test data도 정제"
   ]
  },
  {
   "cell_type": "code",
   "execution_count": 11,
   "id": "7174c211",
   "metadata": {
    "ExecuteTime": {
     "end_time": "2022-10-06T12:10:31.590902Z",
     "start_time": "2022-10-06T12:10:31.525710Z"
    }
   },
   "outputs": [
    {
     "data": {
      "text/html": [
       "<div>\n",
       "<style scoped>\n",
       "    .dataframe tbody tr th:only-of-type {\n",
       "        vertical-align: middle;\n",
       "    }\n",
       "\n",
       "    .dataframe tbody tr th {\n",
       "        vertical-align: top;\n",
       "    }\n",
       "\n",
       "    .dataframe thead th {\n",
       "        text-align: right;\n",
       "    }\n",
       "</style>\n",
       "<table border=\"1\" class=\"dataframe\">\n",
       "  <thead>\n",
       "    <tr style=\"text-align: right;\">\n",
       "      <th></th>\n",
       "      <th>date</th>\n",
       "      <th>content</th>\n",
       "      <th>label</th>\n",
       "    </tr>\n",
       "  </thead>\n",
       "  <tbody>\n",
       "    <tr>\n",
       "      <th>167</th>\n",
       "      <td>2022.04.29</td>\n",
       "      <td>공정위 새벽배송업체 오아시스 생협 간판 사용에 제동 무조건 창업 한번 해봐 스타트...</td>\n",
       "      <td>-</td>\n",
       "    </tr>\n",
       "    <tr>\n",
       "      <th>168</th>\n",
       "      <td>2022.04.30</td>\n",
       "      <td>코로나 엔데믹 전환에 배송전쟁 판도 변화 점유율 경쟁 보다 수익성 롯데온 헬로네이...</td>\n",
       "      <td>-</td>\n",
       "    </tr>\n",
       "    <tr>\n",
       "      <th>169</th>\n",
       "      <td>2022.05.02</td>\n",
       "      <td>창업자 188명 지상 IR 날개 K 스타트업 등용문 우뚝 오아시스마켓 경북 세일 ...</td>\n",
       "      <td>-</td>\n",
       "    </tr>\n",
       "    <tr>\n",
       "      <th>170</th>\n",
       "      <td>2022.05.03</td>\n",
       "      <td>엔데믹 오다 이커머스 옥석 가리기 본격 시동 우여곡절 끝에 IPO 첫발 뗀 컬리 ...</td>\n",
       "      <td>-</td>\n",
       "    </tr>\n",
       "    <tr>\n",
       "      <th>171</th>\n",
       "      <td>2022.05.04</td>\n",
       "      <td>9조 원 규모 새벽배송 누가 살아남을까 돈의 전쟁이 시작됐다 뉴스데스크 앵커 밤 ...</td>\n",
       "      <td>-</td>\n",
       "    </tr>\n",
       "    <tr>\n",
       "      <th>...</th>\n",
       "      <td>...</td>\n",
       "      <td>...</td>\n",
       "      <td>...</td>\n",
       "    </tr>\n",
       "    <tr>\n",
       "      <th>274</th>\n",
       "      <td>2022.09.23</td>\n",
       "      <td>WCP 흥행 실패에 컬리 케이뱅크 상장 시기 안갯속 심사 승인 났는데 IPO 감감...</td>\n",
       "      <td>-</td>\n",
       "    </tr>\n",
       "    <tr>\n",
       "      <th>275</th>\n",
       "      <td>2022.09.26</td>\n",
       "      <td>먹거리 IT 네이처랩 오경주 대표 맛있고 건강한 주스 추천 서비스를 개발합니다 서...</td>\n",
       "      <td>-</td>\n",
       "    </tr>\n",
       "    <tr>\n",
       "      <th>276</th>\n",
       "      <td>2022.09.27</td>\n",
       "      <td>투자 늘렸는데 이제와서 퀵커머스마저 규제하나 초긴장 국감 오르는 유통업 새 먹거리...</td>\n",
       "      <td>-</td>\n",
       "    </tr>\n",
       "    <tr>\n",
       "      <th>277</th>\n",
       "      <td>2022.09.29</td>\n",
       "      <td>국내 이커머스 상장 1호 주인공 누가될까 격변의 이커머스 이커머스 IPO 대전 흑...</td>\n",
       "      <td>-</td>\n",
       "    </tr>\n",
       "    <tr>\n",
       "      <th>278</th>\n",
       "      <td>2022.09.30</td>\n",
       "      <td>오아시스마켓 맞춤형 영상 콘텐츠 지원에 소상공인 매출 쑥쑥 V 커머스 지원 사업으...</td>\n",
       "      <td>-</td>\n",
       "    </tr>\n",
       "  </tbody>\n",
       "</table>\n",
       "<p>112 rows × 3 columns</p>\n",
       "</div>"
      ],
      "text/plain": [
       "           date                                            content label\n",
       "167  2022.04.29   공정위 새벽배송업체 오아시스 생협 간판 사용에 제동 무조건 창업 한번 해봐 스타트...     -\n",
       "168  2022.04.30   코로나 엔데믹 전환에 배송전쟁 판도 변화 점유율 경쟁 보다 수익성 롯데온 헬로네이...     -\n",
       "169  2022.05.02   창업자 188명 지상 IR 날개 K 스타트업 등용문 우뚝 오아시스마켓 경북 세일 ...     -\n",
       "170  2022.05.03   엔데믹 오다 이커머스 옥석 가리기 본격 시동 우여곡절 끝에 IPO 첫발 뗀 컬리 ...     -\n",
       "171  2022.05.04   9조 원 규모 새벽배송 누가 살아남을까 돈의 전쟁이 시작됐다 뉴스데스크 앵커 밤 ...     -\n",
       "..          ...                                                ...   ...\n",
       "274  2022.09.23   WCP 흥행 실패에 컬리 케이뱅크 상장 시기 안갯속 심사 승인 났는데 IPO 감감...     -\n",
       "275  2022.09.26   먹거리 IT 네이처랩 오경주 대표 맛있고 건강한 주스 추천 서비스를 개발합니다 서...     -\n",
       "276  2022.09.27   투자 늘렸는데 이제와서 퀵커머스마저 규제하나 초긴장 국감 오르는 유통업 새 먹거리...     -\n",
       "277  2022.09.29   국내 이커머스 상장 1호 주인공 누가될까 격변의 이커머스 이커머스 IPO 대전 흑...     -\n",
       "278  2022.09.30   오아시스마켓 맞춤형 영상 콘텐츠 지원에 소상공인 매출 쑥쑥 V 커머스 지원 사업으...     -\n",
       "\n",
       "[112 rows x 3 columns]"
      ]
     },
     "execution_count": 11,
     "metadata": {},
     "output_type": "execute_result"
    }
   ],
   "source": [
    "# 문자 외의 것들 제거\n",
    "test['content'] = test['content'].str.replace('[^가-힣a-zA-Z0-9_]',' ')\n",
    "# 혹시 모를 다중 공백 제거\n",
    "test['content'] = test['content'].str.replace(' +',' ') \n",
    "test"
   ]
  },
  {
   "cell_type": "code",
   "execution_count": null,
   "id": "c629df50",
   "metadata": {
    "ExecuteTime": {
     "end_time": "2022-10-06T11:36:38.111432Z",
     "start_time": "2022-10-06T11:36:38.065502Z"
    }
   },
   "outputs": [],
   "source": [
    "train['label'].value_counts().plot(kind='bar')"
   ]
  },
  {
   "cell_type": "markdown",
   "id": "91b572dc",
   "metadata": {},
   "source": [
    "### 토큰화"
   ]
  },
  {
   "cell_type": "markdown",
   "id": "5ae010bd",
   "metadata": {
    "ExecuteTime": {
     "end_time": "2022-10-06T11:16:45.800176Z",
     "start_time": "2022-10-06T11:16:45.771406Z"
    }
   },
   "source": [
    "from konlpy.tag import Okt"
   ]
  },
  {
   "cell_type": "markdown",
   "id": "a23768a1",
   "metadata": {
    "ExecuteTime": {
     "end_time": "2022-10-06T11:16:46.773647Z",
     "start_time": "2022-10-06T11:16:46.431336Z"
    }
   },
   "source": [
    "okt = Okt()"
   ]
  },
  {
   "cell_type": "markdown",
   "id": "22fa076a",
   "metadata": {
    "ExecuteTime": {
     "end_time": "2022-10-06T11:19:49.875891Z",
     "start_time": "2022-10-06T11:19:49.871860Z"
    }
   },
   "source": [
    "\n",
    "stopwords = ['의','가','이','은','들','는','좀','잘','걍','과','도','를','으로','자','에','와','한','하다']\n"
   ]
  },
  {
   "cell_type": "markdown",
   "id": "994fbf37",
   "metadata": {
    "ExecuteTime": {
     "end_time": "2022-10-06T11:20:43.252330Z",
     "start_time": "2022-10-06T11:20:32.663447Z"
    }
   },
   "source": [
    "tokenized = [] # 데이터프레임의 한 컬럼으로 추가할 리스트\n",
    "for sentence in tqdm(train['content']): # 전처리된 리뷰들을 하나씩 꺼내옵니다\n",
    "    tokens = okt.morphs(sentence, stem = True) # 형태소 분석 (stem = True로 설정해 어간 추출을 해주었습니다)\n",
    "    stopwords_removed_sentence = [word for word in tokens if not word in stopwords] # 불용어 제거\n",
    "    tokenized.append(stopwords_removed_sentence)"
   ]
  },
  {
   "cell_type": "markdown",
   "id": "2d26872b",
   "metadata": {
    "ExecuteTime": {
     "end_time": "2022-10-06T11:20:43.763421Z",
     "start_time": "2022-10-06T11:20:43.253416Z"
    }
   },
   "source": [
    "tokenized"
   ]
  },
  {
   "cell_type": "markdown",
   "id": "c4d75c17",
   "metadata": {
    "ExecuteTime": {
     "end_time": "2022-10-06T11:43:53.524371Z",
     "start_time": "2022-10-06T11:43:53.515410Z"
    }
   },
   "source": [
    "train['content']"
   ]
  },
  {
   "cell_type": "markdown",
   "id": "35a61050",
   "metadata": {},
   "source": [
    "### train data 분리"
   ]
  },
  {
   "cell_type": "markdown",
   "id": "7af52403",
   "metadata": {
    "ExecuteTime": {
     "end_time": "2022-10-06T11:56:29.834166Z",
     "start_time": "2022-10-06T11:56:29.827161Z"
    }
   },
   "source": [
    "\n",
    "X_train, X_test, y_train, y_test = train_test_split(train['content'], train['label'] , test_size=0.2, random_state=0)\n",
    "print(len(X_train), len(y_train), len(X_test), len(y_test))\n"
   ]
  },
  {
   "cell_type": "markdown",
   "id": "06216b4f",
   "metadata": {
    "ExecuteTime": {
     "end_time": "2022-10-06T11:56:30.264526Z",
     "start_time": "2022-10-06T11:56:30.257812Z"
    }
   },
   "source": [
    "X_train"
   ]
  },
  {
   "cell_type": "markdown",
   "id": "b5716383",
   "metadata": {},
   "source": [
    "### 토큰화 및 TF-IDF(Term Frequency-Inverse Document Frequency) 벡터화"
   ]
  },
  {
   "cell_type": "markdown",
   "id": "85a4b8ff",
   "metadata": {
    "ExecuteTime": {
     "end_time": "2022-10-06T11:57:10.962684Z",
     "start_time": "2022-10-06T11:56:48.060071Z"
    }
   },
   "source": [
    "tfv = TfidfVectorizer(tokenizer=okt.morphs, ngram_range=(1,2), min_df=3, max_df=0.9)\n",
    "tfv.fit(X_train)\n",
    "tfv_train_x = tfv.transform(X_train)\n",
    "print(tfv_train_x)"
   ]
  },
  {
   "cell_type": "markdown",
   "id": "f9d68ca5",
   "metadata": {},
   "source": [
    "### 감성 분석 모델 구축"
   ]
  },
  {
   "cell_type": "code",
   "execution_count": null,
   "id": "8e5fd241",
   "metadata": {
    "ExecuteTime": {
     "end_time": "2022-10-06T12:01:02.120486Z",
     "start_time": "2022-10-06T12:01:02.113986Z"
    }
   },
   "outputs": [],
   "source": [
    "\n",
    "'''\n",
    "from sklearn.model_selection import GridSearchCV # 하이퍼 파라미터 최적화\n",
    "\n",
    "clf = LogisticRegression(random_state=32)\n",
    "params = {'C': [15, 18, 19, 20, 22]}\n",
    "grid_cv = GridSearchCV(clf, param_grid=params, cv=3, scoring='accuracy', verbose=1)\n",
    "grid_cv.fit(tfv_train_x, train_y)\n",
    "\n",
    "# 최적의 평가 파라미터는 grid_cv.best_estimator_에 저장됨\n",
    "print(grid_cv.best_params_, grid_cv.best_score_)# 가장 적합한 파라메터, 최고 정확도 확인\n",
    "'''"
   ]
  },
  {
   "cell_type": "code",
   "execution_count": 12,
   "id": "acb025e4",
   "metadata": {
    "ExecuteTime": {
     "end_time": "2022-10-06T12:11:04.548772Z",
     "start_time": "2022-10-06T12:11:04.544600Z"
    }
   },
   "outputs": [],
   "source": [
    "def get_pipe(model, model_name: str) -> Pipeline:\n",
    "    \"TfidfVectorizer와 모델을 연결한 파이프라인을 반환하는 함수\"\n",
    "    tfidf = TfidfVectorizer(analyzer=\"char\", ngram_range=(1, 3))\n",
    "    pipe = Pipeline([\n",
    "        (\"tfidf\", tfidf),\n",
    "        (model_name, model)\n",
    "    ])\n",
    "    return pipe"
   ]
  },
  {
   "cell_type": "code",
   "execution_count": 28,
   "id": "b562b596",
   "metadata": {
    "ExecuteTime": {
     "end_time": "2022-10-06T12:19:17.788755Z",
     "start_time": "2022-10-06T12:19:17.780940Z"
    }
   },
   "outputs": [],
   "source": [
    "def return_kfold_accuarcy(model, k: int = 5) -> float:\n",
    "    global train\n",
    "    \"모델을 입력받아 KFold 예측 후 accuracy score를 반환하는 함수\"\n",
    "    kfold = StratifiedKFold(k, shuffle=True, random_state=42)\n",
    "    result = []\n",
    "    for train_idx, test_idx in kfold.split(train[\"content\"], train[\"label\"]):\n",
    "        train, val = train.iloc[train_idx], train.iloc[test_idx]\n",
    "        model.fit(train[\"content\"], train[\"label\"])\n",
    "        pred = model.predict(val[\"content\"])\n",
    "        acc = accuracy_score(val[\"label\"], pred)\n",
    "        result.append(acc)\n",
    "\n",
    "    return np.mean(result)"
   ]
  },
  {
   "cell_type": "code",
   "execution_count": 14,
   "id": "4baf1da2",
   "metadata": {
    "ExecuteTime": {
     "end_time": "2022-10-06T12:13:19.058912Z",
     "start_time": "2022-10-06T12:13:19.043759Z"
    }
   },
   "outputs": [
    {
     "data": {
      "text/html": [
       "<div>\n",
       "<style scoped>\n",
       "    .dataframe tbody tr th:only-of-type {\n",
       "        vertical-align: middle;\n",
       "    }\n",
       "\n",
       "    .dataframe tbody tr th {\n",
       "        vertical-align: top;\n",
       "    }\n",
       "\n",
       "    .dataframe thead th {\n",
       "        text-align: right;\n",
       "    }\n",
       "</style>\n",
       "<table border=\"1\" class=\"dataframe\">\n",
       "  <thead>\n",
       "    <tr style=\"text-align: right;\">\n",
       "      <th></th>\n",
       "      <th>date</th>\n",
       "      <th>content</th>\n",
       "      <th>label</th>\n",
       "    </tr>\n",
       "  </thead>\n",
       "  <tbody>\n",
       "    <tr>\n",
       "      <th>0</th>\n",
       "      <td>2021.10.05</td>\n",
       "      <td>톡톡 이상품 한빛코리아 다지워 네이처 클렌징 솝 마스카라까지 지우는 세정비누 피부...</td>\n",
       "      <td>0</td>\n",
       "    </tr>\n",
       "    <tr>\n",
       "      <th>1</th>\n",
       "      <td>2021.10.07</td>\n",
       "      <td>격동의 유통가 편의점 성장 정체 미래는 근거리 쇼핑 파괴적 커머스 시대 데이터 경...</td>\n",
       "      <td>1</td>\n",
       "    </tr>\n",
       "    <tr>\n",
       "      <th>2</th>\n",
       "      <td>2021.10.08</td>\n",
       "      <td>머니 매니저의 HOT종목 씨에스윈드는 풍력발전기를 구성하는 타워 제작 및 설치를 ...</td>\n",
       "      <td>1</td>\n",
       "    </tr>\n",
       "    <tr>\n",
       "      <th>3</th>\n",
       "      <td>2021.10.11</td>\n",
       "      <td>김민수 더맘마 대표 동네마트와 상생 이 경쟁력 30분 총알배송 목표 별도 물류센터...</td>\n",
       "      <td>0</td>\n",
       "    </tr>\n",
       "    <tr>\n",
       "      <th>4</th>\n",
       "      <td>2021.10.13</td>\n",
       "      <td>카카오 보고있나 진격의 네이버페이 최대 직구몰 손잡았다 주간투자동향 파운트 400...</td>\n",
       "      <td>1</td>\n",
       "    </tr>\n",
       "    <tr>\n",
       "      <th>...</th>\n",
       "      <td>...</td>\n",
       "      <td>...</td>\n",
       "      <td>...</td>\n",
       "    </tr>\n",
       "    <tr>\n",
       "      <th>162</th>\n",
       "      <td>2022.04.22</td>\n",
       "      <td>NH투자증권 SK에코플랜트 주관사 선정 IPO 실적 호조 우리생협 오아시스 생협 ...</td>\n",
       "      <td>-1</td>\n",
       "    </tr>\n",
       "    <tr>\n",
       "      <th>163</th>\n",
       "      <td>2022.04.25</td>\n",
       "      <td>500억 투자했는데 홍정국의 아픈 손가락 헬로네이처 매각 적신호 FBG 캐피탈 한...</td>\n",
       "      <td>1</td>\n",
       "    </tr>\n",
       "    <tr>\n",
       "      <th>164</th>\n",
       "      <td>2022.04.26</td>\n",
       "      <td>오아시스마켓 오프라인 매장 간판서 생협 제외 고고IPO 업계 4위 11번가 상장 ...</td>\n",
       "      <td>1</td>\n",
       "    </tr>\n",
       "    <tr>\n",
       "      <th>165</th>\n",
       "      <td>2022.04.27</td>\n",
       "      <td>마켓인 프롭테크하면 무조건 뜬다 투자유치 부익부 빈익빈 IPO 앞둔 오아시스마켓 ...</td>\n",
       "      <td>-1</td>\n",
       "    </tr>\n",
       "    <tr>\n",
       "      <th>166</th>\n",
       "      <td>2022.04.28</td>\n",
       "      <td>새벽배송 헬로네이처 CU와 시너지 못낸 이유는 디지털라이프 5 50 캐시백 혜택 ...</td>\n",
       "      <td>-1</td>\n",
       "    </tr>\n",
       "  </tbody>\n",
       "</table>\n",
       "<p>167 rows × 3 columns</p>\n",
       "</div>"
      ],
      "text/plain": [
       "           date                                            content label\n",
       "0    2021.10.05   톡톡 이상품 한빛코리아 다지워 네이처 클렌징 솝 마스카라까지 지우는 세정비누 피부...     0\n",
       "1    2021.10.07   격동의 유통가 편의점 성장 정체 미래는 근거리 쇼핑 파괴적 커머스 시대 데이터 경...     1\n",
       "2    2021.10.08   머니 매니저의 HOT종목 씨에스윈드는 풍력발전기를 구성하는 타워 제작 및 설치를 ...     1\n",
       "3    2021.10.11   김민수 더맘마 대표 동네마트와 상생 이 경쟁력 30분 총알배송 목표 별도 물류센터...     0\n",
       "4    2021.10.13   카카오 보고있나 진격의 네이버페이 최대 직구몰 손잡았다 주간투자동향 파운트 400...     1\n",
       "..          ...                                                ...   ...\n",
       "162  2022.04.22   NH투자증권 SK에코플랜트 주관사 선정 IPO 실적 호조 우리생협 오아시스 생협 ...    -1\n",
       "163  2022.04.25   500억 투자했는데 홍정국의 아픈 손가락 헬로네이처 매각 적신호 FBG 캐피탈 한...     1\n",
       "164  2022.04.26   오아시스마켓 오프라인 매장 간판서 생협 제외 고고IPO 업계 4위 11번가 상장 ...     1\n",
       "165  2022.04.27   마켓인 프롭테크하면 무조건 뜬다 투자유치 부익부 빈익빈 IPO 앞둔 오아시스마켓 ...    -1\n",
       "166  2022.04.28   새벽배송 헬로네이처 CU와 시너지 못낸 이유는 디지털라이프 5 50 캐시백 혜택 ...    -1\n",
       "\n",
       "[167 rows x 3 columns]"
      ]
     },
     "execution_count": 14,
     "metadata": {},
     "output_type": "execute_result"
    }
   ],
   "source": [
    "train"
   ]
  },
  {
   "cell_type": "code",
   "execution_count": 15,
   "id": "907a1fcd",
   "metadata": {
    "ExecuteTime": {
     "end_time": "2022-10-06T12:13:20.743924Z",
     "start_time": "2022-10-06T12:13:20.732914Z"
    }
   },
   "outputs": [
    {
     "data": {
      "text/html": [
       "<div>\n",
       "<style scoped>\n",
       "    .dataframe tbody tr th:only-of-type {\n",
       "        vertical-align: middle;\n",
       "    }\n",
       "\n",
       "    .dataframe tbody tr th {\n",
       "        vertical-align: top;\n",
       "    }\n",
       "\n",
       "    .dataframe thead th {\n",
       "        text-align: right;\n",
       "    }\n",
       "</style>\n",
       "<table border=\"1\" class=\"dataframe\">\n",
       "  <thead>\n",
       "    <tr style=\"text-align: right;\">\n",
       "      <th></th>\n",
       "      <th>date</th>\n",
       "      <th>content</th>\n",
       "      <th>label</th>\n",
       "    </tr>\n",
       "  </thead>\n",
       "  <tbody>\n",
       "    <tr>\n",
       "      <th>167</th>\n",
       "      <td>2022.04.29</td>\n",
       "      <td>공정위 새벽배송업체 오아시스 생협 간판 사용에 제동 무조건 창업 한번 해봐 스타트...</td>\n",
       "      <td>-</td>\n",
       "    </tr>\n",
       "    <tr>\n",
       "      <th>168</th>\n",
       "      <td>2022.04.30</td>\n",
       "      <td>코로나 엔데믹 전환에 배송전쟁 판도 변화 점유율 경쟁 보다 수익성 롯데온 헬로네이...</td>\n",
       "      <td>-</td>\n",
       "    </tr>\n",
       "    <tr>\n",
       "      <th>169</th>\n",
       "      <td>2022.05.02</td>\n",
       "      <td>창업자 188명 지상 IR 날개 K 스타트업 등용문 우뚝 오아시스마켓 경북 세일 ...</td>\n",
       "      <td>-</td>\n",
       "    </tr>\n",
       "    <tr>\n",
       "      <th>170</th>\n",
       "      <td>2022.05.03</td>\n",
       "      <td>엔데믹 오다 이커머스 옥석 가리기 본격 시동 우여곡절 끝에 IPO 첫발 뗀 컬리 ...</td>\n",
       "      <td>-</td>\n",
       "    </tr>\n",
       "    <tr>\n",
       "      <th>171</th>\n",
       "      <td>2022.05.04</td>\n",
       "      <td>9조 원 규모 새벽배송 누가 살아남을까 돈의 전쟁이 시작됐다 뉴스데스크 앵커 밤 ...</td>\n",
       "      <td>-</td>\n",
       "    </tr>\n",
       "    <tr>\n",
       "      <th>...</th>\n",
       "      <td>...</td>\n",
       "      <td>...</td>\n",
       "      <td>...</td>\n",
       "    </tr>\n",
       "    <tr>\n",
       "      <th>274</th>\n",
       "      <td>2022.09.23</td>\n",
       "      <td>WCP 흥행 실패에 컬리 케이뱅크 상장 시기 안갯속 심사 승인 났는데 IPO 감감...</td>\n",
       "      <td>-</td>\n",
       "    </tr>\n",
       "    <tr>\n",
       "      <th>275</th>\n",
       "      <td>2022.09.26</td>\n",
       "      <td>먹거리 IT 네이처랩 오경주 대표 맛있고 건강한 주스 추천 서비스를 개발합니다 서...</td>\n",
       "      <td>-</td>\n",
       "    </tr>\n",
       "    <tr>\n",
       "      <th>276</th>\n",
       "      <td>2022.09.27</td>\n",
       "      <td>투자 늘렸는데 이제와서 퀵커머스마저 규제하나 초긴장 국감 오르는 유통업 새 먹거리...</td>\n",
       "      <td>-</td>\n",
       "    </tr>\n",
       "    <tr>\n",
       "      <th>277</th>\n",
       "      <td>2022.09.29</td>\n",
       "      <td>국내 이커머스 상장 1호 주인공 누가될까 격변의 이커머스 이커머스 IPO 대전 흑...</td>\n",
       "      <td>-</td>\n",
       "    </tr>\n",
       "    <tr>\n",
       "      <th>278</th>\n",
       "      <td>2022.09.30</td>\n",
       "      <td>오아시스마켓 맞춤형 영상 콘텐츠 지원에 소상공인 매출 쑥쑥 V 커머스 지원 사업으...</td>\n",
       "      <td>-</td>\n",
       "    </tr>\n",
       "  </tbody>\n",
       "</table>\n",
       "<p>112 rows × 3 columns</p>\n",
       "</div>"
      ],
      "text/plain": [
       "           date                                            content label\n",
       "167  2022.04.29   공정위 새벽배송업체 오아시스 생협 간판 사용에 제동 무조건 창업 한번 해봐 스타트...     -\n",
       "168  2022.04.30   코로나 엔데믹 전환에 배송전쟁 판도 변화 점유율 경쟁 보다 수익성 롯데온 헬로네이...     -\n",
       "169  2022.05.02   창업자 188명 지상 IR 날개 K 스타트업 등용문 우뚝 오아시스마켓 경북 세일 ...     -\n",
       "170  2022.05.03   엔데믹 오다 이커머스 옥석 가리기 본격 시동 우여곡절 끝에 IPO 첫발 뗀 컬리 ...     -\n",
       "171  2022.05.04   9조 원 규모 새벽배송 누가 살아남을까 돈의 전쟁이 시작됐다 뉴스데스크 앵커 밤 ...     -\n",
       "..          ...                                                ...   ...\n",
       "274  2022.09.23   WCP 흥행 실패에 컬리 케이뱅크 상장 시기 안갯속 심사 승인 났는데 IPO 감감...     -\n",
       "275  2022.09.26   먹거리 IT 네이처랩 오경주 대표 맛있고 건강한 주스 추천 서비스를 개발합니다 서...     -\n",
       "276  2022.09.27   투자 늘렸는데 이제와서 퀵커머스마저 규제하나 초긴장 국감 오르는 유통업 새 먹거리...     -\n",
       "277  2022.09.29   국내 이커머스 상장 1호 주인공 누가될까 격변의 이커머스 이커머스 IPO 대전 흑...     -\n",
       "278  2022.09.30   오아시스마켓 맞춤형 영상 콘텐츠 지원에 소상공인 매출 쑥쑥 V 커머스 지원 사업으...     -\n",
       "\n",
       "[112 rows x 3 columns]"
      ]
     },
     "execution_count": 15,
     "metadata": {},
     "output_type": "execute_result"
    }
   ],
   "source": [
    "test"
   ]
  },
  {
   "cell_type": "code",
   "execution_count": 26,
   "id": "96a39f25",
   "metadata": {
    "ExecuteTime": {
     "end_time": "2022-10-06T12:18:33.980410Z",
     "start_time": "2022-10-06T12:18:33.971354Z"
    }
   },
   "outputs": [],
   "source": [
    "models = [\n",
    "    (\"naive_bayes\", BernoulliNB()),\n",
    "    (\"SGD\", SGDClassifier(random_state=42, n_jobs=-1)),\n",
    "    (\"rfc\", RandomForestClassifier(random_state=42, n_jobs=-1)),\n",
    "    (\"SVC\", SVC(random_state=42)),\n",
    "    (\"ada\", AdaBoostClassifier(random_state=42)),\n",
    "    (\"lgbm\", LGBMClassifier(random_state=42)),\n",
    "    (\"lgbm2\", LGBMClassifier(n_estimators=80, random_state=42)),\n",
    "    (\"xgb\", XGBClassifier(random_state=42)),\n",
    "    (\"knc1\", KNeighborsClassifier()),\n",
    "    (\"knc2\", KNeighborsClassifier(n_neighbors=4))\n",
    "]\n",
    "\n",
    "model_pipes = [(name, get_pipe(model, name)) for name, model in models]"
   ]
  },
  {
   "cell_type": "code",
   "execution_count": 31,
   "id": "2ac74d22",
   "metadata": {
    "ExecuteTime": {
     "end_time": "2022-10-06T12:22:33.216080Z",
     "start_time": "2022-10-06T12:22:33.141464Z"
    }
   },
   "outputs": [
    {
     "data": {
      "application/vnd.jupyter.widget-view+json": {
       "model_id": "44d043405c0e4484b2420d1e60096c48",
       "version_major": 2,
       "version_minor": 0
      },
      "text/plain": [
       "  0%|          | 0/10 [00:00<?, ?it/s]"
      ]
     },
     "metadata": {},
     "output_type": "display_data"
    },
    {
     "ename": "ValueError",
     "evalue": "Supported target types are: ('binary', 'multiclass'). Got 'unknown' instead.",
     "output_type": "error",
     "traceback": [
      "\u001b[0;31m---------------------------------------------------------------------------\u001b[0m",
      "\u001b[0;31mValueError\u001b[0m                                Traceback (most recent call last)",
      "Input \u001b[0;32mIn [31]\u001b[0m, in \u001b[0;36m<cell line: 5>\u001b[0;34m()\u001b[0m\n\u001b[1;32m      3\u001b[0m table\u001b[38;5;241m.\u001b[39madd_column(\u001b[38;5;124m\"\u001b[39m\u001b[38;5;124mAccuracy\u001b[39m\u001b[38;5;124m\"\u001b[39m, justify\u001b[38;5;241m=\u001b[39m\u001b[38;5;124m\"\u001b[39m\u001b[38;5;124mright\u001b[39m\u001b[38;5;124m\"\u001b[39m)\n\u001b[1;32m      5\u001b[0m \u001b[38;5;28;01mfor\u001b[39;00m model_name, model \u001b[38;5;129;01min\u001b[39;00m tqdm(model_pipes, leave\u001b[38;5;241m=\u001b[39m\u001b[38;5;28;01mFalse\u001b[39;00m):\n\u001b[0;32m----> 6\u001b[0m     acc \u001b[38;5;241m=\u001b[39m \u001b[43mreturn_kfold_accuarcy\u001b[49m\u001b[43m(\u001b[49m\u001b[43mmodel\u001b[49m\u001b[43m)\u001b[49m\n\u001b[1;32m      7\u001b[0m     table\u001b[38;5;241m.\u001b[39madd_row(model_name, \u001b[38;5;124mf\u001b[39m\u001b[38;5;124m\"\u001b[39m\u001b[38;5;132;01m{\u001b[39;00macc\u001b[38;5;132;01m:\u001b[39;00m\u001b[38;5;124m0.3f\u001b[39m\u001b[38;5;132;01m}\u001b[39;00m\u001b[38;5;124m\"\u001b[39m)\n\u001b[1;32m      9\u001b[0m rich\u001b[38;5;241m.\u001b[39mprint(table)\n",
      "Input \u001b[0;32mIn [28]\u001b[0m, in \u001b[0;36mreturn_kfold_accuarcy\u001b[0;34m(model, k)\u001b[0m\n\u001b[1;32m      4\u001b[0m kfold \u001b[38;5;241m=\u001b[39m StratifiedKFold(k, shuffle\u001b[38;5;241m=\u001b[39m\u001b[38;5;28;01mTrue\u001b[39;00m, random_state\u001b[38;5;241m=\u001b[39m\u001b[38;5;241m42\u001b[39m)\n\u001b[1;32m      5\u001b[0m result \u001b[38;5;241m=\u001b[39m []\n\u001b[0;32m----> 6\u001b[0m \u001b[38;5;28;01mfor\u001b[39;00m train_idx, test_idx \u001b[38;5;129;01min\u001b[39;00m kfold\u001b[38;5;241m.\u001b[39msplit(train[\u001b[38;5;124m\"\u001b[39m\u001b[38;5;124mcontent\u001b[39m\u001b[38;5;124m\"\u001b[39m], train[\u001b[38;5;124m\"\u001b[39m\u001b[38;5;124mlabel\u001b[39m\u001b[38;5;124m\"\u001b[39m]):\n\u001b[1;32m      7\u001b[0m     train, val \u001b[38;5;241m=\u001b[39m train\u001b[38;5;241m.\u001b[39miloc[train_idx], train\u001b[38;5;241m.\u001b[39miloc[test_idx]\n\u001b[1;32m      8\u001b[0m     model\u001b[38;5;241m.\u001b[39mfit(train[\u001b[38;5;124m\"\u001b[39m\u001b[38;5;124mcontent\u001b[39m\u001b[38;5;124m\"\u001b[39m], train[\u001b[38;5;124m\"\u001b[39m\u001b[38;5;124mlabel\u001b[39m\u001b[38;5;124m\"\u001b[39m])\n",
      "File \u001b[0;32m~/miniforge3/envs/lhs/lib/python3.8/site-packages/sklearn/model_selection/_split.py:340\u001b[0m, in \u001b[0;36m_BaseKFold.split\u001b[0;34m(self, X, y, groups)\u001b[0m\n\u001b[1;32m    332\u001b[0m \u001b[38;5;28;01mif\u001b[39;00m \u001b[38;5;28mself\u001b[39m\u001b[38;5;241m.\u001b[39mn_splits \u001b[38;5;241m>\u001b[39m n_samples:\n\u001b[1;32m    333\u001b[0m     \u001b[38;5;28;01mraise\u001b[39;00m \u001b[38;5;167;01mValueError\u001b[39;00m(\n\u001b[1;32m    334\u001b[0m         (\n\u001b[1;32m    335\u001b[0m             \u001b[38;5;124m\"\u001b[39m\u001b[38;5;124mCannot have number of splits n_splits=\u001b[39m\u001b[38;5;132;01m{0}\u001b[39;00m\u001b[38;5;124m greater\u001b[39m\u001b[38;5;124m\"\u001b[39m\n\u001b[1;32m    336\u001b[0m             \u001b[38;5;124m\"\u001b[39m\u001b[38;5;124m than the number of samples: n_samples=\u001b[39m\u001b[38;5;132;01m{1}\u001b[39;00m\u001b[38;5;124m.\u001b[39m\u001b[38;5;124m\"\u001b[39m\n\u001b[1;32m    337\u001b[0m         )\u001b[38;5;241m.\u001b[39mformat(\u001b[38;5;28mself\u001b[39m\u001b[38;5;241m.\u001b[39mn_splits, n_samples)\n\u001b[1;32m    338\u001b[0m     )\n\u001b[0;32m--> 340\u001b[0m \u001b[38;5;28;01mfor\u001b[39;00m train, test \u001b[38;5;129;01min\u001b[39;00m \u001b[38;5;28msuper\u001b[39m()\u001b[38;5;241m.\u001b[39msplit(X, y, groups):\n\u001b[1;32m    341\u001b[0m     \u001b[38;5;28;01myield\u001b[39;00m train, test\n",
      "File \u001b[0;32m~/miniforge3/envs/lhs/lib/python3.8/site-packages/sklearn/model_selection/_split.py:86\u001b[0m, in \u001b[0;36mBaseCrossValidator.split\u001b[0;34m(self, X, y, groups)\u001b[0m\n\u001b[1;32m     84\u001b[0m X, y, groups \u001b[38;5;241m=\u001b[39m indexable(X, y, groups)\n\u001b[1;32m     85\u001b[0m indices \u001b[38;5;241m=\u001b[39m np\u001b[38;5;241m.\u001b[39marange(_num_samples(X))\n\u001b[0;32m---> 86\u001b[0m \u001b[38;5;28;01mfor\u001b[39;00m test_index \u001b[38;5;129;01min\u001b[39;00m \u001b[38;5;28mself\u001b[39m\u001b[38;5;241m.\u001b[39m_iter_test_masks(X, y, groups):\n\u001b[1;32m     87\u001b[0m     train_index \u001b[38;5;241m=\u001b[39m indices[np\u001b[38;5;241m.\u001b[39mlogical_not(test_index)]\n\u001b[1;32m     88\u001b[0m     test_index \u001b[38;5;241m=\u001b[39m indices[test_index]\n",
      "File \u001b[0;32m~/miniforge3/envs/lhs/lib/python3.8/site-packages/sklearn/model_selection/_split.py:713\u001b[0m, in \u001b[0;36mStratifiedKFold._iter_test_masks\u001b[0;34m(self, X, y, groups)\u001b[0m\n\u001b[1;32m    712\u001b[0m \u001b[38;5;28;01mdef\u001b[39;00m \u001b[38;5;21m_iter_test_masks\u001b[39m(\u001b[38;5;28mself\u001b[39m, X, y\u001b[38;5;241m=\u001b[39m\u001b[38;5;28;01mNone\u001b[39;00m, groups\u001b[38;5;241m=\u001b[39m\u001b[38;5;28;01mNone\u001b[39;00m):\n\u001b[0;32m--> 713\u001b[0m     test_folds \u001b[38;5;241m=\u001b[39m \u001b[38;5;28;43mself\u001b[39;49m\u001b[38;5;241;43m.\u001b[39;49m\u001b[43m_make_test_folds\u001b[49m\u001b[43m(\u001b[49m\u001b[43mX\u001b[49m\u001b[43m,\u001b[49m\u001b[43m \u001b[49m\u001b[43my\u001b[49m\u001b[43m)\u001b[49m\n\u001b[1;32m    714\u001b[0m     \u001b[38;5;28;01mfor\u001b[39;00m i \u001b[38;5;129;01min\u001b[39;00m \u001b[38;5;28mrange\u001b[39m(\u001b[38;5;28mself\u001b[39m\u001b[38;5;241m.\u001b[39mn_splits):\n\u001b[1;32m    715\u001b[0m         \u001b[38;5;28;01myield\u001b[39;00m test_folds \u001b[38;5;241m==\u001b[39m i\n",
      "File \u001b[0;32m~/miniforge3/envs/lhs/lib/python3.8/site-packages/sklearn/model_selection/_split.py:656\u001b[0m, in \u001b[0;36mStratifiedKFold._make_test_folds\u001b[0;34m(self, X, y)\u001b[0m\n\u001b[1;32m    654\u001b[0m allowed_target_types \u001b[38;5;241m=\u001b[39m (\u001b[38;5;124m\"\u001b[39m\u001b[38;5;124mbinary\u001b[39m\u001b[38;5;124m\"\u001b[39m, \u001b[38;5;124m\"\u001b[39m\u001b[38;5;124mmulticlass\u001b[39m\u001b[38;5;124m\"\u001b[39m)\n\u001b[1;32m    655\u001b[0m \u001b[38;5;28;01mif\u001b[39;00m type_of_target_y \u001b[38;5;129;01mnot\u001b[39;00m \u001b[38;5;129;01min\u001b[39;00m allowed_target_types:\n\u001b[0;32m--> 656\u001b[0m     \u001b[38;5;28;01mraise\u001b[39;00m \u001b[38;5;167;01mValueError\u001b[39;00m(\n\u001b[1;32m    657\u001b[0m         \u001b[38;5;124m\"\u001b[39m\u001b[38;5;124mSupported target types are: \u001b[39m\u001b[38;5;132;01m{}\u001b[39;00m\u001b[38;5;124m. Got \u001b[39m\u001b[38;5;132;01m{!r}\u001b[39;00m\u001b[38;5;124m instead.\u001b[39m\u001b[38;5;124m\"\u001b[39m\u001b[38;5;241m.\u001b[39mformat(\n\u001b[1;32m    658\u001b[0m             allowed_target_types, type_of_target_y\n\u001b[1;32m    659\u001b[0m         )\n\u001b[1;32m    660\u001b[0m     )\n\u001b[1;32m    662\u001b[0m y \u001b[38;5;241m=\u001b[39m column_or_1d(y)\n\u001b[1;32m    664\u001b[0m _, y_idx, y_inv \u001b[38;5;241m=\u001b[39m np\u001b[38;5;241m.\u001b[39munique(y, return_index\u001b[38;5;241m=\u001b[39m\u001b[38;5;28;01mTrue\u001b[39;00m, return_inverse\u001b[38;5;241m=\u001b[39m\u001b[38;5;28;01mTrue\u001b[39;00m)\n",
      "\u001b[0;31mValueError\u001b[0m: Supported target types are: ('binary', 'multiclass'). Got 'unknown' instead."
     ]
    }
   ],
   "source": [
    "table = Table(title=\"Model Comparison Table\")\n",
    "table.add_column(\"Model Name\", justify=\"left\", style=\"green\")\n",
    "table.add_column(\"Accuracy\", justify=\"right\")\n",
    "\n",
    "for model_name, model in tqdm(model_pipes, leave=False):\n",
    "    acc = return_kfold_accuarcy(model)\n",
    "    table.add_row(model_name, f\"{acc:0.3f}\")\n",
    "\n",
    "rich.print(table)"
   ]
  },
  {
   "cell_type": "code",
   "execution_count": null,
   "id": "50bc8d06",
   "metadata": {},
   "outputs": [],
   "source": []
  }
 ],
 "metadata": {
  "kernelspec": {
   "display_name": "Python 3 (ipykernel)",
   "language": "python",
   "name": "python3"
  },
  "language_info": {
   "codemirror_mode": {
    "name": "ipython",
    "version": 3
   },
   "file_extension": ".py",
   "mimetype": "text/x-python",
   "name": "python",
   "nbconvert_exporter": "python",
   "pygments_lexer": "ipython3",
   "version": "3.8.13"
  },
  "toc": {
   "base_numbering": 1,
   "nav_menu": {},
   "number_sections": false,
   "sideBar": true,
   "skip_h1_title": false,
   "title_cell": "Table of Contents",
   "title_sidebar": "Contents",
   "toc_cell": false,
   "toc_position": {},
   "toc_section_display": true,
   "toc_window_display": false
  }
 },
 "nbformat": 4,
 "nbformat_minor": 5
}
