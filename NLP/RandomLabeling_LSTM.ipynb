{
 "cells": [
  {
   "cell_type": "code",
   "execution_count": 25,
   "id": "3676a79c",
   "metadata": {
    "ExecuteTime": {
     "end_time": "2022-10-05T06:00:03.210885Z",
     "start_time": "2022-10-05T06:00:02.874433Z"
    }
   },
   "outputs": [],
   "source": [
    "import pandas as pd\n",
    "import numpy as np\n",
    "import matplotlib.pyplot as plt\n",
    "import re\n",
    "import urllib.request\n",
    "from konlpy.tag import Okt\n",
    "from tqdm import tqdm\n",
    "from tensorflow.keras.preprocessing.text import Tokenizer\n",
    "from tensorflow.keras.preprocessing.sequence import pad_sequences\n",
    "import sklearn"
   ]
  },
  {
   "cell_type": "code",
   "execution_count": 2,
   "id": "8b43de9a",
   "metadata": {
    "ExecuteTime": {
     "end_time": "2022-10-05T05:47:20.484716Z",
     "start_time": "2022-10-05T05:47:20.483487Z"
    }
   },
   "outputs": [],
   "source": [
    "# data = pd.read_csv('community_title_label.csv').drop(columns=['Unnamed: 0','count'])\n",
    "# test_data = pd.read_csv('community_content.csv').drop(columns=['Unnamed: 0'])"
   ]
  },
  {
   "cell_type": "code",
   "execution_count": 3,
   "id": "28467c83",
   "metadata": {
    "ExecuteTime": {
     "end_time": "2022-10-05T05:47:20.530436Z",
     "start_time": "2022-10-05T05:47:20.485400Z"
    }
   },
   "outputs": [],
   "source": [
    "df_38 = pd.read_csv('38_label_x.csv')#.drop(columns=['Unnamed: 0','count'])\n",
    "df_news = pd.read_csv('news_label_x.csv')#.drop(columns=['Unnamed: 0','count'])"
   ]
  },
  {
   "cell_type": "code",
   "execution_count": 4,
   "id": "ec600979",
   "metadata": {
    "ExecuteTime": {
     "end_time": "2022-10-05T05:47:20.533793Z",
     "start_time": "2022-10-05T05:47:20.531845Z"
    }
   },
   "outputs": [],
   "source": [
    "df_news = df_news.set_index('dates')"
   ]
  },
  {
   "cell_type": "code",
   "execution_count": 5,
   "id": "7f35f38a",
   "metadata": {
    "ExecuteTime": {
     "end_time": "2022-10-05T05:47:20.536406Z",
     "start_time": "2022-10-05T05:47:20.534701Z"
    }
   },
   "outputs": [],
   "source": [
    "df_38 = df_38.set_index('date')"
   ]
  },
  {
   "cell_type": "code",
   "execution_count": 6,
   "id": "26eb8789",
   "metadata": {
    "ExecuteTime": {
     "end_time": "2022-10-05T05:47:20.544358Z",
     "start_time": "2022-10-05T05:47:20.537184Z"
    }
   },
   "outputs": [
    {
     "data": {
      "text/html": [
       "<div>\n",
       "<style scoped>\n",
       "    .dataframe tbody tr th:only-of-type {\n",
       "        vertical-align: middle;\n",
       "    }\n",
       "\n",
       "    .dataframe tbody tr th {\n",
       "        vertical-align: top;\n",
       "    }\n",
       "\n",
       "    .dataframe thead th {\n",
       "        text-align: right;\n",
       "    }\n",
       "</style>\n",
       "<table border=\"1\" class=\"dataframe\">\n",
       "  <thead>\n",
       "    <tr style=\"text-align: right;\">\n",
       "      <th></th>\n",
       "      <th>title</th>\n",
       "      <th>content</th>\n",
       "      <th>label</th>\n",
       "    </tr>\n",
       "    <tr>\n",
       "      <th>date</th>\n",
       "      <th></th>\n",
       "      <th></th>\n",
       "      <th></th>\n",
       "    </tr>\n",
       "  </thead>\n",
       "  <tbody>\n",
       "    <tr>\n",
       "      <th>2020-09-04</th>\n",
       "      <td>[제목 : [오아시스]\\n 팬데믹시대에 내마음의 표준을 바꾸는 유통 ]</td>\n",
       "      <td>이번 코로나가 유통시장의 판도를 5년이상 앞당겨진 변화를 가져 왔다?매장에서 인테넷...</td>\n",
       "      <td>-</td>\n",
       "    </tr>\n",
       "    <tr>\n",
       "      <th>2021-04-17</th>\n",
       "      <td>[제목 : [오아시스] 오아시스 매수 했습니다. ][제목 : [오아시스] 오아시스 ...</td>\n",
       "      <td>오아이스 주식 중  pe가 보유한 물량이 시장에서 움직이는 듯 하네요.어제, 아시는...</td>\n",
       "      <td>-</td>\n",
       "    </tr>\n",
       "    <tr>\n",
       "      <th>2021-04-19</th>\n",
       "      <td>[제목 : [오아시스] 70만원이면 비싼건가요 ]</td>\n",
       "      <td>30주 70만원에 살려고하는데, 비싼건가요//</td>\n",
       "      <td>-</td>\n",
       "    </tr>\n",
       "    <tr>\n",
       "      <th>2021-04-22</th>\n",
       "      <td>[제목 : [오아시스] 70만원이면 비싼건가요 ]</td>\n",
       "      <td>어디서 70만원에 살수있어요?나도 사고 싶다//</td>\n",
       "      <td>-</td>\n",
       "    </tr>\n",
       "    <tr>\n",
       "      <th>2021-04-23</th>\n",
       "      <td>[코멘트 : [오아시스] pe가뭐에요? ][제목 : [오아시스] 망설이다가 못 샀네요 ]</td>\n",
       "      <td>pe가뭐에요?//70만원에 살까 말까 고민하고 있는데,팔렸다고 하네요.\"빨간색매물검...</td>\n",
       "      <td>-</td>\n",
       "    </tr>\n",
       "    <tr>\n",
       "      <th>...</th>\n",
       "      <td>...</td>\n",
       "      <td>...</td>\n",
       "      <td>...</td>\n",
       "    </tr>\n",
       "    <tr>\n",
       "      <th>2022-07-27</th>\n",
       "      <td>[코멘트 : [오아시스] 구라치치말고 아는거 있음 그냥 직접 올려 ]</td>\n",
       "      <td>구라치치말고 아는거 있음 그냥 직접 올려//</td>\n",
       "      <td>-</td>\n",
       "    </tr>\n",
       "    <tr>\n",
       "      <th>2022-08-31</th>\n",
       "      <td>[제목 : [오아시스] 우크라이나와 러시아 ][제목 : [오아시스] 오늘 날짜(20...</td>\n",
       "      <td>덩치 큰 러시아가 누구다 다 이길거라고 했지만 결과는? 길고 짧은건 대봐야 안다고우...</td>\n",
       "      <td>-</td>\n",
       "    </tr>\n",
       "    <tr>\n",
       "      <th>2022-09-02</th>\n",
       "      <td>[제목 : [오아시스] 이 시기에 오히려 주목해야 할 기업 ]</td>\n",
       "      <td>연일 금리가 급등하고 있다. 매출만을 키우기 위해 무한확장을 거듭했던 스타트업과 유...</td>\n",
       "      <td>-</td>\n",
       "    </tr>\n",
       "    <tr>\n",
       "      <th>2022-09-05</th>\n",
       "      <td>[제목 : [오아시스] 계획된 적자 ]</td>\n",
       "      <td>한때 VC와 스타트업들이 힘을 합쳐 매출액을 늘려 시장 주도권을 가져가기위한 전략으...</td>\n",
       "      <td>-</td>\n",
       "    </tr>\n",
       "    <tr>\n",
       "      <th>2022-09-08</th>\n",
       "      <td>[제목 : [오아시스] 위기에 재조명받는 ‘오아시스·미트박스’…흑자비결은? ]</td>\n",
       "      <td>오아시스마켓은 올해 상반기 전년 대비 21% 증가한 2024억원 매출액과 171% ...</td>\n",
       "      <td>-</td>\n",
       "    </tr>\n",
       "  </tbody>\n",
       "</table>\n",
       "<p>86 rows × 3 columns</p>\n",
       "</div>"
      ],
      "text/plain": [
       "                                                        title  \\\n",
       "date                                                            \n",
       "2020-09-04            [제목 : [오아시스]\\n 팬데믹시대에 내마음의 표준을 바꾸는 유통 ]   \n",
       "2021-04-17  [제목 : [오아시스] 오아시스 매수 했습니다. ][제목 : [오아시스] 오아시스 ...   \n",
       "2021-04-19                        [제목 : [오아시스] 70만원이면 비싼건가요 ]   \n",
       "2021-04-22                        [제목 : [오아시스] 70만원이면 비싼건가요 ]   \n",
       "2021-04-23  [코멘트 : [오아시스] pe가뭐에요? ][제목 : [오아시스] 망설이다가 못 샀네요 ]   \n",
       "...                                                       ...   \n",
       "2022-07-27             [코멘트 : [오아시스] 구라치치말고 아는거 있음 그냥 직접 올려 ]   \n",
       "2022-08-31  [제목 : [오아시스] 우크라이나와 러시아 ][제목 : [오아시스] 오늘 날짜(20...   \n",
       "2022-09-02                 [제목 : [오아시스] 이 시기에 오히려 주목해야 할 기업 ]   \n",
       "2022-09-05                              [제목 : [오아시스] 계획된 적자 ]   \n",
       "2022-09-08        [제목 : [오아시스] 위기에 재조명받는 ‘오아시스·미트박스’…흑자비결은? ]   \n",
       "\n",
       "                                                      content label  \n",
       "date                                                                 \n",
       "2020-09-04  이번 코로나가 유통시장의 판도를 5년이상 앞당겨진 변화를 가져 왔다?매장에서 인테넷...     -  \n",
       "2021-04-17  오아이스 주식 중  pe가 보유한 물량이 시장에서 움직이는 듯 하네요.어제, 아시는...     -  \n",
       "2021-04-19                          30주 70만원에 살려고하는데, 비싼건가요//     -  \n",
       "2021-04-22                         어디서 70만원에 살수있어요?나도 사고 싶다//     -  \n",
       "2021-04-23  pe가뭐에요?//70만원에 살까 말까 고민하고 있는데,팔렸다고 하네요.\"빨간색매물검...     -  \n",
       "...                                                       ...   ...  \n",
       "2022-07-27                           구라치치말고 아는거 있음 그냥 직접 올려//     -  \n",
       "2022-08-31  덩치 큰 러시아가 누구다 다 이길거라고 했지만 결과는? 길고 짧은건 대봐야 안다고우...     -  \n",
       "2022-09-02  연일 금리가 급등하고 있다. 매출만을 키우기 위해 무한확장을 거듭했던 스타트업과 유...     -  \n",
       "2022-09-05  한때 VC와 스타트업들이 힘을 합쳐 매출액을 늘려 시장 주도권을 가져가기위한 전략으...     -  \n",
       "2022-09-08  오아시스마켓은 올해 상반기 전년 대비 21% 증가한 2024억원 매출액과 171% ...     -  \n",
       "\n",
       "[86 rows x 3 columns]"
      ]
     },
     "execution_count": 6,
     "metadata": {},
     "output_type": "execute_result"
    }
   ],
   "source": [
    "df_38"
   ]
  },
  {
   "cell_type": "code",
   "execution_count": 7,
   "id": "8b97c7c2",
   "metadata": {
    "ExecuteTime": {
     "end_time": "2022-10-05T05:47:20.547281Z",
     "start_time": "2022-10-05T05:47:20.545215Z"
    }
   },
   "outputs": [],
   "source": [
    "# np.random.seed(1)\n",
    "df_38['label'] = df_38['label'].apply(lambda x: np.random.randint(-1,2))"
   ]
  },
  {
   "cell_type": "code",
   "execution_count": 8,
   "id": "1291cb53",
   "metadata": {
    "ExecuteTime": {
     "end_time": "2022-10-05T05:47:20.552264Z",
     "start_time": "2022-10-05T05:47:20.548023Z"
    }
   },
   "outputs": [
    {
     "data": {
      "text/html": [
       "<div>\n",
       "<style scoped>\n",
       "    .dataframe tbody tr th:only-of-type {\n",
       "        vertical-align: middle;\n",
       "    }\n",
       "\n",
       "    .dataframe tbody tr th {\n",
       "        vertical-align: top;\n",
       "    }\n",
       "\n",
       "    .dataframe thead th {\n",
       "        text-align: right;\n",
       "    }\n",
       "</style>\n",
       "<table border=\"1\" class=\"dataframe\">\n",
       "  <thead>\n",
       "    <tr style=\"text-align: right;\">\n",
       "      <th></th>\n",
       "      <th>title</th>\n",
       "      <th>content</th>\n",
       "      <th>label</th>\n",
       "    </tr>\n",
       "    <tr>\n",
       "      <th>date</th>\n",
       "      <th></th>\n",
       "      <th></th>\n",
       "      <th></th>\n",
       "    </tr>\n",
       "  </thead>\n",
       "  <tbody>\n",
       "    <tr>\n",
       "      <th>2020-09-04</th>\n",
       "      <td>[제목 : [오아시스]\\n 팬데믹시대에 내마음의 표준을 바꾸는 유통 ]</td>\n",
       "      <td>이번 코로나가 유통시장의 판도를 5년이상 앞당겨진 변화를 가져 왔다?매장에서 인테넷...</td>\n",
       "      <td>1</td>\n",
       "    </tr>\n",
       "    <tr>\n",
       "      <th>2021-04-17</th>\n",
       "      <td>[제목 : [오아시스] 오아시스 매수 했습니다. ][제목 : [오아시스] 오아시스 ...</td>\n",
       "      <td>오아이스 주식 중  pe가 보유한 물량이 시장에서 움직이는 듯 하네요.어제, 아시는...</td>\n",
       "      <td>0</td>\n",
       "    </tr>\n",
       "    <tr>\n",
       "      <th>2021-04-19</th>\n",
       "      <td>[제목 : [오아시스] 70만원이면 비싼건가요 ]</td>\n",
       "      <td>30주 70만원에 살려고하는데, 비싼건가요//</td>\n",
       "      <td>-1</td>\n",
       "    </tr>\n",
       "    <tr>\n",
       "      <th>2021-04-22</th>\n",
       "      <td>[제목 : [오아시스] 70만원이면 비싼건가요 ]</td>\n",
       "      <td>어디서 70만원에 살수있어요?나도 사고 싶다//</td>\n",
       "      <td>1</td>\n",
       "    </tr>\n",
       "    <tr>\n",
       "      <th>2021-04-23</th>\n",
       "      <td>[코멘트 : [오아시스] pe가뭐에요? ][제목 : [오아시스] 망설이다가 못 샀네요 ]</td>\n",
       "      <td>pe가뭐에요?//70만원에 살까 말까 고민하고 있는데,팔렸다고 하네요.\"빨간색매물검...</td>\n",
       "      <td>0</td>\n",
       "    </tr>\n",
       "    <tr>\n",
       "      <th>...</th>\n",
       "      <td>...</td>\n",
       "      <td>...</td>\n",
       "      <td>...</td>\n",
       "    </tr>\n",
       "    <tr>\n",
       "      <th>2022-07-27</th>\n",
       "      <td>[코멘트 : [오아시스] 구라치치말고 아는거 있음 그냥 직접 올려 ]</td>\n",
       "      <td>구라치치말고 아는거 있음 그냥 직접 올려//</td>\n",
       "      <td>1</td>\n",
       "    </tr>\n",
       "    <tr>\n",
       "      <th>2022-08-31</th>\n",
       "      <td>[제목 : [오아시스] 우크라이나와 러시아 ][제목 : [오아시스] 오늘 날짜(20...</td>\n",
       "      <td>덩치 큰 러시아가 누구다 다 이길거라고 했지만 결과는? 길고 짧은건 대봐야 안다고우...</td>\n",
       "      <td>-1</td>\n",
       "    </tr>\n",
       "    <tr>\n",
       "      <th>2022-09-02</th>\n",
       "      <td>[제목 : [오아시스] 이 시기에 오히려 주목해야 할 기업 ]</td>\n",
       "      <td>연일 금리가 급등하고 있다. 매출만을 키우기 위해 무한확장을 거듭했던 스타트업과 유...</td>\n",
       "      <td>1</td>\n",
       "    </tr>\n",
       "    <tr>\n",
       "      <th>2022-09-05</th>\n",
       "      <td>[제목 : [오아시스] 계획된 적자 ]</td>\n",
       "      <td>한때 VC와 스타트업들이 힘을 합쳐 매출액을 늘려 시장 주도권을 가져가기위한 전략으...</td>\n",
       "      <td>1</td>\n",
       "    </tr>\n",
       "    <tr>\n",
       "      <th>2022-09-08</th>\n",
       "      <td>[제목 : [오아시스] 위기에 재조명받는 ‘오아시스·미트박스’…흑자비결은? ]</td>\n",
       "      <td>오아시스마켓은 올해 상반기 전년 대비 21% 증가한 2024억원 매출액과 171% ...</td>\n",
       "      <td>-1</td>\n",
       "    </tr>\n",
       "  </tbody>\n",
       "</table>\n",
       "<p>86 rows × 3 columns</p>\n",
       "</div>"
      ],
      "text/plain": [
       "                                                        title  \\\n",
       "date                                                            \n",
       "2020-09-04            [제목 : [오아시스]\\n 팬데믹시대에 내마음의 표준을 바꾸는 유통 ]   \n",
       "2021-04-17  [제목 : [오아시스] 오아시스 매수 했습니다. ][제목 : [오아시스] 오아시스 ...   \n",
       "2021-04-19                        [제목 : [오아시스] 70만원이면 비싼건가요 ]   \n",
       "2021-04-22                        [제목 : [오아시스] 70만원이면 비싼건가요 ]   \n",
       "2021-04-23  [코멘트 : [오아시스] pe가뭐에요? ][제목 : [오아시스] 망설이다가 못 샀네요 ]   \n",
       "...                                                       ...   \n",
       "2022-07-27             [코멘트 : [오아시스] 구라치치말고 아는거 있음 그냥 직접 올려 ]   \n",
       "2022-08-31  [제목 : [오아시스] 우크라이나와 러시아 ][제목 : [오아시스] 오늘 날짜(20...   \n",
       "2022-09-02                 [제목 : [오아시스] 이 시기에 오히려 주목해야 할 기업 ]   \n",
       "2022-09-05                              [제목 : [오아시스] 계획된 적자 ]   \n",
       "2022-09-08        [제목 : [오아시스] 위기에 재조명받는 ‘오아시스·미트박스’…흑자비결은? ]   \n",
       "\n",
       "                                                      content  label  \n",
       "date                                                                  \n",
       "2020-09-04  이번 코로나가 유통시장의 판도를 5년이상 앞당겨진 변화를 가져 왔다?매장에서 인테넷...      1  \n",
       "2021-04-17  오아이스 주식 중  pe가 보유한 물량이 시장에서 움직이는 듯 하네요.어제, 아시는...      0  \n",
       "2021-04-19                          30주 70만원에 살려고하는데, 비싼건가요//     -1  \n",
       "2021-04-22                         어디서 70만원에 살수있어요?나도 사고 싶다//      1  \n",
       "2021-04-23  pe가뭐에요?//70만원에 살까 말까 고민하고 있는데,팔렸다고 하네요.\"빨간색매물검...      0  \n",
       "...                                                       ...    ...  \n",
       "2022-07-27                           구라치치말고 아는거 있음 그냥 직접 올려//      1  \n",
       "2022-08-31  덩치 큰 러시아가 누구다 다 이길거라고 했지만 결과는? 길고 짧은건 대봐야 안다고우...     -1  \n",
       "2022-09-02  연일 금리가 급등하고 있다. 매출만을 키우기 위해 무한확장을 거듭했던 스타트업과 유...      1  \n",
       "2022-09-05  한때 VC와 스타트업들이 힘을 합쳐 매출액을 늘려 시장 주도권을 가져가기위한 전략으...      1  \n",
       "2022-09-08  오아시스마켓은 올해 상반기 전년 대비 21% 증가한 2024억원 매출액과 171% ...     -1  \n",
       "\n",
       "[86 rows x 3 columns]"
      ]
     },
     "execution_count": 8,
     "metadata": {},
     "output_type": "execute_result"
    }
   ],
   "source": [
    "df_38"
   ]
  },
  {
   "cell_type": "code",
   "execution_count": 9,
   "id": "88b409d4",
   "metadata": {
    "ExecuteTime": {
     "end_time": "2022-10-05T05:47:20.605070Z",
     "start_time": "2022-10-05T05:47:20.553064Z"
    }
   },
   "outputs": [
    {
     "data": {
      "text/plain": [
       "<AxesSubplot:>"
      ]
     },
     "execution_count": 9,
     "metadata": {},
     "output_type": "execute_result"
    },
    {
     "data": {
      "image/png": "[encoded data removed]",
      "text/plain": [
       "<Figure size 432x288 with 1 Axes>"
      ]
     },
     "metadata": {
      "needs_background": "light"
     },
     "output_type": "display_data"
    }
   ],
   "source": [
    "df_38['label'].value_counts().plot(kind='bar')"
   ]
  },
  {
   "cell_type": "code",
   "execution_count": 10,
   "id": "cfea7414",
   "metadata": {
    "ExecuteTime": {
     "end_time": "2022-10-05T05:47:20.609323Z",
     "start_time": "2022-10-05T05:47:20.607500Z"
    }
   },
   "outputs": [
    {
     "name": "stdout",
     "output_type": "stream",
     "text": [
      "데이터 개수 : 86\n"
     ]
    }
   ],
   "source": [
    "print('데이터 개수 :',len(df_38)) "
   ]
  },
  {
   "cell_type": "code",
   "execution_count": 11,
   "id": "f8b45945",
   "metadata": {
    "ExecuteTime": {
     "end_time": "2022-10-05T05:47:20.614328Z",
     "start_time": "2022-10-05T05:47:20.610446Z"
    }
   },
   "outputs": [
    {
     "data": {
      "text/html": [
       "<div>\n",
       "<style scoped>\n",
       "    .dataframe tbody tr th:only-of-type {\n",
       "        vertical-align: middle;\n",
       "    }\n",
       "\n",
       "    .dataframe tbody tr th {\n",
       "        vertical-align: top;\n",
       "    }\n",
       "\n",
       "    .dataframe thead th {\n",
       "        text-align: right;\n",
       "    }\n",
       "</style>\n",
       "<table border=\"1\" class=\"dataframe\">\n",
       "  <thead>\n",
       "    <tr style=\"text-align: right;\">\n",
       "      <th></th>\n",
       "      <th>title</th>\n",
       "      <th>content</th>\n",
       "      <th>label</th>\n",
       "    </tr>\n",
       "    <tr>\n",
       "      <th>date</th>\n",
       "      <th></th>\n",
       "      <th></th>\n",
       "      <th></th>\n",
       "    </tr>\n",
       "  </thead>\n",
       "  <tbody>\n",
       "    <tr>\n",
       "      <th>2020-09-04</th>\n",
       "      <td>[제목 : [오아시스]\\n 팬데믹시대에 내마음의 표준을 바꾸는 유통 ]</td>\n",
       "      <td>이번 코로나가 유통시장의 판도를 5년이상 앞당겨진 변화를 가져 왔다?매장에서 인테넷...</td>\n",
       "      <td>1</td>\n",
       "    </tr>\n",
       "    <tr>\n",
       "      <th>2021-04-17</th>\n",
       "      <td>[제목 : [오아시스] 오아시스 매수 했습니다. ][제목 : [오아시스] 오아시스 ...</td>\n",
       "      <td>오아이스 주식 중  pe가 보유한 물량이 시장에서 움직이는 듯 하네요.어제, 아시는...</td>\n",
       "      <td>0</td>\n",
       "    </tr>\n",
       "    <tr>\n",
       "      <th>2021-04-19</th>\n",
       "      <td>[제목 : [오아시스] 70만원이면 비싼건가요 ]</td>\n",
       "      <td>30주 70만원에 살려고하는데, 비싼건가요//</td>\n",
       "      <td>-1</td>\n",
       "    </tr>\n",
       "    <tr>\n",
       "      <th>2021-04-22</th>\n",
       "      <td>[제목 : [오아시스] 70만원이면 비싼건가요 ]</td>\n",
       "      <td>어디서 70만원에 살수있어요?나도 사고 싶다//</td>\n",
       "      <td>1</td>\n",
       "    </tr>\n",
       "    <tr>\n",
       "      <th>2021-04-23</th>\n",
       "      <td>[코멘트 : [오아시스] pe가뭐에요? ][제목 : [오아시스] 망설이다가 못 샀네요 ]</td>\n",
       "      <td>pe가뭐에요?//70만원에 살까 말까 고민하고 있는데,팔렸다고 하네요.\"빨간색매물검...</td>\n",
       "      <td>0</td>\n",
       "    </tr>\n",
       "  </tbody>\n",
       "</table>\n",
       "</div>"
      ],
      "text/plain": [
       "                                                        title  \\\n",
       "date                                                            \n",
       "2020-09-04            [제목 : [오아시스]\\n 팬데믹시대에 내마음의 표준을 바꾸는 유통 ]   \n",
       "2021-04-17  [제목 : [오아시스] 오아시스 매수 했습니다. ][제목 : [오아시스] 오아시스 ...   \n",
       "2021-04-19                        [제목 : [오아시스] 70만원이면 비싼건가요 ]   \n",
       "2021-04-22                        [제목 : [오아시스] 70만원이면 비싼건가요 ]   \n",
       "2021-04-23  [코멘트 : [오아시스] pe가뭐에요? ][제목 : [오아시스] 망설이다가 못 샀네요 ]   \n",
       "\n",
       "                                                      content  label  \n",
       "date                                                                  \n",
       "2020-09-04  이번 코로나가 유통시장의 판도를 5년이상 앞당겨진 변화를 가져 왔다?매장에서 인테넷...      1  \n",
       "2021-04-17  오아이스 주식 중  pe가 보유한 물량이 시장에서 움직이는 듯 하네요.어제, 아시는...      0  \n",
       "2021-04-19                          30주 70만원에 살려고하는데, 비싼건가요//     -1  \n",
       "2021-04-22                         어디서 70만원에 살수있어요?나도 사고 싶다//      1  \n",
       "2021-04-23  pe가뭐에요?//70만원에 살까 말까 고민하고 있는데,팔렸다고 하네요.\"빨간색매물검...      0  "
      ]
     },
     "execution_count": 11,
     "metadata": {},
     "output_type": "execute_result"
    }
   ],
   "source": [
    "df_38[:5]"
   ]
  },
  {
   "cell_type": "code",
   "execution_count": 17,
   "id": "89fab934",
   "metadata": {
    "ExecuteTime": {
     "end_time": "2022-10-05T05:47:41.291401Z",
     "start_time": "2022-10-05T05:47:41.273453Z"
    },
    "collapsed": true
   },
   "outputs": [
    {
     "name": "stdout",
     "output_type": "stream",
     "text": [
      "Empty DataFrame\n",
      "Columns: [title, content, label]\n",
      "Index: []\n",
      "                                                        title  \\\n",
      "date                                                            \n",
      "2020-09-04              제목    오아시스   팬데믹시대에 내마음의 표준을 바꾸는 유통     \n",
      "2021-04-17   제목    오아시스  오아시스 매수 했습니다    제목    오아시스  오아시스 ...   \n",
      "2021-04-19                         제목    오아시스  70만원이면 비싼건가요     \n",
      "2021-04-22                         제목    오아시스  70만원이면 비싼건가요     \n",
      "2021-04-23   코멘트    오아시스  pe가뭐에요    제목    오아시스  망설이다가 못 샀네요     \n",
      "2021-04-26   제목    오아시스  위에글 바이럴 기가 막히네요  ㅋㅋㅋㅋ   제목    오아시...   \n",
      "2021-04-28   제목    오아시스  비싸도 너무 비싸네요   코멘트    오아시스  그래도 지금...   \n",
      "2021-05-05                          제목    오아시스  비싸도 너무 비싸네요     \n",
      "2021-05-06                        제목    오아시스  오아시스상장 언제 하나요     \n",
      "2021-05-11           제목    오아시스  옆   집  수수수지   그렇게 할 일 없냐       \n",
      "2021-05-13                             제목    오아시스  거래는 뜸하네요     \n",
      "2021-05-14        코멘트    오아시스  ㅋㅋㅋ 그놈 싸게 올렸길래 함 사볼라고 했더니 거래     \n",
      "2021-05-16           제목    오아시스  옆   집  수수수지   그렇게 할 일 없냐       \n",
      "2021-05-18                         제목    오아시스  무상증자 안하나요        \n",
      "2021-06-02           제목    오아시스  옆   집  수수수지   그렇게 할 일 없냐       \n",
      "2021-06-03                   제목    오아시스  1백만원은 거래가 되는듯 합니다      \n",
      "2021-06-24                     제목    오아시스  매도가에 거래가 된다고 하네요     \n",
      "2021-07-01                            제목    오아시스  오늘 매수했어요      \n",
      "2021-07-02                              제목    오아시스  중소기업 여부     \n",
      "2021-07-03   코멘트    오아시스  오아시스도 예상말고 올해실적으로 보면 2400억정도인   ...   \n",
      "\n",
      "                                                      content  label  \n",
      "date                                                                  \n",
      "2020-09-04  이번 코로나가 유통시장의 판도를 5년이상 앞당겨진 변화를 가져 왔다 매장에서 인테넷...      1  \n",
      "2021-04-17  오아이스 주식 중  pe가 보유한 물량이 시장에서 움직이는 듯 하네요 어제  아시는...      0  \n",
      "2021-04-19                          30주 70만원에 살려고하는데  비싼건가요       -1  \n",
      "2021-04-22                         어디서 70만원에 살수있어요 나도 사고 싶다        1  \n",
      "2021-04-23  pe가뭐에요   70만원에 살까 말까 고민하고 있는데 팔렸다고 하네요  빨간색매물검...      0  \n",
      "2021-04-26                     지금 매물 seoul거래소 밖에 없는 듯   고고고        0  \n",
      "2021-04-28  750 000원이면  너무 비싸네요액면가 5 000원이라고는 하지만  총각네 오픈마...      0  \n",
      "2021-05-05  마켓컬리가 너무 비싼거죠적자에 뭐 남들 다하는 새벽배송컬리야 말로 뭐가 있나요없어질...     -1  \n",
      "2021-05-06                                 오아시스상장계획 언제쯤 일까요        0  \n",
      "2021-05-11  옆 집 수수수지   그렇게 할 일 없냐    꼴랑 몇 주 갖고 팔지도 않을꺼면서 며...     -1  \n",
      "2021-05-13  오아시스 개인 물량은 없고기관 물량만 있어서  그런지  매도물량이 많지 않네요거래가...      1  \n",
      "2021-05-14  ㅋㅋㅋ 그놈 싸게 올렸길래 함 사볼라고 했더니 거래취소도 안하고 시간지연으로 취소되...      1  \n",
      "2021-05-16          그러니까요 이런 놈을 처음봤네요  양아X가 이런 경우에 쓰는 단어같네요       -1  \n",
      "2021-05-18  1주당 1 000 000원 넘 비싸요무상증자 10 000 는 배정하면  거래도 활발...      0  \n",
      "2021-06-02  옆 집 플랫폼에 시정 조치를 요청해 경고 조치를 했다 하는데도  계속 싸지르고 있네...      1  \n",
      "2021-06-03  오아시스 거래가격이 1백만원은 되는 듯 합니다 최근 오아시스 주식 매도의사를 물어오...     -1  \n",
      "2021-06-24  매도 매수호가 중 매도 가격으로 거래가 되고 있다고 합니다 물량을 가지고 계시는 분...     -1  \n",
      "2021-07-01                    현재 거래가로 배팅했어요 기업의 성장에 맡겨야겠지요        -1  \n",
      "2021-07-02             오아시스는 중소기업인지  중소기업외에 속하는지 아시는 분 계실까요        0  \n",
      "2021-07-03  오아시스도 예상말고 올해실적으로 보면 2400억정도인가요 마켓컬리 1 4정도되겠네요...     -1  \n",
      "                                                        title  \\\n",
      "date                                                            \n",
      "2021-07-06                      제목    오아시스  항상 지금이 가장 저렴할거임     \n",
      "2021-07-07   제목    오아시스  유상증자 공시네요   제목    오아시스  유상증자 공시네요...   \n",
      "2021-07-09   제목    오아시스  상장노력은 하는거죠    제목    오아시스  무조건 상장 ...   \n",
      "2021-07-11                            제목    오아시스  이미 샀습니다       \n",
      "2021-07-13               제목    오아시스  물량많네   코멘트    오아시스  금액     \n",
      "2021-07-14                            제목    오아시스  실거래가 137만     \n",
      "2021-07-15   제목    오아시스  가격 다르자나 제대로봐   제목    오아시스  가격 다르자...   \n",
      "2021-07-16                            제목    오아시스  조용히 갑시다       \n",
      "2021-07-24                  제목    오아시스  무상증자  액면분할 언제나 할가요      \n",
      "2021-07-25                     코멘트    오아시스  희망을 먹는거야  K삼촌       \n",
      "2021-07-29              제목    오아시스  지금 잘가고 있긴 한데 스피드 좀 올려       \n",
      "2021-08-10   제목    오아시스  일단 200 찍고 난후 무증 얘기하자   제목    오아시스...   \n",
      "2021-08-11   제목    오아시스  글로벌 4대사모에서 1천억들어온답니다    코멘트    오아...   \n",
      "2021-08-12   제목    오아시스         코멘트    오아시스  오아시스 앞으로 좋아질것...   \n",
      "2021-08-13   제목    오아시스  오아시스 상장하면 최소 시총 3조   제목    오아시스  ...   \n",
      "2021-08-14                       제목    오아시스  오아가 빠를까 쓱이 빠를까     \n",
      "2021-08-18                        코멘트    오아시스  3 000 000 가자     \n",
      "2021-08-20       코멘트    오아시스  주당 4백만원 넘긴후에   액분과 무증 하고  상장신     \n",
      "2021-08-24                                  제목    오아시스  주식수     \n",
      "2021-08-25                        제목    오아시스  상장청구 언제 신청하는지     \n",
      "\n",
      "                                                      content  label  \n",
      "date                                                                  \n",
      "2021-07-06               너무 잴 필요없어 어차피 지금이 가장 쌀거임 알려주는거임           0  \n",
      "2021-07-07  보통주 36 691신주 발행가 13627323자 배정이고 500억 정도네요신주권교부...      0  \n",
      "2021-07-09    투자금 받으면서 23년까지 상장하는걸로 못박혀있습니다 내년에 상장 작업 시작되고...      1  \n",
      "2021-07-11                                        이미 샀습니다         -1  \n",
      "2021-07-13                               잘 찾아봐라  물량 많다   금액        1  \n",
      "2021-07-14                                                뻥        0  \n",
      "2021-07-15  가격다른데 한쪽은 137  한쪽은 130저거 퍼다 나르는 사람 돈 벌듯  ㅋㅋㅋ  ...     -1  \n",
      "2021-07-16                                                        -1  \n",
      "2021-07-24  1 300 000원짜리 주식이라서  거래가 힘들듯 합니다 무상증자 1000 하면서 ...     -1  \n",
      "2021-07-25                                  희망을 먹는거야  K삼촌          0  \n",
      "2021-07-29                                                         1  \n",
      "2021-08-10  그러자  이데일리 기사 참조해 주세요구주주 매각 14 677주가치평가 1조원 내외관...     -1  \n",
      "2021-08-11  오늘 기사떳네요  1천억 투자후 8 5천억 밸류로 들어온답니다 얼마나 먹을려고 tp...      1  \n",
      "2021-08-12       는 200 넘었네요투자유치되어서 그런가보네요  오아시스 앞으로 좋아질것같은데        1  \n",
      "2021-08-13  컬리도 상장하면 5조를 보는데이익이 플러스인 오아시스는상장시 3조 넘길거임글로벌 사...     -1  \n",
      "2021-08-14                          누가먼저 청구 신청할지  오아냐  쓱이냐        -1  \n",
      "2021-08-18                                     3 000 000 가자       -1  \n",
      "2021-08-20                   주당 4백만원 넘긴후에  액분과 무증 하고  상장신청        -1  \n",
      "2021-08-24                                 주식수 50만주무증 기대합니다        1  \n",
      "2021-08-25     대략 아시는분   글로벌 사모펀드는 들어올거 같은데상장 청구를 언제하는지 궁금함        1  \n",
      "                                                        title  \\\n",
      "date                                                            \n",
      "2021-08-27   코멘트    오아시스        고객센터에  악의적 매물 신고하세요 나도 신  ...   \n",
      "2021-09-01   제목    오아시스  액분 갑시다   코멘트    오아시스  찬성  근데 현실성은...   \n",
      "2021-09-03   제목    오아시스  오아시스도 기평 청구 하는지    제목    오아시스  주식...   \n",
      "2021-09-04   코멘트    오아시스  그럼 오아는  기평하지 않고   상장청구 바로 신청   제...   \n",
      "2021-09-07   제목    오아시스   몇일 만에 무슨일이죠    제목    오아시스  미친 우상향     \n",
      "2021-09-08   제목    오아시스  매매글은 다 업자밖에 없네요   제목    오아시스  한놈만...   \n",
      "2021-10-10                           제목    오아시스  왜케 떨어지는건가요     \n",
      "2021-10-19                               제목    오아시스  뭔일있는건가     \n",
      "2021-10-28   제목    오아시스  오아시스 1조 기업가치   제목    오아시스  100억원 ...   \n",
      "2021-10-29   코멘트    오아시스  그 벨류 비싸서 돈 안모일텐데   제목    오아시스  차...   \n",
      "2021-11-13   제목    오아시스  내년 3월 정기주주총회 기대됨ㅎ   제목    오아시스  수...   \n",
      "2021-11-28                 제목    오아시스  오아시스 22년 상장 축하드립니다       \n",
      "2021-12-03              제목    오아시스  내년 상반기 실적으로 하반기에 청구하겠네요     \n",
      "2021-12-05            제목    오아시스   오아시스의 예상 기업가치는 1조 컬리는 5조     \n",
      "2021-12-07                                코멘트    오아시스  2조이상     \n",
      "2021-12-17                        제목    오아시스  1조가 누구 개이름 인가     \n",
      "2021-12-20     코멘트    오아시스  pre ipo 기관투자 1조밸류에 들어온거 아시죠  안티     \n",
      "2021-12-23                             제목    오아시스  2조부터 시작      \n",
      "2021-12-30                       제목    오아시스  2조부터 시작  공모가가      \n",
      "2022-01-20                               제목    오아시스  금년 상장ㅇ     \n",
      "\n",
      "                                                      content  label  \n",
      "date                                                                  \n",
      "2021-08-27        고객센터에  악의적 매물 신고하세요나도 신고 했는데5회 라는 규정이 있어...      1  \n",
      "2021-09-01  5000원    100원으로    찬성  근데 현실성은액분 5천원에서 5백원으로 한...     -1  \n",
      "2021-09-03  오아도  기평신청후에  상장청구하는지 아시는분 답  무증할 수 밖에 없다  기술성평...      1  \n",
      "2021-09-04  그럼 오아는  기평하지 않고  상장청구 바로 신청 할수 있는건가요  당연하죠 만년 ...      0  \n",
      "2021-09-07      ㅇ  봤제 이유가 뭐겠어 걍 묻어둬     이것은 쇠고기가 아니라 한마리여         -1  \n",
      "2021-09-08   다른곳이랑은 시세가 전혀 맞질않네요 280인데 여긴 200   서로 담합하는지 높...      0  \n",
      "2021-10-10                                         이유 아시는 분        0  \n",
      "2021-10-19                                           쭉 하락이네       -1  \n",
      "2021-10-28   매출현황 빤히 보고있는 주관사가 1조에 투자했으면 상장시 1 5 2조 무난 린정 ...      1  \n",
      "2021-10-29     그 벨류 비싸서 돈 안모일텐데  왜 쿠팡  컬리  오아시스에 목숨을 거냐            0  \n",
      "2021-11-13                  내년 3월 정기주주총회 기대됨ㅎ  수익봤으면 된거지 뭐        -1  \n",
      "2021-11-28                                             즐깁시다        1  \n",
      "2021-12-03  오아시스마켓 또한 내년 상장을 목표로 하고 있고 있다  상장 시기는 정해지지 않았으...     -1  \n",
      "2021-12-05  새벽 배송 3사 로 불리는 쓱 SSG  닷컴  마켓컬리  오아시스는 내년 상반기와 ...      1  \n",
      "2021-12-07                                             2조이상       -1  \n",
      "2021-12-17                                               헉스       -1  \n",
      "2021-12-20  pre ipo 기관투자 1조밸류에 들어온거 아시죠 안티를 하려면 좀 더 근거를 가지...      1  \n",
      "2021-12-23                               내년 공모가격은 시총 2조로 출발        1  \n",
      "2021-12-30                      공모가가 2조 어라운드 되지 않을까요 시초가는요        -1  \n",
      "2022-01-20      올해 말에 상장 예정인 거  같은데 상장  가기 전에 무상과 액면 분할 하겠죠       -1  \n",
      "                                                        title  \\\n",
      "date                                                            \n",
      "2022-01-23                               제목    오아시스  지금 가격이     \n",
      "2022-01-31      제목    오아시스  비상장주식 투자 권유하며 돈달라는 사람 극주의필요 사기꾼     \n",
      "2022-02-08   제목    오아시스  가격    코멘트    오아시스  하반기되면 40층가있을겁니...   \n",
      "2022-02-09                     제목    오아시스  SI가 1조 가치에 들어왔는데     \n",
      "2022-03-20   제목    오아시스  50분의 1로 액분하네요 주총 내용    제목    오아시스...   \n",
      "2022-03-21                    제목    오아시스  와 액분 50배라니  날아갑시다     \n",
      "2022-03-22                          제목    오아시스  주총 편지에 써있어요     \n",
      "2022-03-23                          제목    오아시스  주총 편지에 써있어요     \n",
      "2022-03-25   제목    오아시스  29일까지 매수하면 되나요    제목    오아시스  컬리는...   \n",
      "2022-03-30   제목    오아시스  오아시스 액면분할 날짜   제목    오아시스  4월에 청구...   \n",
      "2022-03-31                             제목    오아시스  주총 참석 후기     \n",
      "2022-04-01   코멘트    오아시스  주총내용감사합니다   코멘트    오아시스  주총내용  저...   \n",
      "2022-04-13   제목    오아시스  액면분할 날짜 아시는분     제목    오아시스  주식은 ...   \n",
      "2022-04-15                     제목    오아시스  혹시 지금 사면 호구 인가요      \n",
      "2022-04-18   제목    오아시스  오아시스 액면분할 관련 기준일 및 교부일   코멘트    오...   \n",
      "2022-04-19               제목    오아시스  오아시스 액면분할 관련 기준일 및 교부일     \n",
      "2022-04-29   제목    오아시스  기업가치 3    지 언급되네요   코멘트    오아시스  ...   \n",
      "2022-05-02   제목    오아시스  기업가치 3    지 언급되네요   제목    오아시스  오...   \n",
      "2022-05-17                       제목    오아시스  액면분할 완료 및 희망회로     \n",
      "2022-05-25               코멘트    오아시스  성장주 다 박살나는데 청구 못하죠        \n",
      "\n",
      "                                                      content  label  \n",
      "date                                                                  \n",
      "2022-01-23                                지금 가격이230만원  맞나요        -1  \n",
      "2022-01-31  진짜라면 심각하네요 설마 비상장 권유도 하고계좌도 뽀샵질하는건 아니죠 소름 돋네요아...      1  \n",
      "2022-02-08  27층 넘어 40층까지 간다해서 힘줘기다리고 있는데 곧 가가남요  알려주셔요    ...     -1  \n",
      "2022-02-09  공모가가 1조정도라는게 말이 되나요  최소한 50 이상 오른 1 5조 넘은 가치에 ...      1  \n",
      "2022-03-20  5000원에서 100원으로 액면분할반영일은 3월 30일부터로   액분 50배 너무 ...      1  \n",
      "2022-03-21                                        액분 진짜인가요        -1  \n",
      "2022-03-22        주총 편지 온거에 안건으로 써있어요 액면가 5 000원을 100원으로 분할        0  \n",
      "2022-03-23  주총 초대장 왔나요  저는 안왔던데   오아시스 전화해보니 지어소프트 IR에 전화해...      1  \n",
      "2022-03-25                  그럼 29일 까지 매수 해야 되나요   컬리는대주주문제고        1  \n",
      "2022-03-30     오늘 오아시스 주총에서 액면분할 날짜 정해졌나요    냉무   액면분할 하나요         1  \n",
      "2022-03-31  1  액면분할 얘기 나옴  5 2일에 액분 된 주식 입고 될 것이라고 함   이사님...      0  \n",
      "2022-04-01           주총내용감사합니다  주총내용 저도 감사드립니다  3백도 문제 없겠군요       -1  \n",
      "2022-04-13  몇일날까지 액분날짜에 해당되는지  지금 주식사도 50배 받을수 있나요   아님   ...      1  \n",
      "2022-04-15  최근에 관심이 가는 기업이라서 살려했는데 액분이랑 이런얘기가 있어서요잘몰라서    ...      1  \n",
      "2022-04-18  액면 분할 기준일   2022 5 2  거래정지일 4 29  액면가   5000 원...     -1  \n",
      "2022-04-19                                주주분들 축하드립니다     1       -1  \n",
      "2022-04-29  m mk     news stock view 2022 04 379589 2조만되도 ...      1  \n",
      "2022-05-02                               오아시스 가즈아     가즈아          1  \n",
      "2022-05-17  어제자 5 16일 로 50 1로 액분 완료되었습니다 1주    50주 로 되었고 상...      0  \n",
      "2022-05-25                            성장주 다 박살나는데 청구 못하죠           1  \n"
     ]
    }
   ],
   "source": [
    "# for i in range(5):\n",
    "#     print(df_38[(i-1)*20:i*20])"
   ]
  },
  {
   "cell_type": "markdown",
   "id": "ab0780d5",
   "metadata": {},
   "source": [
    "### 제목과 본문 합치기"
   ]
  },
  {
   "cell_type": "code",
   "execution_count": 41,
   "id": "6fdb75f8",
   "metadata": {
    "ExecuteTime": {
     "end_time": "2022-10-05T06:04:46.466859Z",
     "start_time": "2022-10-05T06:04:46.461322Z"
    }
   },
   "outputs": [],
   "source": [
    "df_38['content'] = df_38['title'] + df_38['content']"
   ]
  },
  {
   "cell_type": "code",
   "execution_count": 44,
   "id": "578e107d",
   "metadata": {
    "ExecuteTime": {
     "end_time": "2022-10-05T06:05:36.634897Z",
     "start_time": "2022-10-05T06:05:36.629908Z"
    }
   },
   "outputs": [],
   "source": [
    "df_38 = df_38.drop(columns=['title'])"
   ]
  },
  {
   "cell_type": "code",
   "execution_count": 76,
   "id": "2ff990fa",
   "metadata": {
    "ExecuteTime": {
     "end_time": "2022-10-05T06:17:23.648785Z",
     "start_time": "2022-10-05T06:17:23.637586Z"
    }
   },
   "outputs": [
    {
     "data": {
      "text/html": [
       "<div>\n",
       "<style scoped>\n",
       "    .dataframe tbody tr th:only-of-type {\n",
       "        vertical-align: middle;\n",
       "    }\n",
       "\n",
       "    .dataframe tbody tr th {\n",
       "        vertical-align: top;\n",
       "    }\n",
       "\n",
       "    .dataframe thead th {\n",
       "        text-align: right;\n",
       "    }\n",
       "</style>\n",
       "<table border=\"1\" class=\"dataframe\">\n",
       "  <thead>\n",
       "    <tr style=\"text-align: right;\">\n",
       "      <th></th>\n",
       "      <th>content</th>\n",
       "      <th>label</th>\n",
       "    </tr>\n",
       "    <tr>\n",
       "      <th>date</th>\n",
       "      <th></th>\n",
       "      <th></th>\n",
       "    </tr>\n",
       "  </thead>\n",
       "  <tbody>\n",
       "    <tr>\n",
       "      <th>2020-09-04</th>\n",
       "      <td>제목    오아시스   팬데믹시대에 내마음의 표준을 바꾸는 유통  이번 코로나가 ...</td>\n",
       "      <td>1</td>\n",
       "    </tr>\n",
       "    <tr>\n",
       "      <th>2021-04-17</th>\n",
       "      <td>제목    오아시스  오아시스 매수 했습니다    제목    오아시스  오아시스 ...</td>\n",
       "      <td>0</td>\n",
       "    </tr>\n",
       "    <tr>\n",
       "      <th>2021-04-19</th>\n",
       "      <td>제목    오아시스  70만원이면 비싼건가요  30주 70만원에 살려고하는데  비...</td>\n",
       "      <td>-1</td>\n",
       "    </tr>\n",
       "    <tr>\n",
       "      <th>2021-04-22</th>\n",
       "      <td>제목    오아시스  70만원이면 비싼건가요  어디서 70만원에 살수있어요 나도 ...</td>\n",
       "      <td>1</td>\n",
       "    </tr>\n",
       "    <tr>\n",
       "      <th>2021-04-23</th>\n",
       "      <td>코멘트    오아시스  pe가뭐에요    제목    오아시스  망설이다가 못 샀네...</td>\n",
       "      <td>0</td>\n",
       "    </tr>\n",
       "    <tr>\n",
       "      <th>...</th>\n",
       "      <td>...</td>\n",
       "      <td>...</td>\n",
       "    </tr>\n",
       "    <tr>\n",
       "      <th>2022-07-27</th>\n",
       "      <td>코멘트    오아시스  구라치치말고 아는거 있음 그냥 직접 올려  구라치치말고 아...</td>\n",
       "      <td>1</td>\n",
       "    </tr>\n",
       "    <tr>\n",
       "      <th>2022-08-31</th>\n",
       "      <td>제목    오아시스  우크라이나와 러시아   제목    오아시스  오늘 날짜 20...</td>\n",
       "      <td>-1</td>\n",
       "    </tr>\n",
       "    <tr>\n",
       "      <th>2022-09-02</th>\n",
       "      <td>제목    오아시스  이 시기에 오히려 주목해야 할 기업  연일 금리가 급등하고 ...</td>\n",
       "      <td>1</td>\n",
       "    </tr>\n",
       "    <tr>\n",
       "      <th>2022-09-05</th>\n",
       "      <td>제목    오아시스  계획된 적자  한때 VC와 스타트업들이 힘을 합쳐 매출액을 ...</td>\n",
       "      <td>1</td>\n",
       "    </tr>\n",
       "    <tr>\n",
       "      <th>2022-09-08</th>\n",
       "      <td>제목    오아시스  위기에 재조명받는  오아시스 미트박스  흑자비결은   오아시...</td>\n",
       "      <td>-1</td>\n",
       "    </tr>\n",
       "  </tbody>\n",
       "</table>\n",
       "<p>86 rows × 2 columns</p>\n",
       "</div>"
      ],
      "text/plain": [
       "                                                      content  label\n",
       "date                                                                \n",
       "2020-09-04   제목    오아시스   팬데믹시대에 내마음의 표준을 바꾸는 유통  이번 코로나가 ...      1\n",
       "2021-04-17   제목    오아시스  오아시스 매수 했습니다    제목    오아시스  오아시스 ...      0\n",
       "2021-04-19   제목    오아시스  70만원이면 비싼건가요  30주 70만원에 살려고하는데  비...     -1\n",
       "2021-04-22   제목    오아시스  70만원이면 비싼건가요  어디서 70만원에 살수있어요 나도 ...      1\n",
       "2021-04-23   코멘트    오아시스  pe가뭐에요    제목    오아시스  망설이다가 못 샀네...      0\n",
       "...                                                       ...    ...\n",
       "2022-07-27   코멘트    오아시스  구라치치말고 아는거 있음 그냥 직접 올려  구라치치말고 아...      1\n",
       "2022-08-31   제목    오아시스  우크라이나와 러시아   제목    오아시스  오늘 날짜 20...     -1\n",
       "2022-09-02   제목    오아시스  이 시기에 오히려 주목해야 할 기업  연일 금리가 급등하고 ...      1\n",
       "2022-09-05   제목    오아시스  계획된 적자  한때 VC와 스타트업들이 힘을 합쳐 매출액을 ...      1\n",
       "2022-09-08   제목    오아시스  위기에 재조명받는  오아시스 미트박스  흑자비결은   오아시...     -1\n",
       "\n",
       "[86 rows x 2 columns]"
      ]
     },
     "execution_count": 76,
     "metadata": {},
     "output_type": "execute_result"
    }
   ],
   "source": [
    "df_38"
   ]
  },
  {
   "cell_type": "markdown",
   "id": "05763040",
   "metadata": {},
   "source": [
    "### train, test data 나누기"
   ]
  },
  {
   "cell_type": "code",
   "execution_count": 46,
   "id": "55b51e26",
   "metadata": {
    "ExecuteTime": {
     "end_time": "2022-10-05T06:05:43.709484Z",
     "start_time": "2022-10-05T06:05:43.701101Z"
    }
   },
   "outputs": [
    {
     "data": {
      "text/html": [
       "<div>\n",
       "<style scoped>\n",
       "    .dataframe tbody tr th:only-of-type {\n",
       "        vertical-align: middle;\n",
       "    }\n",
       "\n",
       "    .dataframe tbody tr th {\n",
       "        vertical-align: top;\n",
       "    }\n",
       "\n",
       "    .dataframe thead th {\n",
       "        text-align: right;\n",
       "    }\n",
       "</style>\n",
       "<table border=\"1\" class=\"dataframe\">\n",
       "  <thead>\n",
       "    <tr style=\"text-align: right;\">\n",
       "      <th></th>\n",
       "      <th>content</th>\n",
       "      <th>label</th>\n",
       "    </tr>\n",
       "    <tr>\n",
       "      <th>date</th>\n",
       "      <th></th>\n",
       "      <th></th>\n",
       "    </tr>\n",
       "  </thead>\n",
       "  <tbody>\n",
       "    <tr>\n",
       "      <th>2021-12-07</th>\n",
       "      <td>코멘트    오아시스  2조이상  2조이상</td>\n",
       "      <td>-1</td>\n",
       "    </tr>\n",
       "    <tr>\n",
       "      <th>2021-12-30</th>\n",
       "      <td>제목    오아시스  2조부터 시작  공모가가   공모가가 2조 어라운드 되지 않...</td>\n",
       "      <td>-1</td>\n",
       "    </tr>\n",
       "    <tr>\n",
       "      <th>2021-04-22</th>\n",
       "      <td>제목    오아시스  70만원이면 비싼건가요  어디서 70만원에 살수있어요 나도 ...</td>\n",
       "      <td>1</td>\n",
       "    </tr>\n",
       "    <tr>\n",
       "      <th>2022-03-21</th>\n",
       "      <td>제목    오아시스  와 액분 50배라니  날아갑시다  액분 진짜인가요</td>\n",
       "      <td>-1</td>\n",
       "    </tr>\n",
       "    <tr>\n",
       "      <th>2022-09-08</th>\n",
       "      <td>제목    오아시스  위기에 재조명받는  오아시스 미트박스  흑자비결은   오아시...</td>\n",
       "      <td>-1</td>\n",
       "    </tr>\n",
       "  </tbody>\n",
       "</table>\n",
       "</div>"
      ],
      "text/plain": [
       "                                                      content  label\n",
       "date                                                                \n",
       "2021-12-07                          코멘트    오아시스  2조이상  2조이상       -1\n",
       "2021-12-30   제목    오아시스  2조부터 시작  공모가가   공모가가 2조 어라운드 되지 않...     -1\n",
       "2021-04-22   제목    오아시스  70만원이면 비싼건가요  어디서 70만원에 살수있어요 나도 ...      1\n",
       "2022-03-21         제목    오아시스  와 액분 50배라니  날아갑시다  액분 진짜인가요        -1\n",
       "2022-09-08   제목    오아시스  위기에 재조명받는  오아시스 미트박스  흑자비결은   오아시...     -1"
      ]
     },
     "execution_count": 46,
     "metadata": {},
     "output_type": "execute_result"
    }
   ],
   "source": [
    "df_38_shuffle = sklearn.utils.shuffle(df_38)\n",
    "df_38_shuffle.head()"
   ]
  },
  {
   "cell_type": "code",
   "execution_count": 47,
   "id": "c798b042",
   "metadata": {
    "ExecuteTime": {
     "end_time": "2022-10-05T06:05:46.256365Z",
     "start_time": "2022-10-05T06:05:46.251778Z"
    }
   },
   "outputs": [
    {
     "data": {
      "text/plain": [
       "68"
      ]
     },
     "execution_count": 47,
     "metadata": {},
     "output_type": "execute_result"
    }
   ],
   "source": [
    "train_ratio = 0.8\n",
    "train_range = int(len(df_38_shuffle) * train_ratio)\n",
    "train_range"
   ]
  },
  {
   "cell_type": "code",
   "execution_count": 48,
   "id": "a57e5ba7",
   "metadata": {
    "ExecuteTime": {
     "end_time": "2022-10-05T06:05:47.672044Z",
     "start_time": "2022-10-05T06:05:47.668763Z"
    }
   },
   "outputs": [],
   "source": [
    "train_data = df_38_shuffle[:train_range]\n",
    "test_data = df_38_shuffle[train_range:]"
   ]
  },
  {
   "cell_type": "code",
   "execution_count": 49,
   "id": "9e58dde4",
   "metadata": {
    "ExecuteTime": {
     "end_time": "2022-10-05T06:05:48.600753Z",
     "start_time": "2022-10-05T06:05:48.597244Z"
    }
   },
   "outputs": [
    {
     "name": "stdout",
     "output_type": "stream",
     "text": [
      "68 18\n"
     ]
    }
   ],
   "source": [
    "print(len(train_data), len(test_data))"
   ]
  },
  {
   "cell_type": "code",
   "execution_count": 50,
   "id": "ffcac1b2",
   "metadata": {
    "ExecuteTime": {
     "end_time": "2022-10-05T06:05:50.065930Z",
     "start_time": "2022-10-05T06:05:50.054206Z"
    }
   },
   "outputs": [
    {
     "name": "stdout",
     "output_type": "stream",
     "text": [
      "<class 'pandas.core.frame.DataFrame'>\n",
      "Index: 68 entries, 2021-12-07 to 2021-05-13\n",
      "Data columns (total 2 columns):\n",
      " #   Column   Non-Null Count  Dtype \n",
      "---  ------   --------------  ----- \n",
      " 0   content  68 non-null     object\n",
      " 1   label    68 non-null     int64 \n",
      "dtypes: int64(1), object(1)\n",
      "memory usage: 1.6+ KB\n"
     ]
    }
   ],
   "source": [
    "train_data.info()"
   ]
  },
  {
   "cell_type": "code",
   "execution_count": 51,
   "id": "c3b24e1b",
   "metadata": {
    "ExecuteTime": {
     "end_time": "2022-10-05T06:05:52.524290Z",
     "start_time": "2022-10-05T06:05:52.516071Z"
    },
    "scrolled": true
   },
   "outputs": [
    {
     "data": {
      "text/plain": [
       "content    0\n",
       "label      0\n",
       "dtype: int64"
      ]
     },
     "execution_count": 51,
     "metadata": {},
     "output_type": "execute_result"
    }
   ],
   "source": [
    "train_data.isnull().sum()"
   ]
  },
  {
   "cell_type": "markdown",
   "id": "d4137869",
   "metadata": {},
   "source": [
    "### 데이터 정제하기"
   ]
  },
  {
   "cell_type": "code",
   "execution_count": 53,
   "id": "e91081a2",
   "metadata": {
    "ExecuteTime": {
     "end_time": "2022-10-05T06:06:08.591555Z",
     "start_time": "2022-10-05T06:06:08.582304Z"
    }
   },
   "outputs": [
    {
     "name": "stderr",
     "output_type": "stream",
     "text": [
      "/var/folders/1d/lfkpl6ps02xgh0rdprtbmgvw0000gn/T/ipykernel_1449/3127715996.py:6: SettingWithCopyWarning: \n",
      "A value is trying to be set on a copy of a slice from a DataFrame.\n",
      "Try using .loc[row_indexer,col_indexer] = value instead\n",
      "\n",
      "See the caveats in the documentation: https://pandas.pydata.org/pandas-docs/stable/user_guide/indexing.html#returning-a-view-versus-a-copy\n",
      "  train_data[\"content\"] = train_data[\"content\"].str.replace(pat=r'[^\\w]', repl=r' ', regex=True)\n"
     ]
    }
   ],
   "source": [
    "# 특수문자 제거 정규표현식\n",
    "\n",
    "# df_38['title'] = df_38['title'].str.replace(r\"[^\\uAC00-\\uD7A30-9a-zA-Z\\s]\",'')\n",
    "# train_data[\"title\"] = train_data[\"title\"].str.replace(pat=r'[^\\w]', repl=r' ', regex=True)\n",
    "# df_38['content'] = df_38['content'].str.replace(r\"[^\\uAC00-\\uD7A30-9a-zA-Z\\s]\",'')\n",
    "train_data[\"content\"] = train_data[\"content\"].str.replace(pat=r'[^\\w]', repl=r' ', regex=True)"
   ]
  },
  {
   "cell_type": "code",
   "execution_count": null,
   "id": "b73dc8d9",
   "metadata": {
    "ExecuteTime": {
     "end_time": "2022-10-05T05:42:15.282192Z",
     "start_time": "2022-10-05T05:42:15.276008Z"
    }
   },
   "outputs": [],
   "source": [
    "# content가 없는 데이터를 삭제하고 안하고는 선택사항일듯 -> 삭제하지 않는 것으로\n",
    "'''\n",
    "df_38['title'].replace('', np.nan, inplace=True) # 공백은 Null 값으로 변경\n",
    "df_38['content'].replace('', np.nan, inplace=True) # 공백은 Null 값으로 변경\n",
    "df_38 = df_38.dropna(how='any') # Null 값 제거\n",
    "print('전처리 후 테스트용 샘플의 개수 :',len(df_38))\n",
    "'''"
   ]
  },
  {
   "cell_type": "markdown",
   "id": "4da7d578",
   "metadata": {},
   "source": [
    "### 토큰화"
   ]
  },
  {
   "cell_type": "code",
   "execution_count": 54,
   "id": "28f116f0",
   "metadata": {
    "ExecuteTime": {
     "end_time": "2022-10-05T06:06:12.655372Z",
     "start_time": "2022-10-05T06:06:12.652598Z"
    }
   },
   "outputs": [],
   "source": [
    "import csv"
   ]
  },
  {
   "cell_type": "code",
   "execution_count": 55,
   "id": "e17328a2",
   "metadata": {
    "ExecuteTime": {
     "end_time": "2022-10-05T06:06:12.927926Z",
     "start_time": "2022-10-05T06:06:12.921298Z"
    }
   },
   "outputs": [],
   "source": [
    "with open('stopword_add.csv', newline='', encoding='utf-8') as f:\n",
    "    reader = csv.reader(f)\n",
    "    data = list(reader)"
   ]
  },
  {
   "cell_type": "code",
   "execution_count": 56,
   "id": "7c327bf1",
   "metadata": {
    "ExecuteTime": {
     "end_time": "2022-10-05T06:06:13.414282Z",
     "start_time": "2022-10-05T06:06:13.406524Z"
    },
    "scrolled": true
   },
   "outputs": [
    {
     "data": {
      "text/plain": [
       "['오아시스',\n",
       " '내',\n",
       " '을',\n",
       " '주',\n",
       " '식이',\n",
       " '요',\n",
       " '이면',\n",
       " 'pe',\n",
       " '뭐',\n",
       " '에요',\n",
       " '위',\n",
       " '글',\n",
       " '기',\n",
       " '때',\n",
       " '옆',\n",
       " '집',\n",
       " '그렇게',\n",
       " '일',\n",
       " '그',\n",
       " '놈',\n",
       " '함',\n",
       " '알다',\n",
       " '1',\n",
       " '71',\n",
       " '년',\n",
       " '안',\n",
       " '영',\n",
       " '억',\n",
       " '임',\n",
       " '네',\n",
       " '실',\n",
       " '137만',\n",
       " '가격',\n",
       " '다르다',\n",
       " '나',\n",
       " 'K',\n",
       " '삼촌',\n",
       " '있다',\n",
       " '한데',\n",
       " '200',\n",
       " '얘기',\n",
       " '14677',\n",
       " '로',\n",
       " '이다',\n",
       " '에서',\n",
       " '입니다',\n",
       " '팔',\n",
       " '라고',\n",
       " '4',\n",
       " '대',\n",
       " '시',\n",
       " '총',\n",
       " '평',\n",
       " '어떻다',\n",
       " '전',\n",
       " '3000000',\n",
       " '후',\n",
       " '액',\n",
       " '분과',\n",
       " '신',\n",
       " '적',\n",
       " '주네',\n",
       " '수',\n",
       " '드리다',\n",
       " '요나',\n",
       " '분',\n",
       " '성은',\n",
       " '5',\n",
       " '백원',\n",
       " '주식',\n",
       " '수가',\n",
       " '하',\n",
       " '지',\n",
       " '바로',\n",
       " '몇',\n",
       " '일이',\n",
       " '죠',\n",
       " '향',\n",
       " '다',\n",
       " '업자',\n",
       " '만',\n",
       " '뭔',\n",
       " '건가',\n",
       " '기업',\n",
       " '벨',\n",
       " '류',\n",
       " '된거',\n",
       " '치다',\n",
       " '이상',\n",
       " '누구',\n",
       " '이름',\n",
       " '인가',\n",
       " '아시',\n",
       " '부터',\n",
       " '작',\n",
       " '공',\n",
       " '모',\n",
       " '가가',\n",
       " '장',\n",
       " '극',\n",
       " '40',\n",
       " '시간',\n",
       " '2',\n",
       " '지다',\n",
       " '50분',\n",
       " '내용',\n",
       " '50',\n",
       " '배',\n",
       " '써다',\n",
       " '29일',\n",
       " '까지',\n",
       " '날짜',\n",
       " '4월',\n",
       " '저',\n",
       " '3',\n",
       " '관련',\n",
       " '기준',\n",
       " '및',\n",
       " '52일',\n",
       " '조',\n",
       " '라',\n",
       " '쓰다',\n",
       " '어디',\n",
       " '어나',\n",
       " '오는',\n",
       " '즈',\n",
       " '아',\n",
       " '성',\n",
       " '순',\n",
       " '익',\n",
       " '중',\n",
       " '인데',\n",
       " '20220831']"
      ]
     },
     "execution_count": 56,
     "metadata": {},
     "output_type": "execute_result"
    }
   ],
   "source": [
    "stopword_add = sum(data, [])\n",
    "stopword_add"
   ]
  },
  {
   "cell_type": "code",
   "execution_count": 57,
   "id": "114a7044",
   "metadata": {
    "ExecuteTime": {
     "end_time": "2022-10-05T06:06:15.071548Z",
     "start_time": "2022-10-05T06:06:15.062060Z"
    }
   },
   "outputs": [
    {
     "data": {
      "text/plain": [
       "['오아시스',\n",
       " '내',\n",
       " '을',\n",
       " '주',\n",
       " '식이',\n",
       " '요',\n",
       " '이면',\n",
       " 'pe',\n",
       " '뭐',\n",
       " '에요',\n",
       " '위',\n",
       " '글',\n",
       " '기',\n",
       " '때',\n",
       " '옆',\n",
       " '집',\n",
       " '그렇게',\n",
       " '일',\n",
       " '그',\n",
       " '놈',\n",
       " '함',\n",
       " '알다',\n",
       " '1',\n",
       " '71',\n",
       " '년',\n",
       " '안',\n",
       " '영',\n",
       " '억',\n",
       " '임',\n",
       " '네',\n",
       " '실',\n",
       " '137만',\n",
       " '가격',\n",
       " '다르다',\n",
       " '나',\n",
       " 'K',\n",
       " '삼촌',\n",
       " '있다',\n",
       " '한데',\n",
       " '200',\n",
       " '얘기',\n",
       " '14677',\n",
       " '로',\n",
       " '이다',\n",
       " '에서',\n",
       " '입니다',\n",
       " '팔',\n",
       " '라고',\n",
       " '4',\n",
       " '대',\n",
       " '시',\n",
       " '총',\n",
       " '평',\n",
       " '어떻다',\n",
       " '전',\n",
       " '3000000',\n",
       " '후',\n",
       " '액',\n",
       " '분과',\n",
       " '신',\n",
       " '적',\n",
       " '주네',\n",
       " '수',\n",
       " '드리다',\n",
       " '요나',\n",
       " '분',\n",
       " '성은',\n",
       " '5',\n",
       " '백원',\n",
       " '주식',\n",
       " '수가',\n",
       " '하',\n",
       " '지',\n",
       " '바로',\n",
       " '몇',\n",
       " '일이',\n",
       " '죠',\n",
       " '향',\n",
       " '다',\n",
       " '업자',\n",
       " '만',\n",
       " '뭔',\n",
       " '건가',\n",
       " '기업',\n",
       " '벨',\n",
       " '류',\n",
       " '된거',\n",
       " '치다',\n",
       " '이상',\n",
       " '누구',\n",
       " '이름',\n",
       " '인가',\n",
       " '아시',\n",
       " '부터',\n",
       " '작',\n",
       " '공',\n",
       " '모',\n",
       " '가가',\n",
       " '장',\n",
       " '극',\n",
       " '40',\n",
       " '시간',\n",
       " '2',\n",
       " '지다',\n",
       " '50분',\n",
       " '내용',\n",
       " '50',\n",
       " '배',\n",
       " '써다',\n",
       " '29일',\n",
       " '까지',\n",
       " '날짜',\n",
       " '4월',\n",
       " '저',\n",
       " '3',\n",
       " '관련',\n",
       " '기준',\n",
       " '및',\n",
       " '52일',\n",
       " '조',\n",
       " '라',\n",
       " '쓰다',\n",
       " '어디',\n",
       " '어나',\n",
       " '오는',\n",
       " '즈',\n",
       " '아',\n",
       " '성',\n",
       " '순',\n",
       " '익',\n",
       " '중',\n",
       " '인데',\n",
       " '20220831',\n",
       " '의',\n",
       " '가',\n",
       " '이',\n",
       " '은',\n",
       " '들',\n",
       " '는',\n",
       " '좀',\n",
       " '잘',\n",
       " '걍',\n",
       " '과',\n",
       " '도',\n",
       " '를',\n",
       " '으로',\n",
       " '자',\n",
       " '에',\n",
       " '와',\n",
       " '한',\n",
       " '하다',\n",
       " '\\n',\n",
       " '\\n ',\n",
       " '제목']"
      ]
     },
     "execution_count": 57,
     "metadata": {},
     "output_type": "execute_result"
    }
   ],
   "source": [
    "# 불용어\n",
    "\n",
    "stopwords = stopword_add + ['의','가','이','은','들','는','좀','잘','걍','과','도','를','으로','자','에','와','한','하다','\\n','\\n ', '제목']\n",
    "stopwords"
   ]
  },
  {
   "cell_type": "code",
   "execution_count": 58,
   "id": "c02ec6c6",
   "metadata": {
    "ExecuteTime": {
     "end_time": "2022-10-05T06:06:16.813314Z",
     "start_time": "2022-10-05T06:06:16.809007Z"
    }
   },
   "outputs": [],
   "source": [
    "okt = Okt()"
   ]
  },
  {
   "cell_type": "code",
   "execution_count": 59,
   "id": "c92e18cb",
   "metadata": {
    "ExecuteTime": {
     "end_time": "2022-10-05T06:06:29.234529Z",
     "start_time": "2022-10-05T06:06:27.414245Z"
    }
   },
   "outputs": [
    {
     "name": "stderr",
     "output_type": "stream",
     "text": [
      "100%|███████████████████████████████████████████| 68/68 [00:01<00:00, 38.21it/s]\n"
     ]
    }
   ],
   "source": [
    "X_train = []\n",
    "for sentence in tqdm(train_data['content']):\n",
    "    tokenized_sentence = okt.morphs(sentence, stem=True) # 토큰화\n",
    "    stopwords_removed_sentence = [word for word in tokenized_sentence if not word in stopwords] # 불용어 제거\n",
    "    X_train.append(stopwords_removed_sentence)"
   ]
  },
  {
   "cell_type": "code",
   "execution_count": 65,
   "id": "350a43d8",
   "metadata": {
    "ExecuteTime": {
     "end_time": "2022-10-05T06:09:05.308636Z",
     "start_time": "2022-10-05T06:09:05.218230Z"
    }
   },
   "outputs": [
    {
     "name": "stderr",
     "output_type": "stream",
     "text": [
      "100%|██████████████████████████████████████████| 18/18 [00:00<00:00, 216.28it/s]\n"
     ]
    }
   ],
   "source": [
    "X_test = []\n",
    "for sentence in tqdm(test_data['content']):\n",
    "    tokenized_sentence = okt.morphs(sentence, stem=True) # 토큰화\n",
    "    stopwords_removed_sentence = [word for word in tokenized_sentence if not word in stopwords] # 불용어 제거\n",
    "    X_test.append(stopwords_removed_sentence)"
   ]
  },
  {
   "cell_type": "markdown",
   "id": "407eff1f",
   "metadata": {},
   "source": [
    "### 정수 인코딩"
   ]
  },
  {
   "cell_type": "code",
   "execution_count": 61,
   "id": "2611c482",
   "metadata": {
    "ExecuteTime": {
     "end_time": "2022-10-05T06:06:54.620802Z",
     "start_time": "2022-10-05T06:06:54.610779Z"
    }
   },
   "outputs": [],
   "source": [
    "tokenizer = Tokenizer()\n",
    "tokenizer.fit_on_texts(X_train)"
   ]
  },
  {
   "cell_type": "code",
   "execution_count": 62,
   "id": "c63ba776",
   "metadata": {
    "ExecuteTime": {
     "end_time": "2022-10-05T06:06:55.032432Z",
     "start_time": "2022-10-05T06:06:55.027799Z"
    },
    "scrolled": true
   },
   "outputs": [
    {
     "name": "stdout",
     "output_type": "stream",
     "text": [
      "{'상장': 1, '되다': 2, '보다': 3, '코멘트': 4, '투자': 5, '않다': 6, '가치': 7, '청구': 8, '1조': 9, '없다': 10, '컬리': 11, '오다': 12, '액면': 13, '분할': 14, '마켓': 15, '매출': 16, '거래': 17, '것': 18, '고': 19, '지금': 20, '가다': 21, '비싸다': 22, '내년': 23, '2조': 24, '이익': 25, '공모': 26, '받다': 27, '영업': 28, '인': 29, '증권': 30, '적자': 31, '회사': 32, '올해': 33, '물류': 34, '같다': 35, '약': 36, '흑자': 37, '센터': 38, '등': 39, 'ipo': 40, '시장': 41, '성장': 42, '말': 43, '넘다': 44, '올리다': 45, '너무': 46, '발행': 47, '실적': 48, '하고': 49, '업계': 50, '평가': 51, '아니다': 52, '사다': 53, '겁니다': 54, '매수': 55, '들어오다': 56, '듯': 57, '진행': 58, '싶다': 59, '상반기': 60, '높다': 61, '계획': 62, '기업가': 63, '더': 64, '작업': 65, '사': 66, '먹다': 67, '000': 68, '그렇다': 69, '나오다': 70, '하반기': 71, '되어다': 72, '신청': 73, '반기': 74, '70만원': 75, '가요': 76, '최근': 77, '수준': 78, '한국': 79, '못': 80, '주다': 81, '밖에': 82, '다른': 83, '돈': 84, '오늘': 85, '3조': 86, '100원': 87, '액면가': 88, '새벽': 89, '배송': 90, '목표': 91, '심사': 92, '밸류': 93, '2일': 94, '많이': 95, '규모': 96, '물량': 97, '하나요': 98, '시작': 99, '어디서': 100, '달성': 101, '대다': 102, '많다': 103, '내다': 104, '확인': 105, '늘리다': 106, '현재': 107, '1조원': 108, '유치': 109, '보이다': 110, '시기': 111, '기관': 112, '아직': 113, '싸다': 114, '언제': 115, '안티': 116, '2022': 117, '무증': 118, '가장': 119, '000원': 120, '최대': 121, '제시': 122, '예비': 123, '지난': 124, '일정': 125, '밴드': 126, '률': 127, '최대한': 128, '예심': 129, '문제': 130, '예정': 131, '산정': 132, '교부': 133, '괜찮다': 134, '주주': 135, '확실하다': 136, '층': 137, '공시': 138, '정도': 139, '1분': 140, '라니': 141, '날아가다': 142, '증가': 143, '171': 144, '통한': 145, '확보': 146, '의왕': 147, '서': 148, '사람': 149, '원': 150, '신선': 151, '식품': 152, '방침': 153, '이르다': 154, '위해': 155, '사업': 156, '기반': 157, '인정받다': 158, '판단': 159, '들어가다': 160, '모이다': 161, '면': 162, '쿠팡': 163, '가즈': 164, '이네': 165, '벌다': 166, '수익': 167, '에나': 168, '5000원': 169, '무상증자': 170, '늘다': 171, '님': 172, '줄다': 173, '우크라이나': 174, '러시아': 175, '기사': 176, '치르다': 177, '빠르다': 178, '관사': 179, '소프트': 180, '마지막': 181, '마무리': 182, '늘어나다': 183, '데': 184, '관계자': 185, '차별': 186, '플랫폼': 187, '하단': 188, '3만': 189, '20': 190, '이미': 191, '정지': 192, '주주총회': 193, '까진': 194, '완료': 195, '이라고': 196, '감사하다': 197, '입다': 198, '거래소': 199, '개인': 200, 'ib': 201, '우선주': 202, '한쪽': 203, '거': 204, '해보다': 205, '관심': 206, '백만원': 207, '예상': 208, '5조': 209, '10조원': 210, '기다리다': 211, '갈다': 212, '글로벌': 213, '3월': 214, '희망': 215, '유상증자': 216, '비상': 217, '왜': 218, '자공시': 219, '담다': 220, '손익': 221, '편지': 222, '살다': 223, '나다': 224, '진짜': 225, '재': 226, '대비': 227, '21': 228, '2024억원': 229, '72억원': 230, '자체': 231, '시스템': 232, '오프라인': 233, '통해': 234, '화하다': 235, '경쟁': 236, '최소한': 237, '직원': 238, '합': 239, '루트': 240, '가동': 241, '현황': 242, '파악': 243, '경영': 244, '업무': 245, '모두': 246, '기존': 247, '간다': 248, '이랜드리테일': 249, '몰다': 250, '확장': 251, '께': 252, '준비': 253, '금리': 254, '온라인': 255, '편이': 256, '며': 257, '폭발': 258, '가능성': 259, '회': 260, '투': 261, '자금': 262, '늦다': 263, '누가': 264, '니까': 265, '남다': 266, '살리다': 267, '재다': 268, '사모펀드': 269, '입': 270, '맞다': 271, '전화하다': 272, '걸': 273, '안좋다': 274, '과연': 275, '언급': 276, 'vc': 277, '얼마나': 278, '인지': 279, '묻다': 280, '물론': 281, '바이오': 282, '쏘다': 283, '끄다': 284, '가려지다': 285, 'ㅎㅎ': 286, '가능': 287, '찬성': 288, '근데': 289, '현실': 290, '5천원': 291, 'pre': 292, '밸류에': 293, '가지': 294, '10': 295, '배정': 296, '해주다': 297, '변경': 298, '크다': 299, '자다': 300, '날': 301, '추진': 302, '중인': 303, '2조원': 304, '결정': 305, '달': 306, 'nh': 307, '주관': 308, '미팅': 309, '사오다': 310, '상단': 311, '션': 312, '1000억원': 313, '보유': 314, '동기': 315, '8': 316, '기록': 317, '화': 318, '당연하다': 319, '알려지다': 320, '모으다': 321, '최종': 322, '9189원': 323, '새롭다': 324, '이사회': 325, '정비': 326, '상태': 327, '식수': 328, '보통주': 329, '이사': 330, '서류': 331, '경우': 332, '남': 333, '해당': 334, '정확하다': 335, '30일': 336, '초': 337, '감사': 338, '백도': 339, '수수': 340, '수지': 341, '이렇다': 342, '29': 343, '제대로': 344, '130': 345, 'ㅋㅋㅋ': 346, '사서': 347, '14': 348, '677': 349, '5천': 350, '계속': 351, '연락': 352, '매도': 353, '딜러': 354, 'ssg': 355, '그룹': 356, '자회사': 357, '오': 358, '카카오': 359, '두다': 360, '보시': 361, '동감': 362, '따블': 363, '곧': 364, '조치': 365, '정해지다': 366, '수도': 367, '밝히다': 368, '비다': 369, '사모': 370, '1천억': 371, '부담': 372, '가도': 373, '분들': 374, '축하': 375, '요물': 376, '량': 377, 'ㅇ': 378, '적다': 379, '기술': 380, '이고': 381, '130만원': 382, '대에서': 383, '매물': 384, '권유': 385, '들다': 386, '21년': 387, '건': 388, '앞': 389, '좋아지다': 390, '전화': 391, '이유': 392, '어제': 393, '부분': 394, '일리': 395, '지난해': 396, '감소': 397, '생각': 398, '분기': 399, '출발': 400, '증시': 401, '성장하다': 402, '떨어지다': 403, '정기': 404, '기대': 405, 'ㅎ': 406, '그래도': 407, '제일': 408, '성남': 409, '파다': 410, '구르다': 411, '그냥': 412, '직접': 413, '든': 414, '어': 415, '라운드': 416, '시초': 417, '사고': 418, '인가요': 419, '위기': 420, '조명': 421, '미트': 422, '박스': 423, '비결': 424, '생산자': 425, '직거래': 426, '마진': 427, '운영': 428, '효율': 429, '추구': 430, '온': 431, '연결': 432, '0': 433, '폐기': 434, '율': 435, '극대': 436, '특히': 437, '사보다': 438, '구축': 439, '금액': 440, '특징': 441, '문': 442, '연': 443, '보더': 444, '라도': 445, '비용': 446, '40억원': 447, '불과하다': 448, '자동화': 449, '장비': 450, '숙련': 451, '맞추다': 452, '시너지': 453, '방식': 454, '통': 455, '한눈': 456, '전반': 457, '활': 458, '용도': 459, '본인': 460, '할당량': 461, '고객': 462, '피드백': 463, '활용': 464, '용이하다': 465, '정직': 466, '오랜': 467, '당': 468, '처리율': 469, '최고': 470, '뿐': 471, '비': 472, '카테고리': 473, '강화하다': 474, '유지': 475, '거래량': 476, '손잡다': 477, '킴스': 478, '론칭하': 479, '속도': 480, '연말': 481, '공개': 482, '김명주': 483, '연구원': 484, '상승': 485, '구간': 486, '들어서다': 487, '신규': 488, '과거': 489, '어려워지다': 490, '가속': 491, '고성': 492, '장하다': 493, '에는': 494, '외형': 495, '치의': 496, '프리미엄': 497, '요인': 498, '축소': 499, '노력': 500, '무조건': 501, '23년': 502, '는걸': 503, '박히다': 504, '초면': 505, '유명': 506, '여력': 507, '136만원': 508, '아무': 509, '옵션': 510, '없이': 511, '500억원': 512, '어치를': 513, '산': 514, '믿다': 515, '불다': 516, '괜히': 517, '언': 518, '넝': 519, '사시': 520, '신분': 521, '이라도': 522, '올라타다': 523, '걱정': 524, '매매': 525, '걸리다': 526, '심보': 527, '곳': 528, '이랑은': 529, '시세': 530, '전혀': 531, '280': 532, '여기다': 533, '서로': 534, '담합': 535, '내리다': 536, '반토막': 537, '그나마': 538, '업황': 539, '쯤': 540, '쭉': 541, '하락': 542, '한때': 543, '스타트업': 544, '힘': 545, '합치다': 546, '주도': 547, '권': 548, '가져가다': 549, '전략': 550, '세우다': 551, '인하다': 552, '몇몇': 553, '플레이어': 554, '주도하다': 555, '그러나': 556, '허황': 557, '그리고': 558, '한번': 559, '보지': 560, '존재': 561, '예외': 562, '치자': 563, '티몬': 564, '카': 565, '테': 566, '교훈': 567, '얻다': 568, '도광양회': 569, '의미': 570, '되새기다': 571, '다지': 572, '차근차근': 573, '쌓다': 574, '나가야': 575, '욕': 576, '작년': 577, 'm': 578, 'mk': 579, 'news': 580, 'stock': 581, 'view': 582, '04': 583, '379589': 584, '2조만': 585, '되도': 586, '대박': 587, '요욕': 588, '분위기': 589, '뻥튀기': 590, '불가능': 591, '9': 592, '근거': 593, '항상': 594, '저렴하다': 595, '필요없다': 596, '어차피': 597, '활발해지다': 598, '사장': 599, '꼭': 600, '08': 601, '31': 602, '더벨': 603, '덩치': 604, '이기다': 605, '결과': 606, '길다': 607, '짧다': 608, '대보다': 609, '안다': 610, '미국': 611, '영국': 612, '협력': 613, '전쟁': 614, '의외로': 615, '바르다': 616, '오지': 617, '코스닥': 618, '따르다': 619, '25일': 620, '사단': 621, '갖다': 622, '확정': 623, '할인': 624, '유치하다': 625, '6월': 626, '주인': 627, '구주': 628, '84만': 629, '2062': 630, '330억원': 631, '사들이다': 632, '바': 633, '투자가': 634, '개월': 635, '지나다': 636, '크게': 637, '개선': 638, '바탕': 639, '대한': 640, '객관성': 641, '170': 642, '55': 643, '59': 644, '끌다': 645, '주목': 646, '노하우': 647, '높이': 648, '멀티': 649, '플': 650, '적용': 651, '게': 652, '4000억': 653, '5000억원': 654, '폭': 655, '넓다': 656, '수요': 657, '객관': 658, '가액': 659, '당시': 660, '이었던': 661, '고려': 662, '전체': 663, '수의': 664, '가정': 665, '3000억원': 666, '넘어서다': 667, '이번': 668, '뜻': 669, '제출': 670, '급박하다': 671, '이지만': 672, '상당하다': 673, '만큼': 674, '불가능하다': 675, '당초': 676, '정관': 677, '사전': 678, '5월': 679, '유통': 680, '과정': 681, '메자닌': 682, '전환': 683, '명의': 684, '사외이사': 685, '선임': 686, '마치다': 687, '지난달': 688, '엔': 689, '거치다': 690, '임기': 691, '만료': 692, '안준형': 693, '대표이사': 694, '최우식': 695, '중임': 696, '까지는': 697, '검토': 698, '길어지다': 699, '다소': 700, '지연': 701, '다음주': 702, '야': 703, '말로': 704, '없어지다': 705, '230만원': 706, '사도': 707, '알켜': 708, '주심': 709, '참석': 710, '후기': 711, '로는': 712, '당일': 713, '명부': 714, '넘기다': 715, '그러면': 716, '주주명부': 717, '폐쇄되': 718, '금일': 719, '31일': 720, '이건': 721, '의문': 722, '명시': 723, '대로': 724, '문의': 725, '엠바고': 726, '일반': 727, '이기': 728, '그걸': 729, '보고': 730, '추측': 731, '서울': 732, '경기': 733, '한정': 734, '기점': 735, '지방': 736, '으로도': 737, '으로는': 738, '인지도': 739, '높이다': 740, '추가': 741, '그러니까': 742, '처음': 743, '양': 744, 'x': 745, '단어': 746, '5000': 747, '100': 748, '비율': 749, '주가': 750, '주로': 751, '16': 752, '510': 753, '913': 754, '24': 755, '730': 756, '300': 757, '815': 758, '350': 759, '포함': 760, '성공하다': 761, '137': 762, '퍼다': 763, '나르다': 764, '쪽': 765, '138': 766, '팔면': 767, '8만원': 768, '이득': 769, '열심히': 770, 'ㅋㅋ': 771, '펌': 772, '순식간': 773, '20만원': 774, '일단': 775, '찍다': 776, '난후': 777, '아시아': 778, '경제': 779, '그러자': 780, '이데일리': 781, '참조': 782, '세': 783, '요구': 784, '매각': 785, '내외': 786, '이모': 787, '대가': 788, '하방': 789, '안전성': 790, '의사': 791, '물다': 792, '명': 793, '매입': 794, '급속하다': 795, '올라오다': 796, '매': 797, '수자': 798, '참고': 799, '불리다': 800, '쓱': 801, '닷컴': 802, '대주': 803, '꼽히다': 804, '미래에셋': 805, '대형': 806, '증권사': 807, '대표': 808, '선정': 809, '채비': 810, '한창': 811, '신세계': 812, '통합': 813, '닷': 814, '컴': 815, '뒤': 816, '5조원': 817, '순이': 818, '외': 819, '현대': 820, '중공업': 821, '지주': 822, '현': 823, '뱅크': 824, '릴레이': 825, '어가': 826, '엔터테인먼트': 827, '모주': 828, '뜨겁다': 829, '달구다': 830, '급': 831, '후보': 832, '장외': 833, '27': 834, '힘주다': 835, '남요': 836, '간두다': 837, '장외는': 838, '조용하다': 839, '시정': 840, '요청': 841, '경고': 842, '싸지르다': 843, '노처녀': 844, '히스테리': 845, '으로라도': 846, '한테': 847, '감': 848, '참으로': 849, '알': 850, '노릇': 851, 'si': 852, '정도라는게': 853, '오른': 854, '또한': 855, '유력하다': 856, '일각': 857, '앞당기다': 858, '관측': 859, '내놓다': 860, '기도': 861, '서두르다': 862, '아무래도': 863, '업종': 864, '특성': 865, '상': 866, '아주': 867, '중요하다': 868, '부족하다': 869, '겨우': 870, '5분': 871, '들어온답니다': 872, '떳': 873, '5천억': 874, 'tpg': 875, '게다가': 876, '퀵': 877, '커머스': 878, '팔지마다': 879, '까지만': 880, '미리': 881, '줄어들다': 882, '분하다': 883, '반영일': 884, '부터로': 885, '땡큐': 886, '만년': 887, '테슬라': 888, '요건': 889, '금년': 890, '가기': 891, '무상': 892, '답': 893, '력': 894, '대체로': 895, 'per': 896, 'psr': 897, '코스피': 898, '적극': 899, '시키다': 900, '유가': 901, '발표': 902, '필연': 903, '36': 904, '691': 905, '신주': 906, '13627323': 907, '500억': 908, '주권': 909, '8월': 910, '5일': 911, '대단하다': 912, '증자': 913, '가로': 914, '배팅했어': 915, '맡기다': 916, '망설이다': 917, '말다': 918, '고민': 919, '팔리다': 920, '빨간색': 921, '검색': 922, '인천': 923, '달라': 924, '주의': 925, '필요': 926, '사기꾼': 927, '라면': 928, '심각하다': 929, '설마': 930, '계좌': 931, '뽀샵': 932, '소름': 933, '돋다': 934, '아직도': 935, '인간': 936, '최소': 937, '플러스': 938, '9천억': 939, '인정': 940, '두': 941, '뛰다': 942, '구': 943, '오진': 944, '끝': 945, '흠': 946, '1670억': 947, '22억': 948, '780억': 949, '9억': 950, '20년': 951, '1100억': 952, '40억': 953, '통과': 954, '30': 955, '차라리': 956, '아마존': 957, '사라': 958, '목숨': 959, '냐': 960, '그런': 961, '가보': 962, '100억원': 963, '빨다': 964, '사가': 965, '무난': 966, '린정': 967, '분투': 968, '기회': 969, '니당다': 970, '신중하다': 971, '굿럭': 972, '181만': 973, '6986원': 974, '뻥': 975, '바이럴': 976, '막히다': 977, 'ㅋㅋㅋㅋ': 978, '모르다': 979, '빨리': 980, 'seoul': 981, '고고': 982, '초대장': 983, 'ir': 984, '에선': 985, '하라': 986, '만에': 987, '무슨': 988, '미치다': 989, '우상': 990, '제': 991, '겠다': 992, '쇠고기': 993, '마리': 994, '여': 995, '회로': 996, '16일': 997, '선행': 998, '해결': 999, '후반': 1000, '4만': 1001, '재개': 1002, '타': 1003, '며칠': 1004, '아래': 1005, '사상': 1006, '989억원': 1007, '26': 1008, '2020년': 1009, '2021': 1010, '각종': 1011, '건립': 1012, '강점': 1013, '매장': 1014, '일시': 1015, '기간': 1016, '44억': 1017, '5000만원': 1018, '13일': 1019, '출처': 1020, '예측': 1021, '자료': 1022, '산술': 1023, '볼때': 1024, '4천억': 1025, '180억': 1026, '만으로도': 1027, '엄청나다': 1028, '2022년': 1029, '호조': 1030, '보여주다': 1031, '벌써': 1032, '풀필먼트': 1033, '메시': 1034, '코리아': 1035, 'jv': 1036, '결성': 1037, 'v': 1038, '마트': 1039, '가칭': 1040, '런칭': 1041, '이어서': 1042, '형태': 1043, '강자': 1044, '겨루다': 1045, '가시': 1046, '성과': 1047, '나타나다': 1048, '조만간': 1049, '입성': 1050, '청구도': 1051, '이커머스': 1052, '달리': 1053, '점': 1054, '이자': 1055, '장점': 1056, '별도': 1057, '과도': 1058, '마케팅': 1059, '거의': 1060, '소문': 1061, '탄탄하다': 1062, '본기': 1063, '불구': 1064, '견인': 1065, '좋다': 1066, '여러분': 1067, '바라다': 1068, '냉무': 1069, '왜케': 1070, '대략': 1071, '궁금하다': 1072, '스피드': 1073, '750': 1074, '이라고는': 1075, '하지만': 1076, '총각': 1077, '오픈마켓': 1078, '버전': 1079, '비교': 1080, '아이스': 1081, '움직이다': 1082, '함께': 1083, '조금': 1084, '섹터': 1085, '작다': 1086, '아쉽다': 1087, '수혈': 1088, '견실': 1089, '기대하다': 1090, '창문': 1091, '공단': 1092, '산업': 1093, '단지': 1094, '도합': 1095, '니': 1096, '얼마': 1097, '게시판': 1098, '계시': 1099, '팔육일팔': 1100, '삼육사일': 1101, '안건': 1102, '뜸': 1103, '매도물량': 1104, '가능하다': 1105, '야사': 1106}\n"
     ]
    }
   ],
   "source": [
    "print(tokenizer.word_index)"
   ]
  },
  {
   "cell_type": "code",
   "execution_count": 63,
   "id": "d3db2280",
   "metadata": {
    "ExecuteTime": {
     "end_time": "2022-10-05T06:07:13.304388Z",
     "start_time": "2022-10-05T06:07:13.294128Z"
    }
   },
   "outputs": [
    {
     "name": "stdout",
     "output_type": "stream",
     "text": [
      "단어 집합(vocabulary)의 크기 : 1106\n",
      "등장 빈도가 2번 이하인 희귀 단어의 수: 884\n",
      "단어 집합에서 희귀 단어의 비율: 79.92766726943941\n",
      "전체 등장 빈도에서 희귀 단어 등장 빈도 비율: 44.46280991735537\n"
     ]
    }
   ],
   "source": [
    "threshold = 3\n",
    "total_cnt = len(tokenizer.word_index) # 단어의 수\n",
    "rare_cnt = 0 # 등장 빈도수가 threshold보다 작은 단어의 개수를 카운트\n",
    "total_freq = 0 # 훈련 데이터의 전체 단어 빈도수 총 합\n",
    "rare_freq = 0 # 등장 빈도수가 threshold보다 작은 단어의 등장 빈도수의 총 합\n",
    "\n",
    "# 단어와 빈도수의 쌍(pair)을 key와 value로 받는다.\n",
    "for key, value in tokenizer.word_counts.items():\n",
    "    total_freq = total_freq + value\n",
    "\n",
    "    # 단어의 등장 빈도수가 threshold보다 작으면\n",
    "    if(value < threshold):\n",
    "        rare_cnt = rare_cnt + 1\n",
    "        rare_freq = rare_freq + value\n",
    "\n",
    "print('단어 집합(vocabulary)의 크기 :',total_cnt)\n",
    "print('등장 빈도가 %s번 이하인 희귀 단어의 수: %s'%(threshold - 1, rare_cnt))\n",
    "print(\"단어 집합에서 희귀 단어의 비율:\", (rare_cnt / total_cnt)*100)\n",
    "print(\"전체 등장 빈도에서 희귀 단어 등장 빈도 비율:\", (rare_freq / total_freq)*100)"
   ]
  },
  {
   "cell_type": "markdown",
   "id": "9f53f871",
   "metadata": {},
   "source": [
    "희귀단어의 등장 빈도가 높기 때문에 제거하지 않는다"
   ]
  },
  {
   "cell_type": "code",
   "execution_count": 86,
   "id": "891c7c27",
   "metadata": {
    "ExecuteTime": {
     "end_time": "2022-10-05T06:20:55.018303Z",
     "start_time": "2022-10-05T06:20:55.014873Z"
    }
   },
   "outputs": [],
   "source": [
    "vocab_size = total_cnt"
   ]
  },
  {
   "cell_type": "code",
   "execution_count": 64,
   "id": "4b9e9ef7",
   "metadata": {
    "ExecuteTime": {
     "end_time": "2022-10-05T06:08:41.204989Z",
     "start_time": "2022-10-05T06:08:41.201324Z"
    }
   },
   "outputs": [
    {
     "name": "stdout",
     "output_type": "stream",
     "text": [
      "[['코멘트', '2조', '2조'], ['2조', '시작', '공모', '공모', '2조', '어', '라운드', '되다', '않다', '시초', '가다'], ['70만원', '비싸다', '가요', '어디서', '70만원', '살다', '나다', '사고', '싶다']]\n"
     ]
    }
   ],
   "source": [
    "print(X_train[:3])"
   ]
  },
  {
   "cell_type": "code",
   "execution_count": 66,
   "id": "92cfcb20",
   "metadata": {
    "ExecuteTime": {
     "end_time": "2022-10-05T06:10:01.124024Z",
     "start_time": "2022-10-05T06:10:01.117324Z"
    }
   },
   "outputs": [],
   "source": [
    "X_train = tokenizer.texts_to_sequences(X_train)\n",
    "X_test = tokenizer.texts_to_sequences(X_test)"
   ]
  },
  {
   "cell_type": "code",
   "execution_count": 67,
   "id": "8b69b493",
   "metadata": {
    "ExecuteTime": {
     "end_time": "2022-10-05T06:10:09.728896Z",
     "start_time": "2022-10-05T06:10:09.723917Z"
    }
   },
   "outputs": [
    {
     "data": {
      "text/plain": [
       "[[4, 24, 24],\n",
       " [24, 99, 26, 26, 24, 415, 416, 2, 6, 417, 21],\n",
       " [75, 22, 76, 100, 75, 223, 224, 418, 59]]"
      ]
     },
     "execution_count": 67,
     "metadata": {},
     "output_type": "execute_result"
    }
   ],
   "source": [
    "X_train[:3]"
   ]
  },
  {
   "cell_type": "code",
   "execution_count": 68,
   "id": "0a21b6dd",
   "metadata": {
    "ExecuteTime": {
     "end_time": "2022-10-05T06:11:14.770657Z",
     "start_time": "2022-10-05T06:11:14.765379Z"
    }
   },
   "outputs": [],
   "source": [
    "y_train = np.array(train_data['label'])\n",
    "x_train = np.array(test_data['label'])"
   ]
  },
  {
   "cell_type": "code",
   "execution_count": 69,
   "id": "7705c4f2",
   "metadata": {
    "ExecuteTime": {
     "end_time": "2022-10-05T06:11:18.898033Z",
     "start_time": "2022-10-05T06:11:18.893393Z"
    }
   },
   "outputs": [
    {
     "data": {
      "text/plain": [
       "array([-1, -1,  1, -1, -1,  1,  0,  0,  1, -1,  1,  1, -1,  1, -1,  0,  0,\n",
       "       -1, -1, -1,  1,  1,  0, -1, -1, -1, -1, -1, -1,  1, -1, -1,  1,  1,\n",
       "       -1,  1,  1,  0,  0, -1,  1,  0, -1, -1,  0, -1,  1, -1, -1,  0,  1,\n",
       "        1,  0,  0,  1, -1,  0,  1,  0, -1,  1,  1,  0,  0,  1,  0,  1,  1])"
      ]
     },
     "execution_count": 69,
     "metadata": {},
     "output_type": "execute_result"
    }
   ],
   "source": [
    "y_train"
   ]
  },
  {
   "cell_type": "markdown",
   "id": "fede4f18",
   "metadata": {},
   "source": [
    "### 패딩"
   ]
  },
  {
   "cell_type": "code",
   "execution_count": 78,
   "id": "31d475f7",
   "metadata": {
    "ExecuteTime": {
     "end_time": "2022-10-05T06:18:03.596327Z",
     "start_time": "2022-10-05T06:18:03.592777Z"
    }
   },
   "outputs": [],
   "source": [
    "report = df_38['content'].values.tolist()"
   ]
  },
  {
   "cell_type": "code",
   "execution_count": 79,
   "id": "336dd315",
   "metadata": {
    "ExecuteTime": {
     "end_time": "2022-10-05T06:18:05.377487Z",
     "start_time": "2022-10-05T06:18:05.260960Z"
    }
   },
   "outputs": [
    {
     "name": "stdout",
     "output_type": "stream",
     "text": [
      "기사의 최대 길이 : 86\n",
      "기사의 평균 길이 : 35.588235294117645\n"
     ]
    },
    {
     "data": {
      "image/png": "[encoded data removed]",
      "text/plain": [
       "<Figure size 432x288 with 1 Axes>"
      ]
     },
     "metadata": {
      "needs_background": "light"
     },
     "output_type": "display_data"
    }
   ],
   "source": [
    "print('기사의 최대 길이 :',max(len(report) for review in X_train))\n",
    "print('기사의 평균 길이 :',sum(map(len, X_train))/len(X_train))\n",
    "plt.hist([len(report) for report in X_train], bins=50)\n",
    "plt.xlabel('length of samples')\n",
    "plt.ylabel('number of samples')\n",
    "plt.show()"
   ]
  },
  {
   "cell_type": "code",
   "execution_count": 80,
   "id": "00a345f0",
   "metadata": {
    "ExecuteTime": {
     "end_time": "2022-10-05T06:18:56.634868Z",
     "start_time": "2022-10-05T06:18:56.629521Z"
    }
   },
   "outputs": [],
   "source": [
    "def below_threshold_len(max_len, nested_list):\n",
    "    count = 0\n",
    "    for sentence in nested_list:\n",
    "        if(len(sentence) <= max_len):\n",
    "            count = count + 1\n",
    "    print('전체 샘플 중 길이가 %s 이하인 샘플의 비율: %s'%(max_len, (count / len(nested_list))*100))"
   ]
  },
  {
   "cell_type": "code",
   "execution_count": 104,
   "id": "276a173f",
   "metadata": {
    "ExecuteTime": {
     "end_time": "2022-10-05T07:40:21.531829Z",
     "start_time": "2022-10-05T07:40:21.527853Z"
    }
   },
   "outputs": [
    {
     "name": "stdout",
     "output_type": "stream",
     "text": [
      "전체 샘플 중 길이가 100 이하인 샘플의 비율: 100.0\n"
     ]
    }
   ],
   "source": [
    "max_len = 100\n",
    "below_threshold_len(max_len, X_train)"
   ]
  },
  {
   "cell_type": "code",
   "execution_count": 84,
   "id": "c517988d",
   "metadata": {
    "ExecuteTime": {
     "end_time": "2022-10-05T06:19:33.533177Z",
     "start_time": "2022-10-05T06:19:33.527730Z"
    }
   },
   "outputs": [],
   "source": [
    "X_train = pad_sequences(X_train, maxlen=max_len)\n",
    "X_test = pad_sequences(X_test, maxlen=max_len)"
   ]
  },
  {
   "cell_type": "markdown",
   "id": "c6cbc023",
   "metadata": {},
   "source": [
    "### LSTM 모델"
   ]
  },
  {
   "cell_type": "code",
   "execution_count": 109,
   "id": "d84cf4ca",
   "metadata": {
    "ExecuteTime": {
     "end_time": "2022-10-05T08:22:12.520654Z",
     "start_time": "2022-10-05T08:22:12.305299Z"
    },
    "scrolled": false
   },
   "outputs": [
    {
     "name": "stdout",
     "output_type": "stream",
     "text": [
      "Epoch 1/15\n"
     ]
    },
    {
     "ename": "ValueError",
     "evalue": "in user code:\n\n    File \"/Users/lhs/miniforge3/envs/lhs/lib/python3.8/site-packages/keras/engine/training.py\", line 1051, in train_function  *\n        return step_function(self, iterator)\n    File \"/Users/lhs/miniforge3/envs/lhs/lib/python3.8/site-packages/keras/engine/training.py\", line 1040, in step_function  **\n        outputs = model.distribute_strategy.run(run_step, args=(data,))\n    File \"/Users/lhs/miniforge3/envs/lhs/lib/python3.8/site-packages/keras/engine/training.py\", line 1030, in run_step  **\n        outputs = model.train_step(data)\n    File \"/Users/lhs/miniforge3/envs/lhs/lib/python3.8/site-packages/keras/engine/training.py\", line 890, in train_step\n        loss = self.compute_loss(x, y, y_pred, sample_weight)\n    File \"/Users/lhs/miniforge3/envs/lhs/lib/python3.8/site-packages/keras/engine/training.py\", line 948, in compute_loss\n        return self.compiled_loss(\n    File \"/Users/lhs/miniforge3/envs/lhs/lib/python3.8/site-packages/keras/engine/compile_utils.py\", line 201, in __call__\n        loss_value = loss_obj(y_t, y_p, sample_weight=sw)\n    File \"/Users/lhs/miniforge3/envs/lhs/lib/python3.8/site-packages/keras/losses.py\", line 139, in __call__\n        losses = call_fn(y_true, y_pred)\n    File \"/Users/lhs/miniforge3/envs/lhs/lib/python3.8/site-packages/keras/losses.py\", line 243, in call  **\n        return ag_fn(y_true, y_pred, **self._fn_kwargs)\n    File \"/Users/lhs/miniforge3/envs/lhs/lib/python3.8/site-packages/keras/losses.py\", line 1787, in categorical_crossentropy\n        return backend.categorical_crossentropy(\n    File \"/Users/lhs/miniforge3/envs/lhs/lib/python3.8/site-packages/keras/backend.py\", line 5119, in categorical_crossentropy\n        target.shape.assert_is_compatible_with(output.shape)\n\n    ValueError: Shapes (None, 1) and (None, 3) are incompatible\n",
     "output_type": "error",
     "traceback": [
      "\u001b[0;31m---------------------------------------------------------------------------\u001b[0m",
      "\u001b[0;31mValueError\u001b[0m                                Traceback (most recent call last)",
      "Input \u001b[0;32mIn [109]\u001b[0m, in \u001b[0;36m<cell line: 18>\u001b[0;34m()\u001b[0m\n\u001b[1;32m     15\u001b[0m mc \u001b[38;5;241m=\u001b[39m ModelCheckpoint(\u001b[38;5;124m'\u001b[39m\u001b[38;5;124mbest_model.h5\u001b[39m\u001b[38;5;124m'\u001b[39m, monitor\u001b[38;5;241m=\u001b[39m\u001b[38;5;124m'\u001b[39m\u001b[38;5;124mval_acc\u001b[39m\u001b[38;5;124m'\u001b[39m, mode\u001b[38;5;241m=\u001b[39m\u001b[38;5;124m'\u001b[39m\u001b[38;5;124mmax\u001b[39m\u001b[38;5;124m'\u001b[39m, verbose\u001b[38;5;241m=\u001b[39m\u001b[38;5;241m1\u001b[39m, save_best_only\u001b[38;5;241m=\u001b[39m\u001b[38;5;28;01mTrue\u001b[39;00m)\n\u001b[1;32m     17\u001b[0m model\u001b[38;5;241m.\u001b[39mcompile(optimizer\u001b[38;5;241m=\u001b[39m\u001b[38;5;124m'\u001b[39m\u001b[38;5;124msgd\u001b[39m\u001b[38;5;124m'\u001b[39m, loss\u001b[38;5;241m=\u001b[39m\u001b[38;5;124m'\u001b[39m\u001b[38;5;124mcategorical_crossentropy\u001b[39m\u001b[38;5;124m'\u001b[39m, metrics\u001b[38;5;241m=\u001b[39m[\u001b[38;5;124m'\u001b[39m\u001b[38;5;124macc\u001b[39m\u001b[38;5;124m'\u001b[39m])\n\u001b[0;32m---> 18\u001b[0m history \u001b[38;5;241m=\u001b[39m \u001b[43mmodel\u001b[49m\u001b[38;5;241;43m.\u001b[39;49m\u001b[43mfit\u001b[49m\u001b[43m(\u001b[49m\u001b[43mX_train\u001b[49m\u001b[43m,\u001b[49m\u001b[43m \u001b[49m\u001b[43my_train\u001b[49m\u001b[43m,\u001b[49m\u001b[43m \u001b[49m\u001b[43mepochs\u001b[49m\u001b[38;5;241;43m=\u001b[39;49m\u001b[38;5;241;43m15\u001b[39;49m\u001b[43m,\u001b[49m\u001b[43m \u001b[49m\u001b[43mcallbacks\u001b[49m\u001b[38;5;241;43m=\u001b[39;49m\u001b[43m[\u001b[49m\u001b[43mes\u001b[49m\u001b[43m,\u001b[49m\u001b[43m \u001b[49m\u001b[43mmc\u001b[49m\u001b[43m]\u001b[49m\u001b[43m,\u001b[49m\u001b[43m \u001b[49m\u001b[43mbatch_size\u001b[49m\u001b[38;5;241;43m=\u001b[39;49m\u001b[38;5;241;43m64\u001b[39;49m\u001b[43m,\u001b[49m\u001b[43m \u001b[49m\u001b[43mvalidation_split\u001b[49m\u001b[38;5;241;43m=\u001b[39;49m\u001b[38;5;241;43m0.2\u001b[39;49m\u001b[43m)\u001b[49m\n",
      "File \u001b[0;32m~/miniforge3/envs/lhs/lib/python3.8/site-packages/keras/utils/traceback_utils.py:67\u001b[0m, in \u001b[0;36mfilter_traceback.<locals>.error_handler\u001b[0;34m(*args, **kwargs)\u001b[0m\n\u001b[1;32m     65\u001b[0m \u001b[38;5;28;01mexcept\u001b[39;00m \u001b[38;5;167;01mException\u001b[39;00m \u001b[38;5;28;01mas\u001b[39;00m e:  \u001b[38;5;66;03m# pylint: disable=broad-except\u001b[39;00m\n\u001b[1;32m     66\u001b[0m   filtered_tb \u001b[38;5;241m=\u001b[39m _process_traceback_frames(e\u001b[38;5;241m.\u001b[39m__traceback__)\n\u001b[0;32m---> 67\u001b[0m   \u001b[38;5;28;01mraise\u001b[39;00m e\u001b[38;5;241m.\u001b[39mwith_traceback(filtered_tb) \u001b[38;5;28;01mfrom\u001b[39;00m \u001b[38;5;28mNone\u001b[39m\n\u001b[1;32m     68\u001b[0m \u001b[38;5;28;01mfinally\u001b[39;00m:\n\u001b[1;32m     69\u001b[0m   \u001b[38;5;28;01mdel\u001b[39;00m filtered_tb\n",
      "File \u001b[0;32m/var/folders/1d/lfkpl6ps02xgh0rdprtbmgvw0000gn/T/__autograph_generated_filegyzgglhb.py:15\u001b[0m, in \u001b[0;36mouter_factory.<locals>.inner_factory.<locals>.tf__train_function\u001b[0;34m(iterator)\u001b[0m\n\u001b[1;32m     13\u001b[0m \u001b[38;5;28;01mtry\u001b[39;00m:\n\u001b[1;32m     14\u001b[0m     do_return \u001b[38;5;241m=\u001b[39m \u001b[38;5;28;01mTrue\u001b[39;00m\n\u001b[0;32m---> 15\u001b[0m     retval_ \u001b[38;5;241m=\u001b[39m ag__\u001b[38;5;241m.\u001b[39mconverted_call(ag__\u001b[38;5;241m.\u001b[39mld(step_function), (ag__\u001b[38;5;241m.\u001b[39mld(\u001b[38;5;28mself\u001b[39m), ag__\u001b[38;5;241m.\u001b[39mld(iterator)), \u001b[38;5;28;01mNone\u001b[39;00m, fscope)\n\u001b[1;32m     16\u001b[0m \u001b[38;5;28;01mexcept\u001b[39;00m:\n\u001b[1;32m     17\u001b[0m     do_return \u001b[38;5;241m=\u001b[39m \u001b[38;5;28;01mFalse\u001b[39;00m\n",
      "\u001b[0;31mValueError\u001b[0m: in user code:\n\n    File \"/Users/lhs/miniforge3/envs/lhs/lib/python3.8/site-packages/keras/engine/training.py\", line 1051, in train_function  *\n        return step_function(self, iterator)\n    File \"/Users/lhs/miniforge3/envs/lhs/lib/python3.8/site-packages/keras/engine/training.py\", line 1040, in step_function  **\n        outputs = model.distribute_strategy.run(run_step, args=(data,))\n    File \"/Users/lhs/miniforge3/envs/lhs/lib/python3.8/site-packages/keras/engine/training.py\", line 1030, in run_step  **\n        outputs = model.train_step(data)\n    File \"/Users/lhs/miniforge3/envs/lhs/lib/python3.8/site-packages/keras/engine/training.py\", line 890, in train_step\n        loss = self.compute_loss(x, y, y_pred, sample_weight)\n    File \"/Users/lhs/miniforge3/envs/lhs/lib/python3.8/site-packages/keras/engine/training.py\", line 948, in compute_loss\n        return self.compiled_loss(\n    File \"/Users/lhs/miniforge3/envs/lhs/lib/python3.8/site-packages/keras/engine/compile_utils.py\", line 201, in __call__\n        loss_value = loss_obj(y_t, y_p, sample_weight=sw)\n    File \"/Users/lhs/miniforge3/envs/lhs/lib/python3.8/site-packages/keras/losses.py\", line 139, in __call__\n        losses = call_fn(y_true, y_pred)\n    File \"/Users/lhs/miniforge3/envs/lhs/lib/python3.8/site-packages/keras/losses.py\", line 243, in call  **\n        return ag_fn(y_true, y_pred, **self._fn_kwargs)\n    File \"/Users/lhs/miniforge3/envs/lhs/lib/python3.8/site-packages/keras/losses.py\", line 1787, in categorical_crossentropy\n        return backend.categorical_crossentropy(\n    File \"/Users/lhs/miniforge3/envs/lhs/lib/python3.8/site-packages/keras/backend.py\", line 5119, in categorical_crossentropy\n        target.shape.assert_is_compatible_with(output.shape)\n\n    ValueError: Shapes (None, 1) and (None, 3) are incompatible\n"
     ]
    }
   ],
   "source": [
    "from tensorflow.keras.layers import Embedding, Dense, LSTM\n",
    "from tensorflow.keras.models import Sequential\n",
    "from tensorflow.keras.models import load_model\n",
    "from tensorflow.keras.callbacks import EarlyStopping, ModelCheckpoint\n",
    "\n",
    "embedding_dim = 100  # hidden layer의 node 개수, 100차원으로 학습\n",
    "hidden_units = 128   # embedding 개수와 보통 맞추서 적는다, shape이 안 맞다고 나오면 embedding 차원과 연관되어있을 수 있다 # 보통 max_length와 맞춘다\n",
    "\n",
    "model = Sequential()\n",
    "model.add(Embedding(vocab_size, embedding_dim))\n",
    "model.add(LSTM(hidden_units))\n",
    "model.add(Dense(3, activation='softmax')) # Dense 3개\n",
    "\n",
    "es = EarlyStopping(monitor='val_loss', mode='min', verbose=1, patience=4)\n",
    "mc = ModelCheckpoint('best_model.h5', monitor='val_acc', mode='max', verbose=1, save_best_only=True)\n",
    "\n",
    "model.compile(optimizer='sgd', loss='categorical_crossentropy', metrics=['acc']) # categorical, one-hot encoding 필요\n",
    "history = model.fit(X_train, y_train, epochs=15, callbacks=[es, mc], batch_size=64, validation_split=0.2) \n",
    "# batch size 줄여야 할듯, 68개 데이터밖에 없는데 64, 4 개 들어감\n",
    "# 보통 데이터가 적으면 kcbert, kobert를 쓴다\n",
    "# 머신러닝 모델을 써보는 것을 추천(데이터가 적기 때문) , 나이브베이즈 추천, decision tree classifier\n",
    "# tfidf vectorize -> document turn metrix\n",
    "\n"
   ]
  },
  {
   "cell_type": "code",
   "execution_count": null,
   "id": "a2224e8b",
   "metadata": {},
   "outputs": [],
   "source": []
  },
  {
   "cell_type": "code",
   "execution_count": null,
   "id": "62c8e79c",
   "metadata": {},
   "outputs": [],
   "source": []
  }
 ],
 "metadata": {
  "kernelspec": {
   "display_name": "Python 3 (ipykernel)",
   "language": "python",
   "name": "python3"
  },
  "language_info": {
   "codemirror_mode": {
    "name": "ipython",
    "version": 3
   },
   "file_extension": ".py",
   "mimetype": "text/x-python",
   "name": "python",
   "nbconvert_exporter": "python",
   "pygments_lexer": "ipython3",
   "version": "3.8.13"
  },
  "toc": {
   "base_numbering": 1,
   "nav_menu": {},
   "number_sections": false,
   "sideBar": true,
   "skip_h1_title": false,
   "title_cell": "Table of Contents",
   "title_sidebar": "Contents",
   "toc_cell": false,
   "toc_position": {
    "height": "calc(100% - 180px)",
    "left": "10px",
    "top": "150px",
    "width": "384px"
   },
   "toc_section_display": true,
   "toc_window_display": false
  }
 },
 "nbformat": 4,
 "nbformat_minor": 5
}
