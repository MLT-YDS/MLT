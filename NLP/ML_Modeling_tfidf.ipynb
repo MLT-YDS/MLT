{
 "cells": [
  {
   "cell_type": "code",
   "execution_count": 1,
   "id": "8b1a23f8",
   "metadata": {
    "ExecuteTime": {
     "end_time": "2022-10-07T05:30:07.256633Z",
     "start_time": "2022-10-07T05:30:06.979661Z"
    }
   },
   "outputs": [],
   "source": [
    "import pandas as pd"
   ]
  },
  {
   "cell_type": "code",
   "execution_count": 2,
   "id": "4567b9be",
   "metadata": {
    "ExecuteTime": {
     "end_time": "2022-10-07T05:30:11.847309Z",
     "start_time": "2022-10-07T05:30:11.657289Z"
    }
   },
   "outputs": [],
   "source": [
    "df = pd.read_excel('news_label.xlsx', engine='openpyxl')"
   ]
  },
  {
   "cell_type": "code",
   "execution_count": 3,
   "id": "fd66d057",
   "metadata": {
    "ExecuteTime": {
     "end_time": "2022-10-07T05:30:11.998974Z",
     "start_time": "2022-10-07T05:30:11.992229Z"
    }
   },
   "outputs": [],
   "source": [
    "df = df.rename(columns={'dates':'date', 'titles':'title','contents':'content'})\n",
    "df['content'] = df['title'] + df['content']"
   ]
  },
  {
   "cell_type": "code",
   "execution_count": 4,
   "id": "423625df",
   "metadata": {
    "ExecuteTime": {
     "end_time": "2022-10-07T05:30:12.754312Z",
     "start_time": "2022-10-07T05:30:12.746701Z"
    }
   },
   "outputs": [],
   "source": [
    "df = df.drop(columns=['근거', 'title'])"
   ]
  },
  {
   "cell_type": "code",
   "execution_count": 11,
   "id": "e6249a17",
   "metadata": {
    "ExecuteTime": {
     "end_time": "2022-10-07T05:31:10.196517Z",
     "start_time": "2022-10-07T05:31:10.191428Z"
    }
   },
   "outputs": [
    {
     "name": "stderr",
     "output_type": "stream",
     "text": [
      "/var/folders/1d/lfkpl6ps02xgh0rdprtbmgvw0000gn/T/ipykernel_1686/4077664402.py:2: SettingWithCopyWarning: \n",
      "A value is trying to be set on a copy of a slice from a DataFrame.\n",
      "Try using .loc[row_indexer,col_indexer] = value instead\n",
      "\n",
      "See the caveats in the documentation: https://pandas.pydata.org/pandas-docs/stable/user_guide/indexing.html#returning-a-view-versus-a-copy\n",
      "  train.label = train.label.astype(int)\n"
     ]
    }
   ],
   "source": [
    "train = df[:167]\n",
    "train.label = train.label.astype(int)"
   ]
  },
  {
   "cell_type": "code",
   "execution_count": 6,
   "id": "8932bb1b",
   "metadata": {
    "ExecuteTime": {
     "end_time": "2022-10-07T05:30:14.872159Z",
     "start_time": "2022-10-07T05:30:14.859216Z"
    }
   },
   "outputs": [
    {
     "data": {
      "text/html": [
       "<div>\n",
       "<style scoped>\n",
       "    .dataframe tbody tr th:only-of-type {\n",
       "        vertical-align: middle;\n",
       "    }\n",
       "\n",
       "    .dataframe tbody tr th {\n",
       "        vertical-align: top;\n",
       "    }\n",
       "\n",
       "    .dataframe thead th {\n",
       "        text-align: right;\n",
       "    }\n",
       "</style>\n",
       "<table border=\"1\" class=\"dataframe\">\n",
       "  <thead>\n",
       "    <tr style=\"text-align: right;\">\n",
       "      <th></th>\n",
       "      <th>date</th>\n",
       "      <th>content</th>\n",
       "      <th>label</th>\n",
       "    </tr>\n",
       "  </thead>\n",
       "  <tbody>\n",
       "    <tr>\n",
       "      <th>167</th>\n",
       "      <td>2022.04.29</td>\n",
       "      <td>[공정위, 새벽배송업체 오아시스 ‘생협 간판’ 사용에 제동]//[\"무조건 창업 한번...</td>\n",
       "      <td>-</td>\n",
       "    </tr>\n",
       "    <tr>\n",
       "      <th>168</th>\n",
       "      <td>2022.04.30</td>\n",
       "      <td>[코로나 엔데믹 전환에 배송전쟁 판도 변화…점유율 경쟁 보다 ‘수익성’]//[\\n롯...</td>\n",
       "      <td>-</td>\n",
       "    </tr>\n",
       "    <tr>\n",
       "      <th>169</th>\n",
       "      <td>2022.05.02</td>\n",
       "      <td>[창업자 188명 '지상 IR' 날개…K-스타트업 등용문 '우뚝']//[오아시스마켓...</td>\n",
       "      <td>-</td>\n",
       "    </tr>\n",
       "    <tr>\n",
       "      <th>170</th>\n",
       "      <td>2022.05.03</td>\n",
       "      <td>[[엔데믹, 오다]이커머스 '옥석 가리기' 본격 시동]//[우여곡절 끝에 IPO 첫...</td>\n",
       "      <td>-</td>\n",
       "    </tr>\n",
       "    <tr>\n",
       "      <th>171</th>\n",
       "      <td>2022.05.04</td>\n",
       "      <td>[9조 원 규모 새벽배송 누가 살아남을까? 돈의 전쟁이 시작됐다!]//[\\n\\t\\t...</td>\n",
       "      <td>-</td>\n",
       "    </tr>\n",
       "    <tr>\n",
       "      <th>...</th>\n",
       "      <td>...</td>\n",
       "      <td>...</td>\n",
       "      <td>...</td>\n",
       "    </tr>\n",
       "    <tr>\n",
       "      <th>274</th>\n",
       "      <td>2022.09.23</td>\n",
       "      <td>[WCP 흥행 실패에 컬리, 케이뱅크 상장 시기 '안갯속']//[\\n심사 승인 났는...</td>\n",
       "      <td>-</td>\n",
       "    </tr>\n",
       "    <tr>\n",
       "      <th>275</th>\n",
       "      <td>2022.09.26</td>\n",
       "      <td>[[먹거리+IT] 네이처랩 오경주 대표, “맛있고 건강한 주스 추천 서비스를 개발합...</td>\n",
       "      <td>-</td>\n",
       "    </tr>\n",
       "    <tr>\n",
       "      <th>276</th>\n",
       "      <td>2022.09.27</td>\n",
       "      <td>[\"투자 늘렸는데 이제와서…\" 퀵커머스마저 규제하나 '초긴장']//[\\n■국감 오르...</td>\n",
       "      <td>-</td>\n",
       "    </tr>\n",
       "    <tr>\n",
       "      <th>277</th>\n",
       "      <td>2022.09.29</td>\n",
       "      <td>[국내 이커머스 상장 1호 주인공 누가될까 [격변의 이커머스①]]//[\\n이커머스 ...</td>\n",
       "      <td>-</td>\n",
       "    </tr>\n",
       "    <tr>\n",
       "      <th>278</th>\n",
       "      <td>2022.09.30</td>\n",
       "      <td>[오아시스마켓, 맞춤형 영상 콘텐츠 지원에 소상공인 매출 ‘쑥쑥’]//[\\n\"V 커...</td>\n",
       "      <td>-</td>\n",
       "    </tr>\n",
       "  </tbody>\n",
       "</table>\n",
       "<p>112 rows × 3 columns</p>\n",
       "</div>"
      ],
      "text/plain": [
       "           date                                            content label\n",
       "167  2022.04.29  [공정위, 새벽배송업체 오아시스 ‘생협 간판’ 사용에 제동]//[\"무조건 창업 한번...     -\n",
       "168  2022.04.30  [코로나 엔데믹 전환에 배송전쟁 판도 변화…점유율 경쟁 보다 ‘수익성’]//[\\n롯...     -\n",
       "169  2022.05.02  [창업자 188명 '지상 IR' 날개…K-스타트업 등용문 '우뚝']//[오아시스마켓...     -\n",
       "170  2022.05.03  [[엔데믹, 오다]이커머스 '옥석 가리기' 본격 시동]//[우여곡절 끝에 IPO 첫...     -\n",
       "171  2022.05.04  [9조 원 규모 새벽배송 누가 살아남을까? 돈의 전쟁이 시작됐다!]//[\\n\\t\\t...     -\n",
       "..          ...                                                ...   ...\n",
       "274  2022.09.23  [WCP 흥행 실패에 컬리, 케이뱅크 상장 시기 '안갯속']//[\\n심사 승인 났는...     -\n",
       "275  2022.09.26  [[먹거리+IT] 네이처랩 오경주 대표, “맛있고 건강한 주스 추천 서비스를 개발합...     -\n",
       "276  2022.09.27  [\"투자 늘렸는데 이제와서…\" 퀵커머스마저 규제하나 '초긴장']//[\\n■국감 오르...     -\n",
       "277  2022.09.29  [국내 이커머스 상장 1호 주인공 누가될까 [격변의 이커머스①]]//[\\n이커머스 ...     -\n",
       "278  2022.09.30  [오아시스마켓, 맞춤형 영상 콘텐츠 지원에 소상공인 매출 ‘쑥쑥’]//[\\n\"V 커...     -\n",
       "\n",
       "[112 rows x 3 columns]"
      ]
     },
     "execution_count": 6,
     "metadata": {},
     "output_type": "execute_result"
    }
   ],
   "source": [
    "# test set\n",
    "test = df[167:]\n",
    "test"
   ]
  },
  {
   "cell_type": "markdown",
   "id": "bc25d522",
   "metadata": {},
   "source": [
    "### 데이터 정제하기"
   ]
  },
  {
   "cell_type": "code",
   "execution_count": 7,
   "id": "eb2b810d",
   "metadata": {
    "ExecuteTime": {
     "end_time": "2022-10-07T05:30:16.595802Z",
     "start_time": "2022-10-07T05:30:16.481383Z"
    }
   },
   "outputs": [
    {
     "name": "stderr",
     "output_type": "stream",
     "text": [
      "/var/folders/1d/lfkpl6ps02xgh0rdprtbmgvw0000gn/T/ipykernel_1686/729425653.py:2: FutureWarning: The default value of regex will change from True to False in a future version.\n",
      "  train['content'] = train['content'].str.replace('[^가-힣a-zA-Z0-9_]',' ')\n",
      "/var/folders/1d/lfkpl6ps02xgh0rdprtbmgvw0000gn/T/ipykernel_1686/729425653.py:2: SettingWithCopyWarning: \n",
      "A value is trying to be set on a copy of a slice from a DataFrame.\n",
      "Try using .loc[row_indexer,col_indexer] = value instead\n",
      "\n",
      "See the caveats in the documentation: https://pandas.pydata.org/pandas-docs/stable/user_guide/indexing.html#returning-a-view-versus-a-copy\n",
      "  train['content'] = train['content'].str.replace('[^가-힣a-zA-Z0-9_]',' ')\n",
      "/var/folders/1d/lfkpl6ps02xgh0rdprtbmgvw0000gn/T/ipykernel_1686/729425653.py:4: FutureWarning: The default value of regex will change from True to False in a future version.\n",
      "  train['content'] = train['content'].str.replace(' +',' ')\n",
      "/var/folders/1d/lfkpl6ps02xgh0rdprtbmgvw0000gn/T/ipykernel_1686/729425653.py:4: SettingWithCopyWarning: \n",
      "A value is trying to be set on a copy of a slice from a DataFrame.\n",
      "Try using .loc[row_indexer,col_indexer] = value instead\n",
      "\n",
      "See the caveats in the documentation: https://pandas.pydata.org/pandas-docs/stable/user_guide/indexing.html#returning-a-view-versus-a-copy\n",
      "  train['content'] = train['content'].str.replace(' +',' ')\n"
     ]
    },
    {
     "data": {
      "text/html": [
       "<div>\n",
       "<style scoped>\n",
       "    .dataframe tbody tr th:only-of-type {\n",
       "        vertical-align: middle;\n",
       "    }\n",
       "\n",
       "    .dataframe tbody tr th {\n",
       "        vertical-align: top;\n",
       "    }\n",
       "\n",
       "    .dataframe thead th {\n",
       "        text-align: right;\n",
       "    }\n",
       "</style>\n",
       "<table border=\"1\" class=\"dataframe\">\n",
       "  <thead>\n",
       "    <tr style=\"text-align: right;\">\n",
       "      <th></th>\n",
       "      <th>date</th>\n",
       "      <th>content</th>\n",
       "      <th>label</th>\n",
       "    </tr>\n",
       "  </thead>\n",
       "  <tbody>\n",
       "    <tr>\n",
       "      <th>0</th>\n",
       "      <td>2021.10.05</td>\n",
       "      <td>톡톡 이상품 한빛코리아 다지워 네이처 클렌징 솝 마스카라까지 지우는 세정비누 피부...</td>\n",
       "      <td>0</td>\n",
       "    </tr>\n",
       "    <tr>\n",
       "      <th>1</th>\n",
       "      <td>2021.10.07</td>\n",
       "      <td>격동의 유통가 편의점 성장 정체 미래는 근거리 쇼핑 파괴적 커머스 시대 데이터 경...</td>\n",
       "      <td>1</td>\n",
       "    </tr>\n",
       "    <tr>\n",
       "      <th>2</th>\n",
       "      <td>2021.10.08</td>\n",
       "      <td>머니 매니저의 HOT종목 씨에스윈드는 풍력발전기를 구성하는 타워 제작 및 설치를 ...</td>\n",
       "      <td>1</td>\n",
       "    </tr>\n",
       "    <tr>\n",
       "      <th>3</th>\n",
       "      <td>2021.10.11</td>\n",
       "      <td>김민수 더맘마 대표 동네마트와 상생 이 경쟁력 30분 총알배송 목표 별도 물류센터...</td>\n",
       "      <td>0</td>\n",
       "    </tr>\n",
       "    <tr>\n",
       "      <th>4</th>\n",
       "      <td>2021.10.13</td>\n",
       "      <td>카카오 보고있나 진격의 네이버페이 최대 직구몰 손잡았다 주간투자동향 파운트 400...</td>\n",
       "      <td>1</td>\n",
       "    </tr>\n",
       "    <tr>\n",
       "      <th>...</th>\n",
       "      <td>...</td>\n",
       "      <td>...</td>\n",
       "      <td>...</td>\n",
       "    </tr>\n",
       "    <tr>\n",
       "      <th>162</th>\n",
       "      <td>2022.04.22</td>\n",
       "      <td>NH투자증권 SK에코플랜트 주관사 선정 IPO 실적 호조 우리생협 오아시스 생협 ...</td>\n",
       "      <td>-1</td>\n",
       "    </tr>\n",
       "    <tr>\n",
       "      <th>163</th>\n",
       "      <td>2022.04.25</td>\n",
       "      <td>500억 투자했는데 홍정국의 아픈 손가락 헬로네이처 매각 적신호 FBG 캐피탈 한...</td>\n",
       "      <td>1</td>\n",
       "    </tr>\n",
       "    <tr>\n",
       "      <th>164</th>\n",
       "      <td>2022.04.26</td>\n",
       "      <td>오아시스마켓 오프라인 매장 간판서 생협 제외 고고IPO 업계 4위 11번가 상장 ...</td>\n",
       "      <td>1</td>\n",
       "    </tr>\n",
       "    <tr>\n",
       "      <th>165</th>\n",
       "      <td>2022.04.27</td>\n",
       "      <td>마켓인 프롭테크하면 무조건 뜬다 투자유치 부익부 빈익빈 IPO 앞둔 오아시스마켓 ...</td>\n",
       "      <td>-1</td>\n",
       "    </tr>\n",
       "    <tr>\n",
       "      <th>166</th>\n",
       "      <td>2022.04.28</td>\n",
       "      <td>새벽배송 헬로네이처 CU와 시너지 못낸 이유는 디지털라이프 5 50 캐시백 혜택 ...</td>\n",
       "      <td>-1</td>\n",
       "    </tr>\n",
       "  </tbody>\n",
       "</table>\n",
       "<p>167 rows × 3 columns</p>\n",
       "</div>"
      ],
      "text/plain": [
       "           date                                            content label\n",
       "0    2021.10.05   톡톡 이상품 한빛코리아 다지워 네이처 클렌징 솝 마스카라까지 지우는 세정비누 피부...     0\n",
       "1    2021.10.07   격동의 유통가 편의점 성장 정체 미래는 근거리 쇼핑 파괴적 커머스 시대 데이터 경...     1\n",
       "2    2021.10.08   머니 매니저의 HOT종목 씨에스윈드는 풍력발전기를 구성하는 타워 제작 및 설치를 ...     1\n",
       "3    2021.10.11   김민수 더맘마 대표 동네마트와 상생 이 경쟁력 30분 총알배송 목표 별도 물류센터...     0\n",
       "4    2021.10.13   카카오 보고있나 진격의 네이버페이 최대 직구몰 손잡았다 주간투자동향 파운트 400...     1\n",
       "..          ...                                                ...   ...\n",
       "162  2022.04.22   NH투자증권 SK에코플랜트 주관사 선정 IPO 실적 호조 우리생협 오아시스 생협 ...    -1\n",
       "163  2022.04.25   500억 투자했는데 홍정국의 아픈 손가락 헬로네이처 매각 적신호 FBG 캐피탈 한...     1\n",
       "164  2022.04.26   오아시스마켓 오프라인 매장 간판서 생협 제외 고고IPO 업계 4위 11번가 상장 ...     1\n",
       "165  2022.04.27   마켓인 프롭테크하면 무조건 뜬다 투자유치 부익부 빈익빈 IPO 앞둔 오아시스마켓 ...    -1\n",
       "166  2022.04.28   새벽배송 헬로네이처 CU와 시너지 못낸 이유는 디지털라이프 5 50 캐시백 혜택 ...    -1\n",
       "\n",
       "[167 rows x 3 columns]"
      ]
     },
     "execution_count": 7,
     "metadata": {},
     "output_type": "execute_result"
    }
   ],
   "source": [
    "# 문자 외의 것들 제거\n",
    "train['content'] = train['content'].str.replace('[^가-힣a-zA-Z0-9_]',' ')\n",
    "# 혹시 모를 다중 공백 제거\n",
    "train['content'] = train['content'].str.replace(' +',' ') \n",
    "train"
   ]
  },
  {
   "cell_type": "markdown",
   "id": "d00e68df",
   "metadata": {},
   "source": [
    "test data도 정제"
   ]
  },
  {
   "cell_type": "code",
   "execution_count": 8,
   "id": "7174c211",
   "metadata": {
    "ExecuteTime": {
     "end_time": "2022-10-06T13:37:33.172882Z",
     "start_time": "2022-10-06T13:37:33.123677Z"
    }
   },
   "outputs": [
    {
     "name": "stderr",
     "output_type": "stream",
     "text": [
      "/var/folders/1d/lfkpl6ps02xgh0rdprtbmgvw0000gn/T/ipykernel_5204/670264508.py:2: FutureWarning: The default value of regex will change from True to False in a future version.\n",
      "  test['content'] = test['content'].str.replace('[^가-힣a-zA-Z0-9_]',' ')\n",
      "/var/folders/1d/lfkpl6ps02xgh0rdprtbmgvw0000gn/T/ipykernel_5204/670264508.py:2: SettingWithCopyWarning: \n",
      "A value is trying to be set on a copy of a slice from a DataFrame.\n",
      "Try using .loc[row_indexer,col_indexer] = value instead\n",
      "\n",
      "See the caveats in the documentation: https://pandas.pydata.org/pandas-docs/stable/user_guide/indexing.html#returning-a-view-versus-a-copy\n",
      "  test['content'] = test['content'].str.replace('[^가-힣a-zA-Z0-9_]',' ')\n",
      "/var/folders/1d/lfkpl6ps02xgh0rdprtbmgvw0000gn/T/ipykernel_5204/670264508.py:4: FutureWarning: The default value of regex will change from True to False in a future version.\n",
      "  test['content'] = test['content'].str.replace(' +',' ')\n",
      "/var/folders/1d/lfkpl6ps02xgh0rdprtbmgvw0000gn/T/ipykernel_5204/670264508.py:4: SettingWithCopyWarning: \n",
      "A value is trying to be set on a copy of a slice from a DataFrame.\n",
      "Try using .loc[row_indexer,col_indexer] = value instead\n",
      "\n",
      "See the caveats in the documentation: https://pandas.pydata.org/pandas-docs/stable/user_guide/indexing.html#returning-a-view-versus-a-copy\n",
      "  test['content'] = test['content'].str.replace(' +',' ')\n"
     ]
    },
    {
     "data": {
      "text/html": [
       "<div>\n",
       "<style scoped>\n",
       "    .dataframe tbody tr th:only-of-type {\n",
       "        vertical-align: middle;\n",
       "    }\n",
       "\n",
       "    .dataframe tbody tr th {\n",
       "        vertical-align: top;\n",
       "    }\n",
       "\n",
       "    .dataframe thead th {\n",
       "        text-align: right;\n",
       "    }\n",
       "</style>\n",
       "<table border=\"1\" class=\"dataframe\">\n",
       "  <thead>\n",
       "    <tr style=\"text-align: right;\">\n",
       "      <th></th>\n",
       "      <th>date</th>\n",
       "      <th>content</th>\n",
       "      <th>label</th>\n",
       "    </tr>\n",
       "  </thead>\n",
       "  <tbody>\n",
       "    <tr>\n",
       "      <th>167</th>\n",
       "      <td>2022.04.29</td>\n",
       "      <td>공정위 새벽배송업체 오아시스 생협 간판 사용에 제동 무조건 창업 한번 해봐 스타트...</td>\n",
       "      <td>-</td>\n",
       "    </tr>\n",
       "    <tr>\n",
       "      <th>168</th>\n",
       "      <td>2022.04.30</td>\n",
       "      <td>코로나 엔데믹 전환에 배송전쟁 판도 변화 점유율 경쟁 보다 수익성 롯데온 헬로네이...</td>\n",
       "      <td>-</td>\n",
       "    </tr>\n",
       "    <tr>\n",
       "      <th>169</th>\n",
       "      <td>2022.05.02</td>\n",
       "      <td>창업자 188명 지상 IR 날개 K 스타트업 등용문 우뚝 오아시스마켓 경북 세일 ...</td>\n",
       "      <td>-</td>\n",
       "    </tr>\n",
       "    <tr>\n",
       "      <th>170</th>\n",
       "      <td>2022.05.03</td>\n",
       "      <td>엔데믹 오다 이커머스 옥석 가리기 본격 시동 우여곡절 끝에 IPO 첫발 뗀 컬리 ...</td>\n",
       "      <td>-</td>\n",
       "    </tr>\n",
       "    <tr>\n",
       "      <th>171</th>\n",
       "      <td>2022.05.04</td>\n",
       "      <td>9조 원 규모 새벽배송 누가 살아남을까 돈의 전쟁이 시작됐다 뉴스데스크 앵커 밤 ...</td>\n",
       "      <td>-</td>\n",
       "    </tr>\n",
       "    <tr>\n",
       "      <th>...</th>\n",
       "      <td>...</td>\n",
       "      <td>...</td>\n",
       "      <td>...</td>\n",
       "    </tr>\n",
       "    <tr>\n",
       "      <th>274</th>\n",
       "      <td>2022.09.23</td>\n",
       "      <td>WCP 흥행 실패에 컬리 케이뱅크 상장 시기 안갯속 심사 승인 났는데 IPO 감감...</td>\n",
       "      <td>-</td>\n",
       "    </tr>\n",
       "    <tr>\n",
       "      <th>275</th>\n",
       "      <td>2022.09.26</td>\n",
       "      <td>먹거리 IT 네이처랩 오경주 대표 맛있고 건강한 주스 추천 서비스를 개발합니다 서...</td>\n",
       "      <td>-</td>\n",
       "    </tr>\n",
       "    <tr>\n",
       "      <th>276</th>\n",
       "      <td>2022.09.27</td>\n",
       "      <td>투자 늘렸는데 이제와서 퀵커머스마저 규제하나 초긴장 국감 오르는 유통업 새 먹거리...</td>\n",
       "      <td>-</td>\n",
       "    </tr>\n",
       "    <tr>\n",
       "      <th>277</th>\n",
       "      <td>2022.09.29</td>\n",
       "      <td>국내 이커머스 상장 1호 주인공 누가될까 격변의 이커머스 이커머스 IPO 대전 흑...</td>\n",
       "      <td>-</td>\n",
       "    </tr>\n",
       "    <tr>\n",
       "      <th>278</th>\n",
       "      <td>2022.09.30</td>\n",
       "      <td>오아시스마켓 맞춤형 영상 콘텐츠 지원에 소상공인 매출 쑥쑥 V 커머스 지원 사업으...</td>\n",
       "      <td>-</td>\n",
       "    </tr>\n",
       "  </tbody>\n",
       "</table>\n",
       "<p>112 rows × 3 columns</p>\n",
       "</div>"
      ],
      "text/plain": [
       "           date                                            content label\n",
       "167  2022.04.29   공정위 새벽배송업체 오아시스 생협 간판 사용에 제동 무조건 창업 한번 해봐 스타트...     -\n",
       "168  2022.04.30   코로나 엔데믹 전환에 배송전쟁 판도 변화 점유율 경쟁 보다 수익성 롯데온 헬로네이...     -\n",
       "169  2022.05.02   창업자 188명 지상 IR 날개 K 스타트업 등용문 우뚝 오아시스마켓 경북 세일 ...     -\n",
       "170  2022.05.03   엔데믹 오다 이커머스 옥석 가리기 본격 시동 우여곡절 끝에 IPO 첫발 뗀 컬리 ...     -\n",
       "171  2022.05.04   9조 원 규모 새벽배송 누가 살아남을까 돈의 전쟁이 시작됐다 뉴스데스크 앵커 밤 ...     -\n",
       "..          ...                                                ...   ...\n",
       "274  2022.09.23   WCP 흥행 실패에 컬리 케이뱅크 상장 시기 안갯속 심사 승인 났는데 IPO 감감...     -\n",
       "275  2022.09.26   먹거리 IT 네이처랩 오경주 대표 맛있고 건강한 주스 추천 서비스를 개발합니다 서...     -\n",
       "276  2022.09.27   투자 늘렸는데 이제와서 퀵커머스마저 규제하나 초긴장 국감 오르는 유통업 새 먹거리...     -\n",
       "277  2022.09.29   국내 이커머스 상장 1호 주인공 누가될까 격변의 이커머스 이커머스 IPO 대전 흑...     -\n",
       "278  2022.09.30   오아시스마켓 맞춤형 영상 콘텐츠 지원에 소상공인 매출 쑥쑥 V 커머스 지원 사업으...     -\n",
       "\n",
       "[112 rows x 3 columns]"
      ]
     },
     "execution_count": 8,
     "metadata": {},
     "output_type": "execute_result"
    }
   ],
   "source": [
    "# 문자 외의 것들 제거\n",
    "test['content'] = test['content'].str.replace('[^가-힣a-zA-Z0-9_]',' ')\n",
    "# 혹시 모를 다중 공백 제거\n",
    "test['content'] = test['content'].str.replace(' +',' ') \n",
    "test"
   ]
  },
  {
   "cell_type": "code",
   "execution_count": 8,
   "id": "c629df50",
   "metadata": {
    "ExecuteTime": {
     "end_time": "2022-10-07T05:30:18.811468Z",
     "start_time": "2022-10-07T05:30:18.416807Z"
    }
   },
   "outputs": [
    {
     "data": {
      "text/plain": [
       "<AxesSubplot:>"
      ]
     },
     "execution_count": 8,
     "metadata": {},
     "output_type": "execute_result"
    },
    {
     "data": {
      "image/png": "[encoded data removed]",
      "text/plain": [
       "<Figure size 432x288 with 1 Axes>"
      ]
     },
     "metadata": {
      "needs_background": "light"
     },
     "output_type": "display_data"
    }
   ],
   "source": [
    "train['label'].value_counts().plot(kind='bar')"
   ]
  },
  {
   "cell_type": "code",
   "execution_count": 18,
   "id": "17e7ded9",
   "metadata": {
    "ExecuteTime": {
     "end_time": "2022-10-07T07:01:45.774556Z",
     "start_time": "2022-10-07T07:01:45.766351Z"
    }
   },
   "outputs": [
    {
     "data": {
      "text/plain": [
       "0      [[톡톡 이상품] 한빛코리아 / 다지워 네이처 클렌징 솝]//[\\n마스카라까지 지우...\n",
       "1      [[격동의 유통가④]편의점 성장 정체…미래는 근거리 쇼핑]//[\"파괴적 커머스 시대...\n",
       "2      [株머니 매니저의 HOT종목]//[\\n\\n\\n\\n\\n 씨에스윈드는 풍력발전기를 구성...\n",
       "3      [김민수 더맘마 대표 \"동네마트와 '상생'이 경쟁력…30분 총알배송 목표\"]//[\\...\n",
       "4      [\"카카오 보고있나\"…진격의 네이버페이, 中 최대 직구몰 손잡았다]//[[주간투자동...\n",
       "                             ...                        \n",
       "159    [새 개편안 첫 타자는…컬리? CJ올리브영?]//[대기업도 백기든 새벽배송…'마켓컬...\n",
       "160    [승자 없는 새벽배송 전쟁, 그 결말은?]//[\\n투자비↑·매출↓ 롯데온·헬로네이처...\n",
       "161    ['빅딜' 쓸어담는 NH투자증권, SK에코플랜트 주관사 낙점]//[“대주주 사익추구...\n",
       "163    [“500억 투자했는데”... 홍정국의 아픈 손가락 ‘헬로네이처’ 매각 적신호]//...\n",
       "164    [오아시스마켓 \"오프라인 매장 간판서 '생협' 제외\"]//[[고고IPO] ‘업계 4...\n",
       "Name: content, Length: 133, dtype: object"
      ]
     },
     "execution_count": 18,
     "metadata": {},
     "output_type": "execute_result"
    }
   ],
   "source": [
    "train.content"
   ]
  },
  {
   "cell_type": "code",
   "execution_count": 19,
   "id": "ef869653",
   "metadata": {
    "ExecuteTime": {
     "end_time": "2022-10-07T07:02:07.410171Z",
     "start_time": "2022-10-07T07:02:07.402220Z"
    }
   },
   "outputs": [
    {
     "data": {
      "text/plain": [
       "0      0\n",
       "1      1\n",
       "2      1\n",
       "3      0\n",
       "4      1\n",
       "      ..\n",
       "159   -1\n",
       "160   -1\n",
       "161    0\n",
       "163    1\n",
       "164    1\n",
       "Name: label, Length: 133, dtype: int64"
      ]
     },
     "execution_count": 19,
     "metadata": {},
     "output_type": "execute_result"
    }
   ],
   "source": [
    "train.label"
   ]
  },
  {
   "cell_type": "markdown",
   "id": "b5716383",
   "metadata": {},
   "source": [
    "### 토큰화 및 TF-IDF(Term Frequency-Inverse Document Frequency) 벡터화"
   ]
  },
  {
   "cell_type": "markdown",
   "id": "f9d68ca5",
   "metadata": {},
   "source": [
    "### 감성 분석 모델 구축"
   ]
  },
  {
   "cell_type": "code",
   "execution_count": 20,
   "id": "acb025e4",
   "metadata": {
    "ExecuteTime": {
     "end_time": "2022-10-07T07:02:16.664613Z",
     "start_time": "2022-10-07T07:02:16.659607Z"
    }
   },
   "outputs": [],
   "source": [
    "from sklearn.feature_extraction.text import TfidfVectorizer\n",
    "from sklearn.pipeline import Pipeline\n",
    "\n",
    "\n",
    "def get_pipe(model, model_name: str) -> Pipeline:\n",
    "    \"TfidfVectorizer와 모델을 연결한 파이프라인을 반환하는 함수\"\n",
    "    tfidf = TfidfVectorizer(analyzer=\"char\", ngram_range=(1, 3))\n",
    "    pipe = Pipeline([\n",
    "        (\"tfidf\", tfidf),\n",
    "        (model_name, model)\n",
    "    ])\n",
    "    return pipe\n",
    "\n",
    "# 그냥 train 데이터를 tfidf로 fit_transform한 데이터를 만듭시다..."
   ]
  },
  {
   "cell_type": "code",
   "execution_count": 21,
   "id": "b562b596",
   "metadata": {
    "ExecuteTime": {
     "end_time": "2022-10-07T07:02:17.422119Z",
     "start_time": "2022-10-07T07:02:17.414018Z"
    }
   },
   "outputs": [],
   "source": [
    "import numpy as np\n",
    "from sklearn.model_selection import StratifiedKFold\n",
    "from sklearn.metrics import accuracy_score\n",
    "\n",
    "def return_kfold_accuarcy(model, k: int = 5) -> float:\n",
    "    global train\n",
    "    \"모델을 입력받아 KFold 예측 후 accuracy score를 반환하는 함수\"\n",
    "    kfold = StratifiedKFold(k, shuffle=True, random_state=42)\n",
    "    result = []\n",
    "    for train_idx, test_idx in kfold.split(train[\"content\"], train[\"label\"]):\n",
    "        train, val = train.iloc[train_idx], train.iloc[test_idx]\n",
    "        model.fit(train[\"content\"], train[\"label\"])\n",
    "        pred = model.predict(val[\"content\"])\n",
    "        acc = accuracy_score(val[\"label\"], pred)\n",
    "        result.append(acc)\n",
    "\n",
    "    return np.mean(result)"
   ]
  },
  {
   "cell_type": "code",
   "execution_count": 22,
   "id": "4baf1da2",
   "metadata": {
    "ExecuteTime": {
     "end_time": "2022-10-07T07:02:18.880874Z",
     "start_time": "2022-10-07T07:02:18.873212Z"
    }
   },
   "outputs": [],
   "source": [
    "from sklearn.naive_bayes import BernoulliNB\n",
    "from sklearn.linear_model import SGDClassifier\n",
    "from sklearn.ensemble import RandomForestClassifier, AdaBoostClassifier\n",
    "from sklearn.svm import SVC\n",
    "\n",
    "\n",
    "models = [\n",
    "    (\"naive_bayes\", BernoulliNB()),\n",
    "    (\"SGD\", SGDClassifier(random_state=42, n_jobs=-1)),\n",
    "    (\"rfc\", RandomForestClassifier(random_state=42, n_jobs=-1)),\n",
    "    (\"SVC\", SVC(random_state=42)),\n",
    "    (\"ada\", AdaBoostClassifier(random_state=42))\n",
    "]\n",
    "\n",
    "model_pipes = [(name, get_pipe(model, name)) for name, model in models]"
   ]
  },
  {
   "cell_type": "code",
   "execution_count": 13,
   "id": "3824ef88",
   "metadata": {
    "ExecuteTime": {
     "end_time": "2022-10-06T13:37:33.737659Z",
     "start_time": "2022-10-06T13:37:33.735510Z"
    }
   },
   "outputs": [
    {
     "name": "stderr",
     "output_type": "stream",
     "text": [
      "/var/folders/1d/lfkpl6ps02xgh0rdprtbmgvw0000gn/T/ipykernel_5204/666466968.py:1: SettingWithCopyWarning: \n",
      "A value is trying to be set on a copy of a slice from a DataFrame.\n",
      "Try using .loc[row_indexer,col_indexer] = value instead\n",
      "\n",
      "See the caveats in the documentation: https://pandas.pydata.org/pandas-docs/stable/user_guide/indexing.html#returning-a-view-versus-a-copy\n",
      "  train['label'] = train['label'].astype(int)\n"
     ]
    }
   ],
   "source": [
    "train['label'] = train['label'].astype(int)"
   ]
  },
  {
   "cell_type": "code",
   "execution_count": 23,
   "id": "f233d50d",
   "metadata": {
    "ExecuteTime": {
     "end_time": "2022-10-07T07:02:22.657626Z",
     "start_time": "2022-10-07T07:02:22.644842Z"
    },
    "scrolled": false
   },
   "outputs": [
    {
     "name": "stdout",
     "output_type": "stream",
     "text": [
      "<class 'pandas.core.frame.DataFrame'>\n",
      "Int64Index: 133 entries, 0 to 164\n",
      "Data columns (total 3 columns):\n",
      " #   Column   Non-Null Count  Dtype \n",
      "---  ------   --------------  ----- \n",
      " 0   date     133 non-null    object\n",
      " 1   content  133 non-null    object\n",
      " 2   label    133 non-null    int64 \n",
      "dtypes: int64(1), object(2)\n",
      "memory usage: 4.2+ KB\n"
     ]
    }
   ],
   "source": [
    "train.info()"
   ]
  },
  {
   "cell_type": "code",
   "execution_count": 24,
   "id": "907a1fcd",
   "metadata": {
    "ExecuteTime": {
     "end_time": "2022-10-07T07:02:25.356198Z",
     "start_time": "2022-10-07T07:02:24.526784Z"
    },
    "scrolled": false
   },
   "outputs": [
    {
     "data": {
      "application/vnd.jupyter.widget-view+json": {
       "model_id": "19bcc0db786947248cb389c28ea3cd6d",
       "version_major": 2,
       "version_minor": 0
      },
      "text/plain": [
       "  0%|          | 0/5 [00:00<?, ?it/s]"
      ]
     },
     "metadata": {},
     "output_type": "display_data"
    },
    {
     "ename": "IndexError",
     "evalue": "positional indexers are out-of-bounds",
     "output_type": "error",
     "traceback": [
      "\u001b[0;31m---------------------------------------------------------------------------\u001b[0m",
      "\u001b[0;31mIndexError\u001b[0m                                Traceback (most recent call last)",
      "File \u001b[0;32m~/miniforge3/envs/lhs/lib/python3.8/site-packages/pandas/core/indexing.py:1482\u001b[0m, in \u001b[0;36m_iLocIndexer._get_list_axis\u001b[0;34m(self, key, axis)\u001b[0m\n\u001b[1;32m   1481\u001b[0m \u001b[38;5;28;01mtry\u001b[39;00m:\n\u001b[0;32m-> 1482\u001b[0m     \u001b[38;5;28;01mreturn\u001b[39;00m \u001b[38;5;28;43mself\u001b[39;49m\u001b[38;5;241;43m.\u001b[39;49m\u001b[43mobj\u001b[49m\u001b[38;5;241;43m.\u001b[39;49m\u001b[43m_take_with_is_copy\u001b[49m\u001b[43m(\u001b[49m\u001b[43mkey\u001b[49m\u001b[43m,\u001b[49m\u001b[43m \u001b[49m\u001b[43maxis\u001b[49m\u001b[38;5;241;43m=\u001b[39;49m\u001b[43maxis\u001b[49m\u001b[43m)\u001b[49m\n\u001b[1;32m   1483\u001b[0m \u001b[38;5;28;01mexcept\u001b[39;00m \u001b[38;5;167;01mIndexError\u001b[39;00m \u001b[38;5;28;01mas\u001b[39;00m err:\n\u001b[1;32m   1484\u001b[0m     \u001b[38;5;66;03m# re-raise with different error message\u001b[39;00m\n",
      "File \u001b[0;32m~/miniforge3/envs/lhs/lib/python3.8/site-packages/pandas/core/generic.py:3716\u001b[0m, in \u001b[0;36mNDFrame._take_with_is_copy\u001b[0;34m(self, indices, axis)\u001b[0m\n\u001b[1;32m   3709\u001b[0m \u001b[38;5;124;03m\"\"\"\u001b[39;00m\n\u001b[1;32m   3710\u001b[0m \u001b[38;5;124;03mInternal version of the `take` method that sets the `_is_copy`\u001b[39;00m\n\u001b[1;32m   3711\u001b[0m \u001b[38;5;124;03mattribute to keep track of the parent dataframe (using in indexing\u001b[39;00m\n\u001b[0;32m   (...)\u001b[0m\n\u001b[1;32m   3714\u001b[0m \u001b[38;5;124;03mSee the docstring of `take` for full explanation of the parameters.\u001b[39;00m\n\u001b[1;32m   3715\u001b[0m \u001b[38;5;124;03m\"\"\"\u001b[39;00m\n\u001b[0;32m-> 3716\u001b[0m result \u001b[38;5;241m=\u001b[39m \u001b[38;5;28;43mself\u001b[39;49m\u001b[38;5;241;43m.\u001b[39;49m\u001b[43mtake\u001b[49m\u001b[43m(\u001b[49m\u001b[43mindices\u001b[49m\u001b[38;5;241;43m=\u001b[39;49m\u001b[43mindices\u001b[49m\u001b[43m,\u001b[49m\u001b[43m \u001b[49m\u001b[43maxis\u001b[49m\u001b[38;5;241;43m=\u001b[39;49m\u001b[43maxis\u001b[49m\u001b[43m)\u001b[49m\n\u001b[1;32m   3717\u001b[0m \u001b[38;5;66;03m# Maybe set copy if we didn't actually change the index.\u001b[39;00m\n",
      "File \u001b[0;32m~/miniforge3/envs/lhs/lib/python3.8/site-packages/pandas/core/generic.py:3703\u001b[0m, in \u001b[0;36mNDFrame.take\u001b[0;34m(self, indices, axis, is_copy, **kwargs)\u001b[0m\n\u001b[1;32m   3701\u001b[0m \u001b[38;5;28mself\u001b[39m\u001b[38;5;241m.\u001b[39m_consolidate_inplace()\n\u001b[0;32m-> 3703\u001b[0m new_data \u001b[38;5;241m=\u001b[39m \u001b[38;5;28;43mself\u001b[39;49m\u001b[38;5;241;43m.\u001b[39;49m\u001b[43m_mgr\u001b[49m\u001b[38;5;241;43m.\u001b[39;49m\u001b[43mtake\u001b[49m\u001b[43m(\u001b[49m\n\u001b[1;32m   3704\u001b[0m \u001b[43m    \u001b[49m\u001b[43mindices\u001b[49m\u001b[43m,\u001b[49m\u001b[43m \u001b[49m\u001b[43maxis\u001b[49m\u001b[38;5;241;43m=\u001b[39;49m\u001b[38;5;28;43mself\u001b[39;49m\u001b[38;5;241;43m.\u001b[39;49m\u001b[43m_get_block_manager_axis\u001b[49m\u001b[43m(\u001b[49m\u001b[43maxis\u001b[49m\u001b[43m)\u001b[49m\u001b[43m,\u001b[49m\u001b[43m \u001b[49m\u001b[43mverify\u001b[49m\u001b[38;5;241;43m=\u001b[39;49m\u001b[38;5;28;43;01mTrue\u001b[39;49;00m\n\u001b[1;32m   3705\u001b[0m \u001b[43m\u001b[49m\u001b[43m)\u001b[49m\n\u001b[1;32m   3706\u001b[0m \u001b[38;5;28;01mreturn\u001b[39;00m \u001b[38;5;28mself\u001b[39m\u001b[38;5;241m.\u001b[39m_constructor(new_data)\u001b[38;5;241m.\u001b[39m__finalize__(\u001b[38;5;28mself\u001b[39m, method\u001b[38;5;241m=\u001b[39m\u001b[38;5;124m\"\u001b[39m\u001b[38;5;124mtake\u001b[39m\u001b[38;5;124m\"\u001b[39m)\n",
      "File \u001b[0;32m~/miniforge3/envs/lhs/lib/python3.8/site-packages/pandas/core/internals/managers.py:897\u001b[0m, in \u001b[0;36mBaseBlockManager.take\u001b[0;34m(self, indexer, axis, verify)\u001b[0m\n\u001b[1;32m    896\u001b[0m n \u001b[38;5;241m=\u001b[39m \u001b[38;5;28mself\u001b[39m\u001b[38;5;241m.\u001b[39mshape[axis]\n\u001b[0;32m--> 897\u001b[0m indexer \u001b[38;5;241m=\u001b[39m \u001b[43mmaybe_convert_indices\u001b[49m\u001b[43m(\u001b[49m\u001b[43mindexer\u001b[49m\u001b[43m,\u001b[49m\u001b[43m \u001b[49m\u001b[43mn\u001b[49m\u001b[43m,\u001b[49m\u001b[43m \u001b[49m\u001b[43mverify\u001b[49m\u001b[38;5;241;43m=\u001b[39;49m\u001b[43mverify\u001b[49m\u001b[43m)\u001b[49m\n\u001b[1;32m    899\u001b[0m new_labels \u001b[38;5;241m=\u001b[39m \u001b[38;5;28mself\u001b[39m\u001b[38;5;241m.\u001b[39maxes[axis]\u001b[38;5;241m.\u001b[39mtake(indexer)\n",
      "File \u001b[0;32m~/miniforge3/envs/lhs/lib/python3.8/site-packages/pandas/core/indexers/utils.py:292\u001b[0m, in \u001b[0;36mmaybe_convert_indices\u001b[0;34m(indices, n, verify)\u001b[0m\n\u001b[1;32m    291\u001b[0m     \u001b[38;5;28;01mif\u001b[39;00m mask\u001b[38;5;241m.\u001b[39many():\n\u001b[0;32m--> 292\u001b[0m         \u001b[38;5;28;01mraise\u001b[39;00m \u001b[38;5;167;01mIndexError\u001b[39;00m(\u001b[38;5;124m\"\u001b[39m\u001b[38;5;124mindices are out-of-bounds\u001b[39m\u001b[38;5;124m\"\u001b[39m)\n\u001b[1;32m    293\u001b[0m \u001b[38;5;28;01mreturn\u001b[39;00m indices\n",
      "\u001b[0;31mIndexError\u001b[0m: indices are out-of-bounds",
      "\nThe above exception was the direct cause of the following exception:\n",
      "\u001b[0;31mIndexError\u001b[0m                                Traceback (most recent call last)",
      "Input \u001b[0;32mIn [24]\u001b[0m, in \u001b[0;36m<cell line: 9>\u001b[0;34m()\u001b[0m\n\u001b[1;32m      7\u001b[0m table\u001b[38;5;241m.\u001b[39madd_column(\u001b[38;5;124m\"\u001b[39m\u001b[38;5;124mAccuracy\u001b[39m\u001b[38;5;124m\"\u001b[39m, justify\u001b[38;5;241m=\u001b[39m\u001b[38;5;124m\"\u001b[39m\u001b[38;5;124mright\u001b[39m\u001b[38;5;124m\"\u001b[39m)\n\u001b[1;32m      9\u001b[0m \u001b[38;5;28;01mfor\u001b[39;00m model_name, model \u001b[38;5;129;01min\u001b[39;00m tqdm(model_pipes, leave\u001b[38;5;241m=\u001b[39m\u001b[38;5;28;01mFalse\u001b[39;00m):\n\u001b[0;32m---> 10\u001b[0m     acc \u001b[38;5;241m=\u001b[39m \u001b[43mreturn_kfold_accuarcy\u001b[49m\u001b[43m(\u001b[49m\u001b[43mmodel\u001b[49m\u001b[43m)\u001b[49m\n\u001b[1;32m     11\u001b[0m     table\u001b[38;5;241m.\u001b[39madd_row(model_name, \u001b[38;5;124mf\u001b[39m\u001b[38;5;124m\"\u001b[39m\u001b[38;5;132;01m{\u001b[39;00macc\u001b[38;5;132;01m:\u001b[39;00m\u001b[38;5;124m0.3f\u001b[39m\u001b[38;5;132;01m}\u001b[39;00m\u001b[38;5;124m\"\u001b[39m)\n\u001b[1;32m     13\u001b[0m rich\u001b[38;5;241m.\u001b[39mprint(table)\n",
      "Input \u001b[0;32mIn [21]\u001b[0m, in \u001b[0;36mreturn_kfold_accuarcy\u001b[0;34m(model, k)\u001b[0m\n\u001b[1;32m      9\u001b[0m result \u001b[38;5;241m=\u001b[39m []\n\u001b[1;32m     10\u001b[0m \u001b[38;5;28;01mfor\u001b[39;00m train_idx, test_idx \u001b[38;5;129;01min\u001b[39;00m kfold\u001b[38;5;241m.\u001b[39msplit(train[\u001b[38;5;124m\"\u001b[39m\u001b[38;5;124mcontent\u001b[39m\u001b[38;5;124m\"\u001b[39m], train[\u001b[38;5;124m\"\u001b[39m\u001b[38;5;124mlabel\u001b[39m\u001b[38;5;124m\"\u001b[39m]):\n\u001b[0;32m---> 11\u001b[0m     train, val \u001b[38;5;241m=\u001b[39m \u001b[43mtrain\u001b[49m\u001b[38;5;241;43m.\u001b[39;49m\u001b[43miloc\u001b[49m\u001b[43m[\u001b[49m\u001b[43mtrain_idx\u001b[49m\u001b[43m]\u001b[49m, train\u001b[38;5;241m.\u001b[39miloc[test_idx]\n\u001b[1;32m     12\u001b[0m     model\u001b[38;5;241m.\u001b[39mfit(train[\u001b[38;5;124m\"\u001b[39m\u001b[38;5;124mcontent\u001b[39m\u001b[38;5;124m\"\u001b[39m], train[\u001b[38;5;124m\"\u001b[39m\u001b[38;5;124mlabel\u001b[39m\u001b[38;5;124m\"\u001b[39m])\n\u001b[1;32m     13\u001b[0m     pred \u001b[38;5;241m=\u001b[39m model\u001b[38;5;241m.\u001b[39mpredict(val[\u001b[38;5;124m\"\u001b[39m\u001b[38;5;124mcontent\u001b[39m\u001b[38;5;124m\"\u001b[39m])\n",
      "File \u001b[0;32m~/miniforge3/envs/lhs/lib/python3.8/site-packages/pandas/core/indexing.py:967\u001b[0m, in \u001b[0;36m_LocationIndexer.__getitem__\u001b[0;34m(self, key)\u001b[0m\n\u001b[1;32m    964\u001b[0m axis \u001b[38;5;241m=\u001b[39m \u001b[38;5;28mself\u001b[39m\u001b[38;5;241m.\u001b[39maxis \u001b[38;5;129;01mor\u001b[39;00m \u001b[38;5;241m0\u001b[39m\n\u001b[1;32m    966\u001b[0m maybe_callable \u001b[38;5;241m=\u001b[39m com\u001b[38;5;241m.\u001b[39mapply_if_callable(key, \u001b[38;5;28mself\u001b[39m\u001b[38;5;241m.\u001b[39mobj)\n\u001b[0;32m--> 967\u001b[0m \u001b[38;5;28;01mreturn\u001b[39;00m \u001b[38;5;28;43mself\u001b[39;49m\u001b[38;5;241;43m.\u001b[39;49m\u001b[43m_getitem_axis\u001b[49m\u001b[43m(\u001b[49m\u001b[43mmaybe_callable\u001b[49m\u001b[43m,\u001b[49m\u001b[43m \u001b[49m\u001b[43maxis\u001b[49m\u001b[38;5;241;43m=\u001b[39;49m\u001b[43maxis\u001b[49m\u001b[43m)\u001b[49m\n",
      "File \u001b[0;32m~/miniforge3/envs/lhs/lib/python3.8/site-packages/pandas/core/indexing.py:1511\u001b[0m, in \u001b[0;36m_iLocIndexer._getitem_axis\u001b[0;34m(self, key, axis)\u001b[0m\n\u001b[1;32m   1509\u001b[0m \u001b[38;5;66;03m# a list of integers\u001b[39;00m\n\u001b[1;32m   1510\u001b[0m \u001b[38;5;28;01melif\u001b[39;00m is_list_like_indexer(key):\n\u001b[0;32m-> 1511\u001b[0m     \u001b[38;5;28;01mreturn\u001b[39;00m \u001b[38;5;28;43mself\u001b[39;49m\u001b[38;5;241;43m.\u001b[39;49m\u001b[43m_get_list_axis\u001b[49m\u001b[43m(\u001b[49m\u001b[43mkey\u001b[49m\u001b[43m,\u001b[49m\u001b[43m \u001b[49m\u001b[43maxis\u001b[49m\u001b[38;5;241;43m=\u001b[39;49m\u001b[43maxis\u001b[49m\u001b[43m)\u001b[49m\n\u001b[1;32m   1513\u001b[0m \u001b[38;5;66;03m# a single integer\u001b[39;00m\n\u001b[1;32m   1514\u001b[0m \u001b[38;5;28;01melse\u001b[39;00m:\n\u001b[1;32m   1515\u001b[0m     key \u001b[38;5;241m=\u001b[39m item_from_zerodim(key)\n",
      "File \u001b[0;32m~/miniforge3/envs/lhs/lib/python3.8/site-packages/pandas/core/indexing.py:1485\u001b[0m, in \u001b[0;36m_iLocIndexer._get_list_axis\u001b[0;34m(self, key, axis)\u001b[0m\n\u001b[1;32m   1482\u001b[0m     \u001b[38;5;28;01mreturn\u001b[39;00m \u001b[38;5;28mself\u001b[39m\u001b[38;5;241m.\u001b[39mobj\u001b[38;5;241m.\u001b[39m_take_with_is_copy(key, axis\u001b[38;5;241m=\u001b[39maxis)\n\u001b[1;32m   1483\u001b[0m \u001b[38;5;28;01mexcept\u001b[39;00m \u001b[38;5;167;01mIndexError\u001b[39;00m \u001b[38;5;28;01mas\u001b[39;00m err:\n\u001b[1;32m   1484\u001b[0m     \u001b[38;5;66;03m# re-raise with different error message\u001b[39;00m\n\u001b[0;32m-> 1485\u001b[0m     \u001b[38;5;28;01mraise\u001b[39;00m \u001b[38;5;167;01mIndexError\u001b[39;00m(\u001b[38;5;124m\"\u001b[39m\u001b[38;5;124mpositional indexers are out-of-bounds\u001b[39m\u001b[38;5;124m\"\u001b[39m) \u001b[38;5;28;01mfrom\u001b[39;00m \u001b[38;5;21;01merr\u001b[39;00m\n",
      "\u001b[0;31mIndexError\u001b[0m: positional indexers are out-of-bounds"
     ]
    }
   ],
   "source": [
    "import rich  # 출력을 이쁘게 꾸며주는 라이브러리\n",
    "from tqdm.auto import tqdm  # 진행바 라이브러리\n",
    "from rich.table import Table\n",
    "\n",
    "table = Table(title=\"Model Comparison Table\")\n",
    "table.add_column(\"Model Name\", justify=\"left\", style=\"green\")\n",
    "table.add_column(\"Accuracy\", justify=\"right\")\n",
    "\n",
    "for model_name, model in tqdm(model_pipes, leave=False):\n",
    "    acc = return_kfold_accuarcy(model)\n",
    "    table.add_row(model_name, f\"{acc:0.3f}\")\n",
    "\n",
    "rich.print(table)"
   ]
  },
  {
   "cell_type": "code",
   "execution_count": null,
   "id": "a972b39c",
   "metadata": {},
   "outputs": [],
   "source": []
  },
  {
   "cell_type": "code",
   "execution_count": null,
   "id": "93c67fbe",
   "metadata": {},
   "outputs": [],
   "source": []
  },
  {
   "cell_type": "code",
   "execution_count": null,
   "id": "87cb0a50",
   "metadata": {},
   "outputs": [],
   "source": []
  },
  {
   "cell_type": "code",
   "execution_count": null,
   "id": "0c67147f",
   "metadata": {},
   "outputs": [],
   "source": []
  },
  {
   "cell_type": "code",
   "execution_count": null,
   "id": "96a39f25",
   "metadata": {
    "ExecuteTime": {
     "end_time": "2022-10-06T12:18:33.980410Z",
     "start_time": "2022-10-06T12:18:33.971354Z"
    }
   },
   "outputs": [],
   "source": [
    "models = [\n",
    "    (\"naive_bayes\", BernoulliNB()),\n",
    "    (\"SGD\", SGDClassifier(random_state=42, n_jobs=-1)),\n",
    "    (\"rfc\", RandomForestClassifier(random_state=42, n_jobs=-1)),\n",
    "    (\"SVC\", SVC(random_state=42)),\n",
    "    (\"ada\", AdaBoostClassifier(random_state=42)),\n",
    "    (\"lgbm\", LGBMClassifier(random_state=42)),\n",
    "    (\"lgbm2\", LGBMClassifier(n_estimators=80, random_state=42)),\n",
    "    (\"xgb\", XGBClassifier(random_state=42)),\n",
    "    (\"knc1\", KNeighborsClassifier()),\n",
    "    (\"knc2\", KNeighborsClassifier(n_neighbors=4))\n",
    "]\n",
    "\n",
    "model_pipes = [(name, get_pipe(model, name)) for name, model in models]"
   ]
  },
  {
   "cell_type": "code",
   "execution_count": null,
   "id": "2ac74d22",
   "metadata": {
    "ExecuteTime": {
     "end_time": "2022-10-06T12:22:33.216080Z",
     "start_time": "2022-10-06T12:22:33.141464Z"
    }
   },
   "outputs": [],
   "source": [
    "table = Table(title=\"Model Comparison Table\")\n",
    "table.add_column(\"Model Name\", justify=\"left\", style=\"green\")\n",
    "table.add_column(\"Accuracy\", justify=\"right\")\n",
    "\n",
    "for model_name, model in tqdm(model_pipes, leave=False):\n",
    "    acc = return_kfold_accuarcy(model)\n",
    "    table.add_row(model_name, f\"{acc:0.3f}\")\n",
    "\n",
    "rich.print(table)"
   ]
  },
  {
   "cell_type": "code",
   "execution_count": null,
   "id": "50bc8d06",
   "metadata": {},
   "outputs": [],
   "source": []
  }
 ],
 "metadata": {
  "kernelspec": {
   "display_name": "Python 3 (ipykernel)",
   "language": "python",
   "name": "python3"
  },
  "language_info": {
   "codemirror_mode": {
    "name": "ipython",
    "version": 3
   },
   "file_extension": ".py",
   "mimetype": "text/x-python",
   "name": "python",
   "nbconvert_exporter": "python",
   "pygments_lexer": "ipython3",
   "version": "3.8.13"
  },
  "toc": {
   "base_numbering": 1,
   "nav_menu": {},
   "number_sections": false,
   "sideBar": true,
   "skip_h1_title": false,
   "title_cell": "Table of Contents",
   "title_sidebar": "Contents",
   "toc_cell": false,
   "toc_position": {},
   "toc_section_display": true,
   "toc_window_display": false
  }
 },
 "nbformat": 4,
 "nbformat_minor": 5
}
