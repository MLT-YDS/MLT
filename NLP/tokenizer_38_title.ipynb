{
 "cells": [
  {
   "cell_type": "code",
   "execution_count": 1,
   "id": "2b654e88",
   "metadata": {
    "ExecuteTime": {
     "end_time": "2022-10-04T07:09:09.873363Z",
     "start_time": "2022-10-04T07:09:08.357754Z"
    }
   },
   "outputs": [],
   "source": [
    "import pandas as pd\n",
    "import numpy as np\n",
    "import matplotlib.pyplot as plt\n",
    "import re\n",
    "import urllib.request\n",
    "from konlpy.tag import Okt\n",
    "from tqdm import tqdm\n",
    "from tensorflow.keras.preprocessing.text import Tokenizer\n",
    "from tensorflow.keras.preprocessing.sequence import pad_sequences\n",
    "\n",
    "import sklearn"
   ]
  },
  {
   "cell_type": "markdown",
   "id": "e9e14bcd",
   "metadata": {},
   "source": [
    "## 데이터 로드 및 train test로 분할"
   ]
  },
  {
   "cell_type": "code",
   "execution_count": 2,
   "id": "91aefa3c",
   "metadata": {
    "ExecuteTime": {
     "end_time": "2022-10-04T07:09:09.878983Z",
     "start_time": "2022-10-04T07:09:09.874547Z"
    }
   },
   "outputs": [],
   "source": [
    "# df = pd.read_csv('38_Oasis.csv').drop(columns = ['Unnamed: 0']).reset_index().drop(columns=['index','link','target'])\n",
    "\n",
    "df = pd.read_csv('38_Oasis.csv').drop(columns = ['Unnamed: 0']).reset_index().drop(columns=['index','link','target'])"
   ]
  },
  {
   "cell_type": "code",
   "execution_count": 3,
   "id": "abdc8451",
   "metadata": {
    "ExecuteTime": {
     "end_time": "2022-10-04T07:09:09.885797Z",
     "start_time": "2022-10-04T07:09:09.879852Z"
    },
    "scrolled": false
   },
   "outputs": [
    {
     "data": {
      "text/html": [
       "<div>\n",
       "<style scoped>\n",
       "    .dataframe tbody tr th:only-of-type {\n",
       "        vertical-align: middle;\n",
       "    }\n",
       "\n",
       "    .dataframe tbody tr th {\n",
       "        vertical-align: top;\n",
       "    }\n",
       "\n",
       "    .dataframe thead th {\n",
       "        text-align: right;\n",
       "    }\n",
       "</style>\n",
       "<table border=\"1\" class=\"dataframe\">\n",
       "  <thead>\n",
       "    <tr style=\"text-align: right;\">\n",
       "      <th></th>\n",
       "      <th>title</th>\n",
       "      <th>date</th>\n",
       "      <th>content</th>\n",
       "    </tr>\n",
       "  </thead>\n",
       "  <tbody>\n",
       "    <tr>\n",
       "      <th>0</th>\n",
       "      <td>[제목 : [오아시스]\\n 팬데믹시대에 내마음의 표준을 바꾸는 유통 ]</td>\n",
       "      <td>2020-09-04</td>\n",
       "      <td>이번 코로나가 유통시장의 판도를 5년이상 앞당겨진 변화를 가져 왔다?매장에서 인테넷...</td>\n",
       "    </tr>\n",
       "    <tr>\n",
       "      <th>1</th>\n",
       "      <td>[제목 : [오아시스] 오아시스 매수 했습니다. ]</td>\n",
       "      <td>2021-04-17</td>\n",
       "      <td>오아이스 주식 중  pe가 보유한 물량이 시장에서 움직이는 듯 하네요.어제, 아시는...</td>\n",
       "    </tr>\n",
       "    <tr>\n",
       "      <th>2</th>\n",
       "      <td>[제목 : [오아시스] 오아시스 매수 했습니다. ]</td>\n",
       "      <td>2021-04-17</td>\n",
       "      <td>얼마에 사셨어요? 저도 관심이 있는데요.</td>\n",
       "    </tr>\n",
       "    <tr>\n",
       "      <th>3</th>\n",
       "      <td>[제목 : [오아시스]\\n 오아시스 주식이요 ]</td>\n",
       "      <td>2021-04-17</td>\n",
       "      <td>오아시스 주식을 사고싶어게시판에 올려봅니다파실분 계시면**** 팔육일팔 삼육사일로연...</td>\n",
       "    </tr>\n",
       "    <tr>\n",
       "      <th>4</th>\n",
       "      <td>[제목 : [오아시스] 70만원이면 비싼건가요 ]</td>\n",
       "      <td>2021-04-19</td>\n",
       "      <td>30주 70만원에 살려고하는데, 비싼건가요</td>\n",
       "    </tr>\n",
       "  </tbody>\n",
       "</table>\n",
       "</div>"
      ],
      "text/plain": [
       "                                     title        date  \\\n",
       "0  [제목 : [오아시스]\\n 팬데믹시대에 내마음의 표준을 바꾸는 유통 ]  2020-09-04   \n",
       "1             [제목 : [오아시스] 오아시스 매수 했습니다. ]  2021-04-17   \n",
       "2             [제목 : [오아시스] 오아시스 매수 했습니다. ]  2021-04-17   \n",
       "3               [제목 : [오아시스]\\n 오아시스 주식이요 ]  2021-04-17   \n",
       "4              [제목 : [오아시스] 70만원이면 비싼건가요 ]  2021-04-19   \n",
       "\n",
       "                                             content  \n",
       "0  이번 코로나가 유통시장의 판도를 5년이상 앞당겨진 변화를 가져 왔다?매장에서 인테넷...  \n",
       "1  오아이스 주식 중  pe가 보유한 물량이 시장에서 움직이는 듯 하네요.어제, 아시는...  \n",
       "2                             얼마에 사셨어요? 저도 관심이 있는데요.  \n",
       "3  오아시스 주식을 사고싶어게시판에 올려봅니다파실분 계시면**** 팔육일팔 삼육사일로연...  \n",
       "4                            30주 70만원에 살려고하는데, 비싼건가요  "
      ]
     },
     "execution_count": 3,
     "metadata": {},
     "output_type": "execute_result"
    }
   ],
   "source": [
    "df.head()"
   ]
  },
  {
   "cell_type": "markdown",
   "id": "47ad15d0",
   "metadata": {},
   "source": [
    "## null 값 확인"
   ]
  },
  {
   "cell_type": "code",
   "execution_count": 4,
   "id": "b4623d5d",
   "metadata": {
    "ExecuteTime": {
     "end_time": "2022-10-04T07:09:09.892085Z",
     "start_time": "2022-10-04T07:09:09.887647Z"
    }
   },
   "outputs": [
    {
     "name": "stdout",
     "output_type": "stream",
     "text": [
      "<class 'pandas.core.frame.DataFrame'>\n",
      "RangeIndex: 136 entries, 0 to 135\n",
      "Data columns (total 3 columns):\n",
      " #   Column   Non-Null Count  Dtype \n",
      "---  ------   --------------  ----- \n",
      " 0   title    136 non-null    object\n",
      " 1   date     136 non-null    object\n",
      " 2   content  133 non-null    object\n",
      "dtypes: object(3)\n",
      "memory usage: 3.3+ KB\n"
     ]
    }
   ],
   "source": [
    "df.info()"
   ]
  },
  {
   "cell_type": "code",
   "execution_count": 5,
   "id": "1ec0bed2",
   "metadata": {
    "ExecuteTime": {
     "end_time": "2022-10-04T07:09:09.896667Z",
     "start_time": "2022-10-04T07:09:09.893052Z"
    }
   },
   "outputs": [
    {
     "data": {
      "text/html": [
       "<div>\n",
       "<style scoped>\n",
       "    .dataframe tbody tr th:only-of-type {\n",
       "        vertical-align: middle;\n",
       "    }\n",
       "\n",
       "    .dataframe tbody tr th {\n",
       "        vertical-align: top;\n",
       "    }\n",
       "\n",
       "    .dataframe thead th {\n",
       "        text-align: right;\n",
       "    }\n",
       "</style>\n",
       "<table border=\"1\" class=\"dataframe\">\n",
       "  <thead>\n",
       "    <tr style=\"text-align: right;\">\n",
       "      <th></th>\n",
       "      <th>title</th>\n",
       "      <th>date</th>\n",
       "      <th>content</th>\n",
       "    </tr>\n",
       "  </thead>\n",
       "  <tbody>\n",
       "    <tr>\n",
       "      <th>31</th>\n",
       "      <td>[제목 : [오아시스] 상장노력은 하는거죠? ]</td>\n",
       "      <td>2021-07-09</td>\n",
       "      <td>NaN</td>\n",
       "    </tr>\n",
       "    <tr>\n",
       "      <th>40</th>\n",
       "      <td>[제목 : [오아시스] 조용히 갑시다~~ ]</td>\n",
       "      <td>2021-07-16</td>\n",
       "      <td>NaN</td>\n",
       "    </tr>\n",
       "    <tr>\n",
       "      <th>43</th>\n",
       "      <td>[제목 : [오아시스] 지금 잘가고 있긴 한데 스피드 좀 올려~~ ]</td>\n",
       "      <td>2021-07-29</td>\n",
       "      <td>NaN</td>\n",
       "    </tr>\n",
       "  </tbody>\n",
       "</table>\n",
       "</div>"
      ],
      "text/plain": [
       "                                     title        date content\n",
       "31              [제목 : [오아시스] 상장노력은 하는거죠? ]  2021-07-09     NaN\n",
       "40                [제목 : [오아시스] 조용히 갑시다~~ ]  2021-07-16     NaN\n",
       "43  [제목 : [오아시스] 지금 잘가고 있긴 한데 스피드 좀 올려~~ ]  2021-07-29     NaN"
      ]
     },
     "execution_count": 5,
     "metadata": {},
     "output_type": "execute_result"
    }
   ],
   "source": [
    "# NULL 값 있는 행 확인\n",
    "df[df['content'].isnull()]"
   ]
  },
  {
   "cell_type": "code",
   "execution_count": 6,
   "id": "1f73fcc5",
   "metadata": {
    "ExecuteTime": {
     "end_time": "2022-10-04T07:09:09.899984Z",
     "start_time": "2022-10-04T07:09:09.897550Z"
    }
   },
   "outputs": [],
   "source": [
    "# 공백으로 NULL 값 채우기\n",
    "df = df.fillna('')"
   ]
  },
  {
   "cell_type": "code",
   "execution_count": 7,
   "id": "bc10afa7",
   "metadata": {
    "ExecuteTime": {
     "end_time": "2022-10-04T07:09:09.904675Z",
     "start_time": "2022-10-04T07:09:09.900808Z"
    }
   },
   "outputs": [
    {
     "name": "stdout",
     "output_type": "stream",
     "text": [
      "<class 'pandas.core.frame.DataFrame'>\n",
      "RangeIndex: 136 entries, 0 to 135\n",
      "Data columns (total 3 columns):\n",
      " #   Column   Non-Null Count  Dtype \n",
      "---  ------   --------------  ----- \n",
      " 0   title    136 non-null    object\n",
      " 1   date     136 non-null    object\n",
      " 2   content  136 non-null    object\n",
      "dtypes: object(3)\n",
      "memory usage: 3.3+ KB\n"
     ]
    }
   ],
   "source": [
    "df.info()"
   ]
  },
  {
   "cell_type": "markdown",
   "id": "ad82a263",
   "metadata": {},
   "source": [
    "내용에 빈 값이 있지만 title에서 추출할 것이 있지 않을까 해서 공백으로 채워줌"
   ]
  },
  {
   "cell_type": "markdown",
   "id": "78977088",
   "metadata": {},
   "source": [
    "## index 날짜로 바꿔주기"
   ]
  },
  {
   "cell_type": "code",
   "execution_count": 8,
   "id": "43191bd9",
   "metadata": {
    "ExecuteTime": {
     "end_time": "2022-10-04T07:09:09.910454Z",
     "start_time": "2022-10-04T07:09:09.905645Z"
    }
   },
   "outputs": [
    {
     "data": {
      "text/html": [
       "<div>\n",
       "<style scoped>\n",
       "    .dataframe tbody tr th:only-of-type {\n",
       "        vertical-align: middle;\n",
       "    }\n",
       "\n",
       "    .dataframe tbody tr th {\n",
       "        vertical-align: top;\n",
       "    }\n",
       "\n",
       "    .dataframe thead th {\n",
       "        text-align: right;\n",
       "    }\n",
       "</style>\n",
       "<table border=\"1\" class=\"dataframe\">\n",
       "  <thead>\n",
       "    <tr style=\"text-align: right;\">\n",
       "      <th></th>\n",
       "      <th>title</th>\n",
       "      <th>content</th>\n",
       "    </tr>\n",
       "    <tr>\n",
       "      <th>date</th>\n",
       "      <th></th>\n",
       "      <th></th>\n",
       "    </tr>\n",
       "  </thead>\n",
       "  <tbody>\n",
       "    <tr>\n",
       "      <th>2020-09-04</th>\n",
       "      <td>[제목 : [오아시스]\\n 팬데믹시대에 내마음의 표준을 바꾸는 유통 ]</td>\n",
       "      <td>이번 코로나가 유통시장의 판도를 5년이상 앞당겨진 변화를 가져 왔다?매장에서 인테넷...</td>\n",
       "    </tr>\n",
       "    <tr>\n",
       "      <th>2021-04-17</th>\n",
       "      <td>[제목 : [오아시스] 오아시스 매수 했습니다. ]</td>\n",
       "      <td>오아이스 주식 중  pe가 보유한 물량이 시장에서 움직이는 듯 하네요.어제, 아시는...</td>\n",
       "    </tr>\n",
       "    <tr>\n",
       "      <th>2021-04-17</th>\n",
       "      <td>[제목 : [오아시스] 오아시스 매수 했습니다. ]</td>\n",
       "      <td>얼마에 사셨어요? 저도 관심이 있는데요.</td>\n",
       "    </tr>\n",
       "    <tr>\n",
       "      <th>2021-04-17</th>\n",
       "      <td>[제목 : [오아시스]\\n 오아시스 주식이요 ]</td>\n",
       "      <td>오아시스 주식을 사고싶어게시판에 올려봅니다파실분 계시면**** 팔육일팔 삼육사일로연...</td>\n",
       "    </tr>\n",
       "    <tr>\n",
       "      <th>2021-04-19</th>\n",
       "      <td>[제목 : [오아시스] 70만원이면 비싼건가요 ]</td>\n",
       "      <td>30주 70만원에 살려고하는데, 비싼건가요</td>\n",
       "    </tr>\n",
       "    <tr>\n",
       "      <th>...</th>\n",
       "      <td>...</td>\n",
       "      <td>...</td>\n",
       "    </tr>\n",
       "    <tr>\n",
       "      <th>2022-08-31</th>\n",
       "      <td>[제목 : [오아시스] 우크라이나와 러시아 ]</td>\n",
       "      <td>덩치 큰 러시아가 누구다 다 이길거라고 했지만 결과는? 길고 짧은건 대봐야 안다고우...</td>\n",
       "    </tr>\n",
       "    <tr>\n",
       "      <th>2022-08-31</th>\n",
       "      <td>[제목 : [오아시스] 오늘 날짜(2022.08.31) 더벨 기사,  오아시스 기업...</td>\n",
       "      <td>코스닥 상장을 추진 중인 신선식품 새벽배송 기업 오아시스가 기업가치 목표를 최대 2...</td>\n",
       "    </tr>\n",
       "    <tr>\n",
       "      <th>2022-09-02</th>\n",
       "      <td>[제목 : [오아시스] 이 시기에 오히려 주목해야 할 기업 ]</td>\n",
       "      <td>연일 금리가 급등하고 있다. 매출만을 키우기 위해 무한확장을 거듭했던 스타트업과 유...</td>\n",
       "    </tr>\n",
       "    <tr>\n",
       "      <th>2022-09-05</th>\n",
       "      <td>[제목 : [오아시스] 계획된 적자 ]</td>\n",
       "      <td>한때 VC와 스타트업들이 힘을 합쳐 매출액을 늘려 시장 주도권을 가져가기위한 전략으...</td>\n",
       "    </tr>\n",
       "    <tr>\n",
       "      <th>2022-09-08</th>\n",
       "      <td>[제목 : [오아시스] 위기에 재조명받는 ‘오아시스·미트박스’…흑자비결은? ]</td>\n",
       "      <td>오아시스마켓은 올해 상반기 전년 대비 21% 증가한 2024억원 매출액과 171% ...</td>\n",
       "    </tr>\n",
       "  </tbody>\n",
       "</table>\n",
       "<p>136 rows × 2 columns</p>\n",
       "</div>"
      ],
      "text/plain": [
       "                                                        title  \\\n",
       "date                                                            \n",
       "2020-09-04            [제목 : [오아시스]\\n 팬데믹시대에 내마음의 표준을 바꾸는 유통 ]   \n",
       "2021-04-17                       [제목 : [오아시스] 오아시스 매수 했습니다. ]   \n",
       "2021-04-17                       [제목 : [오아시스] 오아시스 매수 했습니다. ]   \n",
       "2021-04-17                         [제목 : [오아시스]\\n 오아시스 주식이요 ]   \n",
       "2021-04-19                        [제목 : [오아시스] 70만원이면 비싼건가요 ]   \n",
       "...                                                       ...   \n",
       "2022-08-31                          [제목 : [오아시스] 우크라이나와 러시아 ]   \n",
       "2022-08-31  [제목 : [오아시스] 오늘 날짜(2022.08.31) 더벨 기사,  오아시스 기업...   \n",
       "2022-09-02                 [제목 : [오아시스] 이 시기에 오히려 주목해야 할 기업 ]   \n",
       "2022-09-05                              [제목 : [오아시스] 계획된 적자 ]   \n",
       "2022-09-08        [제목 : [오아시스] 위기에 재조명받는 ‘오아시스·미트박스’…흑자비결은? ]   \n",
       "\n",
       "                                                      content  \n",
       "date                                                           \n",
       "2020-09-04  이번 코로나가 유통시장의 판도를 5년이상 앞당겨진 변화를 가져 왔다?매장에서 인테넷...  \n",
       "2021-04-17  오아이스 주식 중  pe가 보유한 물량이 시장에서 움직이는 듯 하네요.어제, 아시는...  \n",
       "2021-04-17                             얼마에 사셨어요? 저도 관심이 있는데요.  \n",
       "2021-04-17  오아시스 주식을 사고싶어게시판에 올려봅니다파실분 계시면**** 팔육일팔 삼육사일로연...  \n",
       "2021-04-19                            30주 70만원에 살려고하는데, 비싼건가요  \n",
       "...                                                       ...  \n",
       "2022-08-31  덩치 큰 러시아가 누구다 다 이길거라고 했지만 결과는? 길고 짧은건 대봐야 안다고우...  \n",
       "2022-08-31  코스닥 상장을 추진 중인 신선식품 새벽배송 기업 오아시스가 기업가치 목표를 최대 2...  \n",
       "2022-09-02  연일 금리가 급등하고 있다. 매출만을 키우기 위해 무한확장을 거듭했던 스타트업과 유...  \n",
       "2022-09-05  한때 VC와 스타트업들이 힘을 합쳐 매출액을 늘려 시장 주도권을 가져가기위한 전략으...  \n",
       "2022-09-08  오아시스마켓은 올해 상반기 전년 대비 21% 증가한 2024억원 매출액과 171% ...  \n",
       "\n",
       "[136 rows x 2 columns]"
      ]
     },
     "execution_count": 8,
     "metadata": {},
     "output_type": "execute_result"
    }
   ],
   "source": [
    "# date를 오름차순 정렬\n",
    "df.date = df.date.sort_index(ascending=True)\n",
    "# index로 설정\n",
    "df = df.set_index('date')\n",
    "df"
   ]
  },
  {
   "cell_type": "markdown",
   "id": "fe451321",
   "metadata": {},
   "source": [
    "## 특수문자 제거 정규표현식"
   ]
  },
  {
   "cell_type": "code",
   "execution_count": 9,
   "id": "d39a0708",
   "metadata": {
    "ExecuteTime": {
     "end_time": "2022-10-04T07:09:09.915885Z",
     "start_time": "2022-10-04T07:09:09.911444Z"
    }
   },
   "outputs": [
    {
     "name": "stderr",
     "output_type": "stream",
     "text": [
      "/var/folders/1d/lfkpl6ps02xgh0rdprtbmgvw0000gn/T/ipykernel_1022/1046961940.py:1: FutureWarning: The default value of regex will change from True to False in a future version.\n",
      "  df['title'] = df['title'].str.replace(r\"[^\\uAC00-\\uD7A30-9a-zA-Z\\s]\",'')\n",
      "/var/folders/1d/lfkpl6ps02xgh0rdprtbmgvw0000gn/T/ipykernel_1022/1046961940.py:2: FutureWarning: The default value of regex will change from True to False in a future version.\n",
      "  df['content'] = df['content'].str.replace(r\"[^\\uAC00-\\uD7A30-9a-zA-Z\\s]\",'')\n"
     ]
    }
   ],
   "source": [
    "df['title'] = df['title'].str.replace(r\"[^\\uAC00-\\uD7A30-9a-zA-Z\\s]\",'')\n",
    "df['content'] = df['content'].str.replace(r\"[^\\uAC00-\\uD7A30-9a-zA-Z\\s]\",'')"
   ]
  },
  {
   "cell_type": "code",
   "execution_count": 10,
   "id": "6dae1f7b",
   "metadata": {
    "ExecuteTime": {
     "end_time": "2022-10-04T07:09:09.922405Z",
     "start_time": "2022-10-04T07:09:09.918389Z"
    }
   },
   "outputs": [
    {
     "data": {
      "text/html": [
       "<div>\n",
       "<style scoped>\n",
       "    .dataframe tbody tr th:only-of-type {\n",
       "        vertical-align: middle;\n",
       "    }\n",
       "\n",
       "    .dataframe tbody tr th {\n",
       "        vertical-align: top;\n",
       "    }\n",
       "\n",
       "    .dataframe thead th {\n",
       "        text-align: right;\n",
       "    }\n",
       "</style>\n",
       "<table border=\"1\" class=\"dataframe\">\n",
       "  <thead>\n",
       "    <tr style=\"text-align: right;\">\n",
       "      <th></th>\n",
       "      <th>title</th>\n",
       "      <th>content</th>\n",
       "    </tr>\n",
       "    <tr>\n",
       "      <th>date</th>\n",
       "      <th></th>\n",
       "      <th></th>\n",
       "    </tr>\n",
       "  </thead>\n",
       "  <tbody>\n",
       "    <tr>\n",
       "      <th>2020-09-04</th>\n",
       "      <td>제목  오아시스\\n 팬데믹시대에 내마음의 표준을 바꾸는 유통</td>\n",
       "      <td>이번 코로나가 유통시장의 판도를 5년이상 앞당겨진 변화를 가져 왔다매장에서 인테넷의...</td>\n",
       "    </tr>\n",
       "    <tr>\n",
       "      <th>2021-04-17</th>\n",
       "      <td>제목  오아시스 오아시스 매수 했습니다</td>\n",
       "      <td>오아이스 주식 중  pe가 보유한 물량이 시장에서 움직이는 듯 하네요어제 아시는 분...</td>\n",
       "    </tr>\n",
       "    <tr>\n",
       "      <th>2021-04-17</th>\n",
       "      <td>제목  오아시스 오아시스 매수 했습니다</td>\n",
       "      <td>얼마에 사셨어요 저도 관심이 있는데요</td>\n",
       "    </tr>\n",
       "    <tr>\n",
       "      <th>2021-04-17</th>\n",
       "      <td>제목  오아시스\\n 오아시스 주식이요</td>\n",
       "      <td>오아시스 주식을 사고싶어게시판에 올려봅니다파실분 계시면 팔육일팔 삼육사일로연락주세요</td>\n",
       "    </tr>\n",
       "    <tr>\n",
       "      <th>2021-04-19</th>\n",
       "      <td>제목  오아시스 70만원이면 비싼건가요</td>\n",
       "      <td>30주 70만원에 살려고하는데 비싼건가요</td>\n",
       "    </tr>\n",
       "    <tr>\n",
       "      <th>...</th>\n",
       "      <td>...</td>\n",
       "      <td>...</td>\n",
       "    </tr>\n",
       "    <tr>\n",
       "      <th>2022-08-31</th>\n",
       "      <td>제목  오아시스 우크라이나와 러시아</td>\n",
       "      <td>덩치 큰 러시아가 누구다 다 이길거라고 했지만 결과는 길고 짧은건 대봐야 안다고우크...</td>\n",
       "    </tr>\n",
       "    <tr>\n",
       "      <th>2022-08-31</th>\n",
       "      <td>제목  오아시스 오늘 날짜20220831 더벨 기사  오아시스 기업가치 최대 2조 제시</td>\n",
       "      <td>코스닥 상장을 추진 중인 신선식품 새벽배송 기업 오아시스가 기업가치 목표를 최대 2...</td>\n",
       "    </tr>\n",
       "    <tr>\n",
       "      <th>2022-09-02</th>\n",
       "      <td>제목  오아시스 이 시기에 오히려 주목해야 할 기업</td>\n",
       "      <td>연일 금리가 급등하고 있다 매출만을 키우기 위해 무한확장을 거듭했던 스타트업과 유니...</td>\n",
       "    </tr>\n",
       "    <tr>\n",
       "      <th>2022-09-05</th>\n",
       "      <td>제목  오아시스 계획된 적자</td>\n",
       "      <td>한때 VC와 스타트업들이 힘을 합쳐 매출액을 늘려 시장 주도권을 가져가기위한 전략으...</td>\n",
       "    </tr>\n",
       "    <tr>\n",
       "      <th>2022-09-08</th>\n",
       "      <td>제목  오아시스 위기에 재조명받는 오아시스미트박스흑자비결은</td>\n",
       "      <td>오아시스마켓은 올해 상반기 전년 대비 21 증가한 2024억원 매출액과 171 증가...</td>\n",
       "    </tr>\n",
       "  </tbody>\n",
       "</table>\n",
       "<p>136 rows × 2 columns</p>\n",
       "</div>"
      ],
      "text/plain": [
       "                                                        title  \\\n",
       "date                                                            \n",
       "2020-09-04                 제목  오아시스\\n 팬데믹시대에 내마음의 표준을 바꾸는 유통    \n",
       "2021-04-17                             제목  오아시스 오아시스 매수 했습니다    \n",
       "2021-04-17                             제목  오아시스 오아시스 매수 했습니다    \n",
       "2021-04-17                              제목  오아시스\\n 오아시스 주식이요    \n",
       "2021-04-19                             제목  오아시스 70만원이면 비싼건가요    \n",
       "...                                                       ...   \n",
       "2022-08-31                               제목  오아시스 우크라이나와 러시아    \n",
       "2022-08-31  제목  오아시스 오늘 날짜20220831 더벨 기사  오아시스 기업가치 최대 2조 제시    \n",
       "2022-09-02                      제목  오아시스 이 시기에 오히려 주목해야 할 기업    \n",
       "2022-09-05                                   제목  오아시스 계획된 적자    \n",
       "2022-09-08                  제목  오아시스 위기에 재조명받는 오아시스미트박스흑자비결은    \n",
       "\n",
       "                                                      content  \n",
       "date                                                           \n",
       "2020-09-04  이번 코로나가 유통시장의 판도를 5년이상 앞당겨진 변화를 가져 왔다매장에서 인테넷의...  \n",
       "2021-04-17  오아이스 주식 중  pe가 보유한 물량이 시장에서 움직이는 듯 하네요어제 아시는 분...  \n",
       "2021-04-17                               얼마에 사셨어요 저도 관심이 있는데요  \n",
       "2021-04-17     오아시스 주식을 사고싶어게시판에 올려봅니다파실분 계시면 팔육일팔 삼육사일로연락주세요  \n",
       "2021-04-19                             30주 70만원에 살려고하는데 비싼건가요  \n",
       "...                                                       ...  \n",
       "2022-08-31  덩치 큰 러시아가 누구다 다 이길거라고 했지만 결과는 길고 짧은건 대봐야 안다고우크...  \n",
       "2022-08-31  코스닥 상장을 추진 중인 신선식품 새벽배송 기업 오아시스가 기업가치 목표를 최대 2...  \n",
       "2022-09-02  연일 금리가 급등하고 있다 매출만을 키우기 위해 무한확장을 거듭했던 스타트업과 유니...  \n",
       "2022-09-05  한때 VC와 스타트업들이 힘을 합쳐 매출액을 늘려 시장 주도권을 가져가기위한 전략으...  \n",
       "2022-09-08  오아시스마켓은 올해 상반기 전년 대비 21 증가한 2024억원 매출액과 171 증가...  \n",
       "\n",
       "[136 rows x 2 columns]"
      ]
     },
     "execution_count": 10,
     "metadata": {},
     "output_type": "execute_result"
    }
   ],
   "source": [
    "df"
   ]
  },
  {
   "cell_type": "markdown",
   "id": "b7309413",
   "metadata": {},
   "source": [
    "## 토큰화"
   ]
  },
  {
   "cell_type": "code",
   "execution_count": 11,
   "id": "f36bf57a",
   "metadata": {
    "ExecuteTime": {
     "end_time": "2022-10-04T07:09:12.107715Z",
     "start_time": "2022-10-04T07:09:11.759581Z"
    }
   },
   "outputs": [],
   "source": [
    "okt = Okt()\n"
   ]
  },
  {
   "cell_type": "markdown",
   "id": "2c2f7921",
   "metadata": {},
   "source": [
    "### 추출했던 word_list에서 불용어들만 정리"
   ]
  },
  {
   "cell_type": "code",
   "execution_count": null,
   "id": "bdfaa96d",
   "metadata": {
    "ExecuteTime": {
     "end_time": "2022-10-03T10:39:36.822344Z",
     "start_time": "2022-10-03T10:39:36.817343Z"
    }
   },
   "outputs": [],
   "source": [
    "import csv"
   ]
  },
  {
   "cell_type": "markdown",
   "id": "f300befd",
   "metadata": {
    "ExecuteTime": {
     "end_time": "2022-09-30T07:43:12.251766Z",
     "start_time": "2022-09-30T07:43:12.042861Z"
    }
   },
   "source": [
    "with open(\"stopword.csv\", 'w') as file:\n",
    "    writer = csv.writer(file)\n",
    "    writer.writerow(word_list)"
   ]
  },
  {
   "cell_type": "code",
   "execution_count": null,
   "id": "37eb259a",
   "metadata": {
    "ExecuteTime": {
     "end_time": "2022-10-03T11:10:24.359871Z",
     "start_time": "2022-10-03T11:10:24.354884Z"
    }
   },
   "outputs": [],
   "source": [
    "with open('stopword_add_title.csv', newline='', encoding='utf-8') as f:\n",
    "    reader = csv.reader(f)\n",
    "    data = list(reader)"
   ]
  },
  {
   "cell_type": "code",
   "execution_count": null,
   "id": "c8cc82fa",
   "metadata": {
    "ExecuteTime": {
     "end_time": "2022-10-03T11:10:24.817872Z",
     "start_time": "2022-10-03T11:10:24.810871Z"
    }
   },
   "outputs": [],
   "source": [
    "data"
   ]
  },
  {
   "cell_type": "code",
   "execution_count": null,
   "id": "245ddbb4",
   "metadata": {
    "ExecuteTime": {
     "end_time": "2022-10-03T11:10:26.026369Z",
     "start_time": "2022-10-03T11:10:26.019370Z"
    },
    "scrolled": true
   },
   "outputs": [],
   "source": [
    "stopword_add = sum(data, [])\n",
    "stopword_add"
   ]
  },
  {
   "cell_type": "code",
   "execution_count": null,
   "id": "ae9480b0",
   "metadata": {
    "ExecuteTime": {
     "end_time": "2022-10-03T11:10:27.138894Z",
     "start_time": "2022-10-03T11:10:27.130872Z"
    },
    "scrolled": true
   },
   "outputs": [],
   "source": [
    "# 불용어 처리 \n",
    "\n",
    "stopwords = stopword_add + ['의','가','이','은','들','는','좀','잘','걍','과','도','를','으로','자','에','와','한','하다','\\n','\\n ', '제목']\n",
    "stopwords"
   ]
  },
  {
   "cell_type": "code",
   "execution_count": null,
   "id": "223a6798",
   "metadata": {
    "ExecuteTime": {
     "end_time": "2022-10-03T11:10:28.362872Z",
     "start_time": "2022-10-03T11:10:28.210872Z"
    },
    "scrolled": true
   },
   "outputs": [],
   "source": [
    "title = []\n",
    "for sentence in tqdm(df['title']):\n",
    "    tokenized_sentence = okt.morphs(sentence, stem=True) # 토큰화\n",
    "    stopwords_removed_title = [word for word in tokenized_sentence if not word in stopwords] # 불용어 제거\n",
    "    title.append(stopwords_removed_title)"
   ]
  },
  {
   "cell_type": "code",
   "execution_count": null,
   "id": "a7cd1064",
   "metadata": {
    "ExecuteTime": {
     "end_time": "2022-10-03T11:10:29.062372Z",
     "start_time": "2022-10-03T11:10:29.058870Z"
    },
    "scrolled": true
   },
   "outputs": [],
   "source": [
    "print(len(title))"
   ]
  },
  {
   "cell_type": "code",
   "execution_count": null,
   "id": "bf9a7af2",
   "metadata": {
    "ExecuteTime": {
     "end_time": "2022-10-03T11:10:29.261872Z",
     "start_time": "2022-10-03T11:10:29.258371Z"
    }
   },
   "outputs": [],
   "source": [
    "from collections import Counter"
   ]
  },
  {
   "cell_type": "code",
   "execution_count": null,
   "id": "3afc992c",
   "metadata": {
    "ExecuteTime": {
     "end_time": "2022-10-03T11:10:29.784871Z",
     "start_time": "2022-10-03T11:10:29.778875Z"
    },
    "scrolled": true
   },
   "outputs": [],
   "source": [
    "# 한 날짜? 한 행당 횟수 추출\n",
    "\n",
    "for i in range(136):\n",
    "    vocab = Counter(title[i])\n",
    "    print(vocab)\n"
   ]
  },
  {
   "cell_type": "code",
   "execution_count": null,
   "id": "6ad3cf24",
   "metadata": {
    "ExecuteTime": {
     "end_time": "2022-10-03T11:10:32.887874Z",
     "start_time": "2022-10-03T11:10:32.882383Z"
    },
    "scrolled": false
   },
   "outputs": [],
   "source": [
    "# 전체 중 빈도수 출력\n",
    "\n",
    "all_word_list_title = sum(title, [])\n",
    "vocab = Counter(all_word_list_title)\n",
    "print(vocab)"
   ]
  },
  {
   "cell_type": "code",
   "execution_count": null,
   "id": "644b7874",
   "metadata": {
    "ExecuteTime": {
     "end_time": "2022-10-03T11:10:35.019372Z",
     "start_time": "2022-10-03T11:10:35.010370Z"
    }
   },
   "outputs": [],
   "source": [
    "word_list = list(vocab.keys())\n",
    "word_list"
   ]
  },
  {
   "cell_type": "code",
   "execution_count": null,
   "id": "21bb249c",
   "metadata": {
    "ExecuteTime": {
     "end_time": "2022-10-03T11:10:35.211901Z",
     "start_time": "2022-10-03T11:10:35.202370Z"
    }
   },
   "outputs": [],
   "source": [
    "word_rank = list(vocab.values())\n",
    "word_rank"
   ]
  },
  {
   "cell_type": "code",
   "execution_count": null,
   "id": "926e78c5",
   "metadata": {
    "ExecuteTime": {
     "end_time": "2022-10-03T11:10:36.438378Z",
     "start_time": "2022-10-03T11:10:36.427870Z"
    }
   },
   "outputs": [],
   "source": [
    "data = {'word': word_list, 'count' : word_rank}\n",
    "word_data = pd.DataFrame.from_dict(data)\n",
    "word_data"
   ]
  },
  {
   "cell_type": "code",
   "execution_count": null,
   "id": "87ad75e4",
   "metadata": {
    "ExecuteTime": {
     "end_time": "2022-10-03T11:10:37.919871Z",
     "start_time": "2022-10-03T11:10:37.913869Z"
    }
   },
   "outputs": [],
   "source": [
    "word_data = word_data.sort_values(by=['count'], ascending=False).reset_index().drop(columns=['index'])"
   ]
  },
  {
   "cell_type": "code",
   "execution_count": null,
   "id": "72fd2b9b",
   "metadata": {
    "ExecuteTime": {
     "end_time": "2022-10-03T10:46:16.316370Z",
     "start_time": "2022-10-03T10:46:16.282370Z"
    },
    "scrolled": true
   },
   "outputs": [],
   "source": [
    "for i in range(26):\n",
    "    print(word_data[ i*10 : (i+1)*10 ])"
   ]
  },
  {
   "cell_type": "markdown",
   "id": "cd2295d7",
   "metadata": {
    "ExecuteTime": {
     "end_time": "2022-09-30T06:10:27.838054Z",
     "start_time": "2022-09-30T06:10:27.827404Z"
    }
   },
   "source": [
    "word_data.to_csv('sentimental(38).csv')"
   ]
  },
  {
   "cell_type": "code",
   "execution_count": null,
   "id": "5184c373",
   "metadata": {
    "ExecuteTime": {
     "end_time": "2022-10-03T11:10:40.507870Z",
     "start_time": "2022-10-03T11:10:40.498871Z"
    }
   },
   "outputs": [],
   "source": [
    "word_data"
   ]
  },
  {
   "cell_type": "markdown",
   "id": "1770e820",
   "metadata": {
    "ExecuteTime": {
     "end_time": "2022-09-30T07:46:17.993905Z",
     "start_time": "2022-09-30T07:46:17.983487Z"
    }
   },
   "source": [
    "sentimental = pd.read_csv('sentimental(38).csv').drop(columns=['Unnamed: 0'])\n",
    "sentimental = sentimental.fillna('-')"
   ]
  },
  {
   "cell_type": "markdown",
   "id": "cb1babb5",
   "metadata": {
    "ExecuteTime": {
     "end_time": "2022-09-30T07:46:22.868596Z",
     "start_time": "2022-09-30T07:46:22.855003Z"
    }
   },
   "source": [
    "sentimental"
   ]
  },
  {
   "cell_type": "markdown",
   "id": "f55a1f2b",
   "metadata": {
    "ExecuteTime": {
     "end_time": "2022-09-30T07:46:58.078712Z",
     "start_time": "2022-09-30T07:46:58.070430Z"
    }
   },
   "source": [
    "sentimental.to_csv('sentimental(38).csv')"
   ]
  },
  {
   "cell_type": "code",
   "execution_count": null,
   "id": "120269ce",
   "metadata": {
    "ExecuteTime": {
     "end_time": "2022-10-03T11:10:47.608870Z",
     "start_time": "2022-10-03T11:10:47.594912Z"
    },
    "scrolled": false
   },
   "outputs": [],
   "source": [
    "community_title_label = pd.read_csv('sentimental(38)_label_title.csv').drop(columns=['Unnamed: 0'])\n",
    "community_title_label"
   ]
  },
  {
   "cell_type": "markdown",
   "id": "b50af4d1",
   "metadata": {},
   "source": [
    "### labeling 한 거에서 추가 불용어 처리"
   ]
  },
  {
   "cell_type": "code",
   "execution_count": null,
   "id": "aa3434b8",
   "metadata": {
    "ExecuteTime": {
     "end_time": "2022-10-03T11:12:00.685894Z",
     "start_time": "2022-10-03T11:12:00.674370Z"
    }
   },
   "outputs": [],
   "source": [
    "community_title_label = community_title_label[~community_title_label['label'].str.contains('--')]\n",
    "community_title_label"
   ]
  },
  {
   "cell_type": "code",
   "execution_count": null,
   "id": "42b6713e",
   "metadata": {
    "ExecuteTime": {
     "end_time": "2022-10-03T11:23:32.493525Z",
     "start_time": "2022-10-03T11:23:32.483992Z"
    }
   },
   "outputs": [],
   "source": [
    "community_title_label.to_csv('community_title_label.csv')"
   ]
  },
  {
   "cell_type": "code",
   "execution_count": null,
   "id": "12ade03b",
   "metadata": {},
   "outputs": [],
   "source": [
    "data['label'].value_counts().plot(kind = 'bar')"
   ]
  }
 ],
 "metadata": {
  "kernelspec": {
   "display_name": "Python 3 (ipykernel)",
   "language": "python",
   "name": "python3"
  },
  "language_info": {
   "codemirror_mode": {
    "name": "ipython",
    "version": 3
   },
   "file_extension": ".py",
   "mimetype": "text/x-python",
   "name": "python",
   "nbconvert_exporter": "python",
   "pygments_lexer": "ipython3",
   "version": "3.8.13"
  },
  "toc": {
   "base_numbering": 1,
   "nav_menu": {},
   "number_sections": false,
   "sideBar": true,
   "skip_h1_title": false,
   "title_cell": "Table of Contents",
   "title_sidebar": "Contents",
   "toc_cell": false,
   "toc_position": {},
   "toc_section_display": true,
   "toc_window_display": false
  }
 },
 "nbformat": 4,
 "nbformat_minor": 5
}
