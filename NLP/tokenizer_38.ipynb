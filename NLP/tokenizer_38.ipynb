{
 "cells": [
  {
   "cell_type": "code",
   "execution_count": 1,
   "id": "2b654e88",
   "metadata": {
    "ExecuteTime": {
     "end_time": "2022-09-30T07:43:11.643218Z",
     "start_time": "2022-09-30T07:43:10.066181Z"
    }
   },
   "outputs": [],
   "source": [
    "import pandas as pd\n",
    "import numpy as np\n",
    "import matplotlib.pyplot as plt\n",
    "import re\n",
    "import urllib.request\n",
    "from konlpy.tag import Okt\n",
    "from tqdm import tqdm\n",
    "from tensorflow.keras.preprocessing.text import Tokenizer\n",
    "from tensorflow.keras.preprocessing.sequence import pad_sequences\n",
    "\n",
    "import sklearn"
   ]
  },
  {
   "cell_type": "markdown",
   "id": "e9e14bcd",
   "metadata": {},
   "source": [
    "## 데이터 로드 및 train test로 분할"
   ]
  },
  {
   "cell_type": "code",
   "execution_count": 2,
   "id": "91aefa3c",
   "metadata": {
    "ExecuteTime": {
     "end_time": "2022-09-30T07:43:11.648723Z",
     "start_time": "2022-09-30T07:43:11.644445Z"
    }
   },
   "outputs": [],
   "source": [
    "df = pd.read_csv('38_Oasis.csv').drop(columns = ['Unnamed: 0']).reset_index().drop(columns=['index','link','target'])\n",
    "\n"
   ]
  },
  {
   "cell_type": "code",
   "execution_count": 3,
   "id": "abdc8451",
   "metadata": {
    "ExecuteTime": {
     "end_time": "2022-09-30T07:43:11.655823Z",
     "start_time": "2022-09-30T07:43:11.649608Z"
    },
    "scrolled": false
   },
   "outputs": [
    {
     "data": {
      "text/html": [
       "<div>\n",
       "<style scoped>\n",
       "    .dataframe tbody tr th:only-of-type {\n",
       "        vertical-align: middle;\n",
       "    }\n",
       "\n",
       "    .dataframe tbody tr th {\n",
       "        vertical-align: top;\n",
       "    }\n",
       "\n",
       "    .dataframe thead th {\n",
       "        text-align: right;\n",
       "    }\n",
       "</style>\n",
       "<table border=\"1\" class=\"dataframe\">\n",
       "  <thead>\n",
       "    <tr style=\"text-align: right;\">\n",
       "      <th></th>\n",
       "      <th>title</th>\n",
       "      <th>date</th>\n",
       "      <th>content</th>\n",
       "    </tr>\n",
       "  </thead>\n",
       "  <tbody>\n",
       "    <tr>\n",
       "      <th>0</th>\n",
       "      <td>[제목 : [오아시스]\\n 팬데믹시대에 내마음의 표준을 바꾸는 유통 ]</td>\n",
       "      <td>2020-09-04</td>\n",
       "      <td>이번 코로나가 유통시장의 판도를 5년이상 앞당겨진 변화를 가져 왔다?매장에서 인테넷...</td>\n",
       "    </tr>\n",
       "    <tr>\n",
       "      <th>1</th>\n",
       "      <td>[제목 : [오아시스] 오아시스 매수 했습니다. ]</td>\n",
       "      <td>2021-04-17</td>\n",
       "      <td>오아이스 주식 중  pe가 보유한 물량이 시장에서 움직이는 듯 하네요.어제, 아시는...</td>\n",
       "    </tr>\n",
       "    <tr>\n",
       "      <th>2</th>\n",
       "      <td>[제목 : [오아시스] 오아시스 매수 했습니다. ]</td>\n",
       "      <td>2021-04-17</td>\n",
       "      <td>얼마에 사셨어요? 저도 관심이 있는데요.</td>\n",
       "    </tr>\n",
       "    <tr>\n",
       "      <th>3</th>\n",
       "      <td>[제목 : [오아시스]\\n 오아시스 주식이요 ]</td>\n",
       "      <td>2021-04-17</td>\n",
       "      <td>오아시스 주식을 사고싶어게시판에 올려봅니다파실분 계시면**** 팔육일팔 삼육사일로연...</td>\n",
       "    </tr>\n",
       "    <tr>\n",
       "      <th>4</th>\n",
       "      <td>[제목 : [오아시스] 70만원이면 비싼건가요 ]</td>\n",
       "      <td>2021-04-19</td>\n",
       "      <td>30주 70만원에 살려고하는데, 비싼건가요</td>\n",
       "    </tr>\n",
       "  </tbody>\n",
       "</table>\n",
       "</div>"
      ],
      "text/plain": [
       "                                     title        date  \\\n",
       "0  [제목 : [오아시스]\\n 팬데믹시대에 내마음의 표준을 바꾸는 유통 ]  2020-09-04   \n",
       "1             [제목 : [오아시스] 오아시스 매수 했습니다. ]  2021-04-17   \n",
       "2             [제목 : [오아시스] 오아시스 매수 했습니다. ]  2021-04-17   \n",
       "3               [제목 : [오아시스]\\n 오아시스 주식이요 ]  2021-04-17   \n",
       "4              [제목 : [오아시스] 70만원이면 비싼건가요 ]  2021-04-19   \n",
       "\n",
       "                                             content  \n",
       "0  이번 코로나가 유통시장의 판도를 5년이상 앞당겨진 변화를 가져 왔다?매장에서 인테넷...  \n",
       "1  오아이스 주식 중  pe가 보유한 물량이 시장에서 움직이는 듯 하네요.어제, 아시는...  \n",
       "2                             얼마에 사셨어요? 저도 관심이 있는데요.  \n",
       "3  오아시스 주식을 사고싶어게시판에 올려봅니다파실분 계시면**** 팔육일팔 삼육사일로연...  \n",
       "4                            30주 70만원에 살려고하는데, 비싼건가요  "
      ]
     },
     "execution_count": 3,
     "metadata": {},
     "output_type": "execute_result"
    }
   ],
   "source": [
    "df.head()"
   ]
  },
  {
   "cell_type": "markdown",
   "id": "47ad15d0",
   "metadata": {},
   "source": [
    "## null 값 확인"
   ]
  },
  {
   "cell_type": "code",
   "execution_count": 4,
   "id": "b4623d5d",
   "metadata": {
    "ExecuteTime": {
     "end_time": "2022-09-30T07:43:11.662907Z",
     "start_time": "2022-09-30T07:43:11.657288Z"
    }
   },
   "outputs": [
    {
     "name": "stdout",
     "output_type": "stream",
     "text": [
      "<class 'pandas.core.frame.DataFrame'>\n",
      "RangeIndex: 136 entries, 0 to 135\n",
      "Data columns (total 3 columns):\n",
      " #   Column   Non-Null Count  Dtype \n",
      "---  ------   --------------  ----- \n",
      " 0   title    136 non-null    object\n",
      " 1   date     136 non-null    object\n",
      " 2   content  133 non-null    object\n",
      "dtypes: object(3)\n",
      "memory usage: 3.3+ KB\n"
     ]
    }
   ],
   "source": [
    "df.info()"
   ]
  },
  {
   "cell_type": "code",
   "execution_count": 5,
   "id": "1ec0bed2",
   "metadata": {
    "ExecuteTime": {
     "end_time": "2022-09-30T07:43:11.669809Z",
     "start_time": "2022-09-30T07:43:11.663999Z"
    }
   },
   "outputs": [
    {
     "data": {
      "text/html": [
       "<div>\n",
       "<style scoped>\n",
       "    .dataframe tbody tr th:only-of-type {\n",
       "        vertical-align: middle;\n",
       "    }\n",
       "\n",
       "    .dataframe tbody tr th {\n",
       "        vertical-align: top;\n",
       "    }\n",
       "\n",
       "    .dataframe thead th {\n",
       "        text-align: right;\n",
       "    }\n",
       "</style>\n",
       "<table border=\"1\" class=\"dataframe\">\n",
       "  <thead>\n",
       "    <tr style=\"text-align: right;\">\n",
       "      <th></th>\n",
       "      <th>title</th>\n",
       "      <th>date</th>\n",
       "      <th>content</th>\n",
       "    </tr>\n",
       "  </thead>\n",
       "  <tbody>\n",
       "    <tr>\n",
       "      <th>31</th>\n",
       "      <td>[제목 : [오아시스] 상장노력은 하는거죠? ]</td>\n",
       "      <td>2021-07-09</td>\n",
       "      <td>NaN</td>\n",
       "    </tr>\n",
       "    <tr>\n",
       "      <th>40</th>\n",
       "      <td>[제목 : [오아시스] 조용히 갑시다~~ ]</td>\n",
       "      <td>2021-07-16</td>\n",
       "      <td>NaN</td>\n",
       "    </tr>\n",
       "    <tr>\n",
       "      <th>43</th>\n",
       "      <td>[제목 : [오아시스] 지금 잘가고 있긴 한데 스피드 좀 올려~~ ]</td>\n",
       "      <td>2021-07-29</td>\n",
       "      <td>NaN</td>\n",
       "    </tr>\n",
       "  </tbody>\n",
       "</table>\n",
       "</div>"
      ],
      "text/plain": [
       "                                     title        date content\n",
       "31              [제목 : [오아시스] 상장노력은 하는거죠? ]  2021-07-09     NaN\n",
       "40                [제목 : [오아시스] 조용히 갑시다~~ ]  2021-07-16     NaN\n",
       "43  [제목 : [오아시스] 지금 잘가고 있긴 한데 스피드 좀 올려~~ ]  2021-07-29     NaN"
      ]
     },
     "execution_count": 5,
     "metadata": {},
     "output_type": "execute_result"
    }
   ],
   "source": [
    "# NULL 값 있는 행 확인\n",
    "df[df['content'].isnull()]"
   ]
  },
  {
   "cell_type": "code",
   "execution_count": 6,
   "id": "1f73fcc5",
   "metadata": {
    "ExecuteTime": {
     "end_time": "2022-09-30T07:43:11.672684Z",
     "start_time": "2022-09-30T07:43:11.670748Z"
    }
   },
   "outputs": [],
   "source": [
    "# 공백으로 NULL 값 채우기\n",
    "df = df.fillna('')"
   ]
  },
  {
   "cell_type": "code",
   "execution_count": 7,
   "id": "bc10afa7",
   "metadata": {
    "ExecuteTime": {
     "end_time": "2022-09-30T07:43:11.677339Z",
     "start_time": "2022-09-30T07:43:11.673512Z"
    }
   },
   "outputs": [
    {
     "name": "stdout",
     "output_type": "stream",
     "text": [
      "<class 'pandas.core.frame.DataFrame'>\n",
      "RangeIndex: 136 entries, 0 to 135\n",
      "Data columns (total 3 columns):\n",
      " #   Column   Non-Null Count  Dtype \n",
      "---  ------   --------------  ----- \n",
      " 0   title    136 non-null    object\n",
      " 1   date     136 non-null    object\n",
      " 2   content  136 non-null    object\n",
      "dtypes: object(3)\n",
      "memory usage: 3.3+ KB\n"
     ]
    }
   ],
   "source": [
    "df.info()"
   ]
  },
  {
   "cell_type": "markdown",
   "id": "ad82a263",
   "metadata": {},
   "source": [
    "내용에 빈 값이 있지만 title에서 추출할 것이 있지 않을까 해서 공백으로 채워줌"
   ]
  },
  {
   "cell_type": "markdown",
   "id": "78977088",
   "metadata": {},
   "source": [
    "## index 날짜로 바꿔주기"
   ]
  },
  {
   "cell_type": "code",
   "execution_count": 8,
   "id": "43191bd9",
   "metadata": {
    "ExecuteTime": {
     "end_time": "2022-09-30T07:43:11.684437Z",
     "start_time": "2022-09-30T07:43:11.678305Z"
    }
   },
   "outputs": [
    {
     "data": {
      "text/html": [
       "<div>\n",
       "<style scoped>\n",
       "    .dataframe tbody tr th:only-of-type {\n",
       "        vertical-align: middle;\n",
       "    }\n",
       "\n",
       "    .dataframe tbody tr th {\n",
       "        vertical-align: top;\n",
       "    }\n",
       "\n",
       "    .dataframe thead th {\n",
       "        text-align: right;\n",
       "    }\n",
       "</style>\n",
       "<table border=\"1\" class=\"dataframe\">\n",
       "  <thead>\n",
       "    <tr style=\"text-align: right;\">\n",
       "      <th></th>\n",
       "      <th>title</th>\n",
       "      <th>content</th>\n",
       "    </tr>\n",
       "    <tr>\n",
       "      <th>date</th>\n",
       "      <th></th>\n",
       "      <th></th>\n",
       "    </tr>\n",
       "  </thead>\n",
       "  <tbody>\n",
       "    <tr>\n",
       "      <th>2020-09-04</th>\n",
       "      <td>[제목 : [오아시스]\\n 팬데믹시대에 내마음의 표준을 바꾸는 유통 ]</td>\n",
       "      <td>이번 코로나가 유통시장의 판도를 5년이상 앞당겨진 변화를 가져 왔다?매장에서 인테넷...</td>\n",
       "    </tr>\n",
       "    <tr>\n",
       "      <th>2021-04-17</th>\n",
       "      <td>[제목 : [오아시스] 오아시스 매수 했습니다. ]</td>\n",
       "      <td>오아이스 주식 중  pe가 보유한 물량이 시장에서 움직이는 듯 하네요.어제, 아시는...</td>\n",
       "    </tr>\n",
       "    <tr>\n",
       "      <th>2021-04-17</th>\n",
       "      <td>[제목 : [오아시스] 오아시스 매수 했습니다. ]</td>\n",
       "      <td>얼마에 사셨어요? 저도 관심이 있는데요.</td>\n",
       "    </tr>\n",
       "    <tr>\n",
       "      <th>2021-04-17</th>\n",
       "      <td>[제목 : [오아시스]\\n 오아시스 주식이요 ]</td>\n",
       "      <td>오아시스 주식을 사고싶어게시판에 올려봅니다파실분 계시면**** 팔육일팔 삼육사일로연...</td>\n",
       "    </tr>\n",
       "    <tr>\n",
       "      <th>2021-04-19</th>\n",
       "      <td>[제목 : [오아시스] 70만원이면 비싼건가요 ]</td>\n",
       "      <td>30주 70만원에 살려고하는데, 비싼건가요</td>\n",
       "    </tr>\n",
       "    <tr>\n",
       "      <th>...</th>\n",
       "      <td>...</td>\n",
       "      <td>...</td>\n",
       "    </tr>\n",
       "    <tr>\n",
       "      <th>2022-08-31</th>\n",
       "      <td>[제목 : [오아시스] 우크라이나와 러시아 ]</td>\n",
       "      <td>덩치 큰 러시아가 누구다 다 이길거라고 했지만 결과는? 길고 짧은건 대봐야 안다고우...</td>\n",
       "    </tr>\n",
       "    <tr>\n",
       "      <th>2022-08-31</th>\n",
       "      <td>[제목 : [오아시스] 오늘 날짜(2022.08.31) 더벨 기사,  오아시스 기업...</td>\n",
       "      <td>코스닥 상장을 추진 중인 신선식품 새벽배송 기업 오아시스가 기업가치 목표를 최대 2...</td>\n",
       "    </tr>\n",
       "    <tr>\n",
       "      <th>2022-09-02</th>\n",
       "      <td>[제목 : [오아시스] 이 시기에 오히려 주목해야 할 기업 ]</td>\n",
       "      <td>연일 금리가 급등하고 있다. 매출만을 키우기 위해 무한확장을 거듭했던 스타트업과 유...</td>\n",
       "    </tr>\n",
       "    <tr>\n",
       "      <th>2022-09-05</th>\n",
       "      <td>[제목 : [오아시스] 계획된 적자 ]</td>\n",
       "      <td>한때 VC와 스타트업들이 힘을 합쳐 매출액을 늘려 시장 주도권을 가져가기위한 전략으...</td>\n",
       "    </tr>\n",
       "    <tr>\n",
       "      <th>2022-09-08</th>\n",
       "      <td>[제목 : [오아시스] 위기에 재조명받는 ‘오아시스·미트박스’…흑자비결은? ]</td>\n",
       "      <td>오아시스마켓은 올해 상반기 전년 대비 21% 증가한 2024억원 매출액과 171% ...</td>\n",
       "    </tr>\n",
       "  </tbody>\n",
       "</table>\n",
       "<p>136 rows × 2 columns</p>\n",
       "</div>"
      ],
      "text/plain": [
       "                                                        title  \\\n",
       "date                                                            \n",
       "2020-09-04            [제목 : [오아시스]\\n 팬데믹시대에 내마음의 표준을 바꾸는 유통 ]   \n",
       "2021-04-17                       [제목 : [오아시스] 오아시스 매수 했습니다. ]   \n",
       "2021-04-17                       [제목 : [오아시스] 오아시스 매수 했습니다. ]   \n",
       "2021-04-17                         [제목 : [오아시스]\\n 오아시스 주식이요 ]   \n",
       "2021-04-19                        [제목 : [오아시스] 70만원이면 비싼건가요 ]   \n",
       "...                                                       ...   \n",
       "2022-08-31                          [제목 : [오아시스] 우크라이나와 러시아 ]   \n",
       "2022-08-31  [제목 : [오아시스] 오늘 날짜(2022.08.31) 더벨 기사,  오아시스 기업...   \n",
       "2022-09-02                 [제목 : [오아시스] 이 시기에 오히려 주목해야 할 기업 ]   \n",
       "2022-09-05                              [제목 : [오아시스] 계획된 적자 ]   \n",
       "2022-09-08        [제목 : [오아시스] 위기에 재조명받는 ‘오아시스·미트박스’…흑자비결은? ]   \n",
       "\n",
       "                                                      content  \n",
       "date                                                           \n",
       "2020-09-04  이번 코로나가 유통시장의 판도를 5년이상 앞당겨진 변화를 가져 왔다?매장에서 인테넷...  \n",
       "2021-04-17  오아이스 주식 중  pe가 보유한 물량이 시장에서 움직이는 듯 하네요.어제, 아시는...  \n",
       "2021-04-17                             얼마에 사셨어요? 저도 관심이 있는데요.  \n",
       "2021-04-17  오아시스 주식을 사고싶어게시판에 올려봅니다파실분 계시면**** 팔육일팔 삼육사일로연...  \n",
       "2021-04-19                            30주 70만원에 살려고하는데, 비싼건가요  \n",
       "...                                                       ...  \n",
       "2022-08-31  덩치 큰 러시아가 누구다 다 이길거라고 했지만 결과는? 길고 짧은건 대봐야 안다고우...  \n",
       "2022-08-31  코스닥 상장을 추진 중인 신선식품 새벽배송 기업 오아시스가 기업가치 목표를 최대 2...  \n",
       "2022-09-02  연일 금리가 급등하고 있다. 매출만을 키우기 위해 무한확장을 거듭했던 스타트업과 유...  \n",
       "2022-09-05  한때 VC와 스타트업들이 힘을 합쳐 매출액을 늘려 시장 주도권을 가져가기위한 전략으...  \n",
       "2022-09-08  오아시스마켓은 올해 상반기 전년 대비 21% 증가한 2024억원 매출액과 171% ...  \n",
       "\n",
       "[136 rows x 2 columns]"
      ]
     },
     "execution_count": 8,
     "metadata": {},
     "output_type": "execute_result"
    }
   ],
   "source": [
    "# date를 오름차순 정렬\n",
    "df.date = df.date.sort_index(ascending=True)\n",
    "# index로 설정\n",
    "df = df.set_index('date')\n",
    "df"
   ]
  },
  {
   "cell_type": "markdown",
   "id": "fe451321",
   "metadata": {},
   "source": [
    "## 특수문자 제거 정규표현식"
   ]
  },
  {
   "cell_type": "code",
   "execution_count": 9,
   "id": "d39a0708",
   "metadata": {
    "ExecuteTime": {
     "end_time": "2022-09-30T07:43:11.689024Z",
     "start_time": "2022-09-30T07:43:11.685373Z"
    }
   },
   "outputs": [
    {
     "name": "stderr",
     "output_type": "stream",
     "text": [
      "/var/folders/62/p7jd9w0n1n3d19j8s3z7k3lw0000gp/T/ipykernel_2238/1046961940.py:1: FutureWarning: The default value of regex will change from True to False in a future version.\n",
      "  df['title'] = df['title'].str.replace(r\"[^\\uAC00-\\uD7A30-9a-zA-Z\\s]\",'')\n",
      "/var/folders/62/p7jd9w0n1n3d19j8s3z7k3lw0000gp/T/ipykernel_2238/1046961940.py:2: FutureWarning: The default value of regex will change from True to False in a future version.\n",
      "  df['content'] = df['content'].str.replace(r\"[^\\uAC00-\\uD7A30-9a-zA-Z\\s]\",'')\n"
     ]
    }
   ],
   "source": [
    "df['title'] = df['title'].str.replace(r\"[^\\uAC00-\\uD7A30-9a-zA-Z\\s]\",'')\n",
    "df['content'] = df['content'].str.replace(r\"[^\\uAC00-\\uD7A30-9a-zA-Z\\s]\",'')"
   ]
  },
  {
   "cell_type": "code",
   "execution_count": 10,
   "id": "6dae1f7b",
   "metadata": {
    "ExecuteTime": {
     "end_time": "2022-09-30T07:43:11.696196Z",
     "start_time": "2022-09-30T07:43:11.691580Z"
    }
   },
   "outputs": [
    {
     "data": {
      "text/html": [
       "<div>\n",
       "<style scoped>\n",
       "    .dataframe tbody tr th:only-of-type {\n",
       "        vertical-align: middle;\n",
       "    }\n",
       "\n",
       "    .dataframe tbody tr th {\n",
       "        vertical-align: top;\n",
       "    }\n",
       "\n",
       "    .dataframe thead th {\n",
       "        text-align: right;\n",
       "    }\n",
       "</style>\n",
       "<table border=\"1\" class=\"dataframe\">\n",
       "  <thead>\n",
       "    <tr style=\"text-align: right;\">\n",
       "      <th></th>\n",
       "      <th>title</th>\n",
       "      <th>content</th>\n",
       "    </tr>\n",
       "    <tr>\n",
       "      <th>date</th>\n",
       "      <th></th>\n",
       "      <th></th>\n",
       "    </tr>\n",
       "  </thead>\n",
       "  <tbody>\n",
       "    <tr>\n",
       "      <th>2020-09-04</th>\n",
       "      <td>제목  오아시스\\n 팬데믹시대에 내마음의 표준을 바꾸는 유통</td>\n",
       "      <td>이번 코로나가 유통시장의 판도를 5년이상 앞당겨진 변화를 가져 왔다매장에서 인테넷의...</td>\n",
       "    </tr>\n",
       "    <tr>\n",
       "      <th>2021-04-17</th>\n",
       "      <td>제목  오아시스 오아시스 매수 했습니다</td>\n",
       "      <td>오아이스 주식 중  pe가 보유한 물량이 시장에서 움직이는 듯 하네요어제 아시는 분...</td>\n",
       "    </tr>\n",
       "    <tr>\n",
       "      <th>2021-04-17</th>\n",
       "      <td>제목  오아시스 오아시스 매수 했습니다</td>\n",
       "      <td>얼마에 사셨어요 저도 관심이 있는데요</td>\n",
       "    </tr>\n",
       "    <tr>\n",
       "      <th>2021-04-17</th>\n",
       "      <td>제목  오아시스\\n 오아시스 주식이요</td>\n",
       "      <td>오아시스 주식을 사고싶어게시판에 올려봅니다파실분 계시면 팔육일팔 삼육사일로연락주세요</td>\n",
       "    </tr>\n",
       "    <tr>\n",
       "      <th>2021-04-19</th>\n",
       "      <td>제목  오아시스 70만원이면 비싼건가요</td>\n",
       "      <td>30주 70만원에 살려고하는데 비싼건가요</td>\n",
       "    </tr>\n",
       "    <tr>\n",
       "      <th>...</th>\n",
       "      <td>...</td>\n",
       "      <td>...</td>\n",
       "    </tr>\n",
       "    <tr>\n",
       "      <th>2022-08-31</th>\n",
       "      <td>제목  오아시스 우크라이나와 러시아</td>\n",
       "      <td>덩치 큰 러시아가 누구다 다 이길거라고 했지만 결과는 길고 짧은건 대봐야 안다고우크...</td>\n",
       "    </tr>\n",
       "    <tr>\n",
       "      <th>2022-08-31</th>\n",
       "      <td>제목  오아시스 오늘 날짜20220831 더벨 기사  오아시스 기업가치 최대 2조 제시</td>\n",
       "      <td>코스닥 상장을 추진 중인 신선식품 새벽배송 기업 오아시스가 기업가치 목표를 최대 2...</td>\n",
       "    </tr>\n",
       "    <tr>\n",
       "      <th>2022-09-02</th>\n",
       "      <td>제목  오아시스 이 시기에 오히려 주목해야 할 기업</td>\n",
       "      <td>연일 금리가 급등하고 있다 매출만을 키우기 위해 무한확장을 거듭했던 스타트업과 유니...</td>\n",
       "    </tr>\n",
       "    <tr>\n",
       "      <th>2022-09-05</th>\n",
       "      <td>제목  오아시스 계획된 적자</td>\n",
       "      <td>한때 VC와 스타트업들이 힘을 합쳐 매출액을 늘려 시장 주도권을 가져가기위한 전략으...</td>\n",
       "    </tr>\n",
       "    <tr>\n",
       "      <th>2022-09-08</th>\n",
       "      <td>제목  오아시스 위기에 재조명받는 오아시스미트박스흑자비결은</td>\n",
       "      <td>오아시스마켓은 올해 상반기 전년 대비 21 증가한 2024억원 매출액과 171 증가...</td>\n",
       "    </tr>\n",
       "  </tbody>\n",
       "</table>\n",
       "<p>136 rows × 2 columns</p>\n",
       "</div>"
      ],
      "text/plain": [
       "                                                        title  \\\n",
       "date                                                            \n",
       "2020-09-04                 제목  오아시스\\n 팬데믹시대에 내마음의 표준을 바꾸는 유통    \n",
       "2021-04-17                             제목  오아시스 오아시스 매수 했습니다    \n",
       "2021-04-17                             제목  오아시스 오아시스 매수 했습니다    \n",
       "2021-04-17                              제목  오아시스\\n 오아시스 주식이요    \n",
       "2021-04-19                             제목  오아시스 70만원이면 비싼건가요    \n",
       "...                                                       ...   \n",
       "2022-08-31                               제목  오아시스 우크라이나와 러시아    \n",
       "2022-08-31  제목  오아시스 오늘 날짜20220831 더벨 기사  오아시스 기업가치 최대 2조 제시    \n",
       "2022-09-02                      제목  오아시스 이 시기에 오히려 주목해야 할 기업    \n",
       "2022-09-05                                   제목  오아시스 계획된 적자    \n",
       "2022-09-08                  제목  오아시스 위기에 재조명받는 오아시스미트박스흑자비결은    \n",
       "\n",
       "                                                      content  \n",
       "date                                                           \n",
       "2020-09-04  이번 코로나가 유통시장의 판도를 5년이상 앞당겨진 변화를 가져 왔다매장에서 인테넷의...  \n",
       "2021-04-17  오아이스 주식 중  pe가 보유한 물량이 시장에서 움직이는 듯 하네요어제 아시는 분...  \n",
       "2021-04-17                               얼마에 사셨어요 저도 관심이 있는데요  \n",
       "2021-04-17     오아시스 주식을 사고싶어게시판에 올려봅니다파실분 계시면 팔육일팔 삼육사일로연락주세요  \n",
       "2021-04-19                             30주 70만원에 살려고하는데 비싼건가요  \n",
       "...                                                       ...  \n",
       "2022-08-31  덩치 큰 러시아가 누구다 다 이길거라고 했지만 결과는 길고 짧은건 대봐야 안다고우크...  \n",
       "2022-08-31  코스닥 상장을 추진 중인 신선식품 새벽배송 기업 오아시스가 기업가치 목표를 최대 2...  \n",
       "2022-09-02  연일 금리가 급등하고 있다 매출만을 키우기 위해 무한확장을 거듭했던 스타트업과 유니...  \n",
       "2022-09-05  한때 VC와 스타트업들이 힘을 합쳐 매출액을 늘려 시장 주도권을 가져가기위한 전략으...  \n",
       "2022-09-08  오아시스마켓은 올해 상반기 전년 대비 21 증가한 2024억원 매출액과 171 증가...  \n",
       "\n",
       "[136 rows x 2 columns]"
      ]
     },
     "execution_count": 10,
     "metadata": {},
     "output_type": "execute_result"
    }
   ],
   "source": [
    "df"
   ]
  },
  {
   "cell_type": "markdown",
   "id": "b7309413",
   "metadata": {},
   "source": [
    "## 토큰화"
   ]
  },
  {
   "cell_type": "code",
   "execution_count": 11,
   "id": "f36bf57a",
   "metadata": {
    "ExecuteTime": {
     "end_time": "2022-09-30T07:43:12.042090Z",
     "start_time": "2022-09-30T07:43:11.697286Z"
    }
   },
   "outputs": [
    {
     "name": "stdout",
     "output_type": "stream",
     "text": [
      "[0.002s][warning][os,thread] Attempt to protect stack guard pages failed (0x0000000169aa8000-0x0000000169ab4000).\n",
      "[0.002s][warning][os,thread] Attempt to deallocate stack guard pages failed.\n"
     ]
    }
   ],
   "source": [
    "okt = Okt()\n",
    "\n"
   ]
  },
  {
   "cell_type": "markdown",
   "id": "2c2f7921",
   "metadata": {},
   "source": [
    "### 추출했던 word_list에서 불용어들만 정리"
   ]
  },
  {
   "cell_type": "markdown",
   "id": "4771d080",
   "metadata": {
    "ExecuteTime": {
     "end_time": "2022-09-30T07:43:12.251766Z",
     "start_time": "2022-09-30T07:43:12.042861Z"
    }
   },
   "source": [
    "import csv\n",
    "\n",
    "with open(\"stopword.csv\", 'w') as file:\n",
    "    writer = csv.writer(file)\n",
    "    writer.writerow(word_list)"
   ]
  },
  {
   "cell_type": "markdown",
   "id": "21f40216",
   "metadata": {
    "ExecuteTime": {
     "end_time": "2022-09-30T07:43:12.252642Z",
     "start_time": "2022-09-30T07:43:12.252636Z"
    }
   },
   "source": [
    "with open('stopword.csv', newline='') as f:\n",
    "    reader = csv.reader(f)\n",
    "    data = list(reader)"
   ]
  },
  {
   "cell_type": "markdown",
   "id": "3a48aef1",
   "metadata": {
    "ExecuteTime": {
     "end_time": "2022-09-30T07:43:12.253264Z",
     "start_time": "2022-09-30T07:43:12.253257Z"
    }
   },
   "source": [
    "stopword_add = sum(data, [])\n",
    "stopword_add"
   ]
  },
  {
   "cell_type": "code",
   "execution_count": null,
   "id": "6fa7fc62",
   "metadata": {},
   "outputs": [],
   "source": [
    "stopwords_add = pd.read_csv('')"
   ]
  },
  {
   "cell_type": "code",
   "execution_count": 13,
   "id": "ae9480b0",
   "metadata": {
    "ExecuteTime": {
     "end_time": "2022-09-30T07:43:22.607215Z",
     "start_time": "2022-09-30T07:43:22.579455Z"
    },
    "scrolled": true
   },
   "outputs": [
    {
     "ename": "NameError",
     "evalue": "name 'stopword_add' is not defined",
     "output_type": "error",
     "traceback": [
      "\u001b[0;31m---------------------------------------------------------------------------\u001b[0m",
      "\u001b[0;31mNameError\u001b[0m                                 Traceback (most recent call last)",
      "Input \u001b[0;32mIn [13]\u001b[0m, in \u001b[0;36m<cell line: 3>\u001b[0;34m()\u001b[0m\n\u001b[1;32m      1\u001b[0m \u001b[38;5;66;03m# 불용어 처리 \u001b[39;00m\n\u001b[0;32m----> 3\u001b[0m stopwords \u001b[38;5;241m=\u001b[39m \u001b[43mstopword_add\u001b[49m \u001b[38;5;241m+\u001b[39m [\u001b[38;5;124m'\u001b[39m\u001b[38;5;124m의\u001b[39m\u001b[38;5;124m'\u001b[39m,\u001b[38;5;124m'\u001b[39m\u001b[38;5;124m가\u001b[39m\u001b[38;5;124m'\u001b[39m,\u001b[38;5;124m'\u001b[39m\u001b[38;5;124m이\u001b[39m\u001b[38;5;124m'\u001b[39m,\u001b[38;5;124m'\u001b[39m\u001b[38;5;124m은\u001b[39m\u001b[38;5;124m'\u001b[39m,\u001b[38;5;124m'\u001b[39m\u001b[38;5;124m들\u001b[39m\u001b[38;5;124m'\u001b[39m,\u001b[38;5;124m'\u001b[39m\u001b[38;5;124m는\u001b[39m\u001b[38;5;124m'\u001b[39m,\u001b[38;5;124m'\u001b[39m\u001b[38;5;124m좀\u001b[39m\u001b[38;5;124m'\u001b[39m,\u001b[38;5;124m'\u001b[39m\u001b[38;5;124m잘\u001b[39m\u001b[38;5;124m'\u001b[39m,\u001b[38;5;124m'\u001b[39m\u001b[38;5;124m걍\u001b[39m\u001b[38;5;124m'\u001b[39m,\u001b[38;5;124m'\u001b[39m\u001b[38;5;124m과\u001b[39m\u001b[38;5;124m'\u001b[39m,\u001b[38;5;124m'\u001b[39m\u001b[38;5;124m도\u001b[39m\u001b[38;5;124m'\u001b[39m,\u001b[38;5;124m'\u001b[39m\u001b[38;5;124m를\u001b[39m\u001b[38;5;124m'\u001b[39m,\u001b[38;5;124m'\u001b[39m\u001b[38;5;124m으로\u001b[39m\u001b[38;5;124m'\u001b[39m,\u001b[38;5;124m'\u001b[39m\u001b[38;5;124m자\u001b[39m\u001b[38;5;124m'\u001b[39m,\u001b[38;5;124m'\u001b[39m\u001b[38;5;124m에\u001b[39m\u001b[38;5;124m'\u001b[39m,\u001b[38;5;124m'\u001b[39m\u001b[38;5;124m와\u001b[39m\u001b[38;5;124m'\u001b[39m,\u001b[38;5;124m'\u001b[39m\u001b[38;5;124m한\u001b[39m\u001b[38;5;124m'\u001b[39m,\u001b[38;5;124m'\u001b[39m\u001b[38;5;124m하다\u001b[39m\u001b[38;5;124m'\u001b[39m,\u001b[38;5;124m'\u001b[39m\u001b[38;5;130;01m\\n\u001b[39;00m\u001b[38;5;124m'\u001b[39m,\u001b[38;5;124m'\u001b[39m\u001b[38;5;130;01m\\n\u001b[39;00m\u001b[38;5;124m \u001b[39m\u001b[38;5;124m'\u001b[39m, \u001b[38;5;124m'\u001b[39m\u001b[38;5;124m제목\u001b[39m\u001b[38;5;124m'\u001b[39m]\n\u001b[1;32m      4\u001b[0m stopwords\n",
      "\u001b[0;31mNameError\u001b[0m: name 'stopword_add' is not defined"
     ]
    }
   ],
   "source": [
    "# 불용어 처리 \n",
    "\n",
    "stopwords = stopword_add + ['의','가','이','은','들','는','좀','잘','걍','과','도','를','으로','자','에','와','한','하다','\\n','\\n ', '제목']\n",
    "stopwords"
   ]
  },
  {
   "cell_type": "code",
   "execution_count": null,
   "id": "223a6798",
   "metadata": {
    "ExecuteTime": {
     "end_time": "2022-09-30T07:43:12.254571Z",
     "start_time": "2022-09-30T07:43:12.254566Z"
    },
    "scrolled": true
   },
   "outputs": [],
   "source": [
    "token = []\n",
    "for sentence in tqdm(df['title']):\n",
    "    tokenized_sentence = okt.morphs(sentence, stem=True) # 토큰화\n",
    "    stopwords_removed_sentence = [word for word in tokenized_sentence if not word in stopwords] # 불용어 제거\n",
    "    token.append(stopwords_removed_sentence)\n",
    "    "
   ]
  },
  {
   "cell_type": "code",
   "execution_count": null,
   "id": "a7cd1064",
   "metadata": {
    "ExecuteTime": {
     "end_time": "2022-09-30T07:43:12.255047Z",
     "start_time": "2022-09-30T07:43:12.255041Z"
    },
    "scrolled": true
   },
   "outputs": [],
   "source": [
    "len(token)"
   ]
  },
  {
   "cell_type": "code",
   "execution_count": null,
   "id": "bf9a7af2",
   "metadata": {
    "ExecuteTime": {
     "end_time": "2022-09-30T07:43:12.255573Z",
     "start_time": "2022-09-30T07:43:12.255567Z"
    }
   },
   "outputs": [],
   "source": [
    "from collections import Counter"
   ]
  },
  {
   "cell_type": "code",
   "execution_count": null,
   "id": "3afc992c",
   "metadata": {
    "ExecuteTime": {
     "end_time": "2022-09-30T07:43:12.256102Z",
     "start_time": "2022-09-30T07:43:12.256096Z"
    },
    "scrolled": true
   },
   "outputs": [],
   "source": [
    "# 한 날짜? 한 행당 횟수 추출\n",
    "\n",
    "for i in range(136):\n",
    "    vocab = Counter(token[i])\n",
    "    print(vocab)"
   ]
  },
  {
   "cell_type": "code",
   "execution_count": null,
   "id": "6ad3cf24",
   "metadata": {
    "ExecuteTime": {
     "end_time": "2022-09-30T07:43:12.256678Z",
     "start_time": "2022-09-30T07:43:12.256673Z"
    },
    "scrolled": false
   },
   "outputs": [],
   "source": [
    "# 전체 중 빈도수 출력\n",
    "\n",
    "all_word_list = sum(token, [])\n",
    "vocab = Counter(all_word_list)\n",
    "print(vocab)"
   ]
  },
  {
   "cell_type": "code",
   "execution_count": null,
   "id": "644b7874",
   "metadata": {
    "ExecuteTime": {
     "end_time": "2022-09-30T07:43:12.257174Z",
     "start_time": "2022-09-30T07:43:12.257168Z"
    },
    "scrolled": true
   },
   "outputs": [],
   "source": [
    "word_list = list(vocab.keys())\n",
    "word_list"
   ]
  },
  {
   "cell_type": "code",
   "execution_count": null,
   "id": "21bb249c",
   "metadata": {
    "ExecuteTime": {
     "end_time": "2022-09-30T07:43:12.257674Z",
     "start_time": "2022-09-30T07:43:12.257669Z"
    },
    "scrolled": true
   },
   "outputs": [],
   "source": [
    "word_rank = list(vocab.values())\n",
    "word_rank"
   ]
  },
  {
   "cell_type": "code",
   "execution_count": null,
   "id": "926e78c5",
   "metadata": {
    "ExecuteTime": {
     "end_time": "2022-09-30T07:43:12.258211Z",
     "start_time": "2022-09-30T07:43:12.258206Z"
    }
   },
   "outputs": [],
   "source": [
    "data = {'word': word_list, 'count' : word_rank}\n",
    "word_data = pd.DataFrame.from_dict(data)\n",
    "word_data"
   ]
  },
  {
   "cell_type": "code",
   "execution_count": null,
   "id": "87ad75e4",
   "metadata": {
    "ExecuteTime": {
     "end_time": "2022-09-30T07:43:12.258838Z",
     "start_time": "2022-09-30T07:43:12.258832Z"
    }
   },
   "outputs": [],
   "source": [
    "word_data = word_data.sort_values(by=['count'], ascending=False).reset_index().drop(columns=['index'])"
   ]
  },
  {
   "cell_type": "code",
   "execution_count": null,
   "id": "72fd2b9b",
   "metadata": {
    "ExecuteTime": {
     "end_time": "2022-09-30T07:43:12.259280Z",
     "start_time": "2022-09-30T07:43:12.259275Z"
    },
    "scrolled": true
   },
   "outputs": [],
   "source": [
    "for i in range(26):\n",
    "    print(word_data[ i*10 : (i+1)*10 ])"
   ]
  },
  {
   "cell_type": "code",
   "execution_count": 48,
   "id": "3e087a72",
   "metadata": {
    "ExecuteTime": {
     "end_time": "2022-09-30T06:10:27.838054Z",
     "start_time": "2022-09-30T06:10:27.827404Z"
    }
   },
   "outputs": [],
   "source": [
    "word_data.to_csv('sentimental(38).csv')"
   ]
  },
  {
   "cell_type": "code",
   "execution_count": 17,
   "id": "0f961f8f",
   "metadata": {
    "ExecuteTime": {
     "end_time": "2022-09-30T07:46:17.993905Z",
     "start_time": "2022-09-30T07:46:17.983487Z"
    }
   },
   "outputs": [],
   "source": [
    "sentimental = pd.read_csv('sentimental(38).csv').drop(columns=['Unnamed: 0'])\n",
    "sentimental = sentimental.fillna('-')"
   ]
  },
  {
   "cell_type": "code",
   "execution_count": 18,
   "id": "f02ae907",
   "metadata": {
    "ExecuteTime": {
     "end_time": "2022-09-30T07:46:22.868596Z",
     "start_time": "2022-09-30T07:46:22.855003Z"
    }
   },
   "outputs": [
    {
     "data": {
      "text/html": [
       "<div>\n",
       "<style scoped>\n",
       "    .dataframe tbody tr th:only-of-type {\n",
       "        vertical-align: middle;\n",
       "    }\n",
       "\n",
       "    .dataframe tbody tr th {\n",
       "        vertical-align: top;\n",
       "    }\n",
       "\n",
       "    .dataframe thead th {\n",
       "        text-align: right;\n",
       "    }\n",
       "</style>\n",
       "<table border=\"1\" class=\"dataframe\">\n",
       "  <thead>\n",
       "    <tr style=\"text-align: right;\">\n",
       "      <th></th>\n",
       "      <th>word</th>\n",
       "      <th>count</th>\n",
       "      <th>label</th>\n",
       "    </tr>\n",
       "  </thead>\n",
       "  <tbody>\n",
       "    <tr>\n",
       "      <th>0</th>\n",
       "      <td>코멘트</td>\n",
       "      <td>32</td>\n",
       "      <td>-</td>\n",
       "    </tr>\n",
       "    <tr>\n",
       "      <th>1</th>\n",
       "      <td>상장</td>\n",
       "      <td>12</td>\n",
       "      <td>-</td>\n",
       "    </tr>\n",
       "    <tr>\n",
       "      <th>2</th>\n",
       "      <td>되다</td>\n",
       "      <td>9</td>\n",
       "      <td>-</td>\n",
       "    </tr>\n",
       "    <tr>\n",
       "      <th>3</th>\n",
       "      <td>1조</td>\n",
       "      <td>8</td>\n",
       "      <td>-</td>\n",
       "    </tr>\n",
       "    <tr>\n",
       "      <th>4</th>\n",
       "      <td>청구</td>\n",
       "      <td>8</td>\n",
       "      <td>-</td>\n",
       "    </tr>\n",
       "    <tr>\n",
       "      <th>...</th>\n",
       "      <td>...</td>\n",
       "      <td>...</td>\n",
       "      <td>...</td>\n",
       "    </tr>\n",
       "    <tr>\n",
       "      <th>250</th>\n",
       "      <td>같다</td>\n",
       "      <td>1</td>\n",
       "      <td>-</td>\n",
       "    </tr>\n",
       "    <tr>\n",
       "      <th>251</th>\n",
       "      <td>상</td>\n",
       "      <td>1</td>\n",
       "      <td>-</td>\n",
       "    </tr>\n",
       "    <tr>\n",
       "      <th>252</th>\n",
       "      <td>장하다</td>\n",
       "      <td>1</td>\n",
       "      <td>-</td>\n",
       "    </tr>\n",
       "    <tr>\n",
       "      <th>253</th>\n",
       "      <td>최소</td>\n",
       "      <td>1</td>\n",
       "      <td>-</td>\n",
       "    </tr>\n",
       "    <tr>\n",
       "      <th>254</th>\n",
       "      <td>비결</td>\n",
       "      <td>1</td>\n",
       "      <td>-</td>\n",
       "    </tr>\n",
       "  </tbody>\n",
       "</table>\n",
       "<p>255 rows × 3 columns</p>\n",
       "</div>"
      ],
      "text/plain": [
       "    word  count label\n",
       "0    코멘트     32     -\n",
       "1     상장     12     -\n",
       "2     되다      9     -\n",
       "3     1조      8     -\n",
       "4     청구      8     -\n",
       "..   ...    ...   ...\n",
       "250   같다      1     -\n",
       "251    상      1     -\n",
       "252  장하다      1     -\n",
       "253   최소      1     -\n",
       "254   비결      1     -\n",
       "\n",
       "[255 rows x 3 columns]"
      ]
     },
     "execution_count": 18,
     "metadata": {},
     "output_type": "execute_result"
    }
   ],
   "source": [
    "sentimental"
   ]
  },
  {
   "cell_type": "code",
   "execution_count": 20,
   "id": "365c790d",
   "metadata": {
    "ExecuteTime": {
     "end_time": "2022-09-30T07:46:58.078712Z",
     "start_time": "2022-09-30T07:46:58.070430Z"
    }
   },
   "outputs": [],
   "source": [
    "sentimental.to_csv('sentimental(38).csv')"
   ]
  },
  {
   "cell_type": "code",
   "execution_count": null,
   "id": "120269ce",
   "metadata": {},
   "outputs": [],
   "source": []
  }
 ],
 "metadata": {
  "kernelspec": {
   "display_name": "Python 3 (ipykernel)",
   "language": "python",
   "name": "python3"
  },
  "language_info": {
   "codemirror_mode": {
    "name": "ipython",
    "version": 3
   },
   "file_extension": ".py",
   "mimetype": "text/x-python",
   "name": "python",
   "nbconvert_exporter": "python",
   "pygments_lexer": "ipython3",
   "version": "3.8.13"
  },
  "toc": {
   "base_numbering": 1,
   "nav_menu": {},
   "number_sections": false,
   "sideBar": true,
   "skip_h1_title": false,
   "title_cell": "Table of Contents",
   "title_sidebar": "Contents",
   "toc_cell": false,
   "toc_position": {},
   "toc_section_display": true,
   "toc_window_display": false
  }
 },
 "nbformat": 4,
 "nbformat_minor": 5
}
